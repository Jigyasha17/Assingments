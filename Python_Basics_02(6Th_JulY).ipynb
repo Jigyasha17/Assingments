{
  "nbformat": 4,
  "nbformat_minor": 0,
  "metadata": {
    "colab": {
      "provenance": [],
      "authorship_tag": "ABX9TyNdXLwPq1z9z2LNTiqyBnnu",
      "include_colab_link": true
    },
    "kernelspec": {
      "name": "python3",
      "display_name": "Python 3"
    },
    "language_info": {
      "name": "python"
    }
  },
  "cells": [
    {
      "cell_type": "markdown",
      "metadata": {
        "id": "view-in-github",
        "colab_type": "text"
      },
      "source": [
        "<a href=\"https://colab.research.google.com/github/Jigyasha17/Assingments/blob/main/Python_Basics_02(6Th_JulY).ipynb\" target=\"_parent\"><img src=\"https://colab.research.google.com/assets/colab-badge.svg\" alt=\"Open In Colab\"/></a>"
      ]
    },
    {
      "cell_type": "code",
      "execution_count": 12,
      "metadata": {
        "colab": {
          "base_uri": "https://localhost:8080/"
        },
        "id": "7ICU5ATcPdSD",
        "outputId": "182a0689-c90b-4f26-f329-a07d2ce4161a"
      },
      "outputs": [
        {
          "output_type": "stream",
          "name": "stdout",
          "text": [
            "enter student name:Aisha\n",
            "enter student age:12\n",
            "enter student class:4C\n",
            "enter student's english marks:12\n",
            "enter student's maths marks:56\n",
            "enter student's science marks:90\n",
            "enter student's social_studies marks:87\n",
            "enter student's hindi marks:60\n",
            "\n",
            "----report card----\n",
            "name: Aisha\n",
            "age: 12\n",
            "class: 4C\n",
            "English: 12\n",
            "Maths: 56\n",
            "science: 90\n",
            "social_studies: 87\n",
            "hindi: 60\n",
            "percentage: 61.0\n",
            "pass\n"
          ]
        }
      ],
      "source": [
        "#student report card\n",
        "name=input(\"enter student name:\")\n",
        "age=int(input(\"enter student age:\"))\n",
        "section=input(\"enter student class:\")\n",
        "English=int(input(\"enter student's english marks:\"))\n",
        "Maths=int(input(\"enter student's maths marks:\"))\n",
        "science=int(input(\"enter student's science marks:\"))\n",
        "social_studies=int(input(\"enter student's social_studies marks:\"))\n",
        "hindi=int(input(\"enter student's hindi marks:\"))\n",
        "marks_scored=English+Maths+science+social_studies+hindi\n",
        "total_marks=500\n",
        "percentage=(marks_scored/total_marks)*100\n",
        "print('\\n----report card----')\n",
        "print('name:',name)\n",
        "print('age:',age)\n",
        "print('class:',section)\n",
        "print('English:',English)\n",
        "print('Maths:',Maths)\n",
        "print('science:',science)\n",
        "print('social_studies:',social_studies)\n",
        "print('hindi:',hindi)\n",
        "print('percentage:',percentage)\n",
        "\n",
        "\n",
        "\n",
        "if percentage <33:\n",
        "  print('fail')\n",
        "else:\n",
        "  print('pass')\n"
      ]
    },
    {
      "cell_type": "code",
      "source": [
        "#Python expense Tracker\n",
        "salary=int(input('enter the salary'))\n",
        "budget=int(input('enter the budget'))\n",
        "print('salary:',salary)\n",
        "shopping=int(input('enter the expense in shopping'))\n",
        "education=int(input('enter the expense in education'))\n",
        "entertainment=int(input('enter the expense in entertainment'))\n",
        "others=int(input('enter the expense in others'))\n",
        "fields=[shopping,education,entertainment,others]\n",
        "total_expense=sum(fields)\n",
        "print('total expense:',total_expense)\n",
        "savings=salary-total_expense\n",
        "print('savings:',savings)\n",
        "if total_expense>budget:\n",
        "  print('you have exceeded the budget')\n",
        "else:\n",
        "  print('you have not exceeded the budget')\n",
        "\n",
        "\n",
        ""
      ],
      "metadata": {
        "colab": {
          "base_uri": "https://localhost:8080/"
        },
        "id": "7tNgcq-YVY0l",
        "outputId": "9d7be4a4-6008-4c9e-f637-17ad51659f1a"
      },
      "execution_count": 18,
      "outputs": [
        {
          "output_type": "stream",
          "name": "stdout",
          "text": [
            "enter the salary70000\n",
            "enter the budget30000\n",
            "salary: 70000\n",
            "enter the expense in shopping1000\n",
            "enter the expense in education50000\n",
            "enter the expense in entertainment0\n",
            "enter the expense in others17000\n",
            "total expense: 68000\n",
            "savings: 2000\n",
            "you have exceeded the budget\n"
          ]
        }
      ]
    },
    {
      "cell_type": "code",
      "source": [
        "#calculation of even and odd number\n",
        "a=int(input('enter the number'))\n",
        "if a%2==0:\n",
        "  print('even number')\n",
        "else:\n",
        "  print('odd number')"
      ],
      "metadata": {
        "colab": {
          "base_uri": "https://localhost:8080/"
        },
        "id": "Hi0AgKr-cAFG",
        "outputId": "18bc197c-b544-4651-d6b3-fc9ef68eb080"
      },
      "execution_count": 19,
      "outputs": [
        {
          "output_type": "stream",
          "name": "stdout",
          "text": [
            "enter the number25\n",
            "odd number\n"
          ]
        }
      ]
    },
    {
      "cell_type": "code",
      "source": [
        "password=input('enter password ')\n",
        "age=int(input('enter age '))\n",
        "if age>=18:\n",
        "  if password=='admin':\n",
        "    print('access granted')\n",
        "else:\n",
        "  print('access denied')\n"
      ],
      "metadata": {
        "colab": {
          "base_uri": "https://localhost:8080/"
        },
        "id": "9xp2kBRoc4QO",
        "outputId": "70cf0730-2110-4cd6-9f1c-4bf5021a4ed8"
      },
      "execution_count": 24,
      "outputs": [
        {
          "output_type": "stream",
          "name": "stdout",
          "text": [
            "enter password 23456\n",
            "enter age 12\n",
            "access denied\n"
          ]
        }
      ]
    },
    {
      "cell_type": "code",
      "source": [
        "#calculator\n",
        "a=int(input('enter the first number'))\n",
        "b=int(input('enter the second number'))\n",
        "operation=input('enter the operation')\n",
        "if operation=='+':\n",
        "  print('sum is ',a+b)\n",
        "elif operation=='-':\n",
        "  print('difference is ',a-b)\n",
        "elif operation=='*':\n",
        "  print('product is ' ,a*b)\n",
        "elif operation=='/':\n",
        "  print('quotient is ',a/b)\n",
        "elif operation=='%':\n",
        "  print('remainder is ',a%b)\n",
        "elif operation=='**':\n",
        "  print('power is ',a**b)\n",
        "else:\n",
        "  print('invalid operation')"
      ],
      "metadata": {
        "colab": {
          "base_uri": "https://localhost:8080/"
        },
        "id": "nVdCBs3tegf3",
        "outputId": "e24be871-a1ca-4253-ea1d-a4a55c2d92b6"
      },
      "execution_count": 25,
      "outputs": [
        {
          "output_type": "stream",
          "name": "stdout",
          "text": [
            "enter the first number24\n",
            "enter the second number48\n",
            "enter the operation**\n",
            "power is  1778851122450430889808135593631174089945225899275983120948501938176\n"
          ]
        }
      ]
    }
  ]
}