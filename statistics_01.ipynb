{
  "nbformat": 4,
  "nbformat_minor": 0,
  "metadata": {
    "colab": {
      "provenance": [],
      "authorship_tag": "ABX9TyMEqOBhvDHDPCijHq6KM/q0",
      "include_colab_link": true
    },
    "kernelspec": {
      "name": "python3",
      "display_name": "Python 3"
    },
    "language_info": {
      "name": "python"
    }
  },
  "cells": [
    {
      "cell_type": "markdown",
      "metadata": {
        "id": "view-in-github",
        "colab_type": "text"
      },
      "source": [
        "<a href=\"https://colab.research.google.com/github/Jigyasha17/Assingments/blob/main/statistics_01.ipynb\" target=\"_parent\"><img src=\"https://colab.research.google.com/assets/colab-badge.svg\" alt=\"Open In Colab\"/></a>"
      ]
    },
    {
      "cell_type": "markdown",
      "source": [
        "# **STATISTICS BASICS | ASSIGNMENT**\n",
        "\n",
        "**Question 1: What is the difference between descriptive statistics and inferential statistics? Explain with examples.**\n",
        "\n",
        "ANS:Descriptive statistics summarize and describe the characteristics of a dataset ,using measures like mean , median and standard deviation to present the data’s main features. In contrast inferential statistics use sample data to make generalisations, predictions about a larger population employing techniques like hypothesis tests and confidence intervals to understand patterns and relationships in the data.\n",
        "\n",
        "**Question 2: What is sampling in statistics? Explain the differences between random and stratified sampling.**\n",
        "\n",
        "ANS: A sample can be called as a subset of a population  , sampling is done to study about the population and apply predictions and conclusions to the population .\n",
        "* In Random sampling the elements of the sample are chosen from the population on a random basis ,so that each and every element has an equal chance of getting selected .\n",
        "* Whereas in Stratified sampling a large population is divided into several strata  based on shared characteristics and then a random sample is selected from each group .This ensures that diverse segments of the population are represented in the sample leading to more precise and unbiased results.\n",
        "\n",
        "***Question 3: Define mean, median, and mode. Explain why these measures of central tendency are important.***\n",
        "\n",
        "ANS:  \n",
        " * Mean is the arithmetic average calculated by summing  all the values divided by the total no. of observations\n",
        "* Median is the middle value after sorting the data in ascending order .\n",
        "* Mode is the value that appears more frequently in the dataset.\n",
        "* Measures of central tendency are important because they reduce the large data to a single meaningful number , making it easier to grasp the main features of data.\n",
        "* They are also important in detecting outliers .\n",
        "* They are used to replace NAN values in a dataset such that there is no change in the overall data.\n",
        "\n",
        "***Question 4:Explain skewness and kurtosis. What does a positive skew imply about the data?***\n",
        "\n",
        "* Skewness is the inclination  in the graph observed when a data is plotted in the graph .\n",
        " Based on its shape they are of three types.\n",
        " 1. If the data is deviated towards the right then positively skewed such that mean>=median>= mode\n",
        "2. If the data is deviated to the left then negatively skewed mode>=median>=mean\n",
        "3. If the data is at the center with its mean median and mode at the origin such that mean=mode= median the data is said to be zero skewed that is symmetric data\n",
        "\n",
        "* Kurtosis is a statistical measure that describes the shape of a distribution's tails in relation to its overall shape. It indicates the extent to which a distribution contains outliers and assesses the propensity of a distribution to have extreme values within its tails. There are three types of kurtosis:\n",
        "* Leptokurtic: Distributions with heavy tails and a sharp peak, indicating a higher likelihood of extreme values.\n",
        "* Platykurtic: Distributions with light tails and a flatter peak, indicating fewer extreme values.\n",
        "* Mesokurtic distributions have a kurtosis value similar to that of a normal distribution. This means they have a moderate peak and tails, indicating a balanced distribution of values without an excessive number of outliers.\n",
        "\n",
        "\n",
        "\n",
        "\n"
      ],
      "metadata": {
        "id": "W6Z8iSfOAyr2"
      }
    },
    {
      "cell_type": "markdown",
      "source": [
        "***Question 5: Implement a Python program to compute the mean, median, and mode of a given list of numbers***.\n",
        "\n",
        "**numbers = [12, 15, 12, 18, 19, 12, 20, 22, 19, 19, 24, 24, 24, 26, 28]**\n",
        "\n"
      ],
      "metadata": {
        "id": "1jytLv8AD-MO"
      }
    },
    {
      "cell_type": "code",
      "source": [
        "import numpy as np\n",
        "import statistics as st\n",
        "numbers = [12, 15, 12, 18, 19, 12, 20, 22, 19, 19, 24, 24, 24, 26, 28]\n",
        "print(np.mean(numbers))\n",
        "print(np.median(numbers))\n",
        "print(st.mode(numbers) )"
      ],
      "metadata": {
        "colab": {
          "base_uri": "https://localhost:8080/"
        },
        "id": "QJ84B6XaER5R",
        "outputId": "6ca27111-e675-4de8-c70e-8b896599b02d"
      },
      "execution_count": 7,
      "outputs": [
        {
          "output_type": "stream",
          "name": "stdout",
          "text": [
            "19.6\n",
            "19.0\n",
            "12\n"
          ]
        }
      ]
    },
    {
      "cell_type": "markdown",
      "source": [
        "***Question 6: Compute the covariance and correlation coefficient between the following\n",
        "two datasets provided as lists in Python:***\n",
        "\n",
        "***list_x = [10, 20, 30, 40, 50]***\n",
        "\n",
        "***list_y = [15, 25, 35, 45, 60]***"
      ],
      "metadata": {
        "id": "nZSigQOxFQP1"
      }
    },
    {
      "cell_type": "code",
      "source": [
        "import pandas as pd\n",
        "df=pd.DataFrame({'x':[10, 20, 30, 40, 50],'y':[15, 25, 35, 45, 60]})\n",
        "print(df.cov())\n",
        "print(df.corr())\n"
      ],
      "metadata": {
        "colab": {
          "base_uri": "https://localhost:8080/"
        },
        "id": "gizDsW4sFeGj",
        "outputId": "0a2c95cd-2c02-4d33-81c6-eab73692663b"
      },
      "execution_count": 10,
      "outputs": [
        {
          "output_type": "stream",
          "name": "stdout",
          "text": [
            "       x      y\n",
            "x  250.0  275.0\n",
            "y  275.0  305.0\n",
            "          x         y\n",
            "x  1.000000  0.995893\n",
            "y  0.995893  1.000000\n"
          ]
        }
      ]
    },
    {
      "cell_type": "markdown",
      "source": [
        "***Question 7: Write a Python script to draw a boxplot for the following numeric list and identify its outliers. Explain the result:***\n",
        "\n",
        "***data = [12, 14, 14, 15, 18, 19, 19, 21, 22, 22, 23, 23, 24, 26, 29, 35]***"
      ],
      "metadata": {
        "id": "1BiNY_THGb84"
      }
    },
    {
      "cell_type": "code",
      "source": [
        "import seaborn as sns\n",
        "sns.boxplot(data=df, orient=\"h\", palette=\"viridis\")"
      ],
      "metadata": {
        "colab": {
          "base_uri": "https://localhost:8080/",
          "height": 447
        },
        "id": "_gywBP2KGax-",
        "outputId": "178ea9d3-c4c8-4332-b62a-98dc46b969c6"
      },
      "execution_count": 13,
      "outputs": [
        {
          "output_type": "execute_result",
          "data": {
            "text/plain": [
              "<Axes: >"
            ]
          },
          "metadata": {},
          "execution_count": 13
        },
        {
          "output_type": "display_data",
          "data": {
            "text/plain": [
              "<Figure size 640x480 with 1 Axes>"
            ],
            "image/png": "[encoded data removed]"
          },
          "metadata": {}
        }
      ]
    },
    {
      "cell_type": "markdown",
      "source": [
        "For blue box\n",
        "\n",
        "\n",
        "*   Median: The median is approximately 30 ,indicating the center of the data .\n",
        "*   Spread:The IQR is between 22 and 46 with an overall range from about 15to52\n",
        "\n",
        "For Green box:\n",
        "* Median: The median is approx 35\n",
        "* Spread : The IQR is between 28-45 with an overall range 15-60 wider  than variable x\n",
        "\n"
      ],
      "metadata": {
        "id": "hOdOEl9JG-M5"
      }
    },
    {
      "cell_type": "markdown",
      "source": [
        "***Question 8: You are working as a data analyst in an e-commerce company. The\n",
        "marketing team wants to know if there is a relationship between advertising spend and daily sales.***\n",
        "\n",
        "● Explain how you would use covariance and correlation to explore this\n",
        "relationship.\n",
        "\n",
        "● Write Python code to compute the correlation between the two lists:\n",
        "\n",
        "advertising_spend = [200, 250, 300, 400, 500]   \n",
        "daily_sales = [2200, 2450, 2750, 3200, 4000]\n"
      ],
      "metadata": {
        "id": "W6rRTd9xJYJE"
      }
    },
    {
      "cell_type": "code",
      "source": [
        "import pandas as pd\n",
        "df= pd.DataFrame({'advertising_spend':[200, 250, 300, 400, 500],'daily_sales':[2200, 2450, 2750, 3200, 4000]})\n",
        "df.cov()\n",
        "df.corr()"
      ],
      "metadata": {
        "colab": {
          "base_uri": "https://localhost:8080/",
          "height": 112
        },
        "id": "FFah-pfTKYH8",
        "outputId": "439ec774-0e11-4813-c3ba-76d1106a5ecd"
      },
      "execution_count": 16,
      "outputs": [
        {
          "output_type": "execute_result",
          "data": {
            "text/plain": [
              "                   advertising_spend  daily_sales\n",
              "advertising_spend           1.000000     0.993582\n",
              "daily_sales                 0.993582     1.000000"
            ],
            "text/html": [
              "\n",
              "  <div id=\"df-d3e5a96e-4225-446f-91e2-7dc25fff1bff\" class=\"colab-df-container\">\n",
              "    <div>\n",
              "<style scoped>\n",
              "    .dataframe tbody tr th:only-of-type {\n",
              "        vertical-align: middle;\n",
              "    }\n",
              "\n",
              "    .dataframe tbody tr th {\n",
              "        vertical-align: top;\n",
              "    }\n",
              "\n",
              "    .dataframe thead th {\n",
              "        text-align: right;\n",
              "    }\n",
              "</style>\n",
              "<table border=\"1\" class=\"dataframe\">\n",
              "  <thead>\n",
              "    <tr style=\"text-align: right;\">\n",
              "      <th></th>\n",
              "      <th>advertising_spend</th>\n",
              "      <th>daily_sales</th>\n",
              "    </tr>\n",
              "  </thead>\n",
              "  <tbody>\n",
              "    <tr>\n",
              "      <th>advertising_spend</th>\n",
              "      <td>1.000000</td>\n",
              "      <td>0.993582</td>\n",
              "    </tr>\n",
              "    <tr>\n",
              "      <th>daily_sales</th>\n",
              "      <td>0.993582</td>\n",
              "      <td>1.000000</td>\n",
              "    </tr>\n",
              "  </tbody>\n",
              "</table>\n",
              "</div>\n",
              "    <div class=\"colab-df-buttons\">\n",
              "\n",
              "  <div class=\"colab-df-container\">\n",
              "    <button class=\"colab-df-convert\" onclick=\"convertToInteractive('df-d3e5a96e-4225-446f-91e2-7dc25fff1bff')\"\n",
              "            title=\"Convert this dataframe to an interactive table.\"\n",
              "            style=\"display:none;\">\n",
              "\n",
              "  <svg xmlns=\"http://www.w3.org/2000/svg\" height=\"24px\" viewBox=\"0 -960 960 960\">\n",
              "    <path d=\"M120-120v-720h720v720H120Zm60-500h600v-160H180v160Zm220 220h160v-160H400v160Zm0 220h160v-160H400v160ZM180-400h160v-160H180v160Zm440 0h160v-160H620v160ZM180-180h160v-160H180v160Zm440 0h160v-160H620v160Z\"/>\n",
              "  </svg>\n",
              "    </button>\n",
              "\n",
              "  <style>\n",
              "    .colab-df-container {\n",
              "      display:flex;\n",
              "      gap: 12px;\n",
              "    }\n",
              "\n",
              "    .colab-df-convert {\n",
              "      background-color: #E8F0FE;\n",
              "      border: none;\n",
              "      border-radius: 50%;\n",
              "      cursor: pointer;\n",
              "      display: none;\n",
              "      fill: #1967D2;\n",
              "      height: 32px;\n",
              "      padding: 0 0 0 0;\n",
              "      width: 32px;\n",
              "    }\n",
              "\n",
              "    .colab-df-convert:hover {\n",
              "      background-color: #E2EBFA;\n",
              "      box-shadow: 0px 1px 2px rgba(60, 64, 67, 0.3), 0px 1px 3px 1px rgba(60, 64, 67, 0.15);\n",
              "      fill: #174EA6;\n",
              "    }\n",
              "\n",
              "    .colab-df-buttons div {\n",
              "      margin-bottom: 4px;\n",
              "    }\n",
              "\n",
              "    [theme=dark] .colab-df-convert {\n",
              "      background-color: #3B4455;\n",
              "      fill: #D2E3FC;\n",
              "    }\n",
              "\n",
              "    [theme=dark] .colab-df-convert:hover {\n",
              "      background-color: #434B5C;\n",
              "      box-shadow: 0px 1px 3px 1px rgba(0, 0, 0, 0.15);\n",
              "      filter: drop-shadow(0px 1px 2px rgba(0, 0, 0, 0.3));\n",
              "      fill: #FFFFFF;\n",
              "    }\n",
              "  </style>\n",
              "\n",
              "    <script>\n",
              "      const buttonEl =\n",
              "        document.querySelector('#df-d3e5a96e-4225-446f-91e2-7dc25fff1bff button.colab-df-convert');\n",
              "      buttonEl.style.display =\n",
              "        google.colab.kernel.accessAllowed ? 'block' : 'none';\n",
              "\n",
              "      async function convertToInteractive(key) {\n",
              "        const element = document.querySelector('#df-d3e5a96e-4225-446f-91e2-7dc25fff1bff');\n",
              "        const dataTable =\n",
              "          await google.colab.kernel.invokeFunction('convertToInteractive',\n",
              "                                                    [key], {});\n",
              "        if (!dataTable) return;\n",
              "\n",
              "        const docLinkHtml = 'Like what you see? Visit the ' +\n",
              "          '<a target=\"_blank\" href=https://colab.research.google.com/notebooks/data_table.ipynb>data table notebook</a>'\n",
              "          + ' to learn more about interactive tables.';\n",
              "        element.innerHTML = '';\n",
              "        dataTable['output_type'] = 'display_data';\n",
              "        await google.colab.output.renderOutput(dataTable, element);\n",
              "        const docLink = document.createElement('div');\n",
              "        docLink.innerHTML = docLinkHtml;\n",
              "        element.appendChild(docLink);\n",
              "      }\n",
              "    </script>\n",
              "  </div>\n",
              "\n",
              "\n",
              "    <div id=\"df-f278b29f-5260-48a0-bd13-d074edab3726\">\n",
              "      <button class=\"colab-df-quickchart\" onclick=\"quickchart('df-f278b29f-5260-48a0-bd13-d074edab3726')\"\n",
              "                title=\"Suggest charts\"\n",
              "                style=\"display:none;\">\n",
              "\n",
              "<svg xmlns=\"http://www.w3.org/2000/svg\" height=\"24px\"viewBox=\"0 0 24 24\"\n",
              "     width=\"24px\">\n",
              "    <g>\n",
              "        <path d=\"M19 3H5c-1.1 0-2 .9-2 2v14c0 1.1.9 2 2 2h14c1.1 0 2-.9 2-2V5c0-1.1-.9-2-2-2zM9 17H7v-7h2v7zm4 0h-2V7h2v10zm4 0h-2v-4h2v4z\"/>\n",
              "    </g>\n",
              "</svg>\n",
              "      </button>\n",
              "\n",
              "<style>\n",
              "  .colab-df-quickchart {\n",
              "      --bg-color: #E8F0FE;\n",
              "      --fill-color: #1967D2;\n",
              "      --hover-bg-color: #E2EBFA;\n",
              "      --hover-fill-color: #174EA6;\n",
              "      --disabled-fill-color: #AAA;\n",
              "      --disabled-bg-color: #DDD;\n",
              "  }\n",
              "\n",
              "  [theme=dark] .colab-df-quickchart {\n",
              "      --bg-color: #3B4455;\n",
              "      --fill-color: #D2E3FC;\n",
              "      --hover-bg-color: #434B5C;\n",
              "      --hover-fill-color: #FFFFFF;\n",
              "      --disabled-bg-color: #3B4455;\n",
              "      --disabled-fill-color: #666;\n",
              "  }\n",
              "\n",
              "  .colab-df-quickchart {\n",
              "    background-color: var(--bg-color);\n",
              "    border: none;\n",
              "    border-radius: 50%;\n",
              "    cursor: pointer;\n",
              "    display: none;\n",
              "    fill: var(--fill-color);\n",
              "    height: 32px;\n",
              "    padding: 0;\n",
              "    width: 32px;\n",
              "  }\n",
              "\n",
              "  .colab-df-quickchart:hover {\n",
              "    background-color: var(--hover-bg-color);\n",
              "    box-shadow: 0 1px 2px rgba(60, 64, 67, 0.3), 0 1px 3px 1px rgba(60, 64, 67, 0.15);\n",
              "    fill: var(--button-hover-fill-color);\n",
              "  }\n",
              "\n",
              "  .colab-df-quickchart-complete:disabled,\n",
              "  .colab-df-quickchart-complete:disabled:hover {\n",
              "    background-color: var(--disabled-bg-color);\n",
              "    fill: var(--disabled-fill-color);\n",
              "    box-shadow: none;\n",
              "  }\n",
              "\n",
              "  .colab-df-spinner {\n",
              "    border: 2px solid var(--fill-color);\n",
              "    border-color: transparent;\n",
              "    border-bottom-color: var(--fill-color);\n",
              "    animation:\n",
              "      spin 1s steps(1) infinite;\n",
              "  }\n",
              "\n",
              "  @keyframes spin {\n",
              "    0% {\n",
              "      border-color: transparent;\n",
              "      border-bottom-color: var(--fill-color);\n",
              "      border-left-color: var(--fill-color);\n",
              "    }\n",
              "    20% {\n",
              "      border-color: transparent;\n",
              "      border-left-color: var(--fill-color);\n",
              "      border-top-color: var(--fill-color);\n",
              "    }\n",
              "    30% {\n",
              "      border-color: transparent;\n",
              "      border-left-color: var(--fill-color);\n",
              "      border-top-color: var(--fill-color);\n",
              "      border-right-color: var(--fill-color);\n",
              "    }\n",
              "    40% {\n",
              "      border-color: transparent;\n",
              "      border-right-color: var(--fill-color);\n",
              "      border-top-color: var(--fill-color);\n",
              "    }\n",
              "    60% {\n",
              "      border-color: transparent;\n",
              "      border-right-color: var(--fill-color);\n",
              "    }\n",
              "    80% {\n",
              "      border-color: transparent;\n",
              "      border-right-color: var(--fill-color);\n",
              "      border-bottom-color: var(--fill-color);\n",
              "    }\n",
              "    90% {\n",
              "      border-color: transparent;\n",
              "      border-bottom-color: var(--fill-color);\n",
              "    }\n",
              "  }\n",
              "</style>\n",
              "\n",
              "      <script>\n",
              "        async function quickchart(key) {\n",
              "          const quickchartButtonEl =\n",
              "            document.querySelector('#' + key + ' button');\n",
              "          quickchartButtonEl.disabled = true;  // To prevent multiple clicks.\n",
              "          quickchartButtonEl.classList.add('colab-df-spinner');\n",
              "          try {\n",
              "            const charts = await google.colab.kernel.invokeFunction(\n",
              "                'suggestCharts', [key], {});\n",
              "          } catch (error) {\n",
              "            console.error('Error during call to suggestCharts:', error);\n",
              "          }\n",
              "          quickchartButtonEl.classList.remove('colab-df-spinner');\n",
              "          quickchartButtonEl.classList.add('colab-df-quickchart-complete');\n",
              "        }\n",
              "        (() => {\n",
              "          let quickchartButtonEl =\n",
              "            document.querySelector('#df-f278b29f-5260-48a0-bd13-d074edab3726 button');\n",
              "          quickchartButtonEl.style.display =\n",
              "            google.colab.kernel.accessAllowed ? 'block' : 'none';\n",
              "        })();\n",
              "      </script>\n",
              "    </div>\n",
              "\n",
              "    </div>\n",
              "  </div>\n"
            ],
            "application/vnd.google.colaboratory.intrinsic+json": {
              "type": "dataframe",
              "summary": "{\n  \"name\": \"df\",\n  \"rows\": 2,\n  \"fields\": [\n    {\n      \"column\": \"advertising_spend\",\n      \"properties\": {\n        \"dtype\": \"number\",\n        \"std\": 0.004537921290967128,\n        \"min\": 0.9935824101653327,\n        \"max\": 1.0,\n        \"num_unique_values\": 2,\n        \"samples\": [\n          0.9935824101653327,\n          1.0\n        ],\n        \"semantic_type\": \"\",\n        \"description\": \"\"\n      }\n    },\n    {\n      \"column\": \"daily_sales\",\n      \"properties\": {\n        \"dtype\": \"number\",\n        \"std\": 0.004537921290967128,\n        \"min\": 0.9935824101653327,\n        \"max\": 1.0,\n        \"num_unique_values\": 2,\n        \"samples\": [\n          1.0,\n          0.9935824101653327\n        ],\n        \"semantic_type\": \"\",\n        \"description\": \"\"\n      }\n    }\n  ]\n}"
            }
          },
          "metadata": {},
          "execution_count": 16
        }
      ]
    },
    {
      "cell_type": "markdown",
      "source": [
        "\n",
        "ANS: with the help of covariance and correlation we can get the relationship between advertising spend and daily sales , tahta is weather its a positive correlation or negative correlation and accordingly we can spend on advertising .\n",
        "\n",
        "As expected the relation between the advertising spend and sales is positive thus greater we spend on advertisement greater the sales.\n"
      ],
      "metadata": {
        "id": "oRGOeUYBK_m1"
      }
    },
    {
      "cell_type": "markdown",
      "source": [
        "***Question 9: Your team has collected customer satisfaction survey data on a scale of 1-10 and wants to understand its distribution before launching a new product.***\n",
        "\n",
        "\n",
        "● Explain which summary statistics and visualizations (e.g. mean, standard\n",
        "deviation, histogram) you’d use.\n",
        "\n",
        "● Write Python code to create a histogram using Matplotlib for the survey data:\n",
        "survey_scores = [7, 8, 5, 9, 6, 7, 8, 9, 10, 4, 7, 6, 9, 8, 7]"
      ],
      "metadata": {
        "id": "iVC-wen7LXPY"
      }
    },
    {
      "cell_type": "code",
      "source": [
        "import matplotlib.pyplot as plt\n",
        "survey_scores = [7, 8, 5, 9, 6, 7, 8, 9, 10, 4, 7, 6, 9, 8, 7]\n",
        "plt.hist(survey_scores,edgecolor=\"k\")\n",
        "plt.xlabel('Survey Scores')\n",
        "plt.ylabel('Frequency')\n",
        "plt.title('Survey Scores Histogram')\n",
        "plt.show()"
      ],
      "metadata": {
        "colab": {
          "base_uri": "https://localhost:8080/",
          "height": 472
        },
        "id": "vcv91iC2Lr8k",
        "outputId": "e7ead674-9b2a-4e23-9e04-03c3c8d5ba11"
      },
      "execution_count": 19,
      "outputs": [
        {
          "output_type": "display_data",
          "data": {
            "text/plain": [
              "<Figure size 640x480 with 1 Axes>"
            ],
            "image/png": "[encoded data removed]"
          },
          "metadata": {}
        }
      ]
    },
    {
      "cell_type": "markdown",
      "source": [
        "* Mean: To understand the average satisfaction score.\n",
        "* Boxplot: To quickly see the median, quartiles, and potential outliers in the data."
      ],
      "metadata": {
        "id": "cQ2x0oJ1MWb9"
      }
    }
  ]
}