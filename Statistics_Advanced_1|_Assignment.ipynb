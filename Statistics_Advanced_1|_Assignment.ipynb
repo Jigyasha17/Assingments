{
  "nbformat": 4,
  "nbformat_minor": 0,
  "metadata": {
    "colab": {
      "provenance": [],
      "authorship_tag": "ABX9TyPdK5FYelgnWqMFGYBlJfvE",
      "include_colab_link": true
    },
    "kernelspec": {
      "name": "python3",
      "display_name": "Python 3"
    },
    "language_info": {
      "name": "python"
    }
  },
  "cells": [
    {
      "cell_type": "markdown",
      "metadata": {
        "id": "view-in-github",
        "colab_type": "text"
      },
      "source": [
        "<a href=\"https://colab.research.google.com/github/Jigyasha17/Assingments/blob/main/Statistics_Advanced_1%7C_Assignment.ipynb\" target=\"_parent\"><img src=\"https://colab.research.google.com/assets/colab-badge.svg\" alt=\"Open In Colab\"/></a>"
      ]
    },
    {
      "cell_type": "markdown",
      "source": [
        "# **Statistics Advanced - 1| Assignment**"
      ],
      "metadata": {
        "id": "BuUnvOjaeDFY"
      }
    },
    {
      "cell_type": "markdown",
      "source": [
        "*** 1.What is a random variable in probability theory? ***\n",
        "\n",
        "ANS:"
      ],
      "metadata": {
        "id": "BDPar4BUeH5u"
      }
    },
    {
      "cell_type": "markdown",
      "metadata": {
        "id": "c02a2a90"
      },
      "source": [
        "*** 1.What is a random variable in probability theory? ***\n",
        "\n",
        "ANS:A random variable is a variable whose value is a numerical outcome of a random phenomenon. It's a function that maps the possible outcomes of a random experiment to real numbers. Random variables can be discrete (taking on a countable number of values) or continuous (taking on any value within a range).\n",
        "E.g  Event: The probability of getting a heads or a tail  in a unbiased coin.\n",
        "S={H,T}\n",
        "p(x)=1/2 here x is a random variable for the event ."
      ]
    },
    {
      "cell_type": "markdown",
      "metadata": {
        "id": "518d3ea1"
      },
      "source": [
        "***2: What are the types of random variables?***\n",
        "\n",
        "ANS: Random variables are of two types discrete and continuous random variable:\n",
        "\n",
        "*   **Discrete Random Variable:** A discrete random variable can only take on a countable number of values. These values are often integers, but they don't have to be. Examples include the number of heads in a series of coin flips, the number of cars passing a point on a road in an hour, or the number of defects in a manufactured item.\n",
        "\n",
        "*   **Continuous Random Variable:** A continuous random variable can take on any value within a given range or interval. These values are typically real numbers. Examples include the height of a person, the temperature of a room, or the time it takes to complete a task."
      ]
    },
    {
      "cell_type": "markdown",
      "source": [
        "*** 3.Explain the difference between discrete and continuous distributions. ***\n",
        "\n",
        "Answer: Discrete Random Variable: A discrete random variable can only take on a countable number of values. These values are often integers, but they don't have to be. Examples include the number of heads in a series of coin flips, the number of cars passing a point on a road in an hour, or the number of defects in a manufactured item.\n",
        "\n",
        "Continuous Random Variable: A continuous random variable can take on any value within a given range or interval. These values are typically real numbers. Examples include the height of a person, the temperature of a room, or the time it takes to complete a task."
      ],
      "metadata": {
        "id": "25iKkOPvfrJi"
      }
    },
    {
      "cell_type": "markdown",
      "metadata": {
        "id": "c87103c4"
      },
      "source": [
        "***4.What is a binomial distribution, and how is it used in probability?***\n",
        "\n",
        "ans.A binomial distribution is a discrete probability distribution that describes the number of successes in a fixed number of independent Bernoulli trials, each with the same probability of success. It is used in probability to model situations where there are only two possible outcomes for each trial (e.g., success or failure, heads or tails) and the trials are independent. The binomial distribution allows us to calculate the probability of obtaining a specific number of successes in a given number of trials.\n",
        "for example probability of getting a red ball from a box full of red and blue balls. p(x)=no. of redballs /total no. of balls =1-p(getting a blue ball)\n"
      ]
    },
    {
      "cell_type": "markdown",
      "metadata": {
        "id": "2581783b"
      },
      "source": [
        "***5. What is the standard normal distribution, and why is it important?***\n",
        "\n",
        "ANS:\n",
        "\n",
        "The standard normal distribution is a normal distribution with a mean of 0 and a standard deviation of 1. It is also known as the z-distribution.\n",
        "\n",
        "It is important for several reasons:\n",
        "\n",
        "*   **Standardization:** Any normal distribution can be transformed into a standard normal distribution by standardizing the values (calculating z-scores). This allows us to compare values from different normal distributions.\n",
        "*   **Probability Calculation:** Tables and software are readily available to find probabilities associated with the standard normal distribution. By standardizing a normal variable, we can use these resources to calculate probabilities for any normal distribution.\n",
        "*   **Statistical Inference:** Many statistical inference techniques, such as hypothesis testing and confidence intervals, rely on the properties of the standard normal distribution."
      ]
    },
    {
      "cell_type": "markdown",
      "metadata": {
        "id": "9fa7ba8d"
      },
      "source": [
        "***6. What is the Central Limit Theorem (CLT), and why is it critical in statistics?***\n",
        "\n",
        "ANS:\n",
        "\n",
        "The Central Limit Theorem (CLT) is a fundamental theorem in probability and statistics. It states that, given a sufficiently large sample size from any population with a finite mean and variance, the distribution of the sample means will approximate a normal distribution. This is true regardless of the shape of the original population distribution.\n",
        "\n",
        "The CLT is critical in statistics for several reasons:\n",
        "\n",
        "*   **Approximation of Sampling Distributions:** It allows us to approximate the sampling distribution of the mean with a normal distribution, even if the original population is not normally distributed. This is incredibly useful because the normal distribution has well-understood properties and tables available for calculating probabilities.\n",
        "*   **Statistical Inference:** The CLT is the basis for many statistical inference procedures, such as constructing confidence intervals and performing hypothesis tests on population means. It allows us to make inferences about a population based on a sample.\n",
        "*   **Real-World Applications:** It explains why many naturally occurring phenomena that are the result of many independent random factors tend to follow a normal distribution."
      ]
    },
    {
      "cell_type": "markdown",
      "metadata": {
        "id": "89a0cfae"
      },
      "source": [
        "***7. What is the significance of confidence intervals in statistical analysis?***\n",
        "\n",
        "ANS:\n",
        "\n",
        "Confidence intervals are a crucial concept in statistical analysis because they provide a range of plausible values for an unknown population parameter (like the mean or proportion) based on a sample from that population. Here's why they are significant:\n",
        "\n",
        "*   **Quantifying Uncertainty:** Unlike a single point estimate (which is just the sample statistic), a confidence interval explicitly acknowledges and quantifies the uncertainty associated with estimating a population parameter from a sample. The width of the interval indicates the precision of the estimate – a narrower interval suggests a more precise estimate.\n",
        "\n",
        "*   **Decision Making:** Confidence intervals help in making informed decisions. If a confidence interval for a parameter includes a specific value of interest (e.g., a hypothesized value in hypothesis testing), it suggests that this value is a plausible value for the population parameter. If the interval does not include that value, it suggests that the value is unlikely to be the true population parameter.\n",
        "\n",
        "*   **Interpreting Results:** Confidence intervals provide a more complete picture than just a point estimate. For example, knowing that the average height of a population is estimated to be 170 cm is less informative than knowing that a 95% confidence interval for the average height is between 168 cm and 172 cm. This interval tells us that we are 95% confident that the true average height of the population lies within this range.\n",
        "\n",
        "*   **Relating to Hypothesis Testing:** Confidence intervals and hypothesis tests are closely related. In many cases, a confidence interval can be used to perform a hypothesis test. If the null hypothesis value falls outside the confidence interval, the null hypothesis can be rejected.\n",
        "\n",
        "*   **Communication of Results:** Confidence intervals are a standard way to communicate the results of statistical analysis in research papers, reports, and presentations. They provide a clear and understandable measure of the uncertainty associated with the estimates.\n",
        "\n",
        "In summary, confidence intervals are significant because they provide a measure of the reliability of a statistical estimate, help in decision-making, facilitate the interpretation of results, and are a fundamental tool in statistical inference and communication."
      ]
    },
    {
      "cell_type": "markdown",
      "metadata": {
        "id": "2c54ba28"
      },
      "source": [
        "***8. What is the concept of expected value in a probability distribution? explain in short***\n",
        "\n",
        "ANS:\n",
        "\n",
        "The expected value (or expectation) of a random variable is the average value it is expected to take over many trials. It's calculated as the sum of all possible values of the variable multiplied by their respective probabilities. For a discrete random variable X, it's denoted as E(X) = Σ [x * P(X=x)]. It represents the long-run average of the random variable."
      ]
    },
    {
      "cell_type": "markdown",
      "source": [
        "***Write a Python program to generate 1000 random numbers from a normal\n",
        "distribution with mean = 50 and standard deviation = 5. Compute its mean and standard deviation using NumPy, and draw a histogram to visualize the distribution.bold text***"
      ],
      "metadata": {
        "id": "lqwMrl0uh2yD"
      }
    },
    {
      "cell_type": "code",
      "source": [
        "import numpy as np\n",
        "import matplotlib.pyplot as plt\n",
        "\n",
        "x = np.random.normal(loc=50, scale=5, size=1000)\n",
        "\n",
        "# Compute mean and standard deviation\n",
        "mean = np.mean(x)\n",
        "std_dev = np.std(x)\n",
        "\n",
        "print(f\"Mean of the generated numbers: {mean}\")\n",
        "print(f\"Standard deviation of the generated numbers: {std_dev}\")\n",
        "\n",
        "# Draw a histogram\n",
        "plt.hist(x, bins=30, density=True, alpha=0.6, color='g')\n",
        "plt.title('Histogram of Normally Distributed Numbers')\n",
        "plt.xlabel('Value')\n",
        "plt.ylabel('Frequency')\n",
        "plt.show()"
      ],
      "metadata": {
        "colab": {
          "base_uri": "https://localhost:8080/",
          "height": 507
        },
        "id": "FMUnXJxjh9rM",
        "outputId": "c1020f0f-1550-4131-d11e-cd3079216537"
      },
      "execution_count": 2,
      "outputs": [
        {
          "output_type": "stream",
          "name": "stdout",
          "text": [
            "Mean of the generated numbers: 50.03908999998958\n",
            "Standard deviation of the generated numbers: 4.849142559919905\n"
          ]
        },
        {
          "output_type": "display_data",
          "data": {
            "text/plain": [
              "<Figure size 640x480 with 1 Axes>"
            ],
            "image/png": "[encoded data removed]"
          },
          "metadata": {}
        }
      ]
    },
    {
      "cell_type": "markdown",
      "metadata": {
        "id": "4fdf0b67"
      },
      "source": [
        "***You are working as a data analyst for a retail company. The company has\n",
        "collected daily sales data for 2 years and wants you to identify the overall sales trend.daily_sales = [220, 245, 210, 265, 230, 250, 260, 275, 240, 255,\n",
        "235, 260, 245, 250, 225, 270, 265, 255, 250, 260]***\n",
        "\n",
        "● Explain how you would apply the Central Limit Theorem to estimate the average sales with a 95% confidence interval.\n",
        "\n",
        "● Write the Python code to compute the mean sales and its confidence interval.\n",
        "\n",
        "**Explanation of applying the Central Limit Theorem:**\n",
        "\n",
        "The Central Limit Theorem (CLT) states that for a sufficiently large sample size from any population with a finite mean and variance, the distribution of the sample means will approximate a normal distribution. Even though we only have a sample of 20 daily sales data points from a 2-year period (which is 730 days), if we consider this sample as a representative subset of the overall daily sales, we can still leverage the principles of the CLT to estimate the average sales.\n",
        "\n",
        "Here's how we apply the CLT and related concepts to estimate the average sales with a 95% confidence interval:\n",
        "\n",
        "1.  **Sample Mean as an Estimator:** We calculate the mean of our sample of 20 daily sales. This sample mean is the best point estimate for the true average daily sales of the company over the 2-year period.\n",
        "\n",
        "2.  **Sampling Distribution of the Mean:** According to the CLT, if we were to take many such samples of daily sales and calculate their means, the distribution of these sample means would be approximately normal, even if the original distribution of daily sales is not normal.\n",
        "\n",
        "3.  **Standard Error:** The standard deviation of this sampling distribution of the mean is called the standard error. It measures the variability of sample means around the true population mean. We can estimate the standard error using the sample standard deviation divided by the square root of the sample size.\n",
        "\n",
        "4.  **Confidence Interval:** A confidence interval provides a range of values within which we are confident the true population parameter (in this case, the true average daily sales) lies. A 95% confidence interval means that if we were to repeat this sampling process many times and calculate a confidence interval each time, approximately 95% of these intervals would contain the true population mean.\n",
        "\n",
        "5.  **Using the t-distribution:** Since our sample size (n=20) is relatively small and the population standard deviation is unknown, we use the t-distribution instead of the standard normal distribution (z-distribution) to construct the confidence interval. The t-distribution is more appropriate for smaller sample sizes and accounts for the extra uncertainty introduced by estimating the population standard deviation from the sample.\n",
        "\n",
        "6.  **Calculating the Confidence Interval:** The confidence interval for the mean is calculated as:\n",
        "\n",
        "    Sample Mean ± (t-score * Standard Error)\n",
        "\n",
        "    The t-score is obtained from the t-distribution table (or calculated using statistical software) based on the desired confidence level (95%) and the degrees of freedom (n-1, which is 19 in this case).\n",
        "\n",
        "By following these steps, we can use the sample data and the principles of the CLT (via the t-distribution for a small sample) to construct a 95% confidence interval for the average daily sales, providing a range of plausible values for the true average sales."
      ]
    },
    {
      "cell_type": "code",
      "source": [
        "import numpy as np\n",
        "from scipy import stats\n",
        "\n",
        "daily_sales = [220, 245, 210, 265, 230, 250, 260, 275, 240, 255,\n",
        "235, 260, 245, 250, 225, 270, 265, 255, 250, 260]\n",
        "\n",
        "# Compute the mean sales\n",
        "mean_sales = np.mean(daily_sales)\n",
        "print(f\"Mean daily sales: {mean_sales}\")\n",
        "\n",
        "# Compute the confidence interval\n",
        "confidence_level = 0.95\n",
        "degrees_freedom = len(daily_sales) - 1\n",
        "sample_standard_deviation = np.std(daily_sales, ddof=1)  # Use ddof=1 for sample standard deviation\n",
        "standard_error = sample_standard_deviation / np.sqrt(len(daily_sales))\n",
        "\n",
        "# Get the t-score\n",
        "t_score = stats.t.ppf((1 + confidence_level) / 2, degrees_freedom)\n",
        "\n",
        "# Calculate the margin of error\n",
        "margin_of_error = t_score * standard_error\n",
        "\n",
        "# Calculate the confidence interval\n",
        "confidence_interval = (mean_sales - margin_of_error, mean_sales + margin_of_error)\n",
        "\n",
        "print(f\"95% Confidence Interval for the mean sales: {confidence_interval}\")"
      ],
      "metadata": {
        "colab": {
          "base_uri": "https://localhost:8080/"
        },
        "id": "kwk3trv6i017",
        "outputId": "8ebc828c-2e10-4d6f-e5f0-4a176f09e738"
      },
      "execution_count": 3,
      "outputs": [
        {
          "output_type": "stream",
          "name": "stdout",
          "text": [
            "Mean daily sales: 248.25\n",
            "95% Confidence Interval for the mean sales: (np.float64(240.16957025147158), np.float64(256.3304297485284))\n"
          ]
        }
      ]
    }
  ]
}