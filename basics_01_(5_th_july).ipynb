{
  "nbformat": 4,
  "nbformat_minor": 0,
  "metadata": {
    "colab": {
      "provenance": [],
      "authorship_tag": "ABX9TyNVnJ/M7Iszz/N2IRsDdkTV",
      "include_colab_link": true
    },
    "kernelspec": {
      "name": "python3",
      "display_name": "Python 3"
    },
    "language_info": {
      "name": "python"
    }
  },
  "cells": [
    {
      "cell_type": "markdown",
      "metadata": {
        "id": "view-in-github",
        "colab_type": "text"
      },
      "source": [
        "<a href=\"https://colab.research.google.com/github/Jigyasha17/Assingments/blob/main/basics_01_(5_th_july).ipynb\" target=\"_parent\"><img src=\"https://colab.research.google.com/assets/colab-badge.svg\" alt=\"Open In Colab\"/></a>"
      ]
    },
    {
      "cell_type": "markdown",
      "source": [
        "5 th july live class lecture notes"
      ],
      "metadata": {
        "id": "KSIBQAob5T0J"
      }
    },
    {
      "cell_type": "code",
      "source": [
        "#calculator\n",
        "a=int(input('enter first number'))\n",
        "b=int(input('enter second number'))\n",
        "print('sum is',a+b)\n",
        "print('difference is',a-b)\n",
        "print('product is', a*b)\n",
        "print('quotient is',a/b)\n",
        "print('remainder is',a%b)\n",
        "print('power is',a**b)\n",
        "print('floor division is',a//b)\n"
      ],
      "metadata": {
        "colab": {
          "base_uri": "https://localhost:8080/"
        },
        "id": "eXM8_-zLHZjh",
        "outputId": "1f9c5ba7-9104-43c6-e306-2bbdc4281af9"
      },
      "execution_count": null,
      "outputs": [
        {
          "output_type": "stream",
          "name": "stdout",
          "text": [
            "enter first number10\n",
            "enter second number3\n",
            "sum is 13\n",
            "difference is 7\n",
            "product is 30\n",
            "quotient is 3.3333333333333335\n",
            "remainder is 1\n",
            "power is 1000\n",
            "floor division is 3\n"
          ]
        }
      ]
    },
    {
      "cell_type": "code",
      "source": [
        "# temperature converter\n",
        "a=int(input('enter temperature in celsius  '))\n",
        "print('temperature in fahrenheit is  ',a*9/5+32)"
      ],
      "metadata": {
        "colab": {
          "base_uri": "https://localhost:8080/"
        },
        "id": "1ZBPrtyII-2r",
        "outputId": "6196d661-ec47-4dcd-f44b-44f3997aa7ce"
      },
      "execution_count": null,
      "outputs": [
        {
          "output_type": "stream",
          "name": "stdout",
          "text": [
            "enter temperature in celsius  95\n",
            "temperature in fahrenheit is   203.0\n"
          ]
        }
      ]
    },
    {
      "cell_type": "code",
      "source": [
        "#BMI calculator\n",
        "weight=float(input('enter the weight in kg '))\n",
        "height=float(input('enter the height  in m '))\n",
        "print('BMI is  ',weight/(height**2))"
      ],
      "metadata": {
        "colab": {
          "base_uri": "https://localhost:8080/"
        },
        "id": "AYzcYyYjJSJc",
        "outputId": "4b7623c4-71a1-4898-8861-a90388ccd891"
      },
      "execution_count": null,
      "outputs": [
        {
          "output_type": "stream",
          "name": "stdout",
          "text": [
            "enter the weight in kg 65.5\n",
            "enter the height  in m 1.70\n",
            "BMI is   22.6643598615917\n"
          ]
        }
      ]
    },
    {
      "cell_type": "code",
      "source": [
        "#area of a circle\n",
        "radius=float(input('enter the radius  '))\n",
        "print('area of the circle is  ',3.14*radius**2)\n",
        "#"
      ],
      "metadata": {
        "colab": {
          "base_uri": "https://localhost:8080/"
        },
        "id": "E_p2m3TUKSbw",
        "outputId": "6900fcb0-2339-4161-d16b-da6e36f8f872"
      },
      "execution_count": null,
      "outputs": [
        {
          "output_type": "stream",
          "name": "stdout",
          "text": [
            "enter the radius  2\n",
            "area of the circle is   12.56\n"
          ]
        }
      ]
    },
    {
      "cell_type": "code",
      "source": [
        "# age in days\n",
        "age=int(input('enter the age  '))\n",
        "print('age in days is ',age*365)\n"
      ],
      "metadata": {
        "colab": {
          "base_uri": "https://localhost:8080/"
        },
        "id": "SYQrWldKKeWy",
        "outputId": "0c0481f7-896b-4e8a-deb2-a497c305d37f"
      },
      "execution_count": null,
      "outputs": [
        {
          "output_type": "stream",
          "name": "stdout",
          "text": [
            "enter the age  22\n",
            "age in days is  8030\n"
          ]
        }
      ]
    },
    {
      "cell_type": "markdown",
      "source": [
        "String- sequence of characters or anything stored in enclosed in single or double codes.\n",
        "\n",
        "comments -comments are notes in code that python ignores while execution\n",
        "\n",
        "\n",
        "1.   single line comment-#\n",
        "2.   multiline comments -'''\n",
        "\n"
      ],
      "metadata": {
        "id": "y2uqN2c35iFl"
      }
    },
    {
      "cell_type": "code",
      "source": [
        "print('hello world')# method 1\n",
        "a='my name is jigyasa' # method 2\n",
        "print(a)\n",
        "print('hello ' + 'world')"
      ],
      "metadata": {
        "id": "j56TvrYV7-_5",
        "colab": {
          "base_uri": "https://localhost:8080/"
        },
        "outputId": "3f2a0630-db88-4643-a6b2-3f642a47420e"
      },
      "execution_count": null,
      "outputs": [
        {
          "output_type": "stream",
          "name": "stdout",
          "text": [
            "hello world\n",
            "my name is jigyasa\n",
            "hello world\n"
          ]
        }
      ]
    },
    {
      "cell_type": "markdown",
      "source": [
        "print statements\n",
        "\n",
        "1.   print('hello world')\n",
        "2.   creating a variable and storing it i.e using variables\n",
        "3.   using f string - f string is a special way to create strings that can include variable and expressions directly inside curly braces\n",
        "4.  using dot format - a dot format i a string method  used to insert variables and values inside a string . its a placeholder {} inside  your string then call .format() with value you want to put into those placeholder\n",
        "\n"
      ],
      "metadata": {
        "id": "ZHIHRmGg6XI1"
      }
    },
    {
      "cell_type": "markdown",
      "source": [],
      "metadata": {
        "id": "r6nRRaazApWW"
      }
    },
    {
      "cell_type": "code",
      "source": [
        "#dot format method\n",
        "name='jigyasa'\n",
        "age=22\n",
        "print('my name is {} and my age is {}'.format(name,age))"
      ],
      "metadata": {
        "colab": {
          "base_uri": "https://localhost:8080/"
        },
        "id": "nU8aXrsvBTH9",
        "outputId": "c5e1d94c-1b7d-4fe5-bf09-9b62353509b8"
      },
      "execution_count": null,
      "outputs": [
        {
          "output_type": "stream",
          "name": "stdout",
          "text": [
            "my name is jigyasa and my age is 22\n"
          ]
        }
      ]
    },
    {
      "cell_type": "code",
      "source": [
        "item='pen'\n",
        "cost='10'\n",
        "print ('the pen cost 10 rs') #mehod1\n",
        "print ('the',item,'cost',cost,'rs') # method 4\n",
        "print('the {} cost {} rs'.format(item,cost)) # method 2\n",
        "print(f'the {item} cost {cost} rs')# method 3"
      ],
      "metadata": {
        "colab": {
          "base_uri": "https://localhost:8080/"
        },
        "id": "m9eo91pNDSd2",
        "outputId": "a13ae5a5-2f0f-49be-e8f8-38a8a475cb14"
      },
      "execution_count": null,
      "outputs": [
        {
          "output_type": "stream",
          "name": "stdout",
          "text": [
            "the pen cost 10 rs\n",
            "the pen cost 10 rs\n",
            "the pen cost 10 rs\n",
            "the pen cost 10 rs\n"
          ]
        }
      ]
    },
    {
      "cell_type": "code",
      "source": [
        "name='jigyasa'\n",
        "age=22\n",
        "print(f'my name is {name} and my age is {age}') # method 3"
      ],
      "metadata": {
        "colab": {
          "base_uri": "https://localhost:8080/"
        },
        "id": "uEJTKYUz95Hy",
        "outputId": "9041626a-6760-4cce-ca22-7452f1e474b6"
      },
      "execution_count": null,
      "outputs": [
        {
          "output_type": "stream",
          "name": "stdout",
          "text": [
            "my name is jigyasa and my age is 22\n"
          ]
        }
      ]
    },
    {
      "cell_type": "code",
      "source": [
        "price=50\n",
        "quantity=5\n",
        "print(f'total price is {price*quantity}')"
      ],
      "metadata": {
        "colab": {
          "base_uri": "https://localhost:8080/"
        },
        "id": "Rx6G-7ac_FPx",
        "outputId": "a2e804f9-f1d9-440b-a204-cc6abfc6ad1d"
      },
      "execution_count": null,
      "outputs": [
        {
          "output_type": "stream",
          "name": "stdout",
          "text": [
            "total price is 250\n"
          ]
        }
      ]
    },
    {
      "cell_type": "code",
      "source": [
        "num1=5\n",
        "num2=3\n",
        "print(f'sum of {num1} and {num2} is {num1+num2}')"
      ],
      "metadata": {
        "colab": {
          "base_uri": "https://localhost:8080/"
        },
        "id": "W2nXJTvv_YPH",
        "outputId": "9147378c-80e7-469d-fd78-2885ace6259e"
      },
      "execution_count": null,
      "outputs": [
        {
          "output_type": "stream",
          "name": "stdout",
          "text": [
            "sum of 5 and 3 is 8\n"
          ]
        }
      ]
    },
    {
      "cell_type": "markdown",
      "source": [
        "VARIABLES = are memory locationss where a data is stored\n",
        "\n",
        "\n",
        "memory location=id(variable name)\n"
      ],
      "metadata": {
        "id": "8OFheykcQLGx"
      }
    },
    {
      "cell_type": "code",
      "source": [
        "a=25\n",
        "id(a) # memory loaction"
      ],
      "metadata": {
        "colab": {
          "base_uri": "https://localhost:8080/"
        },
        "id": "icjz2FuxQxZc",
        "outputId": "8e2917b4-7acf-46bb-b8e3-7b5bec1e755f"
      },
      "execution_count": null,
      "outputs": [
        {
          "output_type": "execute_result",
          "data": {
            "text/plain": [
              "10758504"
            ]
          },
          "metadata": {},
          "execution_count": 32
        }
      ]
    },
    {
      "cell_type": "code",
      "source": [
        "#keywords= keyword are special reserved words in python , each keywords have a special meaning and are  used to define a syntax in code thus cannot be used as variable names\n",
        "\n",
        "import keyword\n",
        "print(keyword.kwlist)"
      ],
      "metadata": {
        "colab": {
          "base_uri": "https://localhost:8080/"
        },
        "id": "6c9Kd7ziQ5cv",
        "outputId": "72241881-daa9-45e6-9e18-c7d3a1e9f1ba"
      },
      "execution_count": null,
      "outputs": [
        {
          "output_type": "stream",
          "name": "stdout",
          "text": [
            "['False', 'None', 'True', 'and', 'as', 'assert', 'async', 'await', 'break', 'class', 'continue', 'def', 'del', 'elif', 'else', 'except', 'finally', 'for', 'from', 'global', 'if', 'import', 'in', 'is', 'lambda', 'nonlocal', 'not', 'or', 'pass', 'raise', 'return', 'try', 'while', 'with', 'yield']\n"
          ]
        }
      ]
    }
  ]
}