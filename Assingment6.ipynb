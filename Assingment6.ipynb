{
  "nbformat": 4,
  "nbformat_minor": 0,
  "metadata": {
    "colab": {
      "provenance": [],
      "authorship_tag": "ABX9TyNbEfq55+zm7x0FhOaEO71X",
      "include_colab_link": true
    },
    "kernelspec": {
      "name": "python3",
      "display_name": "Python 3"
    },
    "language_info": {
      "name": "python"
    }
  },
  "cells": [
    {
      "cell_type": "markdown",
      "metadata": {
        "id": "view-in-github",
        "colab_type": "text"
      },
      "source": [
        "<a href=\"https://colab.research.google.com/github/Jigyasha17/Assingments/blob/main/Assingment6.ipynb\" target=\"_parent\"><img src=\"https://colab.research.google.com/assets/colab-badge.svg\" alt=\"Open In Colab\"/></a>"
      ]
    },
    {
      "cell_type": "markdown",
      "source": [
        "# **Assingment 6**"
      ],
      "metadata": {
        "id": "mFlCP0f1JL5A"
      }
    },
    {
      "cell_type": "markdown",
      "source": [
        "***1. What is NumPy, and why is it widely used in Python***\n",
        "\n",
        "Ans: Numpy stands for numerical python, it is a fundamental library for scientific computing in python.The main reason nehind numpy,s popularity is its speed and efficiency . The underlying implementation of ndarray is writen in C which makes it much faster than pure python for numerical tasks."
      ],
      "metadata": {
        "id": "DvQ2Aa9hJW0j"
      }
    },
    {
      "cell_type": "markdown",
      "source": [
        "***2. How does broadcasting work in NumPy***\n",
        "\n",
        "Ans: Rules of Broadcasting:\n",
        "1. Equal number of dimensions : if two arrays have a different number of dimensions , the shape of the smaller array is padded on its leading side with ones until both the arrays have same number of dimensions.\n",
        "\n",
        "2. Dimensions compatibility : Numpy compares the shapes of the two arrays element wise starting from the rightmost dimension and working left .\n",
        "\n",
        "3. two dimensions are compatible if:\n",
        "   *  they are equal in size\n",
        "   *  One of the dimension have a size 1 , in this case the dimension with size 1  is streched to match the other dimension's size."
      ],
      "metadata": {
        "id": "uJgqZaH4KEzV"
      }
    },
    {
      "cell_type": "markdown",
      "source": [
        "***3. What is a Pandas DataFrame***\n",
        "\n",
        "ANS:A Pandas DataFrame is a two-dimensional, size-mutable, and potentially heterogeneous tabular data structure with labeled axes (rows and columns). It's like a spreadsheet or a SQL table."
      ],
      "metadata": {
        "id": "ARqiBUL8LZad"
      }
    },
    {
      "cell_type": "markdown",
      "source": [
        "***4: Explain the use of the groupby() method in Pandas***\n",
        "\n",
        "ANS: The groupby() method in Pandas is used to split a DataFrame into groups based on some criteria. This allows you to perform operations on each group independently, such as aggregation, transformation, or filtering. It's a powerful tool for analyzing data by categories."
      ],
      "metadata": {
        "id": "CyzITtOYLtWx"
      }
    },
    {
      "cell_type": "markdown",
      "source": [
        "***5. Why is Seaborn preferred for statistical visualizations***\n",
        "\n",
        "ANS:Seaborn is preferred for statistical visualizations because it provides a high-level interface for drawing attractive and informative statistical graphics. It is built on top of Matplotlib and integrates closely with pandas data structures. Key reasons include:\n",
        "\n",
        "* Aesthetic Appeal: Seaborn plots are generally more aesthetically pleasing by default compared to raw Matplotlib.\n",
        "* Statistical Focus: It's designed with statistical plots in mind, making it easier to create complex visualizations like heatmaps, violin plots, and pair plots.\n",
        "* Integration with Pandas: It works seamlessly with pandas DataFrames, allowing you to plot directly from your data with minimal effort.\n",
        "* Built-in Themes and Color Palettes: Seaborn offers various themes and color palettes that can be easily applied to enhance the visual appeal and clarity of plots.\n",
        "* Faceting: It provides powerful tools for creating small multiples (facets) of plots based on categorical variables, which is excellent for exploring relationships within different subgroups of your data."
      ],
      "metadata": {
        "id": "TY4hB4vpMFcZ"
      }
    },
    {
      "cell_type": "markdown",
      "source": [
        "***6.What are the differences between NumPy arrays and Python lists***\n",
        "\n",
        "ANS:Numpy arrays support element wise operations which python lists fail to do .NumPy arrays are also typically more memory-efficient and faster for numerical operations due to their fixed data type and contiguous memory allocation. Python lists are more flexible and can store elements of different data types.\n",
        "\n"
      ],
      "metadata": {
        "id": "aLuCrGABMjLc"
      }
    },
    {
      "cell_type": "markdown",
      "source": [
        "***7.What is a heatmap, and when should it be used***\n",
        "\n",
        "ANS:\n",
        "* A heatmap visualizes data in a matrix format using color.\n",
        "* The color intensity represents the value of each data points ,provising a quick overview of relationships .\n",
        "* It is commonly used to display correlation matrix where colors indicate the strength of the relationship between pairs of variables."
      ],
      "metadata": {
        "id": "Y94oJIXbNEtX"
      }
    },
    {
      "cell_type": "markdown",
      "source": [
        "***8. What does the term “vectorized operation” mean in NumPy***\n",
        "\n",
        "ANS: n NumPy, \"vectorized operation\" refers to performing operations on entire arrays at once, rather than iterating through individual elements. This is much faster and more efficient because the operations are implemented in optimized C code. For example, adding two NumPy arrays a and b with c = a + b is a vectorized operation, while using a loop to add elements one by one would not be.\n",
        "\n"
      ],
      "metadata": {
        "id": "7Ii2QlyVOCIi"
      }
    },
    {
      "cell_type": "markdown",
      "metadata": {
        "id": "e9256ad3"
      },
      "source": [
        "***9.  How does Matplotlib differ from Plotly***\n",
        "\n",
        "ANS: Matplotlib is a foundational plotting library in Python, offering a high degree of control over plot elements and customization. It's great for creating static plots and has a wide range of plotting capabilities.\n",
        "\n",
        "Plotly, on the other hand, is an interactive plotting library. Its key strength lies in creating web-based, interactive visualizations that allow for zooming, panning, and hovering to reveal data details. Plotly also supports a wider range of plot types and is often preferred for dashboards and online reporting due to its interactive nature."
      ]
    },
    {
      "cell_type": "markdown",
      "source": [
        "***10. What is the significance of hierarchical indexing in Pandas***\n",
        "\n",
        "ANS: Hierarchical indexing in Pandas allows for multiple levels of indexes on an axis. This is significant for working with complex, multi-dimensional data within a 2D structure, enabling powerful data selection, manipulation, and reshaping, and improving data organization for hierarchical relationships."
      ],
      "metadata": {
        "id": "RS5uBm88Onlu"
      }
    },
    {
      "cell_type": "markdown",
      "source": [
        "***11. What is the role of Seaborn’s pairplot() function***\n",
        "\n",
        "ANS:Seaborn's pairplot() function creates a grid of scatterplots for pairwise relationships in a dataset, and a histogram or kernel density estimate for the distribution of each variable along the diagonal. It's a great way to quickly visualize relationships between multiple variables in your data."
      ],
      "metadata": {
        "id": "7YdUQgBZO7Vh"
      }
    },
    {
      "cell_type": "markdown",
      "source": [
        "***12.What is the purpose of the describe() function in Pandas***\n",
        "\n",
        "ANS: Describe() in pandas is used to provide basic statistical information about the data set like mean , median , mode and quartile values for numerical columns, and count, unique values, and frequency for non-numerical columns. It's for getting a quick summary of your data.\n",
        "\n"
      ],
      "metadata": {
        "id": "U7sGKNHnPTkZ"
      }
    },
    {
      "cell_type": "markdown",
      "metadata": {
        "id": "cace7c65"
      },
      "source": [
        "***13. Why is handling missing data important in Pandas***\n",
        "\n",
        "ANS: Handling missing data is important in Pandas because missing values can significantly impact your data analysis and the results of any models you build. Ignoring missing data can lead to:\n",
        "\n",
        "* **Biased results:** Calculations like means, medians, and standard deviations can be skewed if missing values are not properly addressed.\n",
        "* **Errors in analysis:** Many statistical and machine learning algorithms cannot handle missing values and will produce errors.\n",
        "* **Incorrect conclusions:** Decisions based on data with unhandled missing values may be flawed.\n",
        "* **Reduced data quality:** Missing data affects the overall quality and reliability of your dataset.\n",
        "\n",
        "Common ways to handle missing data include dropping rows or columns with missing values, filling missing values with a specific value (like the mean, median, or a constant), or using more advanced imputation techniques."
      ]
    },
    {
      "cell_type": "markdown",
      "metadata": {
        "id": "b5093dbf"
      },
      "source": [
        "***14. What are the benefits of using Plotly for data visualization***\n",
        "\n",
        "ANS: Plotly offers several benefits for data visualization, especially when interactivity is desired:\n",
        "\n",
        "*   **Interactivity:** Plotly creates interactive plots by default, allowing users to zoom, pan, hover over data points to see details, and toggle data series on and off.\n",
        "*   **Web-Based:** Plotly visualizations are web-based, making them easy to embed in websites, dashboards, and web applications.\n",
        "*   **Rich Set of Plot Types:** Plotly supports a wide variety of plot types, including 3D plots, contour plots, and financial charts, beyond the standard 2D plots.\n",
        "*   **Integration:** It integrates well with Python data structures like Pandas DataFrames.\n",
        "*   **Collaboration:** Plotly has features that facilitate collaboration and sharing of visualizations.\n",
        "*   **Dashboards:** Plotly is the foundation for Dash, a popular framework for building analytical web applications and dashboards."
      ]
    },
    {
      "cell_type": "markdown",
      "metadata": {
        "id": "589d3c5b"
      },
      "source": [
        "***15. How does NumPy handle multidimensional arrays***\n",
        "\n",
        "ANS: NumPy handles multidimensional arrays using its `ndarray` object. The `ndarray` object is a container for homogeneous data (all elements of the same type) and provides a way to interpret this data as a grid of elements.\n",
        "\n",
        "Key aspects of how NumPy handles multidimensional arrays include:\n",
        "\n",
        "*   **Shape and Axes:** Each `ndarray` has a `shape` attribute, which is a tuple of integers indicating the size of the array along each dimension (axis). The number of dimensions is the rank of the array.\n",
        "*   **Indexing and Slicing:** NumPy provides powerful and flexible ways to access elements or subarrays (slices) using indexing and slicing, similar to Python lists but extended to multiple dimensions. You can use integers, slices, boolean arrays, or integer arrays for indexing.\n",
        "*   **Broadcasting:** As mentioned earlier, broadcasting allows NumPy to perform operations on arrays of different shapes and sizes by automatically \"stretching\" or \"broadcasting\" the smaller array to match the shape of the larger array.\n",
        "*   **Element-wise Operations:** NumPy operations are performed element-wise on multidimensional arrays, which is significantly faster than using nested Python loops.\n",
        "*   **Memory Efficiency:** `ndarray` objects store elements contiguously in memory, which improves performance for numerical operations."
      ]
    },
    {
      "cell_type": "markdown",
      "metadata": {
        "id": "9245ea45"
      },
      "source": [
        "***16. What is the role of Bokeh in data visualization***\n",
        "\n",
        "ANS: Bokeh is an interactive visualization library for Python that enables the creation of beautiful and interactive plots, dashboards, and data applications. Its primary role is to provide powerful and flexible tools for building complex statistical plots and interactive data visualizations that can be easily embedded in web pages or applications. Bokeh is particularly useful for creating visualizations that require user interaction, such as zooming, panning, hovering for details, and linking plots. It generates JSON and JavaScript, which is then rendered by a web browser."
      ]
    },
    {
      "cell_type": "markdown",
      "metadata": {
        "id": "870b5a7e"
      },
      "source": [
        "***17. Explain the difference between apply() and map() in Pandas***\n",
        "\n",
        "ANS: In Pandas, both `apply()` and `map()` are used to apply a function to elements of a Series or DataFrame, but they differ in their usage and flexibility:\n",
        "\n",
        "*   **`map()`:** This method is used *only* on a Pandas Series. It's primarily used for substituting each value in a Series with another value. This can be done by passing a dictionary (for value-to-value mapping) or a function (to apply element-wise). It's generally faster than `apply()` for element-wise operations on a Series.\n",
        "\n",
        "*   **`apply()`:** This method can be used on both Pandas Series and DataFrames.\n",
        "    *   When used on a Series, it behaves similarly to `map()` but is more flexible as it can apply functions that operate on the entire Series or a rolling/expanding window.\n",
        "    *   When used on a DataFrame, `apply()` can apply a function along either axis (rows or columns). This is very powerful for applying functions that operate on entire rows or columns at once.\n",
        "\n",
        "In summary, `map()` is for element-wise transformations on a Series using a dictionary or a function, while `apply()` is more general and can operate element-wise on a Series, or row/column-wise on a DataFrame. For simple element-wise transformations on a Series, `map()` is often preferred for its performance."
      ]
    },
    {
      "cell_type": "markdown",
      "metadata": {
        "id": "11ef1cdb"
      },
      "source": [
        "***18. What are some advanced features of NumPy?***\n",
        "\n",
        "ANS: Beyond basic array creation and manipulation, NumPy offers several advanced features for more complex operations:\n",
        "\n",
        "*   **Broadcasting:** Allows arithmetic operations between arrays with different shapes.\n",
        "*   **Indexing with Boolean Arrays and Integer Arrays:** Provides powerful ways to select subsets of data based on conditions or specific indices.\n",
        "*   **Linear Algebra Operations:** Includes functions for matrix multiplication, decomposition, eigenvalues, and more.\n",
        "*   **Random Number Generation:** Offers a wide range of functions for generating random numbers from various distributions.\n",
        "*   **Fast Fourier Transform (FFT):** Provides functions for performing FFT operations.\n",
        "*   **Structured Arrays:** Allows you to create arrays with elements that have different data types, useful for representing tabular data.\n",
        "*   **Memory Mapping:** Enables working with very large arrays that do not fit entirely into memory."
      ]
    },
    {
      "cell_type": "markdown",
      "metadata": {
        "id": "b64d4b80"
      },
      "source": [
        "***19. How does Pandas simplify time series analysis?***\n",
        "\n",
        "ANS: Pandas significantly simplifies time series analysis in Python by providing specialized data structures and tools. Key ways it does this include:\n",
        "\n",
        "*   **DatetimeIndex:** Pandas has a powerful `DatetimeIndex` that allows you to easily label time series data with timestamps. This enables efficient indexing, slicing, and resampling of time series data.\n",
        "*   **Time-based Indexing and Slicing:** You can select data based on dates and times using intuitive syntax, such as `df['2023']` or `df['2023-01':'2023-03']`.\n",
        "*   **Resampling:** Pandas provides easy-to-use methods for changing the frequency of time series data (e.g., downsampling from daily to monthly or upsampling from hourly to daily).\n",
        "*   **Time Zone Handling:** Pandas offers robust support for handling time zones, including localization and conversion.\n",
        "*   **Date and Time Functionality:** It provides a wide range of functions for working with dates and times, such as calculating time differences, extracting components (year, month, day, etc.), and handling periods and time spans.\n",
        "*   **Handling Missing Data:** It has built-in methods for handling missing data in time series, such as filling forward or backward."
      ]
    },
    {
      "cell_type": "markdown",
      "metadata": {
        "id": "3f17c4a1"
      },
      "source": [
        "***20. What is the role of a pivot table in Pandas?***\n",
        "\n",
        "ANS: A pivot table in Pandas is used to summarize and aggregate data in a DataFrame. It reshapes the data by creating a new table where unique values from one column become the new column headers, unique values from another column become the index (rows), and the values in the table are aggregations (like sums, means, counts, etc.) of another column.\n",
        "\n",
        "The role of a pivot table is to:\n",
        "\n",
        "*   **Summarize data:** It allows you to quickly get aggregated views of your data based on different categories.\n",
        "*   **Reshape data:** It transforms data from a \"long\" format to a \"wide\" format, which can be more suitable for analysis or reporting.\n",
        "*   **Analyze relationships:** By aggregating data across different dimensions, you can easily analyze relationships and patterns within your dataset.\n",
        "\n",
        "It's a powerful tool for data summarization and analysis, similar to pivot tables in spreadsheet software like Excel."
      ]
    },
    {
      "cell_type": "markdown",
      "metadata": {
        "id": "2e673dfd"
      },
      "source": [
        "***21. Why is NumPy’s array slicing faster than Python’s list slicing?***\n",
        "\n",
        "ANS: NumPy's array slicing is typically faster than Python's list slicing primarily due to the fundamental differences in how they store and handle data:\n",
        "\n",
        "*   **Contiguous Memory Allocation:** NumPy arrays store elements of a single data type in a contiguous block of memory. When you slice a NumPy array, you are essentially getting a \"view\" into this contiguous memory block. This view is very efficient to create because it doesn't involve copying data. It just creates a new array object that points to a specific portion of the original array's memory.\n",
        "\n",
        "*   **Data Type Homogeneity:** NumPy arrays require all elements to be of the same data type. This homogeneity allows NumPy to perform operations and slicing much more efficiently because it knows the size of each element in memory and can quickly calculate the memory location of any element.\n",
        "\n",
        "*   **Python Lists Store Pointers:** Python lists, on the other hand, store pointers to objects, and these objects can be of different data types and are not necessarily stored contiguously in memory. When you slice a Python list, Python often creates a *new* list and copies the elements from the original list into the new one. This copying process is less efficient than simply creating a view.\n",
        "\n",
        "*   **Optimized C Implementation:** NumPy's core operations, including slicing, are implemented in C. This allows NumPy to leverage low-level optimizations and avoid the overhead of Python's interpreter for these operations.\n",
        "\n",
        "In summary, NumPy's contiguous memory, homogeneous data types, and C-based implementation make slicing a much faster operation compared to Python lists, which typically involve copying data and dealing with the overhead of handling heterogeneous data types and scattered memory locations."
      ]
    },
    {
      "cell_type": "markdown",
      "metadata": {
        "id": "31ace0fb"
      },
      "source": [
        "***22. What are some common use cases for Seaborn?***\n",
        "\n",
        "ANS: Seaborn is widely used for creating informative and attractive statistical visualizations in Python. Some common use cases include:\n",
        "\n",
        "*   **Exploring Relationships:** Creating scatter plots, joint plots, and pair plots to visualize the relationships between variables in a dataset.\n",
        "*   **Visualizing Distributions:** Using histograms, kernel density estimates, box plots, violin plots, and swarm plots to understand the distribution of a single variable or compare distributions across categories.\n",
        "*   **Plotting Categorical Data:** Generating bar plots, count plots, and categorical scatter plots to visualize data associated with categorical variables.\n",
        "*   **Visualizing Time Series Data:** Creating line plots to show trends and patterns in time series data.\n",
        "*   **Creating Heatmaps:** Visualizing correlation matrices or other matrix-like data where color intensity represents values.\n",
        "*   **Regression Analysis Visualization:** Plotting regression lines and confidence intervals to visualize the relationship between two variables and the results of a linear regression.\n",
        "*   **Creating Multi-Panel Plots:** Using faceting to create grids of plots based on different categories, allowing for easy comparison across subgroups.\n",
        "*   **Customizing Plot Appearance:** Applying built-in themes and color palettes to enhance the aesthetic appeal and clarity of plots."
      ]
    },
    {
      "cell_type": "markdown",
      "source": [
        "# ***Practical Questions***"
      ],
      "metadata": {
        "id": "HzFTVKS6Tu9Q"
      }
    },
    {
      "cell_type": "markdown",
      "source": [
        "***1.How do you create a 2D NumPy array and calculate the sum of each row***"
      ],
      "metadata": {
        "id": "aczQIdVHT05l"
      }
    },
    {
      "cell_type": "code",
      "source": [
        "import pandas as pd\n",
        "import numpy as np\n",
        "# Create a 2D NumPy array with numerical data\n",
        "data = np.array([[1, 2, 3], [4, 5, 6]])\n",
        "print(\"Original array:\")\n",
        "print(data)\n",
        "\n",
        "# Calculate the sum of each row (axis=1)\n",
        "row_sums = np.sum(data, axis=1)\n",
        "print(\"\\nSum of each row:\")\n",
        "print(row_sums)"
      ],
      "metadata": {
        "colab": {
          "base_uri": "https://localhost:8080/"
        },
        "id": "zkiBMhlgT_Nh",
        "outputId": "cf21d337-4190-43d7-c4a6-d288d6e00a64"
      },
      "execution_count": 2,
      "outputs": [
        {
          "output_type": "stream",
          "name": "stdout",
          "text": [
            "Original array:\n",
            "[[1 2 3]\n",
            " [4 5 6]]\n",
            "\n",
            "Sum of each row:\n",
            "[ 6 15]\n"
          ]
        }
      ]
    },
    {
      "cell_type": "markdown",
      "source": [
        "***2.Write a Pandas script to find the mean of a specific column in a DataFrame***"
      ],
      "metadata": {
        "id": "wP3PPMuVUoQH"
      }
    },
    {
      "cell_type": "code",
      "source": [
        "import pandas as pd\n",
        "import numpy as np\n",
        "df=pd.DataFrame({'A':[1,2,3,4,5],'B':[6,7,8,9,10]})\n",
        "print(df)\n",
        "\n",
        "print(\"\\n mean along the coloumn \")\n",
        "print(np.mean(df,axis=0))"
      ],
      "metadata": {
        "colab": {
          "base_uri": "https://localhost:8080/"
        },
        "id": "zx6sxbspUyR9",
        "outputId": "1e68af55-4f40-493b-c105-1fb7888a2cc5"
      },
      "execution_count": 4,
      "outputs": [
        {
          "output_type": "stream",
          "name": "stdout",
          "text": [
            "   A   B\n",
            "0  1   6\n",
            "1  2   7\n",
            "2  3   8\n",
            "3  4   9\n",
            "4  5  10\n",
            "\n",
            " mean along the coloumn \n",
            "A    3.0\n",
            "B    8.0\n",
            "dtype: float64\n"
          ]
        }
      ]
    },
    {
      "cell_type": "markdown",
      "source": [
        "***3. Create a scatter plot using Matplotlib***\n"
      ],
      "metadata": {
        "id": "wZZ0n31iVism"
      }
    },
    {
      "cell_type": "code",
      "source": [
        "import numpy as np\n",
        "import pandas as pd\n",
        "import matplotlib.pyplot as plt\n",
        "a=np.array([1,2,3,4,5])\n",
        "b=np.array([6,7,8,9,10])\n",
        "plt.scatter(a,b)\n",
        "plt.show()"
      ],
      "metadata": {
        "colab": {
          "base_uri": "https://localhost:8080/",
          "height": 430
        },
        "id": "jk0bK3GoV26L",
        "outputId": "d810a766-02e3-4c50-bd3e-333c9010efbc"
      },
      "execution_count": 5,
      "outputs": [
        {
          "output_type": "display_data",
          "data": {
            "text/plain": [
              "<Figure size 640x480 with 1 Axes>"
            ],
            "image/png": "[encoded data removed]"
          },
          "metadata": {}
        }
      ]
    },
    {
      "cell_type": "markdown",
      "source": [
        "***4. How do you calculate the correlation matrix using Seaborn and visualize it with a heatmap***"
      ],
      "metadata": {
        "id": "AN_ZBJmpWq7j"
      }
    },
    {
      "cell_type": "code",
      "metadata": {
        "colab": {
          "base_uri": "https://localhost:8080/",
          "height": 464
        },
        "id": "7a5c7a2d",
        "outputId": "86d3d490-830d-40a1-953d-db72980b7391"
      },
      "source": [
        "import seaborn as sns\n",
        "import matplotlib.pyplot as plt\n",
        "\n",
        "# Calculate the correlation matrix\n",
        "correlation_matrix = df.corr()\n",
        "print(\"Correlation Matrix:\")\n",
        "print(correlation_matrix)\n",
        "\n",
        "# Visualize the correlation matrix using a heatmap\n",
        "plt.figure(figsize=(6, 4))\n",
        "sns.heatmap(correlation_matrix, annot=True, cmap='coolwarm', fmt=\".2f\", linewidths=.5)\n",
        "plt.title('Correlation Heatmap')\n",
        "plt.show()"
      ],
      "execution_count": 6,
      "outputs": [
        {
          "output_type": "stream",
          "name": "stdout",
          "text": [
            "Correlation Matrix:\n",
            "     A    B\n",
            "A  1.0  1.0\n",
            "B  1.0  1.0\n"
          ]
        },
        {
          "output_type": "display_data",
          "data": {
            "text/plain": [
              "<Figure size 600x400 with 2 Axes>"
            ],
            "image/png": "[encoded data removed]"
          },
          "metadata": {}
        }
      ]
    },
    {
      "cell_type": "markdown",
      "source": [
        "***5. Generate a bar plot using Plotly***"
      ],
      "metadata": {
        "id": "2XFsM34rXAFW"
      }
    },
    {
      "cell_type": "code",
      "metadata": {
        "colab": {
          "base_uri": "https://localhost:8080/",
          "height": 651
        },
        "id": "ceaf2b5e",
        "outputId": "4f73a8c7-c53f-4b0f-a009-04d4f819e85a"
      },
      "source": [
        "import plotly.express as px\n",
        "import pandas as pd\n",
        "import numpy as np\n",
        "df=pd.DataFrame({'A':[1,2,3,4,5],'B':[6,7,8,9,10]})\n",
        "print(df)\n",
        "\n",
        "\n",
        "fig = px.bar(df, x='A', y='B', title='Bar Plot of A vs B')\n",
        "fig.show()"
      ],
      "execution_count": 8,
      "outputs": [
        {
          "output_type": "stream",
          "name": "stdout",
          "text": [
            "   A   B\n",
            "0  1   6\n",
            "1  2   7\n",
            "2  3   8\n",
            "3  4   9\n",
            "4  5  10\n"
          ]
        },
        {
          "output_type": "display_data",
          "data": {
            "text/html": [
              "<html>\n",
              "<head><meta charset=\"utf-8\" /></head>\n",
              "<body>\n",
              "    <div>            <script src=\"https://cdnjs.cloudflare.com/ajax/libs/mathjax/2.7.5/MathJax.js?config=TeX-AMS-MML_SVG\"></script><script type=\"text/javascript\">if (window.MathJax && window.MathJax.Hub && window.MathJax.Hub.Config) {window.MathJax.Hub.Config({SVG: {font: \"STIX-Web\"}});}</script>                <script type=\"text/javascript\">window.PlotlyConfig = {MathJaxConfig: 'local'};</script>\n",
              "        <script charset=\"utf-8\" src=\"https://cdn.plot.ly/plotly-2.35.2.min.js\"></script>                <div id=\"4b8b58ad-dce5-4cec-8f6b-76baf196acc4\" class=\"plotly-graph-div\" style=\"height:525px; width:100%;\"></div>            <script type=\"text/javascript\">                                    window.PLOTLYENV=window.PLOTLYENV || {};                                    if (document.getElementById(\"4b8b58ad-dce5-4cec-8f6b-76baf196acc4\")) {                    Plotly.newPlot(                        \"4b8b58ad-dce5-4cec-8f6b-76baf196acc4\",                        [{\"alignmentgroup\":\"True\",\"hovertemplate\":\"A=%{x}\\u003cbr\\u003eB=%{y}\\u003cextra\\u003e\\u003c\\u002fextra\\u003e\",\"legendgroup\":\"\",\"marker\":{\"color\":\"#636efa\",\"pattern\":{\"shape\":\"\"}},\"name\":\"\",\"offsetgroup\":\"\",\"orientation\":\"v\",\"showlegend\":false,\"textposition\":\"auto\",\"x\":[1,2,3,4,5],\"xaxis\":\"x\",\"y\":[6,7,8,9,10],\"yaxis\":\"y\",\"type\":\"bar\"}],                        {\"template\":{\"data\":{\"histogram2dcontour\":[{\"type\":\"histogram2dcontour\",\"colorbar\":{\"outlinewidth\":0,\"ticks\":\"\"},\"colorscale\":[[0.0,\"#0d0887\"],[0.1111111111111111,\"#46039f\"],[0.2222222222222222,\"#7201a8\"],[0.3333333333333333,\"#9c179e\"],[0.4444444444444444,\"#bd3786\"],[0.5555555555555556,\"#d8576b\"],[0.6666666666666666,\"#ed7953\"],[0.7777777777777778,\"#fb9f3a\"],[0.8888888888888888,\"#fdca26\"],[1.0,\"#f0f921\"]]}],\"choropleth\":[{\"type\":\"choropleth\",\"colorbar\":{\"outlinewidth\":0,\"ticks\":\"\"}}],\"histogram2d\":[{\"type\":\"histogram2d\",\"colorbar\":{\"outlinewidth\":0,\"ticks\":\"\"},\"colorscale\":[[0.0,\"#0d0887\"],[0.1111111111111111,\"#46039f\"],[0.2222222222222222,\"#7201a8\"],[0.3333333333333333,\"#9c179e\"],[0.4444444444444444,\"#bd3786\"],[0.5555555555555556,\"#d8576b\"],[0.6666666666666666,\"#ed7953\"],[0.7777777777777778,\"#fb9f3a\"],[0.8888888888888888,\"#fdca26\"],[1.0,\"#f0f921\"]]}],\"heatmap\":[{\"type\":\"heatmap\",\"colorbar\":{\"outlinewidth\":0,\"ticks\":\"\"},\"colorscale\":[[0.0,\"#0d0887\"],[0.1111111111111111,\"#46039f\"],[0.2222222222222222,\"#7201a8\"],[0.3333333333333333,\"#9c179e\"],[0.4444444444444444,\"#bd3786\"],[0.5555555555555556,\"#d8576b\"],[0.6666666666666666,\"#ed7953\"],[0.7777777777777778,\"#fb9f3a\"],[0.8888888888888888,\"#fdca26\"],[1.0,\"#f0f921\"]]}],\"heatmapgl\":[{\"type\":\"heatmapgl\",\"colorbar\":{\"outlinewidth\":0,\"ticks\":\"\"},\"colorscale\":[[0.0,\"#0d0887\"],[0.1111111111111111,\"#46039f\"],[0.2222222222222222,\"#7201a8\"],[0.3333333333333333,\"#9c179e\"],[0.4444444444444444,\"#bd3786\"],[0.5555555555555556,\"#d8576b\"],[0.6666666666666666,\"#ed7953\"],[0.7777777777777778,\"#fb9f3a\"],[0.8888888888888888,\"#fdca26\"],[1.0,\"#f0f921\"]]}],\"contourcarpet\":[{\"type\":\"contourcarpet\",\"colorbar\":{\"outlinewidth\":0,\"ticks\":\"\"}}],\"contour\":[{\"type\":\"contour\",\"colorbar\":{\"outlinewidth\":0,\"ticks\":\"\"},\"colorscale\":[[0.0,\"#0d0887\"],[0.1111111111111111,\"#46039f\"],[0.2222222222222222,\"#7201a8\"],[0.3333333333333333,\"#9c179e\"],[0.4444444444444444,\"#bd3786\"],[0.5555555555555556,\"#d8576b\"],[0.6666666666666666,\"#ed7953\"],[0.7777777777777778,\"#fb9f3a\"],[0.8888888888888888,\"#fdca26\"],[1.0,\"#f0f921\"]]}],\"surface\":[{\"type\":\"surface\",\"colorbar\":{\"outlinewidth\":0,\"ticks\":\"\"},\"colorscale\":[[0.0,\"#0d0887\"],[0.1111111111111111,\"#46039f\"],[0.2222222222222222,\"#7201a8\"],[0.3333333333333333,\"#9c179e\"],[0.4444444444444444,\"#bd3786\"],[0.5555555555555556,\"#d8576b\"],[0.6666666666666666,\"#ed7953\"],[0.7777777777777778,\"#fb9f3a\"],[0.8888888888888888,\"#fdca26\"],[1.0,\"#f0f921\"]]}],\"mesh3d\":[{\"type\":\"mesh3d\",\"colorbar\":{\"outlinewidth\":0,\"ticks\":\"\"}}],\"scatter\":[{\"fillpattern\":{\"fillmode\":\"overlay\",\"size\":10,\"solidity\":0.2},\"type\":\"scatter\"}],\"parcoords\":[{\"type\":\"parcoords\",\"line\":{\"colorbar\":{\"outlinewidth\":0,\"ticks\":\"\"}}}],\"scatterpolargl\":[{\"type\":\"scatterpolargl\",\"marker\":{\"colorbar\":{\"outlinewidth\":0,\"ticks\":\"\"}}}],\"bar\":[{\"error_x\":{\"color\":\"#2a3f5f\"},\"error_y\":{\"color\":\"#2a3f5f\"},\"marker\":{\"line\":{\"color\":\"#E5ECF6\",\"width\":0.5},\"pattern\":{\"fillmode\":\"overlay\",\"size\":10,\"solidity\":0.2}},\"type\":\"bar\"}],\"scattergeo\":[{\"type\":\"scattergeo\",\"marker\":{\"colorbar\":{\"outlinewidth\":0,\"ticks\":\"\"}}}],\"scatterpolar\":[{\"type\":\"scatterpolar\",\"marker\":{\"colorbar\":{\"outlinewidth\":0,\"ticks\":\"\"}}}],\"histogram\":[{\"marker\":{\"pattern\":{\"fillmode\":\"overlay\",\"size\":10,\"solidity\":0.2}},\"type\":\"histogram\"}],\"scattergl\":[{\"type\":\"scattergl\",\"marker\":{\"colorbar\":{\"outlinewidth\":0,\"ticks\":\"\"}}}],\"scatter3d\":[{\"type\":\"scatter3d\",\"line\":{\"colorbar\":{\"outlinewidth\":0,\"ticks\":\"\"}},\"marker\":{\"colorbar\":{\"outlinewidth\":0,\"ticks\":\"\"}}}],\"scattermapbox\":[{\"type\":\"scattermapbox\",\"marker\":{\"colorbar\":{\"outlinewidth\":0,\"ticks\":\"\"}}}],\"scatterternary\":[{\"type\":\"scatterternary\",\"marker\":{\"colorbar\":{\"outlinewidth\":0,\"ticks\":\"\"}}}],\"scattercarpet\":[{\"type\":\"scattercarpet\",\"marker\":{\"colorbar\":{\"outlinewidth\":0,\"ticks\":\"\"}}}],\"carpet\":[{\"aaxis\":{\"endlinecolor\":\"#2a3f5f\",\"gridcolor\":\"white\",\"linecolor\":\"white\",\"minorgridcolor\":\"white\",\"startlinecolor\":\"#2a3f5f\"},\"baxis\":{\"endlinecolor\":\"#2a3f5f\",\"gridcolor\":\"white\",\"linecolor\":\"white\",\"minorgridcolor\":\"white\",\"startlinecolor\":\"#2a3f5f\"},\"type\":\"carpet\"}],\"table\":[{\"cells\":{\"fill\":{\"color\":\"#EBF0F8\"},\"line\":{\"color\":\"white\"}},\"header\":{\"fill\":{\"color\":\"#C8D4E3\"},\"line\":{\"color\":\"white\"}},\"type\":\"table\"}],\"barpolar\":[{\"marker\":{\"line\":{\"color\":\"#E5ECF6\",\"width\":0.5},\"pattern\":{\"fillmode\":\"overlay\",\"size\":10,\"solidity\":0.2}},\"type\":\"barpolar\"}],\"pie\":[{\"automargin\":true,\"type\":\"pie\"}]},\"layout\":{\"autotypenumbers\":\"strict\",\"colorway\":[\"#636efa\",\"#EF553B\",\"#00cc96\",\"#ab63fa\",\"#FFA15A\",\"#19d3f3\",\"#FF6692\",\"#B6E880\",\"#FF97FF\",\"#FECB52\"],\"font\":{\"color\":\"#2a3f5f\"},\"hovermode\":\"closest\",\"hoverlabel\":{\"align\":\"left\"},\"paper_bgcolor\":\"white\",\"plot_bgcolor\":\"#E5ECF6\",\"polar\":{\"bgcolor\":\"#E5ECF6\",\"angularaxis\":{\"gridcolor\":\"white\",\"linecolor\":\"white\",\"ticks\":\"\"},\"radialaxis\":{\"gridcolor\":\"white\",\"linecolor\":\"white\",\"ticks\":\"\"}},\"ternary\":{\"bgcolor\":\"#E5ECF6\",\"aaxis\":{\"gridcolor\":\"white\",\"linecolor\":\"white\",\"ticks\":\"\"},\"baxis\":{\"gridcolor\":\"white\",\"linecolor\":\"white\",\"ticks\":\"\"},\"caxis\":{\"gridcolor\":\"white\",\"linecolor\":\"white\",\"ticks\":\"\"}},\"coloraxis\":{\"colorbar\":{\"outlinewidth\":0,\"ticks\":\"\"}},\"colorscale\":{\"sequential\":[[0.0,\"#0d0887\"],[0.1111111111111111,\"#46039f\"],[0.2222222222222222,\"#7201a8\"],[0.3333333333333333,\"#9c179e\"],[0.4444444444444444,\"#bd3786\"],[0.5555555555555556,\"#d8576b\"],[0.6666666666666666,\"#ed7953\"],[0.7777777777777778,\"#fb9f3a\"],[0.8888888888888888,\"#fdca26\"],[1.0,\"#f0f921\"]],\"sequentialminus\":[[0.0,\"#0d0887\"],[0.1111111111111111,\"#46039f\"],[0.2222222222222222,\"#7201a8\"],[0.3333333333333333,\"#9c179e\"],[0.4444444444444444,\"#bd3786\"],[0.5555555555555556,\"#d8576b\"],[0.6666666666666666,\"#ed7953\"],[0.7777777777777778,\"#fb9f3a\"],[0.8888888888888888,\"#fdca26\"],[1.0,\"#f0f921\"]],\"diverging\":[[0,\"#8e0152\"],[0.1,\"#c51b7d\"],[0.2,\"#de77ae\"],[0.3,\"#f1b6da\"],[0.4,\"#fde0ef\"],[0.5,\"#f7f7f7\"],[0.6,\"#e6f5d0\"],[0.7,\"#b8e186\"],[0.8,\"#7fbc41\"],[0.9,\"#4d9221\"],[1,\"#276419\"]]},\"xaxis\":{\"gridcolor\":\"white\",\"linecolor\":\"white\",\"ticks\":\"\",\"title\":{\"standoff\":15},\"zerolinecolor\":\"white\",\"automargin\":true,\"zerolinewidth\":2},\"yaxis\":{\"gridcolor\":\"white\",\"linecolor\":\"white\",\"ticks\":\"\",\"title\":{\"standoff\":15},\"zerolinecolor\":\"white\",\"automargin\":true,\"zerolinewidth\":2},\"scene\":{\"xaxis\":{\"backgroundcolor\":\"#E5ECF6\",\"gridcolor\":\"white\",\"linecolor\":\"white\",\"showbackground\":true,\"ticks\":\"\",\"zerolinecolor\":\"white\",\"gridwidth\":2},\"yaxis\":{\"backgroundcolor\":\"#E5ECF6\",\"gridcolor\":\"white\",\"linecolor\":\"white\",\"showbackground\":true,\"ticks\":\"\",\"zerolinecolor\":\"white\",\"gridwidth\":2},\"zaxis\":{\"backgroundcolor\":\"#E5ECF6\",\"gridcolor\":\"white\",\"linecolor\":\"white\",\"showbackground\":true,\"ticks\":\"\",\"zerolinecolor\":\"white\",\"gridwidth\":2}},\"shapedefaults\":{\"line\":{\"color\":\"#2a3f5f\"}},\"annotationdefaults\":{\"arrowcolor\":\"#2a3f5f\",\"arrowhead\":0,\"arrowwidth\":1},\"geo\":{\"bgcolor\":\"white\",\"landcolor\":\"#E5ECF6\",\"subunitcolor\":\"white\",\"showland\":true,\"showlakes\":true,\"lakecolor\":\"white\"},\"title\":{\"x\":0.05},\"mapbox\":{\"style\":\"light\"}}},\"xaxis\":{\"anchor\":\"y\",\"domain\":[0.0,1.0],\"title\":{\"text\":\"A\"}},\"yaxis\":{\"anchor\":\"x\",\"domain\":[0.0,1.0],\"title\":{\"text\":\"B\"}},\"legend\":{\"tracegroupgap\":0},\"title\":{\"text\":\"Bar Plot of A vs B\"},\"barmode\":\"relative\"},                        {\"responsive\": true}                    ).then(function(){\n",
              "                            \n",
              "var gd = document.getElementById('4b8b58ad-dce5-4cec-8f6b-76baf196acc4');\n",
              "var x = new MutationObserver(function (mutations, observer) {{\n",
              "        var display = window.getComputedStyle(gd).display;\n",
              "        if (!display || display === 'none') {{\n",
              "            console.log([gd, 'removed!']);\n",
              "            Plotly.purge(gd);\n",
              "            observer.disconnect();\n",
              "        }}\n",
              "}});\n",
              "\n",
              "// Listen for the removal of the full notebook cells\n",
              "var notebookContainer = gd.closest('#notebook-container');\n",
              "if (notebookContainer) {{\n",
              "    x.observe(notebookContainer, {childList: true});\n",
              "}}\n",
              "\n",
              "// Listen for the clearing of the current output cell\n",
              "var outputEl = gd.closest('.output');\n",
              "if (outputEl) {{\n",
              "    x.observe(outputEl, {childList: true});\n",
              "}}\n",
              "\n",
              "                        })                };                            </script>        </div>\n",
              "</body>\n",
              "</html>"
            ]
          },
          "metadata": {}
        }
      ]
    },
    {
      "cell_type": "markdown",
      "source": [
        "***Create a DataFrame and add a new column based on an existing column***"
      ],
      "metadata": {
        "id": "I1s7FY9jXcau"
      }
    },
    {
      "cell_type": "code",
      "source": [
        "import pandas as pd\n",
        "import numpy as np\n",
        "df=pd.DataFrame({'A':[1,2,3,4,5],'B':[6,7,8,9,10]})\n",
        "print(df)\n",
        "df['C']=df['A']+df['B']\n",
        "print(df)"
      ],
      "metadata": {
        "colab": {
          "base_uri": "https://localhost:8080/"
        },
        "id": "60e34oWCXmbI",
        "outputId": "d4b215db-9aa1-4a9e-f629-fe8085cf8551"
      },
      "execution_count": 9,
      "outputs": [
        {
          "output_type": "stream",
          "name": "stdout",
          "text": [
            "   A   B\n",
            "0  1   6\n",
            "1  2   7\n",
            "2  3   8\n",
            "3  4   9\n",
            "4  5  10\n",
            "   A   B   C\n",
            "0  1   6   7\n",
            "1  2   7   9\n",
            "2  3   8  11\n",
            "3  4   9  13\n",
            "4  5  10  15\n"
          ]
        }
      ]
    },
    {
      "cell_type": "markdown",
      "source": [
        "***Write a program to perform element-wise multiplication of two NumPy arrays***"
      ],
      "metadata": {
        "id": "FFkdHXlGXutI"
      }
    },
    {
      "cell_type": "code",
      "source": [
        "import pandas as pd\n",
        "import numpy as np\n",
        "A=np.array([1,2,3,4,5])\n",
        "B=np.array([6,7,8,9,10])\n",
        "print(A*B)"
      ],
      "metadata": {
        "colab": {
          "base_uri": "https://localhost:8080/"
        },
        "id": "KM_iHGOxX0kZ",
        "outputId": "f0fd51a5-4699-4a30-ab58-ac35c86ae7af"
      },
      "execution_count": 10,
      "outputs": [
        {
          "output_type": "stream",
          "name": "stdout",
          "text": [
            "[ 6 14 24 36 50]\n"
          ]
        }
      ]
    },
    {
      "cell_type": "markdown",
      "source": [
        "***Create a line plot with multiple lines using Matplotlib***"
      ],
      "metadata": {
        "id": "HyBsnrzIYFVm"
      }
    },
    {
      "cell_type": "code",
      "metadata": {
        "colab": {
          "base_uri": "https://localhost:8080/",
          "height": 781
        },
        "id": "e5f34cc6",
        "outputId": "063508e7-0245-495c-a315-87d21ca6b0c8"
      },
      "source": [
        "import matplotlib.pyplot as plt\n",
        "import pandas as pd\n",
        "import numpy as np\n",
        "\n",
        "# Create a DataFrame with multiple columns for plotting\n",
        "data = {'x': np.arange(10),\n",
        "        'y1': np.random.rand(10),\n",
        "        'y2': np.random.rand(10) + 0.5,\n",
        "        'y3': np.random.rand(10) + 1}\n",
        "df_lines = pd.DataFrame(data)\n",
        "\n",
        "print(\"DataFrame for line plot:\")\n",
        "print(df_lines)\n",
        "\n",
        "# Create a line plot with multiple lines\n",
        "plt.figure(figsize=(10, 6))\n",
        "plt.plot(df_lines['x'], df_lines['y1'], label='Line 1')\n",
        "plt.plot(df_lines['x'], df_lines['y2'], label='Line 2')\n",
        "plt.plot(df_lines['x'], df_lines['y3'], label='Line 3')\n",
        "\n",
        "plt.xlabel('X-axis')\n",
        "plt.ylabel('Y-axis')\n",
        "plt.title('Line Plot with Multiple Lines')\n",
        "plt.legend()\n",
        "plt.grid(True)\n",
        "plt.show()"
      ],
      "execution_count": 12,
      "outputs": [
        {
          "output_type": "stream",
          "name": "stdout",
          "text": [
            "DataFrame for line plot:\n",
            "   x        y1        y2        y3\n",
            "0  0  0.199454  1.127126  1.635571\n",
            "1  1  0.427339  1.281155  1.828706\n",
            "2  2  0.854342  0.746607  1.079598\n",
            "3  3  0.488608  0.847192  1.309106\n",
            "4  4  0.842495  1.011120  1.699889\n",
            "5  5  0.331966  1.358393  1.713288\n",
            "6  6  0.175285  1.275787  1.471510\n",
            "7  7  0.537931  0.728175  1.361301\n",
            "8  8  0.928453  0.589986  1.612756\n",
            "9  9  0.738277  1.205869  1.800043\n"
          ]
        },
        {
          "output_type": "display_data",
          "data": {
            "text/plain": [
              "<Figure size 1000x600 with 1 Axes>"
            ],
            "image/png": "[encoded data removed]"
          },
          "metadata": {}
        }
      ]
    },
    {
      "cell_type": "markdown",
      "source": [
        "***Generate a Pandas DataFrame and filter rows where a column value is greater than a threshold***"
      ],
      "metadata": {
        "id": "kIzgC3-CYZZj"
      }
    },
    {
      "cell_type": "code",
      "source": [
        "import pandas as pd\n",
        "import numpy as np\n",
        "df=pd.DataFrame({'A':[1,2,3,4,5],'B':[6,7,8,9,10]})\n",
        "print(df)\n",
        "threshold=3\n",
        "print(df[df['A']>threshold])\n"
      ],
      "metadata": {
        "colab": {
          "base_uri": "https://localhost:8080/"
        },
        "id": "NWd6ISqqYiIi",
        "outputId": "b91c023d-c71c-4fca-9e9f-1fdff9852c72"
      },
      "execution_count": 19,
      "outputs": [
        {
          "output_type": "stream",
          "name": "stdout",
          "text": [
            "   A   B\n",
            "0  1   6\n",
            "1  2   7\n",
            "2  3   8\n",
            "3  4   9\n",
            "4  5  10\n",
            "   A   B\n",
            "3  4   9\n",
            "4  5  10\n"
          ]
        }
      ]
    },
    {
      "cell_type": "markdown",
      "source": [
        "***Create a histogram using Seaborn to visualize a distribution***"
      ],
      "metadata": {
        "id": "ibnk0e9pZp6y"
      }
    },
    {
      "cell_type": "code",
      "source": [
        "import numpy as np\n",
        "import matplotlib.pyplot as plt\n",
        "import seaborn as sns\n",
        "data = np.random.normal(0, 1, 1000)\n",
        "sns.histplot(data)\n",
        "plt.show()"
      ],
      "metadata": {
        "colab": {
          "base_uri": "https://localhost:8080/",
          "height": 430
        },
        "id": "CjzSzFA0Ztrk",
        "outputId": "01c2acec-2836-4f44-8d34-07675f3ee837"
      },
      "execution_count": 21,
      "outputs": [
        {
          "output_type": "display_data",
          "data": {
            "text/plain": [
              "<Figure size 640x480 with 1 Axes>"
            ],
            "image/png": "[encoded data removed]"
          },
          "metadata": {}
        }
      ]
    },
    {
      "cell_type": "markdown",
      "source": [
        " ***Perform matrix multiplication using NumPy***"
      ],
      "metadata": {
        "id": "G7mC8TPkaHxk"
      }
    },
    {
      "cell_type": "code",
      "source": [
        "import numpy as np\n",
        "\n",
        "# Create two NumPy arrays (or matrices)\n",
        "# For matrix multiplication, the number of columns in the first matrix\n",
        "# must equal the number of rows in the second matrix.\n",
        "# Let's create a 2x3 matrix and a 3x2 matrix.\n",
        "matrix_a = np.array([[1, 2, 3],\n",
        "                     [4, 5, 6]])\n",
        "\n",
        "matrix_b = np.array([[7, 8],\n",
        "                     [9, 10],\n",
        "                     [11, 12]])\n",
        "\n",
        "print(\"Matrix A:\")\n",
        "print(matrix_a)\n",
        "print(\"\\nMatrix B:\")\n",
        "print(matrix_b)\n",
        "\n",
        "result_matrix = matrix_a @ matrix_b\n",
        "\n",
        "print(\"\\nResult of matrix multiplication (A @ B):\")\n",
        "print(result_matrix)"
      ],
      "metadata": {
        "colab": {
          "base_uri": "https://localhost:8080/"
        },
        "id": "7qx3nJd0aMdw",
        "outputId": "13226400-8113-4700-8dae-1fd2c752ce80"
      },
      "execution_count": 25,
      "outputs": [
        {
          "output_type": "stream",
          "name": "stdout",
          "text": [
            "Matrix A:\n",
            "[[1 2 3]\n",
            " [4 5 6]]\n",
            "\n",
            "Matrix B:\n",
            "[[ 7  8]\n",
            " [ 9 10]\n",
            " [11 12]]\n",
            "\n",
            "Result of matrix multiplication (A @ B):\n",
            "[[ 58  64]\n",
            " [139 154]]\n"
          ]
        }
      ]
    },
    {
      "cell_type": "markdown",
      "source": [],
      "metadata": {
        "id": "aNMDbyUibJDN"
      }
    },
    {
      "cell_type": "markdown",
      "source": [
        "***Use Pandas to load a CSV file and display its first 5 rows***"
      ],
      "metadata": {
        "id": "N7tKwwr7bJFP"
      }
    },
    {
      "cell_type": "code",
      "source": [
        "import pandas as pd\n",
        "import numpy as np\n",
        "df=pd.read_csv('/content/student_performance_data.csv')\n",
        "print(df.head())\n"
      ],
      "metadata": {
        "colab": {
          "base_uri": "https://localhost:8080/"
        },
        "id": "ivMvwgfBbNLp",
        "outputId": "17ba251c-4fd9-48fe-e60e-1ad3bd754d63"
      },
      "execution_count": 26,
      "outputs": [
        {
          "output_type": "stream",
          "name": "stdout",
          "text": [
            "   StudentID  Gender  Age  StudyHoursPerWeek  AttendanceRate   GPA      Major  \\\n",
            "0          1    Male   24                 37           90.75  3.47       Arts   \n",
            "1          2  Female   22                 37           74.90  2.32  Education   \n",
            "2          3    Male   22                 10           53.36  2.38   Business   \n",
            "3          4    Male   24                 10           70.26  3.46    Science   \n",
            "4          5    Male   18                 19           74.87  2.31  Education   \n",
            "\n",
            "  PartTimeJob ExtraCurricularActivities  \n",
            "0         Yes                        No  \n",
            "1          No                        No  \n",
            "2          No                        No  \n",
            "3         Yes                        No  \n",
            "4         Yes                        No  \n"
          ]
        }
      ]
    },
    {
      "cell_type": "markdown",
      "source": [
        " ***Create a 3D scatter plot using Plotly.***"
      ],
      "metadata": {
        "id": "pzHMCTFcbeNo"
      }
    },
    {
      "cell_type": "code",
      "metadata": {
        "colab": {
          "base_uri": "https://localhost:8080/",
          "height": 542
        },
        "id": "c1eb02bb",
        "outputId": "d00c2f0e-da0e-4620-8a51-3456d23c1d83"
      },
      "source": [
        "import plotly.express as px\n",
        "\n",
        "# Create a 3D scatter plot\n",
        "# Using 'Age', 'StudyHoursPerWeek', and 'GPA' columns from the 'df' DataFrame\n",
        "fig = px.scatter_3d(df, x='Age', y='StudyHoursPerWeek', z='GPA',\n",
        "                    title='3D Scatter Plot of Age, Study Hours, and GPA')\n",
        "fig.show()"
      ],
      "execution_count": 27,
      "outputs": [
        {
          "output_type": "display_data",
          "data": {
            "text/html": [
              "<html>\n",
              "<head><meta charset=\"utf-8\" /></head>\n",
              "<body>\n",
              "    <div>            <script src=\"https://cdnjs.cloudflare.com/ajax/libs/mathjax/2.7.5/MathJax.js?config=TeX-AMS-MML_SVG\"></script><script type=\"text/javascript\">if (window.MathJax && window.MathJax.Hub && window.MathJax.Hub.Config) {window.MathJax.Hub.Config({SVG: {font: \"STIX-Web\"}});}</script>                <script type=\"text/javascript\">window.PlotlyConfig = {MathJaxConfig: 'local'};</script>\n",
              "        <script charset=\"utf-8\" src=\"https://cdn.plot.ly/plotly-2.35.2.min.js\"></script>                <div id=\"a6898545-5fd0-46cd-b10d-da82a204c6ca\" class=\"plotly-graph-div\" style=\"height:525px; width:100%;\"></div>            <script type=\"text/javascript\">                                    window.PLOTLYENV=window.PLOTLYENV || {};                                    if (document.getElementById(\"a6898545-5fd0-46cd-b10d-da82a204c6ca\")) {                    Plotly.newPlot(                        \"a6898545-5fd0-46cd-b10d-da82a204c6ca\",                        [{\"hovertemplate\":\"Age=%{x}\\u003cbr\\u003eStudyHoursPerWeek=%{y}\\u003cbr\\u003eGPA=%{z}\\u003cextra\\u003e\\u003c\\u002fextra\\u003e\",\"legendgroup\":\"\",\"marker\":{\"color\":\"#636efa\",\"symbol\":\"circle\"},\"mode\":\"markers\",\"name\":\"\",\"scene\":\"scene\",\"showlegend\":false,\"x\":[24,22,22,24,18,20,19,18,19,24,23,19,20,23,19,24,23,24,19,24,20,19,19,19,18,18,18,20,23,24,22,19,24,19,20,19,18,22,21,19,24,18,21,22,21,18,23,23,21,20,24,24,21,19,19,24,24,23,20,18,19,24,23,22,23,19,19,23,18,21,19,23,24,23,20,21,22,18,22,21,21,21,22,24,21,23,22,21,23,24,20,24,21,22,19,21,19,23,20,18,24,20,21,19,24,19,22,19,22,23,24,24,18,21,22,18,19,19,18,24,19,23,23,18,22,22,18,22,24,24,22,23,22,24,20,21,19,20,22,23,18,22,23,21,22,24,18,23,23,23,21,22,21,19,19,22,24,21,18,23,23,22,24,19,19,23,22,21,19,21,24,19,19,20,19,18,22,22,21,24,19,18,21,20,21,21,19,20,21,18,18,22,20,20,22,21,20,18,18,19,20,21,22,22,21,24,23,19,22,20,19,20,24,18,19,22,19,19,19,23,19,20,18,24,21,19,22,19,22,20,22,21,18,22,22,18,21,19,22,18,20,18,20,21,19,18,24,24,23,22,21,18,24,22,24,18,20,18,23,18,18,23,21,18,23,22,20,20,18,21,21,22,18,20,21,18,24,21,23,24,21,20,19,24,22,22,20,21,18,21,20,22,21,22,24,18,24,22,22,19,19,24,23,24,19,22,20,24,22,20,20,19,24,21,18,19,19,21,18,22,23,24,23,22,19,18,19,20,19,19,22,22,22,23,20,22,18,23,21,18,24,24,18,22,21,21,23,21,24,20,22,21,23,24,20,19,19,20,24,23,20,22,22,19,21,23,19,21,21,22,24,18,24,18,20,22,21,23,18,24,21,18,18,18,23,22,23,19,21,22,22,22,24,22,23,22,20,21,22,21,20,20,21,18,19,24,18,18,23,24,24,18,22,23,23,20,24,18,20,21,19,23,21,21,22,19,21,21,19,19,21,19,21,21,22,18,21,20,23,24,18,18,18,22,21,22,21,22,22,23,20,22,23,19,20,22,24,18,19,19,23,19,20,22,22,24,18,23,18,19,24,18,20,22,19,24,18,23,20,20,18,22,18,19,18,20,24,18,22,24,23,21,18,22,24,22,23,20,22,24],\"y\":[37,37,10,10,19,17,21,14,9,1,13,4,1,32,34,28,31,8,39,26,34,3,12,1,5,30,30,17,23,15,37,21,14,2,11,39,38,34,38,34,18,30,15,27,34,38,33,24,15,30,17,5,29,4,10,17,10,17,20,24,5,34,6,2,13,11,23,16,31,11,16,8,4,4,25,3,32,3,27,29,32,19,21,5,18,28,22,21,6,1,5,12,26,34,14,26,27,9,26,22,30,17,26,36,1,8,35,15,22,14,26,28,23,14,24,2,26,14,7,3,23,18,38,35,15,25,37,28,10,39,17,39,22,26,25,17,13,20,25,4,10,3,18,36,22,34,8,19,37,6,26,34,6,37,33,22,21,6,6,4,30,11,30,31,24,9,3,31,37,36,24,31,6,2,20,28,11,4,15,6,30,38,2,15,11,8,26,5,6,26,4,19,20,33,20,12,1,26,14,38,37,11,36,13,3,33,6,10,5,23,10,2,13,2,20,1,37,9,17,9,11,15,24,38,35,30,31,5,14,11,9,34,12,35,35,1,22,29,8,11,37,14,30,35,21,37,5,19,14,26,4,25,25,18,8,39,14,32,38,33,23,15,33,25,17,33,2,14,39,6,6,3,7,8,15,29,33,30,39,27,36,29,38,33,37,27,33,4,22,2,10,5,10,33,38,13,31,36,24,15,29,8,5,29,4,12,2,27,31,36,36,26,27,5,20,11,10,38,6,8,23,26,12,26,13,18,25,33,12,36,4,5,37,8,28,31,9,29,14,22,11,23,1,37,21,26,36,23,1,15,21,9,9,10,26,35,25,26,11,38,2,7,18,27,34,27,17,24,25,7,6,24,33,29,22,26,28,21,7,17,20,20,22,28,7,1,32,13,30,23,19,32,30,29,29,30,16,19,18,1,14,2,28,30,38,4,1,8,29,39,3,32,10,10,19,34,33,23,28,32,7,29,8,1,3,24,23,8,37,3,33,28,8,34,35,32,24,14,32,16,4,37,21,14,31,18,7,10,7,33,23,21,19,19,36,29,18,2,1,5,20,11,2,3,23,12,20,5,37,38,30,9,34,35,22,24,17,10,30,23,32,17,17,14,9,2,25,39,9,22,4,26,29,34,23,37,11,6,18,21],\"z\":[3.47,2.32,2.38,3.46,2.31,2.47,3.93,2.51,3.32,3.96,2.75,2.04,2.49,3.66,3.73,3.54,2.23,3.59,3.84,3.2,3.88,3.65,3.33,3.15,2.7,2.32,3.21,2.64,3.73,3.99,3.5,2.18,2.58,2.22,3.3,3.53,3.85,2.88,3.8,3.76,2.63,3.74,2.75,2.59,3.3,2.66,3.26,3.22,3.13,2.76,3.1,3.19,3.09,2.89,2.03,3.17,2.34,3.29,3.52,3.0,3.08,3.9,3.69,3.83,3.63,2.22,2.3,3.05,2.49,2.95,2.79,3.1,3.49,3.43,3.04,3.64,2.86,3.79,2.14,3.91,3.31,2.76,2.39,2.96,2.39,2.33,3.23,3.05,3.34,3.86,3.06,3.16,2.18,3.44,2.8,3.95,3.65,3.04,2.25,3.72,3.6,2.37,2.59,3.59,2.37,3.84,2.85,2.17,3.63,2.75,3.05,2.22,2.01,3.28,3.03,3.19,3.59,3.29,2.35,2.72,3.81,3.54,3.11,2.51,2.6,3.46,3.7,3.34,3.62,3.53,2.3,2.85,2.31,2.47,3.74,2.95,3.07,2.36,2.62,2.46,2.41,3.28,2.51,3.26,2.12,2.28,2.55,3.19,3.35,2.89,2.89,3.45,2.03,2.68,3.64,3.21,2.67,3.81,3.55,2.53,3.29,3.19,2.8,2.73,2.69,3.23,2.88,3.66,3.34,2.14,3.28,2.54,3.19,3.36,2.46,2.91,2.38,2.1,2.76,2.73,3.99,2.89,2.67,3.16,2.18,3.92,3.27,3.51,2.34,2.82,2.85,3.64,2.0,2.6,3.96,2.95,2.77,2.24,3.95,2.04,3.47,3.54,2.49,3.34,2.19,2.51,3.58,3.73,3.22,3.01,2.32,2.13,2.24,2.45,2.68,2.76,2.69,2.48,3.02,3.65,2.56,3.88,3.75,2.32,3.57,3.15,3.13,2.78,3.0,2.79,3.08,3.26,3.35,3.06,3.44,2.28,2.42,3.64,2.65,2.05,2.31,2.45,3.91,3.15,3.87,3.15,2.96,2.63,3.21,2.28,3.8,3.66,2.64,3.91,3.65,3.33,2.24,2.96,3.01,2.47,2.16,3.55,2.24,3.19,3.87,3.75,2.56,3.7,2.0,2.04,3.21,2.73,2.77,3.13,2.38,2.42,2.97,3.51,3.24,2.59,2.86,2.34,2.15,3.57,2.53,2.36,3.38,3.24,3.27,2.46,2.47,2.44,2.35,3.31,3.7,3.45,3.58,2.81,3.31,2.71,3.05,2.96,2.35,2.77,3.93,2.5,2.27,2.84,3.58,3.16,3.36,2.38,3.24,2.65,3.67,3.26,2.4,2.13,2.09,2.74,2.53,3.29,3.0,2.53,2.3,2.25,3.73,2.49,3.3,3.62,3.23,3.72,2.78,3.91,2.27,2.2,3.32,3.89,3.62,2.15,2.56,3.86,2.51,3.56,3.65,2.99,2.77,2.9,2.45,3.78,2.9,3.76,2.21,3.98,2.89,2.1,2.08,3.49,3.32,3.6,2.21,2.07,3.02,2.78,2.92,3.98,3.94,3.88,3.57,2.71,2.82,3.1,3.66,2.14,2.85,2.17,3.03,3.8,3.56,2.46,3.95,3.33,2.02,2.51,2.52,2.14,3.92,2.96,3.79,2.64,2.25,2.95,2.23,2.97,3.84,3.04,3.23,2.31,2.09,2.22,3.2,2.19,2.75,3.1,2.78,2.33,2.55,3.86,3.35,2.99,2.03,3.98,3.34,2.63,3.76,2.52,3.09,3.27,2.44,3.96,3.5,3.12,2.36,2.11,2.64,3.51,2.54,3.08,3.46,2.22,3.37,2.18,3.93,2.98,2.3,2.68,2.83,3.52,3.49,3.22,2.21,2.3,2.19,3.15,3.75,2.87,2.32,3.12,3.62,3.48,3.76,2.56,2.39,3.76,3.32,2.62,3.48,3.63,3.23,3.38,2.75,3.08,3.05,3.7,3.68,3.67,2.02,3.5,3.52,3.36,3.51,3.68,2.94,3.0,2.25,2.77,3.29,3.56,2.43,2.28,3.33,2.0,2.36,2.06,2.33,2.36,2.78,2.8,3.75,3.02,3.45,2.21,2.45,3.41,2.11,2.97,3.2,3.2,2.05,2.64],\"type\":\"scatter3d\"}],                        {\"template\":{\"data\":{\"histogram2dcontour\":[{\"type\":\"histogram2dcontour\",\"colorbar\":{\"outlinewidth\":0,\"ticks\":\"\"},\"colorscale\":[[0.0,\"#0d0887\"],[0.1111111111111111,\"#46039f\"],[0.2222222222222222,\"#7201a8\"],[0.3333333333333333,\"#9c179e\"],[0.4444444444444444,\"#bd3786\"],[0.5555555555555556,\"#d8576b\"],[0.6666666666666666,\"#ed7953\"],[0.7777777777777778,\"#fb9f3a\"],[0.8888888888888888,\"#fdca26\"],[1.0,\"#f0f921\"]]}],\"choropleth\":[{\"type\":\"choropleth\",\"colorbar\":{\"outlinewidth\":0,\"ticks\":\"\"}}],\"histogram2d\":[{\"type\":\"histogram2d\",\"colorbar\":{\"outlinewidth\":0,\"ticks\":\"\"},\"colorscale\":[[0.0,\"#0d0887\"],[0.1111111111111111,\"#46039f\"],[0.2222222222222222,\"#7201a8\"],[0.3333333333333333,\"#9c179e\"],[0.4444444444444444,\"#bd3786\"],[0.5555555555555556,\"#d8576b\"],[0.6666666666666666,\"#ed7953\"],[0.7777777777777778,\"#fb9f3a\"],[0.8888888888888888,\"#fdca26\"],[1.0,\"#f0f921\"]]}],\"heatmap\":[{\"type\":\"heatmap\",\"colorbar\":{\"outlinewidth\":0,\"ticks\":\"\"},\"colorscale\":[[0.0,\"#0d0887\"],[0.1111111111111111,\"#46039f\"],[0.2222222222222222,\"#7201a8\"],[0.3333333333333333,\"#9c179e\"],[0.4444444444444444,\"#bd3786\"],[0.5555555555555556,\"#d8576b\"],[0.6666666666666666,\"#ed7953\"],[0.7777777777777778,\"#fb9f3a\"],[0.8888888888888888,\"#fdca26\"],[1.0,\"#f0f921\"]]}],\"heatmapgl\":[{\"type\":\"heatmapgl\",\"colorbar\":{\"outlinewidth\":0,\"ticks\":\"\"},\"colorscale\":[[0.0,\"#0d0887\"],[0.1111111111111111,\"#46039f\"],[0.2222222222222222,\"#7201a8\"],[0.3333333333333333,\"#9c179e\"],[0.4444444444444444,\"#bd3786\"],[0.5555555555555556,\"#d8576b\"],[0.6666666666666666,\"#ed7953\"],[0.7777777777777778,\"#fb9f3a\"],[0.8888888888888888,\"#fdca26\"],[1.0,\"#f0f921\"]]}],\"contourcarpet\":[{\"type\":\"contourcarpet\",\"colorbar\":{\"outlinewidth\":0,\"ticks\":\"\"}}],\"contour\":[{\"type\":\"contour\",\"colorbar\":{\"outlinewidth\":0,\"ticks\":\"\"},\"colorscale\":[[0.0,\"#0d0887\"],[0.1111111111111111,\"#46039f\"],[0.2222222222222222,\"#7201a8\"],[0.3333333333333333,\"#9c179e\"],[0.4444444444444444,\"#bd3786\"],[0.5555555555555556,\"#d8576b\"],[0.6666666666666666,\"#ed7953\"],[0.7777777777777778,\"#fb9f3a\"],[0.8888888888888888,\"#fdca26\"],[1.0,\"#f0f921\"]]}],\"surface\":[{\"type\":\"surface\",\"colorbar\":{\"outlinewidth\":0,\"ticks\":\"\"},\"colorscale\":[[0.0,\"#0d0887\"],[0.1111111111111111,\"#46039f\"],[0.2222222222222222,\"#7201a8\"],[0.3333333333333333,\"#9c179e\"],[0.4444444444444444,\"#bd3786\"],[0.5555555555555556,\"#d8576b\"],[0.6666666666666666,\"#ed7953\"],[0.7777777777777778,\"#fb9f3a\"],[0.8888888888888888,\"#fdca26\"],[1.0,\"#f0f921\"]]}],\"mesh3d\":[{\"type\":\"mesh3d\",\"colorbar\":{\"outlinewidth\":0,\"ticks\":\"\"}}],\"scatter\":[{\"fillpattern\":{\"fillmode\":\"overlay\",\"size\":10,\"solidity\":0.2},\"type\":\"scatter\"}],\"parcoords\":[{\"type\":\"parcoords\",\"line\":{\"colorbar\":{\"outlinewidth\":0,\"ticks\":\"\"}}}],\"scatterpolargl\":[{\"type\":\"scatterpolargl\",\"marker\":{\"colorbar\":{\"outlinewidth\":0,\"ticks\":\"\"}}}],\"bar\":[{\"error_x\":{\"color\":\"#2a3f5f\"},\"error_y\":{\"color\":\"#2a3f5f\"},\"marker\":{\"line\":{\"color\":\"#E5ECF6\",\"width\":0.5},\"pattern\":{\"fillmode\":\"overlay\",\"size\":10,\"solidity\":0.2}},\"type\":\"bar\"}],\"scattergeo\":[{\"type\":\"scattergeo\",\"marker\":{\"colorbar\":{\"outlinewidth\":0,\"ticks\":\"\"}}}],\"scatterpolar\":[{\"type\":\"scatterpolar\",\"marker\":{\"colorbar\":{\"outlinewidth\":0,\"ticks\":\"\"}}}],\"histogram\":[{\"marker\":{\"pattern\":{\"fillmode\":\"overlay\",\"size\":10,\"solidity\":0.2}},\"type\":\"histogram\"}],\"scattergl\":[{\"type\":\"scattergl\",\"marker\":{\"colorbar\":{\"outlinewidth\":0,\"ticks\":\"\"}}}],\"scatter3d\":[{\"type\":\"scatter3d\",\"line\":{\"colorbar\":{\"outlinewidth\":0,\"ticks\":\"\"}},\"marker\":{\"colorbar\":{\"outlinewidth\":0,\"ticks\":\"\"}}}],\"scattermapbox\":[{\"type\":\"scattermapbox\",\"marker\":{\"colorbar\":{\"outlinewidth\":0,\"ticks\":\"\"}}}],\"scatterternary\":[{\"type\":\"scatterternary\",\"marker\":{\"colorbar\":{\"outlinewidth\":0,\"ticks\":\"\"}}}],\"scattercarpet\":[{\"type\":\"scattercarpet\",\"marker\":{\"colorbar\":{\"outlinewidth\":0,\"ticks\":\"\"}}}],\"carpet\":[{\"aaxis\":{\"endlinecolor\":\"#2a3f5f\",\"gridcolor\":\"white\",\"linecolor\":\"white\",\"minorgridcolor\":\"white\",\"startlinecolor\":\"#2a3f5f\"},\"baxis\":{\"endlinecolor\":\"#2a3f5f\",\"gridcolor\":\"white\",\"linecolor\":\"white\",\"minorgridcolor\":\"white\",\"startlinecolor\":\"#2a3f5f\"},\"type\":\"carpet\"}],\"table\":[{\"cells\":{\"fill\":{\"color\":\"#EBF0F8\"},\"line\":{\"color\":\"white\"}},\"header\":{\"fill\":{\"color\":\"#C8D4E3\"},\"line\":{\"color\":\"white\"}},\"type\":\"table\"}],\"barpolar\":[{\"marker\":{\"line\":{\"color\":\"#E5ECF6\",\"width\":0.5},\"pattern\":{\"fillmode\":\"overlay\",\"size\":10,\"solidity\":0.2}},\"type\":\"barpolar\"}],\"pie\":[{\"automargin\":true,\"type\":\"pie\"}]},\"layout\":{\"autotypenumbers\":\"strict\",\"colorway\":[\"#636efa\",\"#EF553B\",\"#00cc96\",\"#ab63fa\",\"#FFA15A\",\"#19d3f3\",\"#FF6692\",\"#B6E880\",\"#FF97FF\",\"#FECB52\"],\"font\":{\"color\":\"#2a3f5f\"},\"hovermode\":\"closest\",\"hoverlabel\":{\"align\":\"left\"},\"paper_bgcolor\":\"white\",\"plot_bgcolor\":\"#E5ECF6\",\"polar\":{\"bgcolor\":\"#E5ECF6\",\"angularaxis\":{\"gridcolor\":\"white\",\"linecolor\":\"white\",\"ticks\":\"\"},\"radialaxis\":{\"gridcolor\":\"white\",\"linecolor\":\"white\",\"ticks\":\"\"}},\"ternary\":{\"bgcolor\":\"#E5ECF6\",\"aaxis\":{\"gridcolor\":\"white\",\"linecolor\":\"white\",\"ticks\":\"\"},\"baxis\":{\"gridcolor\":\"white\",\"linecolor\":\"white\",\"ticks\":\"\"},\"caxis\":{\"gridcolor\":\"white\",\"linecolor\":\"white\",\"ticks\":\"\"}},\"coloraxis\":{\"colorbar\":{\"outlinewidth\":0,\"ticks\":\"\"}},\"colorscale\":{\"sequential\":[[0.0,\"#0d0887\"],[0.1111111111111111,\"#46039f\"],[0.2222222222222222,\"#7201a8\"],[0.3333333333333333,\"#9c179e\"],[0.4444444444444444,\"#bd3786\"],[0.5555555555555556,\"#d8576b\"],[0.6666666666666666,\"#ed7953\"],[0.7777777777777778,\"#fb9f3a\"],[0.8888888888888888,\"#fdca26\"],[1.0,\"#f0f921\"]],\"sequentialminus\":[[0.0,\"#0d0887\"],[0.1111111111111111,\"#46039f\"],[0.2222222222222222,\"#7201a8\"],[0.3333333333333333,\"#9c179e\"],[0.4444444444444444,\"#bd3786\"],[0.5555555555555556,\"#d8576b\"],[0.6666666666666666,\"#ed7953\"],[0.7777777777777778,\"#fb9f3a\"],[0.8888888888888888,\"#fdca26\"],[1.0,\"#f0f921\"]],\"diverging\":[[0,\"#8e0152\"],[0.1,\"#c51b7d\"],[0.2,\"#de77ae\"],[0.3,\"#f1b6da\"],[0.4,\"#fde0ef\"],[0.5,\"#f7f7f7\"],[0.6,\"#e6f5d0\"],[0.7,\"#b8e186\"],[0.8,\"#7fbc41\"],[0.9,\"#4d9221\"],[1,\"#276419\"]]},\"xaxis\":{\"gridcolor\":\"white\",\"linecolor\":\"white\",\"ticks\":\"\",\"title\":{\"standoff\":15},\"zerolinecolor\":\"white\",\"automargin\":true,\"zerolinewidth\":2},\"yaxis\":{\"gridcolor\":\"white\",\"linecolor\":\"white\",\"ticks\":\"\",\"title\":{\"standoff\":15},\"zerolinecolor\":\"white\",\"automargin\":true,\"zerolinewidth\":2},\"scene\":{\"xaxis\":{\"backgroundcolor\":\"#E5ECF6\",\"gridcolor\":\"white\",\"linecolor\":\"white\",\"showbackground\":true,\"ticks\":\"\",\"zerolinecolor\":\"white\",\"gridwidth\":2},\"yaxis\":{\"backgroundcolor\":\"#E5ECF6\",\"gridcolor\":\"white\",\"linecolor\":\"white\",\"showbackground\":true,\"ticks\":\"\",\"zerolinecolor\":\"white\",\"gridwidth\":2},\"zaxis\":{\"backgroundcolor\":\"#E5ECF6\",\"gridcolor\":\"white\",\"linecolor\":\"white\",\"showbackground\":true,\"ticks\":\"\",\"zerolinecolor\":\"white\",\"gridwidth\":2}},\"shapedefaults\":{\"line\":{\"color\":\"#2a3f5f\"}},\"annotationdefaults\":{\"arrowcolor\":\"#2a3f5f\",\"arrowhead\":0,\"arrowwidth\":1},\"geo\":{\"bgcolor\":\"white\",\"landcolor\":\"#E5ECF6\",\"subunitcolor\":\"white\",\"showland\":true,\"showlakes\":true,\"lakecolor\":\"white\"},\"title\":{\"x\":0.05},\"mapbox\":{\"style\":\"light\"}}},\"scene\":{\"domain\":{\"x\":[0.0,1.0],\"y\":[0.0,1.0]},\"xaxis\":{\"title\":{\"text\":\"Age\"}},\"yaxis\":{\"title\":{\"text\":\"StudyHoursPerWeek\"}},\"zaxis\":{\"title\":{\"text\":\"GPA\"}}},\"legend\":{\"tracegroupgap\":0},\"title\":{\"text\":\"3D Scatter Plot of Age, Study Hours, and GPA\"}},                        {\"responsive\": true}                    ).then(function(){\n",
              "                            \n",
              "var gd = document.getElementById('a6898545-5fd0-46cd-b10d-da82a204c6ca');\n",
              "var x = new MutationObserver(function (mutations, observer) {{\n",
              "        var display = window.getComputedStyle(gd).display;\n",
              "        if (!display || display === 'none') {{\n",
              "            console.log([gd, 'removed!']);\n",
              "            Plotly.purge(gd);\n",
              "            observer.disconnect();\n",
              "        }}\n",
              "}});\n",
              "\n",
              "// Listen for the removal of the full notebook cells\n",
              "var notebookContainer = gd.closest('#notebook-container');\n",
              "if (notebookContainer) {{\n",
              "    x.observe(notebookContainer, {childList: true});\n",
              "}}\n",
              "\n",
              "// Listen for the clearing of the current output cell\n",
              "var outputEl = gd.closest('.output');\n",
              "if (outputEl) {{\n",
              "    x.observe(outputEl, {childList: true});\n",
              "}}\n",
              "\n",
              "                        })                };                            </script>        </div>\n",
              "</body>\n",
              "</html>"
            ]
          },
          "metadata": {}
        }
      ]
    }
  ]
}