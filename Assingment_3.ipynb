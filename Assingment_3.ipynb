{
  "nbformat": 4,
  "nbformat_minor": 0,
  "metadata": {
    "colab": {
      "provenance": [],
      "authorship_tag": "ABX9TyPWPdzEFCTshWON3AYUQZ91",
      "include_colab_link": true
    },
    "kernelspec": {
      "name": "python3",
      "display_name": "Python 3"
    },
    "language_info": {
      "name": "python"
    }
  },
  "cells": [
    {
      "cell_type": "markdown",
      "metadata": {
        "id": "view-in-github",
        "colab_type": "text"
      },
      "source": [
        "<a href=\"https://colab.research.google.com/github/Jigyasha17/Assingments/blob/main/Assingment_3.ipynb\" target=\"_parent\"><img src=\"https://colab.research.google.com/assets/colab-badge.svg\" alt=\"Open In Colab\"/></a>"
      ]
    },
    {
      "cell_type": "markdown",
      "source": [
        "# **ASSINGMENT 3\n",
        " THEORETICAL QUESTIONS**"
      ],
      "metadata": {
        "id": "kcFVBjTuf8Vt"
      }
    },
    {
      "cell_type": "markdown",
      "source": [
        "1.*** What is the difference between a function and a method in Python?***\n",
        "\n",
        "\n",
        "A **function** is a block of reusable code that performs a specific task. Functions can be called independently.\n",
        "\n",
        "A **method** is a function that is associated with an object (an instance of a class). Methods are called on an object and can access or modify the object's data."
      ],
      "metadata": {
        "id": "Qa45P-ZegHMi"
      }
    },
    {
      "cell_type": "markdown",
      "metadata": {
        "id": "dc340ae9"
      },
      "source": [
        "Here is an example of a **function**:"
      ]
    },
    {
      "cell_type": "code",
      "metadata": {
        "colab": {
          "base_uri": "https://localhost:8080/"
        },
        "id": "bbafdfa6",
        "outputId": "e22a8de4-231c-477e-888d-7330d05830b7"
      },
      "source": [
        "def my_function(x):\n",
        "  return x * 2\n",
        "\n",
        "result = my_function(5)\n",
        "print(result)"
      ],
      "execution_count": null,
      "outputs": [
        {
          "output_type": "stream",
          "name": "stdout",
          "text": [
            "10\n"
          ]
        }
      ]
    },
    {
      "cell_type": "markdown",
      "metadata": {
        "id": "a1fcfb16"
      },
      "source": [
        "Here is an example of a **method**:"
      ]
    },
    {
      "cell_type": "code",
      "metadata": {
        "colab": {
          "base_uri": "https://localhost:8080/"
        },
        "id": "298a80fb",
        "outputId": "45fa6949-7c2b-4ac4-ac9f-d4a55e9a0879"
      },
      "source": [
        "class MyClass:\n",
        "  def my_method(self, x):\n",
        "    return x + 10\n",
        "\n",
        "my_object = MyClass()\n",
        "result = my_object.my_method(5)\n",
        "print(result)"
      ],
      "execution_count": null,
      "outputs": [
        {
          "output_type": "stream",
          "name": "stdout",
          "text": [
            "15\n"
          ]
        }
      ]
    },
    {
      "cell_type": "markdown",
      "source": [
        "2.*** Explain the concept of function arguments and parameters in Python.***\n",
        "In Python, parameters are the names defined in the function's definition, while arguments are the actual values passed to the function when it is called.\n",
        "\n",
        "\n"
      ],
      "metadata": {
        "id": "P1VNLbpNg1hC"
      }
    },
    {
      "cell_type": "markdown",
      "metadata": {
        "id": "eeae8b92"
      },
      "source": [
        "Here is an example:"
      ]
    },
    {
      "cell_type": "code",
      "metadata": {
        "colab": {
          "base_uri": "https://localhost:8080/"
        },
        "id": "36be5948",
        "outputId": "3f9188c5-eeda-4e26-f796-4bb6561820a0"
      },
      "source": [
        "def greet(name): # 'name' is a parameter\n",
        "  print(f\"Hello, {name}!\")\n",
        "\n",
        "greet(\"Alice\") # \"Alice\" is an argument\n",
        "greet(\"Bob\")   # \"Bob\" is an argument"
      ],
      "execution_count": null,
      "outputs": [
        {
          "output_type": "stream",
          "name": "stdout",
          "text": [
            "Hello, Alice!\n",
            "Hello, Bob!\n"
          ]
        }
      ]
    },
    {
      "cell_type": "markdown",
      "source": [
        "3.. ***What are the different ways to define and call a function in Python?***\n",
        "\n",
        "A functin can be define and called in 3 different ways to define and call a function\n",
        "\n",
        "\n",
        "1.   Using def :\n",
        "    \n",
        "    def name_function(parameter):\n",
        "        Statement or task to be performed\n",
        "        return value_to_be_ returned\n",
        "print(name_function(argument))\n",
        "\n",
        "2.   using lamda function:Lambda functions are small, anonymous functions defined using the lambda keyword. They are used for creating small, throwaway functions without the need to formally define a function using def\n",
        " a=lamda name:Task_to be performed\n",
        " print(a(argument))\n",
        "\n",
        "3. map: The map function applies a given function to all items in an input iterable (like a list) and returns an iterator with the results.\n",
        "a=map(lamda name:Task_to be performed)\n",
        "print(a)\n",
        "\n",
        "4. filter(): This function constructs an iterator from elements of an iterable for which a function returns true. It's used to filter out elements based on a condition.\n",
        "\n",
        "5. reduce(): This function is in the functools module. It applies a function of two arguments cumulatively to the items of an iterable, from left to right, so as to reduce the iterable to a single value.\n"
      ],
      "metadata": {
        "id": "-6MElURyhnta"
      }
    },
    {
      "cell_type": "code",
      "source": [
        "def cube(x):\n",
        "  return x**3\n",
        "print(cube(4))"
      ],
      "metadata": {
        "colab": {
          "base_uri": "https://localhost:8080/"
        },
        "id": "M2fCZXnZlot9",
        "outputId": "385cd1b0-5c95-4c58-af60-4dbe6955087e"
      },
      "execution_count": null,
      "outputs": [
        {
          "output_type": "stream",
          "name": "stdout",
          "text": [
            "64\n"
          ]
        }
      ]
    },
    {
      "cell_type": "code",
      "source": [
        "cube=lambda x: x**3\n",
        "print(cube(4))"
      ],
      "metadata": {
        "colab": {
          "base_uri": "https://localhost:8080/"
        },
        "id": "4I9YTpVxl0Jc",
        "outputId": "7c8ce5b2-6654-4be1-940a-fb63e95d5925"
      },
      "execution_count": null,
      "outputs": [
        {
          "output_type": "stream",
          "name": "stdout",
          "text": [
            "64\n"
          ]
        }
      ]
    },
    {
      "cell_type": "code",
      "source": [
        "cube=map(lambda x:x**3,[1,2,3,4,5])\n",
        "print(list(cube))"
      ],
      "metadata": {
        "colab": {
          "base_uri": "https://localhost:8080/"
        },
        "id": "XnCe6dI-mF8r",
        "outputId": "8f01847b-a553-4764-c270-c000725917c7"
      },
      "execution_count": null,
      "outputs": [
        {
          "output_type": "stream",
          "name": "stdout",
          "text": [
            "[1, 8, 27, 64, 125]\n"
          ]
        }
      ]
    },
    {
      "cell_type": "code",
      "source": [
        "from functools import reduce\n",
        "sum=reduce(lambda x,y:x+y,[1,2,3,4,5])\n",
        "print(cube)"
      ],
      "metadata": {
        "colab": {
          "base_uri": "https://localhost:8080/"
        },
        "id": "OtGSZ-JZmOgg",
        "outputId": "4e6a7e15-fdcb-44f1-ddd5-f518d6da9859"
      },
      "execution_count": null,
      "outputs": [
        {
          "output_type": "stream",
          "name": "stdout",
          "text": [
            "15\n"
          ]
        }
      ]
    },
    {
      "cell_type": "code",
      "source": [
        "sum=filter(lambda x:x%2==0,[1,2,3,4,5])\n",
        "print(list(sum))"
      ],
      "metadata": {
        "colab": {
          "base_uri": "https://localhost:8080/"
        },
        "id": "ddmm6kgRmYxH",
        "outputId": "c99954f7-4410-4d81-8414-8fdb024bb24d"
      },
      "execution_count": null,
      "outputs": [
        {
          "output_type": "stream",
          "name": "stdout",
          "text": [
            "[2, 4]\n"
          ]
        }
      ]
    },
    {
      "cell_type": "markdown",
      "metadata": {
        "id": "94bb9d22"
      },
      "source": [
        "***4. What is the purpose of the `return` statement in a Python function?***\n",
        "\n",
        "The `return` statement in a Python function is used to exit the function and send a value back to the caller.\n",
        "\n",
        "*   When a `return` statement is encountered, the function immediately stops executing.\n",
        "*   The value specified after the `return` keyword is the value that the function call evaluates to.\n",
        "*   If a function doesn't have a `return` statement, or if it has a `return` statement without a value, it implicitly returns `None`."
      ]
    },
    {
      "cell_type": "code",
      "source": [
        "def even_numbers(*x):\n",
        "  for i in x:\n",
        "    if i%2==0:\n",
        "      print(i)\n",
        "even_numbers(1,2,3,4,5,6,7,8,9,10)"
      ],
      "metadata": {
        "colab": {
          "base_uri": "https://localhost:8080/"
        },
        "id": "LhzYgJORoOWJ",
        "outputId": "a0fa9194-9b01-451c-f520-acf8e2fad9db"
      },
      "execution_count": null,
      "outputs": [
        {
          "output_type": "stream",
          "name": "stdout",
          "text": [
            "2\n",
            "4\n",
            "6\n",
            "8\n",
            "10\n"
          ]
        }
      ]
    },
    {
      "cell_type": "markdown",
      "source": [
        "5.*** what are iterators in python***\n",
        "\n",
        "ans: An iterator is an object that alows traversal through a countable number of values. It is used to iterate over iterable objects like lits , strings, tuples etc.\n"
      ],
      "metadata": {
        "id": "tOFa2QcxqPU9"
      }
    },
    {
      "cell_type": "code",
      "source": [
        "a=iter([1,2,4,5,7,8,9,10])\n",
        "print(next(a))\n",
        "print(next(a))\n",
        "print(next(a))"
      ],
      "metadata": {
        "colab": {
          "base_uri": "https://localhost:8080/"
        },
        "id": "m2RM7M2LsaJ_",
        "outputId": "3da3f085-740e-426c-dec0-e4189d022c4f"
      },
      "execution_count": null,
      "outputs": [
        {
          "output_type": "stream",
          "name": "stdout",
          "text": [
            "1\n",
            "2\n",
            "4\n"
          ]
        }
      ]
    },
    {
      "cell_type": "markdown",
      "source": [],
      "metadata": {
        "id": "qDljaICM9puz"
      }
    },
    {
      "cell_type": "markdown",
      "source": [
        "***.6. Explain the concept of generators in Python and how they are defined.***\n",
        "\n",
        "Generator are a function that pause their execution and yield result instead of returning the value and exiting completely.When a generator is called it it doesn't execute the block of code immediately instead it returns a generator object  which is an iterator.\n"
      ],
      "metadata": {
        "id": "VIawwaWF-xQW"
      }
    },
    {
      "cell_type": "code",
      "source": [
        "# defining a generator\n",
        "def  square(n) : # 1st define a normal function\n",
        "  while n>0: # defining a norml condition\n",
        "    yield n**2 # acts as an iterator\n",
        "    n-=1\n",
        "gen = square(12) # call to generate sequence of iterators\n",
        "for i in gen :\n",
        "  print(i)"
      ],
      "metadata": {
        "colab": {
          "base_uri": "https://localhost:8080/"
        },
        "id": "E3bdBy1W9mGl",
        "outputId": "6fc3cb4a-c96d-47ca-cb60-cb7ef7bad81d"
      },
      "execution_count": null,
      "outputs": [
        {
          "output_type": "stream",
          "name": "stdout",
          "text": [
            "144\n",
            "121\n",
            "100\n",
            "81\n",
            "64\n",
            "49\n",
            "36\n",
            "25\n",
            "16\n",
            "9\n",
            "4\n",
            "1\n"
          ]
        }
      ]
    },
    {
      "cell_type": "markdown",
      "source": [
        "7.*** What are the advantages of using generators over regular functions?***\n",
        "\n",
        "Advantages\n",
        "\n",
        "\n",
        "1.   Memory efficiency: normal functins needs to return a sequence of values thus  stores result in the form of  a list whereas generator yelds value one at a time and doesn't store the entire sequence in memory  saving space\n",
        "2.    infinite sequences  it is impossible to create infinite sequences in a function as it will run out of memory soon  where as in generator it is possible .\n",
        "\n"
      ],
      "metadata": {
        "id": "zAFgO_A8-TV7"
      }
    },
    {
      "cell_type": "code",
      "source": [
        "def squares(*a):\n",
        "  squared_list = [] # Create an empty list to store the squares\n",
        "  for i in a:\n",
        "    squared_list.append(i**2) # Append the square to the list\n",
        "  return squared_list # Return the list after the loop\n",
        "\n",
        "print(squares(1,2,3,4,5,6,7,8,9,10))"
      ],
      "metadata": {
        "colab": {
          "base_uri": "https://localhost:8080/"
        },
        "id": "evjTmKRWAMwh",
        "outputId": "70811aff-2348-4264-fcd3-387401432eef"
      },
      "execution_count": null,
      "outputs": [
        {
          "output_type": "stream",
          "name": "stdout",
          "text": [
            "[1, 4, 9, 16, 25, 36, 49, 64, 81, 100]\n"
          ]
        }
      ]
    },
    {
      "cell_type": "code",
      "source": [
        "def  square(n) : # 1st define a normal function\n",
        "  while n>0: # defining a norml condition\n",
        "    yield n**2 # acts as an iterator\n",
        "    n-=1\n",
        "gen = square(10) # call to generate sequence of iterators\n",
        "for i in gen :\n",
        "  print(i)"
      ],
      "metadata": {
        "colab": {
          "base_uri": "https://localhost:8080/"
        },
        "id": "e3vW_qfMEQ-y",
        "outputId": "7d742b9b-ef3a-49f8-f963-0c8dbb442f2a"
      },
      "execution_count": null,
      "outputs": [
        {
          "output_type": "stream",
          "name": "stdout",
          "text": [
            "100\n",
            "81\n",
            "64\n",
            "49\n",
            "36\n",
            "25\n",
            "16\n",
            "9\n",
            "4\n",
            "1\n"
          ]
        }
      ]
    },
    {
      "cell_type": "markdown",
      "source": [
        "*** 8. What is a lambda function in Python and when is it typically used?***\n",
        "\n",
        "Lambda function is a anonymous function used to shorten a function without defining it . Lamda function doess the job in a single line command instead of a full derieved- defined code."
      ],
      "metadata": {
        "id": "zrxil4MXElVW"
      }
    },
    {
      "cell_type": "code",
      "source": [
        "a=map(lambda x:x**3,[1,2,3,4,5])\n",
        "print(list(a))"
      ],
      "metadata": {
        "colab": {
          "base_uri": "https://localhost:8080/"
        },
        "id": "L9AFcyp8GeoX",
        "outputId": "b9324ca2-c560-4b3c-db38-90f72729a5b0"
      },
      "execution_count": null,
      "outputs": [
        {
          "output_type": "stream",
          "name": "stdout",
          "text": [
            "[1, 8, 27, 64, 125]\n"
          ]
        }
      ]
    },
    {
      "cell_type": "markdown",
      "source": [
        "9.***Explain the purpose and usage of the `map()` function in Python.***\n",
        "\n",
        " map function appies the given set of condition to each an every element of the list .\n",
        "\n",
        " It is used to shorten the code by typically iterating over the code using  range function then accessing its elements which increases the space complexity of the code, map function does it in single word.\n",
        "\n",
        " It is used to define a function for a set of values in which the condition is applied to each element in the list."
      ],
      "metadata": {
        "id": "AQdjyCzIGrnS"
      }
    },
    {
      "cell_type": "code",
      "source": [
        "a=map(lambda x:x**3,[1,2,3,4,5])\n",
        "print(list(a))"
      ],
      "metadata": {
        "colab": {
          "base_uri": "https://localhost:8080/"
        },
        "id": "oX8ULeYAH-On",
        "outputId": "c240d482-45b5-4d94-9c90-68eb8f0c1e30"
      },
      "execution_count": null,
      "outputs": [
        {
          "output_type": "stream",
          "name": "stdout",
          "text": [
            "[1, 8, 27, 64, 125]\n"
          ]
        }
      ]
    },
    {
      "cell_type": "markdown",
      "source": [
        "***10. What is the difference between `map()`, `reduce()`, and `filter()` functions in Python?***\n",
        "\n",
        "1. map() : used to to apply the given set of condition  to each an every element of the list.\n",
        "2.filter(): filter operation is used to filter out the values from the list based on the condition provided if found to be true\n",
        "3. reducce():  to rduce an iterable to a ingle cumulative value by repeatedly aplying a function to pairs of elements."
      ],
      "metadata": {
        "id": "ub2A6bvTH_5t"
      }
    },
    {
      "cell_type": "code",
      "source": [
        "map_function1=map(lambda x:x**3,[1,2,3,4,5])\n",
        "print(list(map_function1))\n",
        "\n",
        "filter_function2=filter(lambda x:x%2==0,[1,2,3,4,5,6,7,8,9,10])\n",
        "print(list(filter_function2))\n",
        "\n",
        "from functools import reduce\n",
        "reduce_function3=reduce(lambda x,y:x*y,[1,2,3,4,5,6,7,8,9,10])\n",
        "print(reduce_function3)"
      ],
      "metadata": {
        "colab": {
          "base_uri": "https://localhost:8080/"
        },
        "id": "3xf-mYqXJLs5",
        "outputId": "b76bf394-dbaf-4232-814c-52095ed58867"
      },
      "execution_count": null,
      "outputs": [
        {
          "output_type": "stream",
          "name": "stdout",
          "text": [
            "[1, 8, 27, 64, 125]\n",
            "[2, 4, 6, 8, 10]\n",
            "3628800\n"
          ]
        }
      ]
    },
    {
      "cell_type": "markdown",
      "source": [
        "***11.Using pen & Paper write the internal mechanism for sum operation using  reduce function on this given  list:[47,11,42,13]; ***\n"
      ],
      "metadata": {
        "id": "aqBtE0V2FT_Y"
      }
    },
    {
      "cell_type": "code",
      "source": [
        "a=reduce(lambda x,y:x+y,[47,11,42,13])\n",
        "print(a)"
      ],
      "metadata": {
        "colab": {
          "base_uri": "https://localhost:8080/"
        },
        "id": "iC_NdycOF1eb",
        "outputId": "e0ef2990-bb36-4a3e-b4a1-376c71a1083f"
      },
      "execution_count": null,
      "outputs": [
        {
          "output_type": "stream",
          "name": "stdout",
          "text": [
            "113\n"
          ]
        }
      ]
    },
    {
      "cell_type": "markdown",
      "source": [
        "![WhatsApp Image 2025-07-22 at 10.37.06 AM.jpeg](data:image/jpeg;base64,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)"
      ],
      "metadata": {
        "id": "2sW2JAk0h7wV"
      }
    },
    {
      "cell_type": "markdown",
      "source": [
        "# **Practical Questions**"
      ],
      "metadata": {
        "id": "uiC7T2dzGi3Q"
      }
    },
    {
      "cell_type": "markdown",
      "source": [
        "***1. Write a Python function that takes a list of numbers as input and returns the sum of all even numbers in the list***"
      ],
      "metadata": {
        "id": "QUiH5_5bGpWZ"
      }
    },
    {
      "cell_type": "code",
      "source": [
        "from functools import reduce\n",
        "def numbers(*x):\n",
        "  a=list(x)\n",
        "  b=list(filter(lambda x:x%2==0,a))\n",
        "  c=reduce(lambda x,y:x+y,b)\n",
        "  return c\n",
        "print(numbers(1,2,3,4,5,6,7,8,9,10))\n"
      ],
      "metadata": {
        "colab": {
          "base_uri": "https://localhost:8080/"
        },
        "id": "81j5IzklGzSM",
        "outputId": "39175e5e-2627-48ce-a7b1-4df9b608268c"
      },
      "execution_count": null,
      "outputs": [
        {
          "output_type": "stream",
          "name": "stdout",
          "text": [
            "30\n"
          ]
        }
      ]
    },
    {
      "cell_type": "markdown",
      "source": [
        "2.***Create a Python function that accepts a string and returns the reverse of that string.***"
      ],
      "metadata": {
        "id": "vdw1_HscMb8A"
      }
    },
    {
      "cell_type": "code",
      "source": [
        "def reverse(x):\n",
        "  # The slicing [::-1] creates a reversed copy of the string\n",
        "  return x[::-1]\n",
        "\n",
        "print(reverse(\"python\"))\n",
        "print(reverse(\"hello world\"))"
      ],
      "metadata": {
        "colab": {
          "base_uri": "https://localhost:8080/"
        },
        "id": "BPaJO3wjMeuI",
        "outputId": "2d6df75f-749f-4714-a659-120b4ecf3257"
      },
      "execution_count": null,
      "outputs": [
        {
          "output_type": "stream",
          "name": "stdout",
          "text": [
            "nohtyp\n",
            "dlrow olleh\n"
          ]
        }
      ]
    },
    {
      "cell_type": "markdown",
      "source": [
        "***3. Implement a Python function that takes a list of integers and returns a new list containing the squares of\n",
        "each number.***"
      ],
      "metadata": {
        "id": "VsG0p7OONgwZ"
      }
    },
    {
      "cell_type": "code",
      "source": [
        "def square_numbers(*x):\n",
        "  a = list(x)\n",
        "  squared_list = [] # Create an empty list to store the squares\n",
        "  for i in a:\n",
        "    b = i**2\n",
        "    squared_list.append(b) # Append the square to the list\n",
        "  return squared_list # Return the list after the loop\n",
        "\n",
        "print(square_numbers(2, 4, 6, 8, 10))"
      ],
      "metadata": {
        "colab": {
          "base_uri": "https://localhost:8080/"
        },
        "id": "w8Un-AuwNk9Y",
        "outputId": "e7226181-2484-4833-bade-f65697b42c2a"
      },
      "execution_count": null,
      "outputs": [
        {
          "output_type": "stream",
          "name": "stdout",
          "text": [
            "[4, 16, 36, 64, 100]\n"
          ]
        }
      ]
    },
    {
      "cell_type": "markdown",
      "source": [
        "4.*** Write a Python function that checks if a given number is prime or not from 1 to 200.***"
      ],
      "metadata": {
        "id": "jMLMeHeWOv2e"
      }
    },
    {
      "cell_type": "code",
      "source": [
        "def check_prime_with_count(k):\n",
        "  if k <= 1:\n",
        "    return False # Numbers less than or equal to 1 are not prime\n",
        "\n",
        "  count = 0 # Initialize count inside the function for each number\n",
        "\n",
        "  # Check for divisors from 1 up to k\n",
        "  for j in range(1, k + 1):\n",
        "    if k % j == 0:\n",
        "      count += 1\n",
        "\n",
        "  # A prime number (greater than 1) has exactly two divisors: 1 and itself.\n",
        "  if count >= 3:\n",
        "    return False\n",
        "  else:\n",
        "    return True\n",
        "print(\"Checking for prime numbers from 2 to 200 using the corrected code:\")\n",
        "for number in range(2, 201):\n",
        "  if check_prime_with_count(number):\n",
        "    print(f\"{number} is a prime number\")\n",
        "  else:\n",
        "    print(f\"{number} is not a prime number\")"
      ],
      "metadata": {
        "colab": {
          "base_uri": "https://localhost:8080/"
        },
        "id": "EYJ7uje2T1tU",
        "outputId": "e91b5933-b3d0-4176-d7f0-b6b0fca76923"
      },
      "execution_count": null,
      "outputs": [
        {
          "output_type": "stream",
          "name": "stdout",
          "text": [
            "Checking for prime numbers from 2 to 200 using the corrected code:\n",
            "2 is a prime number\n",
            "3 is a prime number\n",
            "4 is not a prime number\n",
            "5 is a prime number\n",
            "6 is not a prime number\n",
            "7 is a prime number\n",
            "8 is not a prime number\n",
            "9 is not a prime number\n",
            "10 is not a prime number\n",
            "11 is a prime number\n",
            "12 is not a prime number\n",
            "13 is a prime number\n",
            "14 is not a prime number\n",
            "15 is not a prime number\n",
            "16 is not a prime number\n",
            "17 is a prime number\n",
            "18 is not a prime number\n",
            "19 is a prime number\n",
            "20 is not a prime number\n",
            "21 is not a prime number\n",
            "22 is not a prime number\n",
            "23 is a prime number\n",
            "24 is not a prime number\n",
            "25 is not a prime number\n",
            "26 is not a prime number\n",
            "27 is not a prime number\n",
            "28 is not a prime number\n",
            "29 is a prime number\n",
            "30 is not a prime number\n",
            "31 is a prime number\n",
            "32 is not a prime number\n",
            "33 is not a prime number\n",
            "34 is not a prime number\n",
            "35 is not a prime number\n",
            "36 is not a prime number\n",
            "37 is a prime number\n",
            "38 is not a prime number\n",
            "39 is not a prime number\n",
            "40 is not a prime number\n",
            "41 is a prime number\n",
            "42 is not a prime number\n",
            "43 is a prime number\n",
            "44 is not a prime number\n",
            "45 is not a prime number\n",
            "46 is not a prime number\n",
            "47 is a prime number\n",
            "48 is not a prime number\n",
            "49 is not a prime number\n",
            "50 is not a prime number\n",
            "51 is not a prime number\n",
            "52 is not a prime number\n",
            "53 is a prime number\n",
            "54 is not a prime number\n",
            "55 is not a prime number\n",
            "56 is not a prime number\n",
            "57 is not a prime number\n",
            "58 is not a prime number\n",
            "59 is a prime number\n",
            "60 is not a prime number\n",
            "61 is a prime number\n",
            "62 is not a prime number\n",
            "63 is not a prime number\n",
            "64 is not a prime number\n",
            "65 is not a prime number\n",
            "66 is not a prime number\n",
            "67 is a prime number\n",
            "68 is not a prime number\n",
            "69 is not a prime number\n",
            "70 is not a prime number\n",
            "71 is a prime number\n",
            "72 is not a prime number\n",
            "73 is a prime number\n",
            "74 is not a prime number\n",
            "75 is not a prime number\n",
            "76 is not a prime number\n",
            "77 is not a prime number\n",
            "78 is not a prime number\n",
            "79 is a prime number\n",
            "80 is not a prime number\n",
            "81 is not a prime number\n",
            "82 is not a prime number\n",
            "83 is a prime number\n",
            "84 is not a prime number\n",
            "85 is not a prime number\n",
            "86 is not a prime number\n",
            "87 is not a prime number\n",
            "88 is not a prime number\n",
            "89 is a prime number\n",
            "90 is not a prime number\n",
            "91 is not a prime number\n",
            "92 is not a prime number\n",
            "93 is not a prime number\n",
            "94 is not a prime number\n",
            "95 is not a prime number\n",
            "96 is not a prime number\n",
            "97 is a prime number\n",
            "98 is not a prime number\n",
            "99 is not a prime number\n",
            "100 is not a prime number\n",
            "101 is a prime number\n",
            "102 is not a prime number\n",
            "103 is a prime number\n",
            "104 is not a prime number\n",
            "105 is not a prime number\n",
            "106 is not a prime number\n",
            "107 is a prime number\n",
            "108 is not a prime number\n",
            "109 is a prime number\n",
            "110 is not a prime number\n",
            "111 is not a prime number\n",
            "112 is not a prime number\n",
            "113 is a prime number\n",
            "114 is not a prime number\n",
            "115 is not a prime number\n",
            "116 is not a prime number\n",
            "117 is not a prime number\n",
            "118 is not a prime number\n",
            "119 is not a prime number\n",
            "120 is not a prime number\n",
            "121 is not a prime number\n",
            "122 is not a prime number\n",
            "123 is not a prime number\n",
            "124 is not a prime number\n",
            "125 is not a prime number\n",
            "126 is not a prime number\n",
            "127 is a prime number\n",
            "128 is not a prime number\n",
            "129 is not a prime number\n",
            "130 is not a prime number\n",
            "131 is a prime number\n",
            "132 is not a prime number\n",
            "133 is not a prime number\n",
            "134 is not a prime number\n",
            "135 is not a prime number\n",
            "136 is not a prime number\n",
            "137 is a prime number\n",
            "138 is not a prime number\n",
            "139 is a prime number\n",
            "140 is not a prime number\n",
            "141 is not a prime number\n",
            "142 is not a prime number\n",
            "143 is not a prime number\n",
            "144 is not a prime number\n",
            "145 is not a prime number\n",
            "146 is not a prime number\n",
            "147 is not a prime number\n",
            "148 is not a prime number\n",
            "149 is a prime number\n",
            "150 is not a prime number\n",
            "151 is a prime number\n",
            "152 is not a prime number\n",
            "153 is not a prime number\n",
            "154 is not a prime number\n",
            "155 is not a prime number\n",
            "156 is not a prime number\n",
            "157 is a prime number\n",
            "158 is not a prime number\n",
            "159 is not a prime number\n",
            "160 is not a prime number\n",
            "161 is not a prime number\n",
            "162 is not a prime number\n",
            "163 is a prime number\n",
            "164 is not a prime number\n",
            "165 is not a prime number\n",
            "166 is not a prime number\n",
            "167 is a prime number\n",
            "168 is not a prime number\n",
            "169 is not a prime number\n",
            "170 is not a prime number\n",
            "171 is not a prime number\n",
            "172 is not a prime number\n",
            "173 is a prime number\n",
            "174 is not a prime number\n",
            "175 is not a prime number\n",
            "176 is not a prime number\n",
            "177 is not a prime number\n",
            "178 is not a prime number\n",
            "179 is a prime number\n",
            "180 is not a prime number\n",
            "181 is a prime number\n",
            "182 is not a prime number\n",
            "183 is not a prime number\n",
            "184 is not a prime number\n",
            "185 is not a prime number\n",
            "186 is not a prime number\n",
            "187 is not a prime number\n",
            "188 is not a prime number\n",
            "189 is not a prime number\n",
            "190 is not a prime number\n",
            "191 is a prime number\n",
            "192 is not a prime number\n",
            "193 is a prime number\n",
            "194 is not a prime number\n",
            "195 is not a prime number\n",
            "196 is not a prime number\n",
            "197 is a prime number\n",
            "198 is not a prime number\n",
            "199 is a prime number\n",
            "200 is not a prime number\n"
          ]
        }
      ]
    },
    {
      "cell_type": "markdown",
      "source": [
        "5.*** Create an iterator class in Python that generates the Fibonacci sequence up to a specified number of terms.***\n"
      ],
      "metadata": {
        "id": "Ng5JDShYgkXr"
      }
    },
    {
      "cell_type": "code",
      "metadata": {
        "colab": {
          "base_uri": "https://localhost:8080/"
        },
        "id": "4109a6cf",
        "outputId": "15e2cac9-5440-4bc8-9622-8e6d0540ef1d"
      },
      "source": [
        "def fibonacci_generator(num_terms):\n",
        "    a, b = 0, 1\n",
        "    for _ in range(num_terms):\n",
        "        yield a\n",
        "        a, b = b, a + b\n",
        "\n",
        "fib_iter = iter(fibonacci_generator(10))\n",
        "print(next(fib_iter))\n",
        "print(next(fib_iter))\n",
        "print(next(fib_iter))\n",
        "print(next(fib_iter))\n",
        "print(next(fib_iter))\n",
        "print(next(fib_iter))\n",
        "print(next(fib_iter))\n",
        "print(next(fib_iter))\n",
        "print(next(fib_iter))\n",
        "print(next(fib_iter))\n"
      ],
      "execution_count": null,
      "outputs": [
        {
          "output_type": "stream",
          "name": "stdout",
          "text": [
            "0\n",
            "1\n",
            "1\n",
            "2\n",
            "3\n",
            "5\n",
            "8\n",
            "13\n",
            "21\n",
            "34\n"
          ]
        }
      ]
    },
    {
      "cell_type": "markdown",
      "source": [
        "***6. Write a generator function in Python that yields the powers of 2 up to a given exponent.***"
      ],
      "metadata": {
        "id": "wBZvFZUL5gI7"
      }
    },
    {
      "cell_type": "code",
      "source": [
        "def  square(n) :\n",
        "  while n>0:\n",
        "    yield n**2\n",
        "    n-=1\n",
        "gen = square(12)\n",
        "for i in gen :\n",
        "  print(i)"
      ],
      "metadata": {
        "colab": {
          "base_uri": "https://localhost:8080/"
        },
        "id": "TtbdKE-H5z3Q",
        "outputId": "b0cfe6ce-5b83-4fa6-ab3e-0eb2a8038514"
      },
      "execution_count": null,
      "outputs": [
        {
          "output_type": "stream",
          "name": "stdout",
          "text": [
            "144\n",
            "121\n",
            "100\n",
            "81\n",
            "64\n",
            "49\n",
            "36\n",
            "25\n",
            "16\n",
            "9\n",
            "4\n",
            "1\n"
          ]
        }
      ]
    },
    {
      "cell_type": "markdown",
      "source": [
        "***7.* Implement a generator function that yields files line by line and yields each line as a string***"
      ],
      "metadata": {
        "id": "a-F9wx2E6GzR"
      }
    },
    {
      "cell_type": "code",
      "source": [
        "def file_line_generator(filepath):\n",
        "  \"\"\"Generator that yields each line of a file.\"\"\"\n",
        "  with open(filepath) as f:\n",
        "    for line in f:\n",
        "      yield line(str())"
      ],
      "metadata": {
        "id": "PRl-Lrtb6VKd"
      },
      "execution_count": null,
      "outputs": []
    },
    {
      "cell_type": "markdown",
      "source": [
        "***8.Use a lambda function in python to sort a list of tuples based on the second element of each tuple.***"
      ],
      "metadata": {
        "id": "DLNb9b9_6W3b"
      }
    },
    {
      "cell_type": "code",
      "source": [
        "# A list of tuples\n",
        "list_of_tuples = [('apple',4 ), ('banana',3), ('cherry',2), ('date',1)]\n",
        "sorted_list = sorted(list_of_tuples, key=lambda item: item[1])\n",
        "\n",
        "print(\"Original list of tuples:\")\n",
        "print(list_of_tuples)\n",
        "\n",
        "print(\"\\nSorted list of tuples based on the second element:\")\n",
        "print(sorted_list)"
      ],
      "metadata": {
        "colab": {
          "base_uri": "https://localhost:8080/"
        },
        "id": "4sRYwEoy6Xbw",
        "outputId": "19262286-6371-41dd-d9ce-0a15e411ba86"
      },
      "execution_count": null,
      "outputs": [
        {
          "output_type": "stream",
          "name": "stdout",
          "text": [
            "Original list of tuples:\n",
            "[('apple', 4), ('banana', 3), ('cherry', 2), ('date', 1)]\n",
            "\n",
            "Sorted list of tuples based on the second element:\n",
            "[('date', 1), ('cherry', 2), ('banana', 3), ('apple', 4)]\n"
          ]
        }
      ]
    },
    {
      "cell_type": "markdown",
      "source": [
        "***9.Write a code using map function that creates a list of temperatures from celsius to fahrenheit.***"
      ],
      "metadata": {
        "id": "pFOE-7t06X81"
      }
    },
    {
      "cell_type": "code",
      "source": [
        "conversion=map(lambda x: (x*(9/5)+32),[0,45,90,72,180])\n",
        "print(list(conversion))"
      ],
      "metadata": {
        "colab": {
          "base_uri": "https://localhost:8080/"
        },
        "id": "oboIiV-W6YYx",
        "outputId": "3dcee63e-0126-4332-c57a-0f70113b1683"
      },
      "execution_count": null,
      "outputs": [
        {
          "output_type": "stream",
          "name": "stdout",
          "text": [
            "[32.0, 113.0, 194.0, 161.6, 356.0]\n"
          ]
        }
      ]
    },
    {
      "cell_type": "markdown",
      "source": [
        "10.***create a python program that uses filter to remove all the vowels from a given string***"
      ],
      "metadata": {
        "id": "yy_TyvtB7QvP"
      }
    },
    {
      "cell_type": "code",
      "source": [
        "# Input string\n",
        "my_string = \"Python is awesome\"\n",
        "\n",
        "# Define vowels (both lowercase and uppercase)\n",
        "vowels = \"aeiouAEIOU\"\n",
        "\n",
        "# Use filter with a lambda function\n",
        "# The lambda checks if a character is NOT in the vowels string.\n",
        "filtered_characters = filter(lambda char: char not in vowels, my_string)\n",
        "\n",
        "# Convert the filter object to a list of characters and then join them into a string\n",
        "string_without_vowels = \"\".join(list(filtered_characters))\n",
        "\n",
        "print(f\"Original string: {my_string}\")\n",
        "print(f\"String without vowels: {string_without_vowels}\")"
      ],
      "metadata": {
        "colab": {
          "base_uri": "https://localhost:8080/"
        },
        "id": "qIshHsJQ7bYI",
        "outputId": "e5ae6416-0879-4909-b2b9-d9d0a20f4e2c"
      },
      "execution_count": null,
      "outputs": [
        {
          "output_type": "stream",
          "name": "stdout",
          "text": [
            "Original string: Python is awesome\n",
            "String without vowels: Pythn s wsm\n"
          ]
        }
      ]
    },
    {
      "cell_type": "markdown",
      "source": [
        "11. ***11) Imagine an accounting routine used in a book shop. It works on a list with sublists, which look like this:\n",
        " Write a Python program, which returns a list with 2-tuples. Each tuple consists of the order number and the\n",
        "product of the price per item and the quantity. The product should be increased by 10,- € if the value of the\n",
        "order is smaller than 100,00 €.\n",
        " Write a Python program using lambda and map***"
      ],
      "metadata": {
        "id": "FoLFo-SKJgap"
      }
    },
    {
      "cell_type": "code",
      "metadata": {
        "colab": {
          "base_uri": "https://localhost:8080/"
        },
        "id": "3f10012c",
        "outputId": "7f60bdf4-442a-414d-f23b-48f81db8b483"
      },
      "source": [
        "orders = [\n",
        "    [1, (\"5464\", 4, 9.95), (\"8742\", 17, 19.95), (\"5464\", 9, 9.95)],\n",
        "    [2, (\"5464\", 9, 9.95), (\"8742\", 400, 19.95)],\n",
        "    [3, (\"5464\", 200, 9.95), (\"8742\", 1, 19.95)]\n",
        "]\n",
        "\n",
        "# Function to calculate the total value of an order\n",
        "def calculate_order_value(order):\n",
        "    order_number = order[0]\n",
        "    items = order[1:]\n",
        "    total_value = sum(item[1] * item[2] for item in items)\n",
        "    return order_number, total_value\n",
        "\n",
        "# Use map to calculate the initial order values\n",
        "order_values = list(map(calculate_order_value, orders))\n",
        "\n",
        "# Use map and lambda to apply the bonus if the value is less than 100\n",
        "final_order_values = list(map(lambda item: (item[0], item[1] + 10) if item[1] < 10000 else item, order_values))\n",
        "\n",
        "print(final_order_values)"
      ],
      "execution_count": null,
      "outputs": [
        {
          "output_type": "stream",
          "name": "stdout",
          "text": [
            "[(1, 478.5), (2, 8079.55), (3, 2019.9499999999998)]\n"
          ]
        }
      ]
    }
  ]
}