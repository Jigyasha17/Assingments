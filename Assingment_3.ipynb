{
  "nbformat": 4,
  "nbformat_minor": 0,
  "metadata": {
    "colab": {
      "provenance": [],
      "authorship_tag": "ABX9TyNJ0GX0ZP3PjbN1XNUdZGvk",
      "include_colab_link": true
    },
    "kernelspec": {
      "name": "python3",
      "display_name": "Python 3"
    },
    "language_info": {
      "name": "python"
    }
  },
  "cells": [
    {
      "cell_type": "markdown",
      "metadata": {
        "id": "view-in-github",
        "colab_type": "text"
      },
      "source": [
        "<a href=\"https://colab.research.google.com/github/Jigyasha17/Assingments/blob/main/Assingment_3.ipynb\" target=\"_parent\"><img src=\"https://colab.research.google.com/assets/colab-badge.svg\" alt=\"Open In Colab\"/></a>"
      ]
    },
    {
      "cell_type": "markdown",
      "source": [
        "# **ASSINGMENT 3\n",
        " THEORETICAL QUESTIONS**"
      ],
      "metadata": {
        "id": "kcFVBjTuf8Vt"
      }
    },
    {
      "cell_type": "markdown",
      "source": [
        "1.*** What is the difference between a function and a method in Python?***\n",
        "\n",
        "\n",
        "A **function** is a block of reusable code that performs a specific task. Functions can be called independently.\n",
        "\n",
        "A **method** is a function that is associated with an object (an instance of a class). Methods are called on an object and can access or modify the object's data."
      ],
      "metadata": {
        "id": "Qa45P-ZegHMi"
      }
    },
    {
      "cell_type": "markdown",
      "metadata": {
        "id": "dc340ae9"
      },
      "source": [
        "Here is an example of a **function**:"
      ]
    },
    {
      "cell_type": "code",
      "metadata": {
        "colab": {
          "base_uri": "https://localhost:8080/"
        },
        "id": "bbafdfa6",
        "outputId": "e22a8de4-231c-477e-888d-7330d05830b7"
      },
      "source": [
        "def my_function(x):\n",
        "  return x * 2\n",
        "\n",
        "result = my_function(5)\n",
        "print(result)"
      ],
      "execution_count": null,
      "outputs": [
        {
          "output_type": "stream",
          "name": "stdout",
          "text": [
            "10\n"
          ]
        }
      ]
    },
    {
      "cell_type": "markdown",
      "metadata": {
        "id": "a1fcfb16"
      },
      "source": [
        "Here is an example of a **method**:"
      ]
    },
    {
      "cell_type": "code",
      "metadata": {
        "colab": {
          "base_uri": "https://localhost:8080/"
        },
        "id": "298a80fb",
        "outputId": "45fa6949-7c2b-4ac4-ac9f-d4a55e9a0879"
      },
      "source": [
        "class MyClass:\n",
        "  def my_method(self, x):\n",
        "    return x + 10\n",
        "\n",
        "my_object = MyClass()\n",
        "result = my_object.my_method(5)\n",
        "print(result)"
      ],
      "execution_count": null,
      "outputs": [
        {
          "output_type": "stream",
          "name": "stdout",
          "text": [
            "15\n"
          ]
        }
      ]
    },
    {
      "cell_type": "markdown",
      "source": [
        "2.*** Explain the concept of function arguments and parameters in Python.***\n",
        "In Python, parameters are the names defined in the function's definition, while arguments are the actual values passed to the function when it is called.\n",
        "\n",
        "\n"
      ],
      "metadata": {
        "id": "P1VNLbpNg1hC"
      }
    },
    {
      "cell_type": "markdown",
      "metadata": {
        "id": "eeae8b92"
      },
      "source": [
        "Here is an example:"
      ]
    },
    {
      "cell_type": "code",
      "metadata": {
        "colab": {
          "base_uri": "https://localhost:8080/"
        },
        "id": "36be5948",
        "outputId": "3f9188c5-eeda-4e26-f796-4bb6561820a0"
      },
      "source": [
        "def greet(name): # 'name' is a parameter\n",
        "  print(f\"Hello, {name}!\")\n",
        "\n",
        "greet(\"Alice\") # \"Alice\" is an argument\n",
        "greet(\"Bob\")   # \"Bob\" is an argument"
      ],
      "execution_count": null,
      "outputs": [
        {
          "output_type": "stream",
          "name": "stdout",
          "text": [
            "Hello, Alice!\n",
            "Hello, Bob!\n"
          ]
        }
      ]
    },
    {
      "cell_type": "markdown",
      "source": [
        "3.. ***What are the different ways to define and call a function in Python?***\n",
        "\n",
        "A functin can be define and called in 3 different ways to define and call a function\n",
        "\n",
        "\n",
        "1.   Using def :\n",
        "    \n",
        "    def name_function(parameter):\n",
        "        Statement or task to be performed\n",
        "        return value_to_be_ returned\n",
        "print(name_function(argument))\n",
        "\n",
        "2.   using lamda function:Lambda functions are small, anonymous functions defined using the lambda keyword. They are used for creating small, throwaway functions without the need to formally define a function using def\n",
        " a=lamda name:Task_to be performed\n",
        " print(a(argument))\n",
        "\n",
        "3. map: The map function applies a given function to all items in an input iterable (like a list) and returns an iterator with the results.\n",
        "a=map(lamda name:Task_to be performed)\n",
        "print(a)\n",
        "\n",
        "4. filter(): This function constructs an iterator from elements of an iterable for which a function returns true. It's used to filter out elements based on a condition.\n",
        "\n",
        "5. reduce(): This function is in the functools module. It applies a function of two arguments cumulatively to the items of an iterable, from left to right, so as to reduce the iterable to a single value.\n"
      ],
      "metadata": {
        "id": "-6MElURyhnta"
      }
    },
    {
      "cell_type": "code",
      "source": [
        "def cube(x):\n",
        "  return x**3\n",
        "print(cube(4))"
      ],
      "metadata": {
        "colab": {
          "base_uri": "https://localhost:8080/"
        },
        "id": "M2fCZXnZlot9",
        "outputId": "385cd1b0-5c95-4c58-af60-4dbe6955087e"
      },
      "execution_count": null,
      "outputs": [
        {
          "output_type": "stream",
          "name": "stdout",
          "text": [
            "64\n"
          ]
        }
      ]
    },
    {
      "cell_type": "code",
      "source": [
        "cube=lambda x: x**3\n",
        "print(cube(4))"
      ],
      "metadata": {
        "colab": {
          "base_uri": "https://localhost:8080/"
        },
        "id": "4I9YTpVxl0Jc",
        "outputId": "7c8ce5b2-6654-4be1-940a-fb63e95d5925"
      },
      "execution_count": null,
      "outputs": [
        {
          "output_type": "stream",
          "name": "stdout",
          "text": [
            "64\n"
          ]
        }
      ]
    },
    {
      "cell_type": "code",
      "source": [
        "cube=map(lambda x:x**3,[1,2,3,4,5])\n",
        "print(list(cube))"
      ],
      "metadata": {
        "colab": {
          "base_uri": "https://localhost:8080/"
        },
        "id": "XnCe6dI-mF8r",
        "outputId": "8f01847b-a553-4764-c270-c000725917c7"
      },
      "execution_count": null,
      "outputs": [
        {
          "output_type": "stream",
          "name": "stdout",
          "text": [
            "[1, 8, 27, 64, 125]\n"
          ]
        }
      ]
    },
    {
      "cell_type": "code",
      "source": [
        "from functools import reduce\n",
        "sum=reduce(lambda x,y:x+y,[1,2,3,4,5])\n",
        "print(cube)"
      ],
      "metadata": {
        "colab": {
          "base_uri": "https://localhost:8080/"
        },
        "id": "OtGSZ-JZmOgg",
        "outputId": "4e6a7e15-fdcb-44f1-ddd5-f518d6da9859"
      },
      "execution_count": null,
      "outputs": [
        {
          "output_type": "stream",
          "name": "stdout",
          "text": [
            "15\n"
          ]
        }
      ]
    },
    {
      "cell_type": "code",
      "source": [
        "sum=filter(lambda x:x%2==0,[1,2,3,4,5])\n",
        "print(list(sum))"
      ],
      "metadata": {
        "colab": {
          "base_uri": "https://localhost:8080/"
        },
        "id": "ddmm6kgRmYxH",
        "outputId": "c99954f7-4410-4d81-8414-8fdb024bb24d"
      },
      "execution_count": null,
      "outputs": [
        {
          "output_type": "stream",
          "name": "stdout",
          "text": [
            "[2, 4]\n"
          ]
        }
      ]
    },
    {
      "cell_type": "markdown",
      "metadata": {
        "id": "94bb9d22"
      },
      "source": [
        "***4. What is the purpose of the `return` statement in a Python function?***\n",
        "\n",
        "The `return` statement in a Python function is used to exit the function and send a value back to the caller.\n",
        "\n",
        "*   When a `return` statement is encountered, the function immediately stops executing.\n",
        "*   The value specified after the `return` keyword is the value that the function call evaluates to.\n",
        "*   If a function doesn't have a `return` statement, or if it has a `return` statement without a value, it implicitly returns `None`."
      ]
    },
    {
      "cell_type": "code",
      "source": [
        "def even_numbers(*x):\n",
        "  for i in x:\n",
        "    if i%2==0:\n",
        "      print(i)\n",
        "even_numbers(1,2,3,4,5,6,7,8,9,10)"
      ],
      "metadata": {
        "colab": {
          "base_uri": "https://localhost:8080/"
        },
        "id": "LhzYgJORoOWJ",
        "outputId": "a0fa9194-9b01-451c-f520-acf8e2fad9db"
      },
      "execution_count": null,
      "outputs": [
        {
          "output_type": "stream",
          "name": "stdout",
          "text": [
            "2\n",
            "4\n",
            "6\n",
            "8\n",
            "10\n"
          ]
        }
      ]
    },
    {
      "cell_type": "markdown",
      "source": [
        "5.*** what are iterators in python***\n",
        "\n",
        "ans: An iterator is an object that alows traversal through a countable number of values. It is used to iterate over iterable objects like lits , strings, tuples etc.\n"
      ],
      "metadata": {
        "id": "tOFa2QcxqPU9"
      }
    },
    {
      "cell_type": "code",
      "source": [
        "a=iter([1,2,4,5,7,8,9,10])\n",
        "print(next(a))\n",
        "print(next(a))\n",
        "print(next(a))"
      ],
      "metadata": {
        "colab": {
          "base_uri": "https://localhost:8080/"
        },
        "id": "m2RM7M2LsaJ_",
        "outputId": "3da3f085-740e-426c-dec0-e4189d022c4f"
      },
      "execution_count": null,
      "outputs": [
        {
          "output_type": "stream",
          "name": "stdout",
          "text": [
            "1\n",
            "2\n",
            "4\n"
          ]
        }
      ]
    },
    {
      "cell_type": "markdown",
      "source": [],
      "metadata": {
        "id": "qDljaICM9puz"
      }
    },
    {
      "cell_type": "markdown",
      "source": [
        "***.6. Explain the concept of generators in Python and how they are defined.***\n",
        "\n",
        "Generator are a function that pause their execution and yield result instead of returning the value and exiting completely.When a generator is called it it doesn't execute the block of code immediately instead it returns a generator object  which is an iterator.\n"
      ],
      "metadata": {
        "id": "VIawwaWF-xQW"
      }
    },
    {
      "cell_type": "code",
      "source": [
        "# defining a generator\n",
        "def  square(n) : # 1st define a normal function\n",
        "  while n>0: # defining a norml condition\n",
        "    yield n**2 # acts as an iterator\n",
        "    n-=1\n",
        "gen = square(12) # call to generate sequence of iterators\n",
        "for i in gen :\n",
        "  print(i)"
      ],
      "metadata": {
        "colab": {
          "base_uri": "https://localhost:8080/"
        },
        "id": "E3bdBy1W9mGl",
        "outputId": "6fc3cb4a-c96d-47ca-cb60-cb7ef7bad81d"
      },
      "execution_count": 10,
      "outputs": [
        {
          "output_type": "stream",
          "name": "stdout",
          "text": [
            "144\n",
            "121\n",
            "100\n",
            "81\n",
            "64\n",
            "49\n",
            "36\n",
            "25\n",
            "16\n",
            "9\n",
            "4\n",
            "1\n"
          ]
        }
      ]
    },
    {
      "cell_type": "markdown",
      "source": [
        "7.*** What are the advantages of using generators over regular functions?***\n",
        "\n",
        "Advantages\n",
        "\n",
        "\n",
        "1.   Memory efficiency: normal functins needs to return a sequence of values thus  stores result in the form of  a list whereas generator yelds value one at a time and doesn't store the entire sequence in memory  saving space\n",
        "2.    infinite sequences  it is impossible to create infinite sequences in a function as it will run out of memory soon  where as in generator it is possible .\n",
        "\n"
      ],
      "metadata": {
        "id": "zAFgO_A8-TV7"
      }
    },
    {
      "cell_type": "code",
      "source": [
        "def squares(*a):\n",
        "  squared_list = [] # Create an empty list to store the squares\n",
        "  for i in a:\n",
        "    squared_list.append(i**2) # Append the square to the list\n",
        "  return squared_list # Return the list after the loop\n",
        "\n",
        "print(squares(1,2,3,4,5,6,7,8,9,10))"
      ],
      "metadata": {
        "colab": {
          "base_uri": "https://localhost:8080/"
        },
        "id": "evjTmKRWAMwh",
        "outputId": "70811aff-2348-4264-fcd3-387401432eef"
      },
      "execution_count": 17,
      "outputs": [
        {
          "output_type": "stream",
          "name": "stdout",
          "text": [
            "[1, 4, 9, 16, 25, 36, 49, 64, 81, 100]\n"
          ]
        }
      ]
    },
    {
      "cell_type": "code",
      "source": [
        "def  square(n) : # 1st define a normal function\n",
        "  while n>0: # defining a norml condition\n",
        "    yield n**2 # acts as an iterator\n",
        "    n-=1\n",
        "gen = square(10) # call to generate sequence of iterators\n",
        "for i in gen :\n",
        "  print(i)"
      ],
      "metadata": {
        "colab": {
          "base_uri": "https://localhost:8080/"
        },
        "id": "e3vW_qfMEQ-y",
        "outputId": "7d742b9b-ef3a-49f8-f963-0c8dbb442f2a"
      },
      "execution_count": 19,
      "outputs": [
        {
          "output_type": "stream",
          "name": "stdout",
          "text": [
            "100\n",
            "81\n",
            "64\n",
            "49\n",
            "36\n",
            "25\n",
            "16\n",
            "9\n",
            "4\n",
            "1\n"
          ]
        }
      ]
    },
    {
      "cell_type": "markdown",
      "source": [
        "*** 8. What is a lambda function in Python and when is it typically used?***\n",
        "\n",
        "Lambda function is a anonymous function used to shorten a function without defining it . Lamda function doess the job in a single line command instead of a full derieved- defined code."
      ],
      "metadata": {
        "id": "zrxil4MXElVW"
      }
    },
    {
      "cell_type": "code",
      "source": [
        "a=map(lambda x:x**3,[1,2,3,4,5])\n",
        "print(list(a))"
      ],
      "metadata": {
        "colab": {
          "base_uri": "https://localhost:8080/"
        },
        "id": "L9AFcyp8GeoX",
        "outputId": "b9324ca2-c560-4b3c-db38-90f72729a5b0"
      },
      "execution_count": 33,
      "outputs": [
        {
          "output_type": "stream",
          "name": "stdout",
          "text": [
            "[1, 8, 27, 64, 125]\n"
          ]
        }
      ]
    },
    {
      "cell_type": "markdown",
      "source": [
        "9.***Explain the purpose and usage of the `map()` function in Python.***\n",
        "\n",
        " map function appies the given set of condition to each an every element of the list .\n",
        "\n",
        " It is used to shorten the code by typically iterating over the code using  range function then accessing its elements which increases the space complexity of the code, map function does it in single word.\n",
        "\n",
        " It is used to define a function for a set of values in which the condition is applied to each element in the list."
      ],
      "metadata": {
        "id": "AQdjyCzIGrnS"
      }
    },
    {
      "cell_type": "code",
      "source": [
        "a=map(lambda x:x**3,[1,2,3,4,5])\n",
        "print(list(a))"
      ],
      "metadata": {
        "colab": {
          "base_uri": "https://localhost:8080/"
        },
        "id": "oX8ULeYAH-On",
        "outputId": "c240d482-45b5-4d94-9c90-68eb8f0c1e30"
      },
      "execution_count": 34,
      "outputs": [
        {
          "output_type": "stream",
          "name": "stdout",
          "text": [
            "[1, 8, 27, 64, 125]\n"
          ]
        }
      ]
    },
    {
      "cell_type": "markdown",
      "source": [
        "***10. What is the difference between `map()`, `reduce()`, and `filter()` functions in Python?***\n",
        "\n",
        "1. map() : used to to apply the given set of condition  to each an every element of the list.\n",
        "2.filter(): filter operation is used to filter out the values from the list based on the condition provided if found to be true\n",
        "3. reducce():  to rduce an iterable to a ingle cumulative value by repeatedly aplying a function to pairs of elements."
      ],
      "metadata": {
        "id": "ub2A6bvTH_5t"
      }
    },
    {
      "cell_type": "code",
      "source": [
        "map_function1=map(lambda x:x**3,[1,2,3,4,5])\n",
        "print(list(map_function1))\n",
        "\n",
        "filter_function2=filter(lambda x:x%2==0,[1,2,3,4,5,6,7,8,9,10])\n",
        "print(list(filter_function2))\n",
        "\n",
        "from functools import reduce\n",
        "reduce_function3=reduce(lambda x,y:x*y,[1,2,3,4,5,6,7,8,9,10])\n",
        "print(reduce_function3)"
      ],
      "metadata": {
        "colab": {
          "base_uri": "https://localhost:8080/"
        },
        "id": "3xf-mYqXJLs5",
        "outputId": "b76bf394-dbaf-4232-814c-52095ed58867"
      },
      "execution_count": 35,
      "outputs": [
        {
          "output_type": "stream",
          "name": "stdout",
          "text": [
            "[1, 8, 27, 64, 125]\n",
            "[2, 4, 6, 8, 10]\n",
            "3628800\n"
          ]
        }
      ]
    },
    {
      "cell_type": "markdown",
      "source": [
        "***11.Using pen & Paper write the internal mechanism for sum operation using  reduce function on this given  list:[47,11,42,13]; ***\n"
      ],
      "metadata": {
        "id": "aqBtE0V2FT_Y"
      }
    },
    {
      "cell_type": "code",
      "source": [
        "a=reduce(lambda x,y:x+y,[47,11,42,13])\n",
        "print(a)"
      ],
      "metadata": {
        "colab": {
          "base_uri": "https://localhost:8080/"
        },
        "id": "iC_NdycOF1eb",
        "outputId": "e0ef2990-bb36-4a3e-b4a1-376c71a1083f"
      },
      "execution_count": null,
      "outputs": [
        {
          "output_type": "stream",
          "name": "stdout",
          "text": [
            "113\n"
          ]
        }
      ]
    },
    {
      "cell_type": "markdown",
      "source": [
        "![WhatsApp Image 2025-07-22 at 9.10.40 AM.jpeg](data:image/jpeg;base64,/9j/4AAQSkZJRgABAQAAAQABAAD/2wCEAAYGBgYHBgcICAcKCwoLCg8ODAwODxYQERAREBYiFRkVFRkVIh4kHhweJB42KiYmKjY+NDI0PkxERExfWl98fKcBBgYGBgcGBwgIBwoLCgsKDw4MDA4PFhAREBEQFiIVGRUVGRUiHiQeHB4kHjYqJiYqNj40MjQ+TERETF9aX3x8p//CABEIA/oFwgMBIgACEQEDEQH/xAAwAAEBAQEBAQEAAAAAAAAAAAAAAQMCBAUGAQEBAQEBAAAAAAAAAAAAAAAAAQIDBP/aAAwDAQACEAMQAAAC8Rc0lAACUzsq9VQEAAAKIolAAQKIogKACoKgAsAABYAAgKAAWCgEKQogAAFqEsFsEqABZVlAAAEAAAAAAWAAFnGmZ3lpyLRxNQsDLXg46vC3rng10w2S3mlQVBYACdDi9U6vNO98d9TqyooY10Y8a5y5zqZsoSdc4oZ0lgA575Oeeoccbc2eDz+vy7kRZ9iy6hKAAAcBdEqAFAhSFiFQUFBLKAAJYLKAAAAAAAAAAAAAAAFhUoAAEAAAAAALAKSoWKSgAAAAAAAAAlLm65L1xwd8daGN2GLYY3WGPXfJXMKlFtJQXkdOBozGrOG3eOp1v59bNrx1Z0is+8tY5y2zjLjTiWWJU6YvIzpLCVRLDmXknNlnl8nt8e5yLPrjUoACUAzougSwLAsACVSAWCkFgqCkLAWUAAAAAAAAAAAAAAAAAoAAAgAAAAABYKQsUlQqUAAAAAAACghKM+duV4156AAQAAFSjiaDJqMuu+BeYaXIasujS503uOlaaY52evLH0HXcJOO+DPjvjNglsTNDGkAsJKOFhxLzZj5PZ5NzJGp9kWCkUAAZ2F0KkoAAFgQWABahYAAhQKAAAAAAAAAAAAAAAAFgWAsoQUhQBBBQAAAoAACwVBUoRVQlSwAFAAEsoiUAAAAAAKAAAlEqknQ4mgz666GvHVmtztmk5F5cxOOuZqCLLM2S3NjqS2WE56hxOuTnnqWZ+T2+bU8yq+oXeZYKAADOyroEEKAQqUgChKCiKJLCpQBYKQKAAAAACUlAAAAAAlUQqCoKkOnA7ZyNWI2YjZiNplTRmNJwNGY7uY0nA0ZjRmNGY0ZjRmrS5DVkNWQ1ZjS5I1ZQ2Y00uQ1ZU0cU6cjtyOnI6QUhUoAAIUCygAF7z6TvrO125R1OQ5sUICWWXFLZeVhCHMo4nUsnn9OVeJ0s+gOmUsFAAg4sq9hAKCKAAFgWUAAiwAAAAqABYFgqCpC3mL3OYds4asRtMhqyGk4pUpFgURRFpy6HN6pm1pk1GTVGV0GbQcTWGd0GbQZtBm0GbQZtBk1Vm0GbQZtBldBk1GTVGTUZNRk1hm0hw7hyok6HKiLCgt5HdyppcobTMashsxprcujq8U6cjtzTq8U6cioFiKllJcXpEt5CTrg5jkvKVc++bPK0WesdMoFSksAHBV7KgAAACwVAWFQVBYABBUFcxe2cNGQ0ZjScgCUIojqnLumc2GTUZtBndBxehFEoAgAAAAAARYFSgAAAUAAAsAACwALAAAAAALEWBRAqWnE0hxNBk2GU2hk1GV0hm7HDovLqEoFhbyNGY2Yo2uFNWXWLq5uaQXi8k5quZRzOlYtFmg6YAAKEozsq92EoAAACUJDpzDtnF0ZDWZjuciyiLTl1ThpTK6jK6E4vQlAAAAAAUJQQoAAAAAAAABCgCKgWUAACgAAAAAAAAAAAAAAAAgoAAAAAllVYKlIoAAAk6pm0hm1S5TYYtsc3u8dZtEOeoczqVzO+SLa5UlHXCUAAJYvFg0QVOTtkNZmO5yEoi05vQ5aUzajNoOHYlEAAAAAAAAAAAAAFJQAEKgoABCgAAEKAABYKgqIUoAAlAAAAAAAAAAAAAAKAIAAASiWUAFAAUAUAACALhvjmzvPvOu4sQHLqVzOuSJDtys6HXABBZOTuZlslKojscNRm1HF6EogAAAAABKAAAAAAAAAAAAWABUFgVAQdTkds4azKGzIasxpOKdSAtOGg4aDJqMmoyajNrDJqMroM2gzaQ5dQlCoFgrmlcjpyO2Y0ZDVlTS4jZlTRxTq8jpyOnNioKgqBYLZQAlAALFCUBVgUhnpxLl1yxrTrjuCBLCSyuOe+AE0cztjqcReuaI6pxdBl1KaBBSUAAAAAAAAAABCgEKgqCpDqSHTiGjIasqaMx25olpw0pjdRk1GbQZNRw7HNoVAAoAAAAAAAAVCpYCgAAAgKAAAAAAAAk6HE1GTWGTVGV1GU2GN0HFsF4GjOmkzGrIbMRsxpqy6O7wO3I6QvSCwjGWY113n3m2UCnPPfJxxpnXKErq9s83upzaAEsM+pV7CLBUoAAgAVBUFQVIW8w7Zw0ZDVmO5zRz3TNqMmozvY56UigAAAAAAAAAAAAUJSUCCgAAAAAAqCpQAQqCgAAAAAAAAAAqUCAAAAAIsKUiiUAAJOqcTQZXQZzUZNauTVGE74xq9cdy9nUcWwc98nOenCZqrQdsIolAgBxZV7CAAEFc8mjIaM6dzmidUzajK6DO9046URSFIACwAAKlEoAAAAAAAAAAAAAFIUlgqUAAAAAAAFJZQAAAAAAAAAAAACgAACAAABC2CgAAqUAAAFAVZYzy3xzqWM3brPSIQvNhONOUyVXSO2ABSLBEObxF3Z1OpBDiu2UN+vPpGtlACwsAAACoAAAAAAAAFlBCgAAAAAAQFgrkdOYds4asobMhqyGrMduB24HbgduR05HTkdOR05HV4HbMaOIaMxpchqyGtyhtMhsxGzEbMRsxpqzp24p1eUdOR0krpEVKAAJQsFAAAsCgAsoAKoRM9OM3N1M6aZdx0gsBzeUIIO+CQ6nA65vRw0hl3Ol7CTyewfM9Xplkw9HkPTl6B4fTr4D3pYJydpVHJ0AAmRq83oLfJ60x182tXrwjva+Q+jEly3x0OnI6cQ0ZQ2Y01ZDWZjRwO5zRzpTJrTGbjFtDNqM2g56AAoigAAAAAAolBKCUAAAAAlAAAACToczsZtBnNoZNkYXZWLYYtpGfXUJZDucw76yGrKmlxGzEbMqas6duR0gtgqUqFvHfOLOdOc6y6ljopCnM6Jyoy4vffGfXQAASw4sq92EoAJ5PX5LPYB5PT4zWZQ028vvMdvPTby6cHqsS3yerzGHPv+dZ9O+L0R5Pd5ea09GGsYY+jutPB7vIa6ceiMmpc2o4vQAWABQAAAAAAAAAAKJQAAAAFIoiiKEolAAAAAAAAUgCwFIoShFAAAAgBZSLACgAATocTQZzUZXQZNaZNRk1q5ddzNksxeF5l7vPRKCBAmY74AAASw4sq92VBydIHk9Xjs93OeB326O/ne3gz9eUNPJdzybNg1S5XSmWfpiZ6KqUAIpCkUSygAAAFlhQAAAAAAAACkKEoAAAAAspCgAAEoAAJQAAAKRRLKRRCgAEoAAAVBYsJRFgBQAKAACwUAAoAnXObzExq8dcS3vPo7iCWBByO/MAAQsnJLnV2nJOvP6IeTXu2efH3ec010Rx10Io58noyrfoPJ6fF7yxZZYLAAqUSgAABFJQAAAAWUIKAAAAAAAg6SFQdOB2zhqxGzGG7EbMhqxpqyGrKG7EbMYbsBuwG7CmzEbMhqzGjOnbinTkduRbyOkFgVBUoAAsFIVEUEBQKhSFAAAoALKAJUuaznqc98rxYNEsFHLoZI787Jydziid04acnHUq9lQACKJQASw89vNnoIeL3eL2gSikAAsoAAIUBBUoQVBXMO2fJsxGzIasaasx3OaOe+jG7DFsMWwxuoyusM2ozaDi9CKAAChKIoAAAlAACKJOhy6HDsZtBm1GU2GLYYXYYzYYtxg3GN0hzUOrwO2Y0Zw2Y00uI2uI2Y2NWdNGdO3I6vFLeR0goKgpZcyY1eOpLmsLpn3HVgqDyNL35592FlhUolhxZV7KgAAhUolCBPn/R4Th5+6vqlgFAsBeRXPJoxGzEbMejuc0k76MbrTC7DG6jNoOerBQAAAAAUEollPF7Pk/WSnC9oDwes1w3+ce/rjsKJQAAEKAAAAAAUiwHJb4PcWglAhQASgAAAWAAHmx3Dfz+kAoCjmdjNojJqM5qMrqMWwxbDFtTFtZcb1zjSJLzz1yNM+jREVBmO/MQsCgS8nN56XsIAqFgEFcw7Z8mzGmjKmk5pJpTJsMWwxbQ46oKJQAAAAAA558PqT0hQE8PVntEoCwFhUoAB873+Pezb4/u8B9jrLU8HozyPf4nJ7e89FPHkfReX0lssSzM0x8O9ezry6xpfN6QAQrDYrHYAqAU46sKBKIeM9d+b6z0Jmauegz6OgLBQAAefvkbpSTLyH0bz4D6F+V7T0WUAAqCgCCgCpTnnvjG+Z1zmzjvkllNLLBS4jvygCiARyTrGruyqdyUk0pk1GV0Gd7EoFgWFQUAAAIlwN3l9QAAAAZ+c9iUeX1/OPXqoCgfO7YWfUsoz83nPp9eDk+j5/R4T1Z+bY3y8fvNb4fcfP8fo1OM/r+I8f1fBK9GXfcb/ADfreE3183qPB9D5/tPB110ewSvF7RhvKeCb82X1+L2FJLcdR8v6fj6sw+l8v6hRLYACZYnssolhx5fZ5T1eP15HXz/VrXWc6jy+rPlPZht519PM8Z9DrPQEKgy57zPRL4SerHCvpcTSM8tsbPVebKmPB6rhqdFCZmrz7HV8Oh6nPUVKTnvjGuZZnXPPfK8hO+8+jtyXInblXHJpOaSaUzaQz7lXsqRYAUAEoQolhQAghUoYjZYOPKrn3+P0GkDhhkT6Ph9w83fjNZ12aakPn/Q8FfQEAAZ/K+r4K+j18+nHp83B6/NeT6fj3yJ6MqeL6vm0Md8uzwb+nE083mp9H53XtOc/dwcebWGHs8/uPPj9AfM19vlNL3pLi1GTaGN2Hk12GPj+j4DbvZWOXryTw+zx7m7XqXBvDFsMOfSMW1MZuMLrDi9QXmDvgc8d0154GGHs8ln0O/n9r7vn7+U92vnsd43E9zLonj93mO+dO68/Pp8p7uuLHOG+CT0YbGqeZe/Jx9CzLfD0HjvrzXrbzemKIcacZ1zKxrnnTNeVhe+OyiPJdHflx2AoA565OOpV7UgETzJ6r5vQULF8p6Xm0TZKAcYNDLn2fMr6Hn38B6Jp6C+X1eA9F2wOfP6vOevTzeg8XPI+jfFoY+7yZnvvgp6e/NuTw/S8xo59BjdkY8ekfP8ATurK6oz66EUAAoAACdQFAIolAAAAAAADNoHn9Hy7OPX6ND53s83sOxKBKCUAAAAAAAc/P35rG/RyTzbX0rn10gDnyezxnqOjjz+zEy1upl5focmPWvBnj7KeTrfpMmxfJh9Inx/bNqnj+hhL1pjTeyxZWdcjGnHXKwE65GjlHCu/KKJQASw4spolEuR571tZ8z6XzfqHaWHPXJlLqTvjk1YjW4jb5fv4rPvvo83Xo6PN5/pU8fHrHh9Hpp8/n6SMNOxKEUJQKQGGfrtefbpAAAAAKKRYUEUAAAIFAAAAAAAAAKTxe3g8/r+TvY93i94EoAAAAAAACykUYc+jxHszx4NfT5/SAAT530h4PVqAFgqcl+dp6Dvv5noPY47JPJ6DYHl37CglwMPZ4/cdcdc5vEsxtLJeQSWHSBK7cgAAEvJz1xDdjTXGk8/d6rxa+zo8m2yMWwyajjroRRFAAAAAAABYCkURRKAAAAAAAoAACgAAAAAAAAAAAAAAAWKMtRKAAAAAAAAAAACUYXYLKSgAA83p8prrjiazDo9mV1rwaeryHq567PG3yTr0yy2USoUDLWxKF565lzlY3J1JeFhJ1CKBO3KueDWZ06460MZvyY92nYACiURKAAAAAAAABSKIoASiWUigAAAAAAAUlgqCgIKgqcnbOGrGG7AbsBuxhuwG7Au7z03mI3YDa4DZiNrgN2I2Yja4DZjDdgN2I2uA2uA2Y02YDeYjdgN2A3YDdh0a3Gmjgd3gduR05HSBhv5zvXHYx8m8r06eX0R15PV5T0aZaF8vphnt4/WWxFlACwVKWWS5y843YSznqCWEUYtnbln3RKACWHFnR2AAEAAKIUiiFAJQAAAAAAlAAgqcGjGG7AbsBuwG7CmvPPRzztTB6B524wu8MLuMG4xuoz66EoAAAAoAAAAAAACygAAAAAAAAAAAEUczQZzUY3UYthi2GM9A8/HqHk59o8d15PJ6ddDLze7yVpo0M18B17c9YtkjpzDRkNbmNLlDZil6hjYSydQijlRB25ACkoOeuTjrno7CFgKJYLKAAAIFQVxyasBuwG8xGzGmnDozm9PPdxg3p57sMe+6c2iKJQAAAAAAAAAAAFJULAAFIpYACwAAAFlAAAAAAFgAAAAAAWUIKABYBQlBCgkoef0U+fj9XEy432PD7NKCxALAsoAIWEvPPXOdLOs6ksJZSKOR25AgACWHFhdEJblDZgNmI2ZDvm9GTamDcYNxhdhl31SAKIoiq8vo8uZ73j9pFARKAAAAAAAAAAAAAAAApFEUSwUCKqBQSoAAAVKJQAAAAAAABKhUoAAAAKSgAoRQIUEWCygBQEAAKhUBBZC2ESWZ0vPU056kSqFGY7cSQ6ZQ1mdLxrTz3UvN1Jx2AAABRAFUB5PV8r6wBPH7fmHq9OegAcdgHmw+h5D1vN6QIAAAAAAAAAAAAAAWCglBAAWBYFhbAAqABYAFgqCoKgqCoKgqCoKgsCpRLCpRZQQAoALLBYAFgLBZQBYBYEKgqAkKhRCpYEzqdRLZZK656Kg802vbjj1oJQAc9Qz6lXtSJRKVFAhZ5PYACFeTg8/0Pm617tcN4fN+l84+iB4fb80w7+t8s+l3huJR836XzvogQAAAAAAAc8mjGG7zj0MBuwh6GA3YQ9EwprzOjnnamD0Q870wwnoGE9AwuwxbVcG8MZuMZuMG4wbjGb087cYzennb0870DBvDGegee7jz3cYT0QwbjFtTBuMG4wbjFvDGeiGF2GN0HDscO4RQvMO3A7uQ1uNNWNNWSNmA2YDZgN5jF3eem7AbsLG7LXOkqVLJZ1z0UHCu3GKIUlCTqLnZa0QlZ+Y9rPQELx5vQXv5/wBAA5vyOT6/WO587bnqvWWJ876PnN74vYPm/TzL8vfk+jfHqb8ZeM0+h5ezdgjaZUs76MZ6B57uMG4wbjC7DHvQc2hKIoigCUAAAAAAAAUAAAAAQqUAAAAEKAAAAAAAACgAAAAAAALACgEiwIQSxQICyiUgUnRnRLmpSywdIIO/EAABLyvFlOPm/V+Ynq9PeB4ufXvXj4+n8+Pbp5ujy/R+Z6z0MIeH6WYy53p59tOzObjGbjwvcPL3uMOtRxx1meb2a0iiKiKIolKCAAAAAAAAAAAAAAAAAAUAAAAACUAAAAAAJQAAAAAAAsBZQAAAAAABYLAQhEWxCwAAKlAioLZ1NRWbBEUFLyrvxRQkKz5NplF6nHRfF9LwJrl9AYXcefrYcdURRFEVEVUVCURRFEURQAAAAAFBAAAAAAAAAAAAAAAAAAKAAAAAAAAAAAAAAAAAABYACwVABUpLBQAACkWEsFiRYioAhUFAABRCyjrmy2WY0KRYdAz4nfflm3GHWo56CTqGdF7+f9H56fQAAKQAAAAQBKAUAEAAAAAABQAQFABAAAFgAAAAEFcw7ZQ2YQ9Dzj0POPQ849ExG1wh6HnHoeceh5x6GEXe4Q3YDdgN3npvfPD0XzU3YDdhTd5x6HnpuwG7AbsBuwG7AbsBu849DAbsBvfOPQ849EwHoYDdiNZlY0nEXSZjScjpyOnI7cU6cjpBbyjpB1ebL1LM6FiyyOnIivRyiwKIok65OAunzvo/OT6LnoAAFIAAAAAUgAAAgAAAAQrjmtWEj0POPQwVuwG7CHo5x6Oueu4xb08z0DCeged6B53oHnu4wbjHrQcXoSgAACgJQAAAAlgUQAApKgURQBKAAAAApAAAAAFEURRzOhxzpzLzOxm0hnNRjdRk1GTUZNRk1GbVGV0pjdaUY3bOoiyIog9HIAABz1ycWF0+f9DhONlEoiiUAICwF5h2x5PQ843YQ9Dweg35x6OuNOjGehGDcYNx57uPPfRDLrRUqFikURQlEpACUAAAJQlEAAAACgCkAAAWAAACWAABQAAAigABRFEoARRAAAACgAElkSWKIAAAAAKAAFELKWy406lzbKOVElejlFgAIXm8nLOL6piTZiNmA2547OJtTz30Qweged6B5+9Rzbmdvle09JD5H2PkfSNWWoAEAAABQAAAAAAQAASgAAAEAAAACgAVAAKCAAAgKAQAFAAAASgCykWCygAEspFgAoJYVAAhEl5UAgAoAAAFlAFiLZTq8940S5tQEBg9HLaZQ0460MG4wbwx6Ve1IAAAAAsCglg8fsHy8fq+avX4+vZHyPq/P+mAAAAAAAAAAAAAALEWWAACUSgBAAEFAQtQVKWAASgABKRYLKCFgALBUpYhZRKACyiWAFShBYAAFQVAIWEJYObFlgEKlAFlBCpQCpSoig6646xq2XNAA5V6OUoAAOeuTOi6WELBnp86z6L5H0DcSgADIy9XxftGHPpHkx+iM9A8nrAA58J9B83Q93GOB9Dz9w06+Z9M8enhF293jPdMNwAAAgqIqCueTtlyeh5h6Z5x6Hnpu849ExhvfON2A3Yw3YjWcUsU5d1cmtMG9PO3GDcYNxg3GDcYzcYNx53oHnu4xbDGbjBuMWwxbjz3cYNxg3GDcYNxg3GE9A893Hnu4wnoHneiGDeRjz6IYTeLjN4ZNRk1GTUZNRm0Gd7HDscuhFQKXTPvOtLyzaiWAqvRxiwKEonPXJwF7nXxk+xz8r1V6cHR87vfSz3IzQAEo+H934H3S1AAAAQ8WP0uDj5fu8dfT5y1jj1/J7NPoeDcz50p6MeYc+rz6F576MHop524wbjBuMJ6Bjdhn11IAAigCLAAA82laqiKAIFWAABYAALLAUgAAAAAFgoAAAAAAKgsCwAAEsiEVAgEBYKAACoFABZYWUEze3FmukS1BoO/EBKAJz3wcUW8akLCef0jLWcnbLg9DCHomA3YD5P1/m/RNOeuzGegYT0Dzz0jzvQMOtRnxuIUiiUAEsACwWCpRKIogKlCAAIEGWvnrPnL6R4vV35j1eT14Hl83p1rj2ebg+hKyAgUgqCglgoBydoAABSAAAAAqCgAAAAAAAAAsCEgFksJAAAqCoKACkLYKiKUc9SWFzqdRFC6jvxHB2xhtfON+M4ONacXcYT0Dzz0jz9bDProRRFEURQSiURRADM0eH3AAA5OoAC46llgPCe5noL8v6ZYFQGXzT6753R73i9oAJAE47yry+74noPqvm7HsIeb5v0fJT6Xi9B6UuVBJRApBbAIdQAKlAAFgAAEKlAAFgqUAAAAAAEKACCIRUsOVgAAABQAVAoCwsF56kvHfNzqyyOkLG7vxw61HPQAOeuDkGsUiwAFIAAAAAABLAB8vbc70DPye3zGPXr6PDn9H59fSJFB8P6vn6r3TPzR7fkfUHm9fzfpHma+U94AEnzz6Wfi7PVpn2VBYQgOelYbg+b9D5x9MHyfqfM+qPnfR+cfQ6y0ioKgEUCoLAoAFgWCuR04Hc4Gk4hozhqyGrIasobXCm189NmA3YD0MIeh56bXCHoecbsBuwHomA3mKNpjDZiXSZw2Yw3mQ1ZDZiNrhTZiNmI2Y02YjdijZjV7Oca0cdwUbDvyAAAcdcnMsNSBhsWwEh0ohydOeyLAfKPqTwe00BFg8+/zjT2/L9FeX6PzOj6ty1g8+J7fl+jzV7te5HhnvHz/AD/V8VejXSQB8v6ny/qD5f0vln155ujd5x6HnHoYDd5x6HnG8xsdyQ8u2vFMdtD5ft9QwbjwX3D5mnvpg3Rg3hi3GDYYthg3GDcYNxhdxg3GF2GLYY3UZtC5tBw7HLocuhFEUSqRRKAAApAFEKQEWEWRJ1F5nUIsBSKIUlAAUlAoCFVZzoxcuu+peXQ7HfkAAA474OQafK+n8Y9fH0fm2aer5ftJp56fR+b6fnH1/H6PMa+ryessJUnzD6OefqKnBrMeTdgNmMMtvN1Xueextzn0T5/0cDR6B5248/m+jTzvQPNPUPJ16R57uOOqIoiiKIoiwSiKOaCdQOehOhy6EdDl0OXVOHY4djh3TNoM7oM7pTJqTNqMrqXKajKacnE75IJQAAAAFgUAAAAAKgqCwIsEshLFksBAABQAAqCgqCiKU6TrGltzSiK9HKFIABx1ycy8G2Tk1xo78Hsh87z/AFPHZ7+pTx8a+k8/oy9x53oS+eekea+gYdaCUEoijyO/mV9pURYCkUFHNtTm9Dl2OHdM73a4z6+OfaaDNqMk+dX0p87pPe2kuU2GU1GTUZNR8j09d1rZ4j3NbGS+KvZZsZNUZNomV0pk1GV0pldLWV0pldBm0GbWGfOsMuNeZcuNeJeJ1zBCgWBSFSgAFgVKAAAAAAJYIQliyWAgAAAUAAVKLKEsLKd2dY111xpmgcvO9HLdgTvjvswb1fPz6uDz9aDq0RRFh5u9g+b9LxWa7dQ8H0fmfSAlAASiAAMPGfQ82XNn0b8z3mnPXyj6G/xPWfQtBQrA26+X9ayOqcuqc89fKrn6W3mNdfjfbSTvg+B9HH7FZ/H+l5z3u0cTQefze/xnn9+Gpq0Hzur3WXj+lyeH7HzvXXy7p9g+X5vveI9PXz/pycNJLw0hw0GbQZ3scXscXqnDsnDSGfOvK5ca8RlntnNZcacS8iUAABYKgqUAKIoEKgpCgAgEshAkvKgAAEoBUFSgFSlRFSmvXOmNc6cdZtByPRySiVAonHfBysNAAAID5/0Mya/E+pZ5PpfN+kBKAIWAAlHh49ngs+k8mpuB8z6mZx8n2eSvuaTqF+RxZ9ueC15/q/F91a+vD1SLaeT533VfK6+nT819/wCZ9qo6snGb4Ner7PydT6T5fB9dl6Iz8H0x59exxNIfM3y6r1fH+75j5X0b7D4f2/lfQNXfnPlfb+Z9MXmxXI6cQ0Zw1ZU0uI2ZDZjTWccmnOfMaZ8cL3nxlm958ZTWrBG7Au7Ab3AbsBuwpsx6TXrPqu06JOocc6cnCyVKOXQ5mkOGgyayM5qMZtFymoyajFqM2ozmoya0yajJrTG6jJrYya063x0xp1x1m9Aiz0cgQAFZ6ZklhoAAAQAx8v0CY7CgAcceD0nqsoABj4/oLMuPQPm/S8HrNs9PjHft09NfN+p8j7CR1RZE8Pq880+lfNY9N81T03zWvSwh5PZlT2vN0a+fToxejs8r2VPJfXTx31w809VPK9NPnde8eO+seR6x4vnfeV+d2+4PFp6rHnu4yuozaDh2OXVOHY4dji9Dh0M+dOTLjXOXLLbOXHLbHOs+euZVhaCoKdE6ulnPffdnHffVmd0plztDDnfmXzc78S4zTiOVipQIBCBJ1ysABFhSFAsCwWUBCylSnemWmdO+Os3oQJ6OIAAKz0zJOuTQ8x6Xm9Ief0DLT4J9+c9Jl15Na9Pz/ofJPrOOY1mPnX235Y+m89PQ88PQ848ffp6TyY/T6rwercYeT6dPnc/U6rwen0VPN36KmHetrFv0KqWlKotIWkWktEtEq1FsRVSdwi05ZbnLqnDqnDscuhE7Tl0WKOXQ5tHNqJQSqiiTqHHPfEZ8aZrnlrlm5Y7YzWfPXOasqgLKXuaWXRpY7vdzOurXLscTSGXG3BhxvnLhxtnnWfPfMsIWBYEERYvKwAiwWCoKABQCFgtlLpn3nVs6zaI6lejiQAHOZrnxmu8xh3jl6LM9ufnmvv8Al/SMvmenM9Dr1mXi+xD53i9+R7u+uo5dFiiASiAAAoS1adSpepavUtls6FRO7LVspbz0nRaXH49ffv571n1lQULKhYCgEWH579F8j6Om3zvo+COvd8v6gWR5Pg7fZ0+J+l+P9U0RlUKsBYAAFEWCXknHXMcZ6Zrllrjm547YzWcszQVYL1zqnWk11LpzpZ13O7l1bUdDnnSGfGvJhxtnLjntnnWPGmcvMslWUgEshLFkoQIsAKAAACpYAoLpnrm3vjTOoqMJr16OODcYT0DHToTPXJU6hz4PqK5x9A8no7iPk/V+cbezPQfN9mBv5foeA9nfHYEAsWAEWACMh6Pl/Ts6ueZ6epbL1ziemy2dWUvxftfn6/RdZ6Is6Ph+n3fJr715qfD9Xotev5Xs+XX1/RLFssT4f3Vnyb9bmvH7+O8gAPn9d4afS56ZfD+58D7+lS5fP9evyq8f3/m+bT7rz74VBUq1zQQqACoLzYc83iOeOs1zy1yzcstMprjmzNXmrYp1tntZppzprPWnPdnXfPdl6nSFHM6hxz3yueenEuWWucuWW2WdZyyUgqAkOpzI6nMXtmO2Y0ZDVkNbiNbiNmI2uA3Yja4o308nol1040xoIg9HEABKJnpktlhoBABIsqyw8vXfzj63h93zz2ac9BYBECgICUEHzPq/L+rZn4/ofLrv6fn8Vfa/PfoPkpfs+TzWfW6+J0fY+R3nWunPafT6x2kvw/t/E0+71zYvm05r5m31h8X7HlzPpJYvxvsE+R19W1h6JYqUSwx+b9f5FfYRHwvv/H+nWuV+XH2Hy9a9/Hz/AJ56ftfN9J6Xn5l9U8o9TzD1PKPVPND1vMPS80PVzhI24zzNc8817y4yzesWU1eeZL0lldXSznXrezPTTW5y727sx716rK7dJg3Hnno5MOfRyvlz9nEePL25TXiy92Uvinp5zfPdi43WmLUZtBnO0vLocOhyoiiKABQAoCLpnpLr1x1i9IWw78QAEUmWuS0hpLnXYDDdJzfjH2jg7+X79T5vHp9BrAILj54enXnoCBAAWvlfX+T9YfL+qry/P9vqs3+Z9Pk83l19Ce2+Wnq8feVnXv8Ake49fXkp6vnei2a7eUeD6mOR9Dz+TY+Z9b1d1576LHmemnmeonmeoeV6h5XpHknsL5L6h5etxjN4YT0wy76CwUpARQKRRKpFEWHPHcjLjXNcct8pcMPTjnXnnfMs6djWaJdZ3qdaTuzrvnuy9TpFUAk6hxz3yccd8rlnrlLlltjnWPPfEsEqwWABJZKlEBFgSgAFQURUoBdM+pdeuOs2oXsduIAAgy1yWy8nk4y+rZ5fT86nn+j5Peefx/U8Jpn9EeT2fMpx9H5H0j1Tzj0cZYGvGXoHq849HONjrjTusHpHmnp6PJ36aea+m2eZ67Xm73qZadUnSoq06UVUoKWihQVRQWUUAQAFAiwAAAiiKABSKIoAKAIsOee+TjPXiMs9uF8+XpzzfNz6JNYd6U50vdjt3Ze51Z11Oi1UoAEo5565OONOFzy1zlxy2yzcONM5rmyygAASWASpYJYIAFABURbKAWwuvWfeLXI2Hbkc8Gsxh6J5x6MeM19PGNOur2fOfSWfL9e4w8/0YeeekebLP3ni9OehuoiiUACiVSKJ0pOp1YqirYrolWxVFUVUVRSrZRZRZSgUKCpQAAAQWCxSUAIoiiKJQKEoAAFIsJz1DnjTmMuNeVyz2hhNkuN0px110Tt1Y6dFrpFACyhLCc9cnPHfC5565S5ZbZS4ZbZZ1xYlqCoFlJLAISlkBLAACpQIqUWUWVeu+Os0Ij0O3LDTsRRFhMtsVqw0lgAlgCTDfyVfVz0ea89noAABSkoCiyoq0qirYqk6dJLVKoUKqLKKtKCqLKCgoAoSgIUAEAAsFAAAAAsFSgCWCwVABOeocc6cxnO4vDsZuxz1aTqkvUpepQQqUEKkLOeS8c5r3nxnHWXOU11iyzrqYpd2I1Yje4DfnKG0yGs4S9cyknQ5nY4d0zugzmoyuoybIxutXu3nNrlHrHflFgAlkMdsV6iGsABABJjtK8vs+J9Ammeh6ECgsoqkoKqS1SqLKjqWrZS2VLZaoKVFUFFKoLZRZQUWUAqUELAqAAAnJ3coa3AbvPD0vPyeqeanpeUem+WnpvmHovmHoeeHpeaHqeUeqeYb88Uc9Iy59FPK9Q8z008z0jz30U83Xop57vTBuPO9AwnoGF2GLaGE24Mc9+F82foyzrDH0ZS+ed850SgCyiWAEJKBAEFAsFAssAWyrrJ3m5Oh6SduQEAETLbFeueodgSwAJSLE8fg+1K+V9XnsoKlFC2UURVpZRVRSr1KKqLzDS4SvRfMT1PL0em+Ueq+Uet5R675ZXrnm6Npx2czbo819FPM9NPNfQPNPUPJ16R5ufWPNPUPK9Q893GN0HN6EoACklEsh0lAKlBCwAKCKOVRy6EUSqSqRQAAAAAlhzz3yZ8acLjlvjLjltlnWHGmcsEtSgAgAhKiFgALKALBbEUFSr3rlrmxUayzvyASohBlrkvXNhogAAlgBCcHbPmtnnHpvl6PS8w9V8tPVPP0nfPfVZPRU899HR5evTa8vXpqeW+qnm73tZ99A6JLaRQUSrUqgoqgoAKQFQWUShFgWAAAAAAACUcqACgAUgKlJQAAAAAAsCgAAACOee+TPnvhc8tspcMt8ZcMtss65EpKUCBACSpRAAAUAFBUsLKvWuOuXbhLsz578tWMjd5x6Hmh6cs819GfI7mtMG1MJ6IYPQPM9Awuwz66WS0KoqiqSrYqirYqiqKqKtKooiqFVFBQoFCqLKAKAAAAAACUSwAAAKCUQAAAhUHTmlQUAhQCkABUCwWWAFSgAAhRE5sOOe+F4y1zjHHfGa8+e2WdZyyWpRYEsCCwlgEsK5HTgdsxqyGrKmrIbMUejvy+jN6cpdr27cuXUIoSxWO2JZ1yaFIBKIsCUQCrBRZS0LVsWUtlS1aWUtlS2WqUpUVSWgWgCgUWUWUXmnTmlSHQACwAASwLAAAUiiFEsAAAEsAAFgoKCAJSiAoAAAIClgqAIpBz1DjjXgzz08a9ZeLzTX0MPD1m788WWy2WOhw7Gc0HE0S5NoZNYcNBxeqc205qktEVCylssoR//8QAAv/aAAwDAQACAAMAAAAhRJFppI8NZ11BVhVFxx519NN9d99t9/599tBFFDTD+PefP3qiSCDTzb/v/vv6SeL2uDOGlsMMcBRBWwCOKs6hl+A8QCzSDpJ9NNQ5NxNFVxRBpxNV595119599N9V91991JBBDDD3X/8A7+524ww88/1//wCuJqd+IKONf+cmU1UWJr7zZNG3N4CDDb9APkEHmHB1113Wk2kUE0F0nUE333WFG1HGHWH330EFEMPMPu/u8ducsMNOMP8ADR/T2iCDT/OOKMlxp5QAFGC1J9ty4U8ins9N55d505td91pR9lZN9xhBBBBBRBBBxFd9BVdddpNFBDPDDz2+++uOKMNLDRhBKnDDHfzn6++8YwUMa1dF/wCMxkdEEBg2QubQTTfEdUdafdXQQXQXbRcQQUYUSYQQQQUSJHMMOHizzyssw52wxyk9JHXcYhihusvhjgpqlshkKBNK4Mj6A4KcDDKrcMkRY844NfQdXf76wwZXfffTfbbSQZFMBHTWKFcXeVacRXrjlosvgjgvDDDLNPvrhlsrk+1006530XaKHOLCAb2u2OJdjNcwXS7+0CQQdfbz9zzXebccAMMBLJPGAEHDMMEJDXbfffff3yw0/wD0nHW33m32333W33vfP4qY7Jb23ljTxRxQ6j+v9skrjzHv9NOi0EXHHvfcLZzxLrr6ikU333333kkUkEFHGH33W3W8+uMOGEUHn3333122H3mXX/MMMN8OqwhAABzkUIRRX9fXbDEFEMNyRzTgADz6RQIZYMd/8tP/AExx/wDdfeYQRTQURQaUZQUdbTT4YUScUfQXdQVbcQcffAQww426/wDkEQzgAQr5e9s+FR40kEtFAjTTRAqMcNHEkFmFGvPOMtPHf/8Ad1NZB5ZBd9hZxl9FBpdF95B1F5BhJ95JNZhF9hFPPPvHDDLH/ZJEsmKO7LzF+DJGyG4cd5jFVJBBBHrDDlBFPDHf7uaO69JtJN9N1l9xBBBBx199lLBBBBTxV5tRBFNNNRl/DTrz7bf/AD2+5TdBDTa267vP9KUw0YEbywQXcTDChogtAGHv/rq8wz7/AP32FH2333kmE0EF133300kEU0EmEEFlH0330kMMdd+edvOO88tel3g/tjKRQsIFlMesDPvLjwjhCb66oprjz9//APLTD15515BJZBx9955tJBBx19995pBBBBBBR9N9999BBRH3/wDx5w7/AMtNf/lypRQoxyM03/vP+YuqAi6I7Z7r74777b7b7b6ofEEEEFHFmFmEFUE0HHXxH2E3WG1X21WVU0FH3Hmc8Wfvfdu8P/8Avj/rB4SPoyo8VP8Ae11z6g9hWeQU96hkurku4SfSpvusOJXdTQSUdRUTXccQScfffcYUSQQYbQYfffbfXbVQ4QV58172638xx04+VNhClGETW613/wBa977UW392GG7Jfv3NF295JZyz2EE0kEG0k0X3GEF1n3nHHFGUH0k0lX3n3XnFFEHX39+ud8d+8NN+9s8gjWICxj3nPduNKobYEV3Fmc17rcpIBrrKoIDzxUEEGEEGEV3nkkE0n12nkEEHEnFEU13nGnHkEGHF301tPf8AD/jD3vDH7RjHGjDy+/zDHPyXGZVnDz19Naue+KSCCCaiQ8+8pNBBBB9BR9FxNNJVhRp51BFBJBBVx559JlBdNZx9tFPDffnHX/8A4363eRwARz/m0y3x4m1roIglvQQduvvKAghgjijmvtvMOACCICDLJElsn3/cUcQQQZTSdfTbfQUQYXcUVVQWcSaYW8z07718zarSJb4wop1yw0uwwzyEnqzR3vkqsupikrqornpohBhjnokqu9rvhvsowwxxxSTdfedbbYURQQYQffdffZvLVYQZ73y5z+2ogVZT/wAMd8Mcrf8Ana6+2q6KmCC2OyiCCG++67CCd2+u2KCCtbp730s8qrcm+um+y/N7XBR5iBBd9tRhBOOiWqtd9N1vzPdk9dbH+D/z7/qu+OOu+e2mOCCmvbDHP3/3/wB23nsvRZYVSWahpRq/Q00omvZUvndfm+xoVYntDu6sg1x+ukBmbvLOKdaf3Y/cDxTO78mx5mtlgioulgkxy/42aZRXWZX5U98/7SvoXQVW7lv6xaXcjhogqpMWyljnuUdUZWUks+BAoigjOLl8/iVRCE8UZJAMr7+g19sis6wpqyw754ysbVKQvbbbZVZ33Q85z3vvvhugsqlokgwwwklTbQiokgQSQUVbQPaMo5j4/wDagpsZ/GZ5NLv6LD7PKIMN9qKIMtdM8uMHHHnGmNcv9/v8nMsft/7rYLIIAJ4IZp658MEdq6ElIJ680X332nFIrrHVFIcdvYLoY2ySzg3m4Z4BMIpKMMpPlGd/8PPMMte+8/8A37zzjDDfvvv7DDCCCCCeiOC6W++7pJ+aWiSKS7zT5Z9599Mp195ECGEso9kRlxbXFcq2qy+2Ga2zO+ijTDPP/wD3/wD/ALzzDTrzDP8A/wD/AP8A+7zw/wA8csMMccsIpY67CVTKLb7KK7s9UlmXm3W1X0GQriI65qC9NO98IL5IYJIKI4pMYY899PvPsOMMMMMMuMM8e+vf889fP+eNsO8v8986447447/6ooIJa7688MkEX3EGlFFH32p5wDDaNY4Oe775b7D57qJav/ftesMMN8s88dPNP/8AbvrzzjDDDDLDfPv/AP8Aud//ALy++e+e7qCOCOe+qjjTtd9pNBBt5JFB5h6asLXvrzBCVqWu+CHPPDH7rP8Axw4knvqz08sDONB6wxwwwwz7y4/9/wD/AP7zzvDaeCmueCKSemKSyOTLl9Zl995h9hxFBhFdxD3XnL5cX9YayAr7n/fHzvPPPz/xAyAgoIIIiEX7TDHLzvb3/wD/AP8A/vDjf/vvmeyO2iCiGGOOOOeOPfJ1JBF9BVVt9txh9t7HPLng07GlyqMTrPPbjzThxFZJECwQG82260gmO+GzHX737/3vHHfzXH3XfvaGee++a+a6yGyi62+eJxVVEgc8wRt5FhdTrr7AIMLSRG+yzz7jyBNEQgI4wK2A4ssg2o4IOuueuPfPzzTzzDjLHPDDDDCCCCCCGKCCCCGCC+mDX/DVJBFdx199lVBHTn0g8QvLWLSGANMc8M9eK0yOSkM8o0Msss8owyyygCDHLX/3PfDTjrDDHPDyiCCCCCiCCCCCCi2WGf8A/wB92kEFX3n2kV3tZRzzwlc/jmNXzFgzSQQ54CBDDDLDJLLLLIIIIsqgL7//AH//AP8A/wDf/wD/AP8ALfvCW6G+CCCC6CCCCCCW6++e+vP/AC7ccUedbVwuJDALPQ6xUs5TeEPIMddhPKPOAAAjogDAgijjvvvOPvPf/wD9d/fNPN/PO+Mc9Od+scaLbbqarbo4IILKarI7bSQxFWltJ5CAAgzCdcYRmc/DTDCVRrjzzhyzzzzhzzz777r77D77ADBxoP8A/wD17zx36yzyjkggPjlsvr2pssgpjjvnuvjn/fcecWVvpGIACEPBy/VCTz/DCCFbK0EMIAPHKBAPOGDHjjrpsBGMPEJglwxw00//AP8AvCS6euOmW+CV/wD8wjgmtvssogsvq/fedSe4hIAAdfQQXQ+bY2w0NPJOeENMOJNEDLDPgCgAAggggDDACPHOvvy2w0w/3/4zgngtuhukhuQ8/wBMO4JraraoYKrMWNU30sbA3kEEH2nm8Ots/wBI0M8tI8IEMM8sgUq4umAAAA0Iw88U88s8uWDH7jDPz/DOO6CS+yCKi4lN9tdeS+SiS2aOezjHNtfzYg95xpFZ9JPX+P8A82JHBFfLNAWfPPLFrohJgDgihiPugFOMDDrruy0+885/94wy6qOnvvjrGLPPDPHjgogvpjmvrq39X33hCBPccZcVXy2BYgsNMEPfMnOMRPPOCpPNABGvBsiurCIOPDDHAJl48w9//wD3PMP6z5KL75br5z3T/wDvDCC+++2OefX9XuIQctRx1Nl1rrrZQAsAQA1giGie0Ec4OoYUwIgg4wgAU80oIQw8IMxDH5us9c4TDqoMAsS2O+26+KaCTPDCSmK26Sz1dviAcYwNNB1FlP7xgj+MEAs9VgAQww0wwQIQw884oACc8sU4wAcA6yUhHj9m+EsU7D7KMk0a+ayWu6SmLT3vKCy+OuOnVhrmEswAx1R1Nx7HTgXMsMsMNNY0IY8cMAAAAUIWemWo2isWmWKgAaWkMDbBxGw6WDfLm+McyWiiKWaW2+y3qq++GKm+60VTfgwEQwdpJdZFH42TzEAAAJFG6m6y+amSaA0a4IWqMW2UW6qaaw8AIc63xh1dtBDnTvvjT/jXv/8AwnvnnzzwmpijmvsubZR8oBCcWbTbbcV6C+z/ADzwQGk4ccEl1VIL7BTTawoKLLxoLLrKKIIIAQwG1UlX0EwgEUkSSBceJqxUJIPPf+eNKIr/APPNd1TSAE51hR1NVN3xZWPw68AJxkySRZPxOKg88Iyoy262Gvnz74GMCERwQc88wkaAo+3rDrposc0ZaaTO+fHb/wD3igg8+1cVXwlBOcfcQcWaX+UWDAo/+ETaMJqkZZfqAEPOCpZaZ9VCvWmqLvy+YDjJ5888oFIJRhEnrtqn5wH1Gckst7zihtvhjx4QaU27sIYedQUdWT/2JsBkpsqafLDHgqdeoBHOElXQRRit5MOakODMaU0yIYFFVUTqEKANOMDECNO2B5q0spgiv9ejtYhvlQZ+9nCPcVecede25qs9v6whyfAFBLq3vilvoAubVbyOek2et5VFkBun81yywx08Y+3w01i0v4/u5+517njivEYamMqg9uRa39rANRQRbUU/2xDQx/76g1/oqhn8QR1nliMG9dXUJZzenxPN035pqOjNGAOOMGGcAMILrlNMJrF9U6grvst5jklafmpXXf4tKNbTQfYU549uT0z6x911TQTxQV68grmKANl1b9oeOzbO0dalFDX8Td1aXc2yzbLNONNNBCkN0e9pu2Tj5DkCYQjdKfRxkjNeQYcdS9196c+/37/8/OFUbTc9f6toNKirVqalVvouijfwNKtVY04xw/S94fTWCJCMBGLqM7W+vtlLuM9/8CngvnecS8rrOUYZRRVY2cMjww0x10no9VfV/dQ/gnkjk4IAuQPN63bdNnmk8+SUcwz56TQRGMBFABFtlMwRctSU8wA05zsxkY76/QWgiCQURWTcX92fE/62zz8OKafQd2bQbTx7yZwPQExrf7qYGlmCOFacXdAOFFPBADPOPKFLGpPFrSb9NqC8w46yZRqcr3aRkjNCQdTVy97iQKxyx47w7+63+x3fdbT2QWZnVEbrzYs3+FBsBKINYQAJDBCEMCCEPHMBJNH4fyhsknQv3/8As+BrempNelU4ZR31Hk/PMRs+sNd9P+qGHWkMPEWEUGkyakIFj3lAPPQCjxzxwwAAQSxiADDDDTBAABCxzvpHr76VBMf9NfdaYFOocev29ppHHkn8uOiX/wDvTnznWKWjt1V9hdIk6vxCBc71oUjrgkwow4UggEAA8wkAAAAwwIAQsMs9jYg8snPjPL/jje7/AKng953cQmiFeYXZU3hDwdYVx33omo+R5TYbMLq9Qj7fvwFG429FKKOIMCBFDNLDLLDAEALJLNBDDPBs489z62403z45yYieix61aZoqDQZUa94nDBYfa42+luqpzbQXZDJ8Ts5YI+zJXz43hKDEOOAPIHHPAPEPPKADLOKJHPAYb81668w0/wD/AP8A4xpahfy95dXnHMaUbb83qDlQU750zigrvx8eaXOp9X+7L/3NF890qLPICAOPDEINNPDBPPPDAORNTefSYcQRXffXQQdZb85hrc8n9yfbsgAdQfVW8qzpeyzw34mlorgtdYAAvYgVMuyAh8wdEBFMCFIAAAAAAUbbXTYUfVSRUSTTRQeffTbVfSQQRQz4nxonm78TUqlDCfXeUTy8kw8/l88ikpintUXNkTjwDizEG892TFHCKOAIAAEEAEJffeffXfQaVTQZWSfWQ8SRfc/bTex204eGdUpqXXpjEKIaZd6zM//EAAL/2gAMAwEAAgADAAAAEO2+8cQcDTUfcabaQZTfWcRSdTVcYWc1edbQVRV//wDINZsP+qIrKO8+dNPOvMa/XLvNMiAOsO9nySoxh4LEpeBNze/OlBj8skG3scnVUVV02UGUnH2UHWmnU0GXGHmUnH3UkFH/AP8Az6xy4+9240/zzw+0293m0vu/1p/QOBrmmjiYisG8tbs4Cmwy88w9YeaXRUeUUZWTTZdfZQdSfcQQTXbUbTXeXZRfQQZf8x/x095x25yw043/AMP+1Of+57+8P6I+ObrbIcqgjnB/ZqpadNt930kEUGHHWG23HX12U2UU2XTnT32323E3mEH3mFVWk00EM/8AzPSy+yiOaENbXpVxKXzz7jPbGGwujDDjh3FYXKcD5CBHn1gCxhtBBJhJhFZIxVBR9pRtFxBRlNhJxhRxxt4UwIEJjO2CfreeuWeO3uNtskgjHfiGayCGeWaCMsW6yap93qVQez+FDH5yDtbtBJJJVF5Fdt5VtpVpx9N5hhFF8IkRAw9tgAgMoooMnP8A18yx+899dfTTSV6175xyyvsjuqtkvjq+91+7ZIDnN1ys0igeVy79xyUf2Vax/wA8slV0EwSz3kGmHcdV0xAjCDGEGEH1X98uO+NGU02HHUX23X3nWlPfP6p47PeJ6spaLLBg7lQzCUjt7HFW/NvO0Xl1uk8kyjKcWVXWbclGdoo17ggTXFGUVkAElU18/wDb/dd59FhBJJ99xdhFdJ33bDrDjUOKzfnvok++VurP5HVPdRV90tww4TvXb7x+KKz7jC3vBLfdxjb/AOZQRXYRVdVYRUZWYYT4UbeTZbfYfdaURfbUfQQ07288zcz4mugCN/W0E72QZjcUwe7VTVXvpHen7DdfbXbcQz1QbTw08weQcQdXTRRSQWYdSVRbQUZXVVZcYWSVSTcebXcTW8/z76w3cQWy+jM5MQxz+GszZBp77de7eaJfwwcVdbX8d69/dss5r485TbRcUXZfcQQUdXeffZawccUQxaVcbTSYcUcRf53+wy23gz5/R91GMSeosGRv2E2wx9bxyQYXPBDhApjCBJtjt3yshtlHXffZQeVfeRbbRYQYfXfXSYZTcdWbfZbUcTUTS38672908705/wCmd94QgGmPJc8FlMcsI0dGIaYBZ5LLrhjL75v+8te0vUWkX3XHU0EHHk13323nFVnmlFEhU300HEHVH0kGXssNu8cdN8M8/H8a9QF37gk2lfvPf4cvAAITDBK4747r77r6KrPLQ33H3mk33GVF2X0kTggWE13AllmX2FHXkH20032c9Vcss/8AXXfXv3HDziOplpHfXB7Hu+1aV6dLVljDS0+CSS/RdFmGKAcpU9hZZ5ZUR9hlBxd1NBNNxhxJ19dRphNJFZ9dt13whvLPXj73nzLzz1bIXg5vr7DZ3Ljb+HyOL5U6GnJySU7lDlBfeyqQk8hBxBxpR1h5999dplt5x51V51Bxxld95N1xxRZ9pFP/AK296w7x78p7wdjiTx4ys/zy53xo+ttk9dgjGjsh2kiuKMClvkPVRTVXcfXeYWeefcfbeYeQYDZfDfeeYSYacfYQaTaeTW040/x41yz088b8kT0hPfMT9/z4lvoQn4UwScAgnvDkiihmvrhrO6fTbXfANIPAPKEebTYWYRQQbIUfZRTfcRbRUXbQQYVQw85x56x/4x0Y+C6Wd4Aacgph1sqgPohFkadSmvOqgAhgjugpimssDANEJNtrtoCDNAT0TWVVaadTaVfWfYUQYTQSaaZTXtNAPs234750f0LEcdwPexliy1g0spK0Hn0/+vmposMCrkrtqnloimOIJAEPFwnvqos6gdVaOtMTSQRfeIURUZYVUWZTbQl8GEIa035yh3frRMbcz8z3wx3g1pvhtomikBkknnthjnqggvkzjlXgptimsqviqLFKlK7uAqkeACfD2ZR0Zhmins7w3yzi1prvdVXTX95zfh0UVzg+8t4+m9okrnppphprnm4w08ww6393wrgyTrgHs/Qw/D1EjOOozv8AmZJPXN6I590f7z5uYI6oaqJAJ1bL7lgKpruUfDtUyYIKZuLMaoJaapYI/fMtfDQ2KIpLPQMscBa/eTqrVxuHxg61P4scBQ5TKCg65rg3zRw5jq3hyZJbqxgZOMQnmSeEAORqg4CYoNerPY+fbIM8tpDBV6ofIH0742BT9knONssaYwT7wLKQhyqL+In7W847KLN03HGk1jCmA1x5A7J5ZI9pcnYivBJRgY7jKJdsc9p2AedN+f8AkKw4kIiS3zTTv9bBZHvO6mGyCC0eG6mCSC9543uvPuqCSx7BBFBx6KdPNudxnuy6KYQJZRZd0iq2CUP2u2nLHU6LffzT7FHrTTTBH5zznP8A4023+w73qlnrglsnhqghxldZ3irrtv5jbxZSVdeEyNfXc7TkFABdkZXUtko9r48wjmig19nOKVX88xzzyyy08wU6+/08x/6/27z8z8977zx9/wBrZYKK+zM67pLa6rI5gSRmmn2V3n2uWT7qY47f9+dtcXoN/NKK5K8trqPe2NNvtOM8MM/+ONP/ADfTiOn7LL/vPHfTHHbj2q++O6yAU+WOKqSOKC8me5lRRlNNRsYF+kAo43zez1SuG4yzKueiOrDX7XrDHLe26z6e+GCa7nLD7nPPfP3/AI80z/8AuN9+vJ7o4qI7+JL7KJOd9+1WFWk2H0Gnk0FUroZpP8LJWNMlIqwwovMu97Oc+KMYudPeraZOFtPEvf8A7X//AD8013xyx/8A/vPM+Np5KZKbspKJra47OvOVkVnX3n0GHVUWWGxAIssMk8Bo+jLbxM/66PZ+O/8A/wAvsCeQd35SZ6e6hrvq9z0926x/y05w8/257ymPguqs4vvsssoqmgkE0zfTbceVbeZdWYYe3/45etSLSZtz8147/wD7NLTghgTkkoVkN2Y2v9vMvu6qIspKcPfM9deNffvdcIZw6Z5o5prIZLKJb4gI9GXWyk0nEWlmijMpWVZeHStmLs9PL6Kqw0utMMcmVlQlf++Nd+d+uMOcK48LLfvs+sctP+8s8QLZYoI4pJLb6a44Is4LP1WUAiAQkV3EVWcvHpaFGIPIqpD1DGUmSAEPh4E1X9sMVGOEFnHkP/O0c6Pe8MtMNu89d/8AL7/OOSuaCO62qKCCG+Kq6vPN9f755pBlhVl5bsmfhBY3ZoIfVwUZBh4R/N1BplNzxzTz3zzHfvWHVvDOfPfjDDDvHLDr3vf8IG6C+W++GGOuGmeqGCGK+uOyIuHOfBhVnUTftRxkXD6npZx1xxNpQ5bl5hF99/zv9RvPXzzHPZNTtMfrHjbLDj/rLf8Az8+17z2/zpuurjjsmjuslmtlovpSQT/tQe9vHwfVcXbi61X2w+ZdeYTY13fSeWQTTWbeRRy09/8A/wBb3BpB9n6yTDbvz/8Az98xgnnPgsvsq0urvsvqsvhrijsgBCOpjaVkI98bdbXZj8TIZ8wcFNbFVC0ccROFKSTdUfRY8z/18RWXcVex2jz700/+/wBP6IKZLbaqI55PfL/K54rbiKKbrveEnk3Xd3d+FAiCDTXsc+KEFMJ5Z51VnRCSRAzBZi4YkGMcsN3EH3UUEd+r+e/tP+Md+I4I5rIba7P8k3mnZrp566Kpqquee10nHPEOjRHn1G1W/lgZU9LbrIL7MYrDACCBZzzgr9Xn0n130mnHX0GcfdtOe/M8/e75pIZL7LraoxCUVsfaL7qba6775E/3XtcO+Qx2FW1X0fU/sEHaobqra+a3H4Ay6xhj4h7XkECpJ7WEUn3s9sYd8u/+uPefteBzLr6Lwq5LCUQ774L74LoJpIPbO2tN1c/vDwCjzG80YF7Kp6Jpp6XALw7Sha6brrDxSCi4X2/ln003lVGe8/8Azz3/APNww/qgLDNrnqhCgO8sgspvogsuhlj/AGlOYuN9yUVk2H2sXtwDJK7oLbplQCQLTzYrYRhgQ19uMlFfmEXHGE3k0z+cC1cL51P85zSCaoYbr6oDaLcudfKprYoa558mc4Ove1z3n3Wk9NIOcLLYq7Jc96Z54igqI5DDCYYMMl/etecONM8EGtwdvjumdF19NMpww5za46Iaa44sNucrY6rJZpYEne5vM/nT0EEWXe9Ioc4I7YYZ9vbaIKLrrqILa44LpYgxnRRTjr8NFYs1pfE3H8kk+e8pJRCzpb4KroKbLvrKLK7bb477sy8+LeNX2QRWDhxMWRs+qooprcnyTjDSBCCQLKjgxIYARbhSyTRC4rL2mcbDqoD4IPcMvP30dOsN+/7JqbIrr7K7Yhq7Jqy2NRuegDQHFmEU+BXT04Irp4d/lVNM/E74L7K7Jj6KLg4BzwBzxzwDKZGAxABDxTX377rvduVHDh+nqbY9u86KZ/cJI493FcC8+X1GGF2lVtNb/wA6sK66T/ImT5FRw0KaKWw8S2OOG76SqF/mQMzmfX/3+kqUEGHrzCwRjDXMN0DOWfXrTzWK26PHrNBPCrnMNRxxFtBrnI7xIBZ+CjfSUOptN8+6SuKi7t1oAPqXtRcmlAAdlbi6MMjVDSVEWggggA11vBLkq+/6qGa+y6XOqRRx3HV3cAt9NJRtDZFhPKeGiW3/AAghGnUbGlnpvE5xVwWwSUBlUSrCkFqO4g93JPi6JikHIALIGFElgtN7jgmvv9uYVjitSZf26Gx/BGGLQRR6ZFzhoxykBz9ihuu1qoMrHuAUaxFz9Z9TM2B8WnMJCBKPEsLsIJpIHOQJVKKbamyn5hrlm8mlJ6sh+1ZXy4d69VRbTUZyzSqgx701hKcsmlo9UcxjuBuv2fXqRu1Cd5boW+iirDlHDPkOMAjzDIJIkqCHM82wByohsQXykqosZln3Sa5d35bXdXQZ32bFs05245oPy+xQiyjxtuNnilh8twVXw1k1zEO8sr5f4/ayR9e4QVNNACENPCwhpK0ql8jH1/f2Krrn6eewmT/PZURSU28Swsjw045pqBLVUY4TSwsChiHphZa6geoSI/kJuFn1QxWaCym8eD6dGBEPGBD4pigzmjb5AewyymneGj4/V3sMzKIDSYBExOj1/wB9Mquoo8UVuVXGuIBjp4S+xk0uK0v27yBD5+kOkFcE1N3sDTzzRRChbeq7A05CpvMYse8T5bGPrN3k6zOYHV2knXNwsA8MfvKtDgF03MEU0PVOMPFLnk6NodADl3vuWDzkGHkjCxSQLwgzxzSiyTvbdjmTedAvf89NVg4UEcd0npKsMnFkW9N8GXBfvcNpfX9rH1hR2Vq3tnDyn9i5zPDAdZxYCqAwAl3xDTAgTSxRCDCRQiix0jeDyn2Zx8f9+v8Ad7mjPtzNSQD89lF/rXxnxXnbD4Einh9dAcF5Jc86Xosq86tEvx/pkkMckAI0sY0s4kMgwQs0UMcoQUG8JZhYo+zzTTHfNW2AvLb5XTiNGBVR377y0zTjPrG5G+2/ZnXdJARrYLMO1H7wXaZPRQoIYQokoUwoo4oQAYwIkIAEE8YESmO+OVnj3/8A+z/FxMsnkyw3cjVzvIVfc7GzjcSV8jUulm1bV7bUazN8Iq9HIvxvW1wQFPGPHIJGAMPPDONBEDPCILPPHMNihfTw7qw00826ePsdn++89fuZz1TVY3yGsBTfb8oRkgis2/8AU117+GrNSds63NGNs/iAjDQCQDzQgjxxSwzhixBxhRwwCAu88NP8O8MMtf8ApWqzyTr5x6Pb/B1tDPoi8R1Tn6bK26mjvxdYt0TkHSn9CxORqfXg4IYQcY8EUo09N5ZxF1oRkdQQw8BhNJxtd5RV5JZD/wCes3L+02cRmez7UVcT6CQWb1z5LQqtonqiYWaquHua3Bt+HYnWZJMCLPIAABGOPOTcZfQUSKfRfRSZRRSQTTbdeecYVcu7H++ukoXcSkMy+nlOQU2znxx3iqSjmkjjkTZ5rez85F631S46RaMLELGJFLJJCBdRfbceVYfRXccbdfYXdzceTX/bTVw89XLaZem6bZshx/2rcf31z//EACoRAAIBAwMFAAICAgMAAAAAAAABEQIQIBIwMQMhQEFQImATYTJRBEJx/9oACAECAQE/AIII/QY2UU2gZUhoq4Kx40lBDG8JQv0dFLwqQxnUHiuSj9PTJJsx8jOoVc4rkoZH6chEkjY+RlaKsUUVE/WXkySaibMrK8UUPBISEtpr9FZWVrFCusHtPdf2GdSnJE2WDym82izQlZq0XQx2f1nwdRQNbU5RaLPbaGKzIIH9Vo6qKsVgskJ7ivP3GdRSh84p5O8YpjeCVnZXazjyX5tSKh4K6vFlsQLJbT+s0V84p7CsyCLrFjVlsN/YZ1Ocp2oIGhoW+/kKz32dVD5yWDs7TfnNdyCLR2IWD+0zq8FXOS2VZEIdo7O6HzeexKG/us6q7FXOS2Vk32yhiHg39vqLsyrnJbEolEk2VnuRZoj7FfBUslsNYrizuxWW09mCBLGPKjbdquCu73Hgjtmh7UCWCVkReCMUhoS8ZD3Kl2K13d48J7zUK+nY9CVo7CQ+SGRdJEYReBId0pIgi0EYIXFoIIjZZ1UOz89YLhWgdIokhEKy4E2M9CHyM9YSh3gqxdkxHY7XicFh6tBF4Iszqofjw7QPmyQxK64eFPA1h7HaRI4JJQ2STKxnCpdtqSVZEYrBWSEou13GdVDsrrYSbIyQhDd/e0iXnJNp3FySPjcRI25JGLZmCbOBnVXYY1gtifRVxmmSSSSSS85sx7MPZdpsmQN5RknZvuO0kjulF3izq8DwgWxKJ3ZsvitbEvFWjF5V8D3FefkxZPxUMUDEOzyq4Kv0RiHtyicKsquCrnCH+gPeTFUNodTzq4Kx2ZHjQiPtPOrgr8RriyHi/ksleG7vgrwjfSY12VlZIm7H8hojxmVj24ZDItFtNm/xsrJii7H4z8R+NWOz2FZsmztJJN5wn5js/ErQ9pfHZz5DQhi36x8i2Vz+gTdDu7PZqQ+RsewuR/KZD8Rq6JW47Pgq5235L8ZP4T4K+X4aIdn8WSSd5iWL23wdTmz8KbMfw3ivNZ1VZ7SSbgqoawQ7TdkGlkWghEyPxHnD8V73VQ1spEIUDqUDuh5J9hPD14UPFEk5Mi0eA91laGiCHtNjuh+SuSEvVkIqWa8Z+BWPn4MYQPBcjSIEU8FbkeS+NWO0PxFbtjEogQz1hCHkrofOa8V2e9UPah5xgs0T2GIYtlHa8kj8hYPwKuCq050icjXYjsJCQ79sfWDtO3BBGxBBBBpNJpNJpNJpI33k9qrgrG9mSSbSPY9YwQQQQaTQaTSLpOofR57mg0mk0mg0fghdNv0aBdJv0PptejQaTSaTSaTSaTSaEaRoa334FXB1OR7zHlFoINJAkKk0Gk0iokhGg02SjuaR0ipXtDp7cQaR0/gilfiOlcjWlITT7NFdGlwRaCCCCCLNDQ0NeC91nU/yHvPNcEOyKSDSKlDStAiSrhWpo1DobP4/7RGD/wAEUtJQ0Nr0Vd0hJydXvXeLQQQQRZjQ84NJpNJpu7vdZ1F3YyF4EYJu6JOSRE9li32St3O+ym0asYzZUVDxSkVJpNBpHSOnF2e2zqDydoIIEs3ebqyss42GmiCLQyHtsqKh4JCRSiCCBoqRUhj32dQfOaFwcjwhDu81ZWV4tR03Ufw1R2hkXhvhXSOop6XTZTGpHUpitq1Lp6dM8tnWeqmmqNtlRUO65EilCIIs0NFSKh77OoVbCeKFzg8oEsKFLd0ppYifxSRQnOp8IfNqXD4kfV6nobbbb5JVuf8Ajf8AlVuv/kn/ALVqXLSqfYqVNaST4KlDiNplRUO9IkIWLKiq0b/UXYq3ULnYVqRFJAkihUpoq0/6t0/+y/oQjXVMyVw6FVHebU16eD+asbvRWv4q6f7UEldaqpo/pC7shlNPc6lSqrb2mVFV4KaSlOyxZUipD2HsdTgqRpecWjOM12snBNkxuycOyZ2G21uN7bKl2KlZIpTEuws2MqHzsPYr4GiM5hDQ4FBNnxft4Ks/IZVSaTSJCQth8FQ7vdq4KtnUTg+NlLNecxo0mkjZYyoawe4+B4O6x929bEbC+HGwxlRVi8Xk+BrvmsoPWcYr6DKipDweLyZVzupwN7iuvmsqXYqHzsvJlfPlR9BjKkPZeTK/DggX1WMqKvA6is8VuoWKsvnMZVwVeBXb/8QAJBEAAgEEAwEAAgMBAAAAAAAAAAERAiAwMRASQFAhQQNRYGH/2gAIAQMBAT8AsXxJ4mySSScU4Xhq3ZSxCKeFZUO5cP602ySThZUrELQim56HcuH9dE4JJug6jSXCFoRTcyrdyGP5Me9uynQilitY72P3wQQQQQQQQRxCIRCIRBBBBBBBBBHiggSEIp2LVjGNEXMfngggghWfg/HEkkkslkslksklkslkslkkskkkkknmSePxx+CEQQQRb1III4RTq5rA80EEcQrJJJRLJJJJJ5n2ySSSSySUSTdCIEim5oi1cO+GQQRZJJJLJJtkn502SSSSUu54YIIIXMkkkk2TZD+VD8VDFiiySSSbJ/w9OxYfxgeeSRvlv66Fr3IhkfaXCZTq1kPC3/jUfx6zN+NvxMQiHY/h0O14ozTF6eB/AXho2Kx/AX03bTsWR4Vm16Z96KdiyPCs6eCSSSSfmU7FfJIuXxBH+BQ2SJ4Vsp1elgQ/hPhO2SfK9iyIoyyT6Jwu9PiXyuJG724JJJJvXEk4Ufx6wKx55tnBJIyWTzCsXC3w+VYhEk2O6cU8Jkkk8I/jFyuZ4XLzrwRgXEcQyLlarEhLxoR/GxWsSs/THxJPqjwvAsD3xBHg/jFieh8r5Csd6WJctEPl2pEEMYj+PYtWsdjGP5SZPLuWKLWJkvCxFOxYUP5yZI8Ekk42LIn+SnhXof2EhrIxoi1Lh2LZRifyFgdzF4XxGBbKNYnofx1fDwL1rZThQ9fPTxST6EU4UPWR+6PEsEO1iwIoFgWx6xfu1/KXqowrYx+deBfLpFgWxj+7JJNiyLmnYsL0P/AIYmSicy2U4Xof0YEvgIWsL+rGNeNFOrHYj+/oLwLAsaKRXo/X0pteKbkLGigV6Hyyfow8qFYhZKBXrY/2PmPoyIaENDWZZKGK9bHr48+FY1aslOxXoevhPAvcslOym9bHof2EycSfgWxXrY9D+NHzadlOr1seh/DnmSSSSUSiSTsSSdjsTYr0IaEheFFOhXLY9D8kkkknZEnZnY7nc7HY7Hc7nb8nc7nc7nc7HY7HY7HY7HZHYVQmJ+9FOhXU7HofhniSRslDqJO0sbJJJOx2OwqjsdiSSSTsSSSSSSSSdhMT/JSxcpkk3LAsaKdCuWx6HcszYxskkb/4Nsnj8/1xJJJJJJJPMkkkkkkk8SJ/kpZS8HY7HYkXCsWWgVy2PQ8rtbHw9WST+N8SSNkkkkkySSdjt/wkkkkbJEySRMTEykoFbI6h1Hc7iqFUSKxCxooFdTsevG+ZunzoRSUCsbGx1EkkiZTUJ2oWNFArUU74fidrGbHJGJ5ULZTsoFy2NlTY2SSSJlLKWIXKyIoYrqdj8T5dk/jifQhbKSgXLZUxsdtL/JSynw07FainZ+vA+Vw1/wB4hSMQ/ShbKCjlsqZU0MdqKSkQs9OxWop2frwPhvhxHNW+ENn4Px50LZSyh81MqaGO5FOykQs62K6nZ/fhb4kbtfrTEympncdQ2Njd6FspFoWdC1dTs/XgniSbn60ITJOw2N4EIpKReCnV1Oz9Z5xP1yiSSSScS2UlOBYVom2nY9el/AbxLZSUi8H6up2fq15WMY7H60hrMigpYhZ1q1FOz9WvAx2STy+G/DFkcQJDXiRSUlIs6JViKdn687ypfAWykp8FN1Ox6yO5jseVfARSUC4WVcf/xABHEAABAwEFAwkGBAUDBAEEAwABAAIDEQQSE1FSITFBEBQgIjAyU2GRI0BicYGhJDNCUAVgY3ByQ4KxFTSi8FQlksHxRHOD/9oACAEBAAE/AuyP83HagVwQqryvIvQBO08p3LZRA7EHb1fV5B1e02K6FhtQbTjyE7Co9yHLQcm48h9zPFP39qVl/Nx2Hk3HkujJUHRDQivovLkbv9xO5M3IdE97lPRPZ05ZEVXsyuP83EchQPIXq/5KrslV+Sq7JVOSveSvqqatiK66q7JXlfCvBVCqq9i1DonvchRR9xKkR7Qrj/N5FVu5HE7kGjp0GSuNWGrjs111e8lfCvKq2KgyVxquDNXfiVHZqj11slU5K+mmqComu6LTVxPIUUe3PIVIj2hXH+cKIgjdyNPa0CuNVw8CqPVXZK+rwVewCpkg/NXleTn12BNFBylH3KRO7QriP5yIQaB7lQK41XPNXXZrr5K8clfV8K8M1VXgg5X2olnBXHu4lMYG9E+5OTh2h3riP7F0V1uSw25LDCwhmhG3NCNiAA4e8u3J9e0K4/2Ur7xIN6p2Z4LiP5Lqqqqqqqqqqqqqqqqqqqqqqqqqqqqqq8lVVV5KqvQr+0V94kC2dmd4XEfv9VVVVVVXleCvhXwr6vHJVdkqvyXX8l1lR2aodSu/ErvmrvmrvmrozV0K6FdCuDNXWq4FcCuhXfNXRmrnmrvmrnmrvxK78SunUrrs1dOpUdmqOzVH5hdfyXXXXXXyVXZK87SrxyKv+RV9Xwr4zV4Zq8q8lVVV/cXqnZneuP7pVVVVVVV4K+FfCveSqcl18l11R2aunUrvmrrVdauquqrzVeCvqpyXWyXXyVHqj1ddmrrtSuHNXPiVz4lc81c81c8yrgzVzzVzzVzzVzzVzzVzzVzzVz4lcOpXDqVw6lcdqV12pXXZq67MK6/MKj/JUeqPXXyXXyXWyVXZK8cle8ir4V4K8F1fJUYrrVdGau+ZVDqVHZrr+S6+SvOyV/yV8K+FfGavKqqq9vX3SvQdu7TiFx/aqqqqqqqvjNXwr6vHJddddUdmrnmroVGrqqrVeCvKpyXWyXXVHq67NXDqWH5rDCuNV1uSoFs/a6DIK63JXG5K4Fc8yrnxK47UqPVH5Lr5KpyV/wAlfCq1dRXWK6Fd+JXTqVH5rr+S6+SvHJX1iBXxmr4V5VVVVVVfcz0iqdnxC/UP2Oqqqq8rwV9XjkusqPzV06ld81dYuqqtV9XjkutkqPV1+auHUsPzVwK41XRkqD+RboyVxuSw2rD8yrh1K47NUf5Kj11tKvHIq/8ANXwrzV1MldarrVd+Iq67UqPXXVX5K/5FYixBmr4V4Kqr2Z6RVOz4rj73VVVVVXgr6vHJdddZXfNXQqNVWq8Fe8l18lR6uO1K55q4FcbkqDL+XLoVxuSw2rDGaufErjtSuvXXyXX0q8cir4V9q6iusV0Zq78So7Ne08lV+lXjkh2lFTs+K4+61VVVXlfV45LrKjs1d81dauqrwVTkutkqOV05q4rjVdGX843W5K43JYYVz4lcdqVJF18leOXvPELj21VVXleCvq/5LrZKjldOauhUaqhV8l18ldcrnmrgV1uX9gDu7bbn2fFfq6dVVVV5X1eK6yo7NXfNXWrqqrVe8l1slR6uHNXBmrjVQf2HPvHFceWqvK+qnJdZXTmroXVVQr3kutkqPVzzVwK43JUH9jnb/eK7VXaqldZUXVVVtyVHK4c1cV0Kn77VVVVVVV5Xxmr4zV8K+FfCvq/5K/8ANX/Iq+r4V8K+FfCxAr4zV8LECxAr4V8K+FeCvDNXlVVV5VVVVVVVVV5a/tr/AHSqvK8usqLitqoVdV0Kn7xVVVVVXhmr4WIFf8iqu0ldfSvaZKj/ACV12pXPiKwx5rDarjcldbkPcKBUCoMlQZK63IK63JXG5K43JXGZLDbksNqw2ZLDZksNuSw2rDHmsMZlYfmVc+JXDqV1+pUfmF18l18ledpKv+RWIFiNV4K8qqqqq/sLuUdtVXlUqhWxVyVCqbUN/wC315KqqvK+M1fGaxAr6vHSVV+le0yVJPJXX5hXHalh/EVhjzWG3JXW5BUGQ/d6DJXG5LDbksNvmsPzKuHUrj9SuyeS9p5LraVU5K+sQK+FeCqqqqr7qd3KOxPLVVW1bF9FdKujl4od79mqqqqvK+M1fV46V7TJUf5K67Urh1LD8ysNquMyV1uSoMv5Rp5K63JXGZLDb5rDGZVz4irrtSuvzCpJ5L2mSq/Srzsir3kVf+axAr7c1eCvBVVVVV6R7M8m0qi+SulXR0uKG/36qqqq8FfCv+Sq7SvaK67UrnxLDarjclQZfzXdGSuNyCw2ZLDasMZlYfxFXHa1dfqV2TMKknkvaaVV+ntDyUKujseKG/3avJVXlfCv+Sq7SqPV12aufEsMK43JUH8/u5Qh0z2nFDf29VVXlfCvqrsl11ddmrnmrgVxuSp/Yd3KEOieQr69nxQ39jVXlfCveS62So5XDmrnzVxqoMv7HuR5R0yqdn+pDeqqqqryvKpyXWVDmrgV1uSp/IVeSvLVVVVVVVVVVVVVVVVVVVVVVVVVVVVX96PQHuRVdqB2rrZK6c1cC6o4K+FitzWMFjeRQmahIDxVf3SqqqqqqrwV8ZrEbmr6v+RVXaV18l1/JUkzCuv1BXXa1cOtYfxFYfxFYfmVhjMrCGZWEMysJvn6rDb5rDb5rDYsJqw2rDasJvmsIeawxmVhDMrD+IrD+IrDOsrDOsrDdqVx2pXH6grsmYXtMl7TSqv0q87SVedpKq7QVedpKvO0lXzkVf8AIq+PNYgWI3NX25q+M1eV5VVVVVVeSv7GR2VOnVXgusrvmg0VTd/QkxCaBUpvCiDDwVAnuoVcaeCdAw7kcWLzCjkDx29eg+Vrd6G1OkDd5VU6c8AopQ/kO5RyX69nXkqqqqqrwV8ZrEGaxAr50lVfpXtNKpJ5K4/UsM6ysIZlYTFhsyVxuQVB+30GSujJXG6QsNmSw2rDGZWH8RVw6lcfqCuyZhe08l7TSqu0lXjpKxPJYgWIM1eGaqqqqqq+8nkHZ1V5UcVcVBy8U3eewftkby8E4YMlRuQ3clVe6FejVSPuprZHCt6iFeKM1JbtOSdjaF3FQ/lhWsbWq+SxgTYmgUoo+pPTkO4qNlwfNVVVVXliDNYjVieRV52gr2mle08lST4Vdk1BXHa1h/GVhjMrCasNmSutyCoP5LoMldbpWGzJYTfNYYzKwzqVx2pXZMwqSeS9pkqv0q+dJWJ5FYgWIM1iNzV8Kqqqqqr7reVCg3pFcU3eewP5zehaN31THezasdmaxbxo1CIcdqc5saG5HcoNsruhNNd2DesaTyWJfc1A8n/8j6q8FI69RoQ2ABWruN+aswq7bwVU8/iFjCtAqu0le0yV1+pYfxFYbfNYbMldbl/M9BkrrcgrjNKw2ZLCb5rCGZWH8RVw61cdq+yuyagqSeSpJkvaZKr9Kq/Shynsbip2BQ3obz0yh+f0JesQ0JrCTdO4KW6NgCirHJyWkVjUL6sClkDQrNxPLVTRXusN62XaUVAXOUDztBWIFI2/tFarDmcKbUyItyV1+pSxOIG2qbCAB91htyUzLrw6ijj23zv/ALAH3Iobym7z0zuTPzuQlPfwCjjDdp38k/5ib7SSvAchI3Ixlpq16e3ZUuULgGfVXjkuvkrr81c+JYYzKdZmlMja0f2cKzTePQrylQn2hTpAFee/cmtDVfGavpwD/wBCAfTYAEb/ABcus47CUIWjftU4aG7AoRSNv9jj7u3iqqqqpnmnVUZI7xWKnT+SivOdsQgzcsMLDarrcuUp5L3XR9UxoaKclpO75pvdHy/scfdKolXhUoF23Yrrs1c8yrjckY2HgsBuZWCzzTom03KBnWr05DRtVA39VeWXa8D9zqqqqqqqqvK+M1iNzCxBmsVuaxQsUK/8LvRX/hKvnSVedpKvO0lXnaCrztJV52gq87QVedpKvO0FXzpKvnS5YnkVf8isTyKxB5rFHmsULFbmsRqxW5rEbmsRuaxBmFfbmrwzV5XlVVVVVVVVX9sPQPKOhTpVV4KpyV0lXAhxTePYbOnaO4oQ4N27uHKdtoH7NVVVVeCxG5rFbmsULE8irztBXtNK9rkFST4Vck1BXHa1hnWVh/EVhjMrDb5rCZksNmlXG6QrrcgqDL3mioMldbkFcbpCuM0hXGaVhsyWGzJYbVhN81hjMrD+IrDOsq47Wrj9QV2TMKknkvaZKr9JV46Sr/kVijzWK3NYjc1fGavDNXleVVXkqq+/HlHSqqq8usruZVB0BxTePbzisZUDqs5Co9s5PvVVVVV4LEbmsVuaxR5q+7SVWTQva5BUl8lcfqWGdZWENTlhMWGzJXG6QqD+QaDJXW5LDZpWGzJYTfNYYzKw/iKw3alddqVH6gvaeS9pkvaaVV2lXjpKv+RWIFiNzV9uavhXgqqqqqqvQr21eheXWVzsBxTePbnaquhf5FNla7cU99ArO3YT7jVVV4LEbmsVqv8AkVWTQva5BXZNQWG7WsL4isJvmsJmlXW5D3TnPtLtONOxkmDHAIH36vvVoJF2iE5HeCbK124odKiutyCuM0hYbNKwmZLCb5rCGZWH8RVw6lcfqV1+oKkvkva+S9ppVZNCvO0FXzpKv+RWJ2A6FBl2JQ4pvH3B7GvFCjZXA7CmwOPedsQAG7sKqqvBYjc1itWIdJVZNC9r5K7JqWGdZWE3MrCZkrjch789t2f/AHIcl8VpXltEz2vo3gonXmg8lrb1q5pu4e+u7pUUkjn0KHvNo3NTm3mbtqZZwDWvvR6Y7UocU3j7lVVV5YgzWKFfOkr2mlUl8lcfqWH8RWE3zWGzJXW5e4ucGjaUyRr9x91tf5gKajuKDyZGnzQ5LY3cVB+W35cls4fJM7o7KqxmVpeCB9yDAK9hVV9xtHdCZu6FeWqr7memO2HFN49jVVVVfGavhX/mqv0le0yV1+YWGdawx5rDZkrrcveSutO/yUMGG4no2mZwddBorO81LXHt7Z+n5FNeLgNeCdaYs6pxbeqN1Ux7XDYeS1dxqbaLrGgCpom2rNqtLrzR8lF3B8uSa0UN1m9X5wKqKa9sO/oySNYKlF8kzqJ1nozYoX1G1SuuxkqBznNqT0SQBUps7HHYeTFaXXQh2005rRqw5aXqlRuqOR0rQ67XageR0jQQFXs5+4o9w5ZyQzeoA8kmuxcE+0SfpCxpvJROvAH3M9gO1HFN5KqqvK+M1f8Amqu0rr+SuvzWH8RWG1YbMlQZfsNpfRtM1DHcYOlKBzn6p5AtI29AysH6gga8ss9yS7ROka0VJTbRGeKfIGDaudM80DXktZdeA4La4gIWSVSxOZSqjkMZ8skxwcKq2HqN+asrWOrmE6JjuCmYWGig/Kb8k7ulWcAvJPJPHhvqPorO57pDt6FqabwPCiga0N2DfyQ7HuCtEoPVCs3cHRmBMZUQpK1BR/nIdhXoyGjCoWcTyR9VxCdKGjajeqH+abuTrRGCppKlpB3JjwRsVUyUkkEchkAdd4oHpTfllRd0cjnBoqUb8zt+xNaGjkwxkpGjDKg7vQr257AdoSrw2oE8AuurjtSwwrjclQe82n8oqyyFzKHh2T5Wt3lc7ZkUDXl79p6dqaQ9r/8A3YpXC/UDltMxBuN+qFmkPDgrIdrmp7i60t+fJbP0FRNMxLinWUcCmC9LdcUYGXdyicY34buS1PvSeQVjjG15+nJbNzVLFQAjdRWZ9H3c1a9ob9VZWXWeZ5LZ+hWU+zHIPZSkFXs1aZGFtBtKsjerXPpyQBxqDRNswo7aoDvby15XsMbrw3LnDQ3zyVn2y/TsJ/y1Z606JFQQsOVm7agpYidrTtQsxJq9SR+zTOsxCBlNoUsLGt2BRQtLQdqa2nFSi668E1yc+s31TeWtFXkl/LKh7o5JnEu28OCjeyikkfibDxTeSTuFQ7uWfbGoK3NqxOvdoh0JJWxjao5hINirsTrWBwKjna9A9A9gOwqi5VcdwV12auBNG9N4+/P7jlY97+VxoKqORrxsUjwxtVHLI6VtTyzTXdg3ptnvdaQqdkTW7N6hrhsry2b81x6crL7KI0AIptQ3D5cj/wDudupSTtGwbSoY8JrnFWfry1y5LY3YwqyNownMqQ0Y4+Ss4rMOS1N2NKjdVgPkpY3NJUU7Q0A7KLnMWtWqRrg2hCD2XACRuTfzW01Ke65mw7lFOGgByxmZq0OvhqhlEbTUJsjnCoYnsc8dzaubyp8DmtqQocS4NypJqCuSagrsmoK7JqCuyZhXZc2qk3kva+SdFJevilVSXIKkvkpDMx1SU0y5Be10qsmhGKu+JNq2XYEDJoXtNC9roXtdK9rpVZNCrJoRqRQsKYLg7rlf+F3osXyPosTyPosULEbmsRuaxG5q+M1eV5XWg1Cqpj7MqDuN5DQ7CjHI3u7k1pEu1N5Z72JvTa8kncKh3IIgHeEYozwU0V07FDeDdqdaKHuozNLXKAocknccodyn2FpTeWS0NZ80WyTGqs8d1qeKsKZHETQjapIA3rMUZqAexPTqryvZBUcfJXBxQAHKUOKbx95dKxvFMmY7YDt5ZLQdzE2V1x97JWMdVyfI1m8oGoqjtUGyWUKd1+QNHBWaHbfPJNJcYSmslPXAqrtpcmWcA1canlO4qy/mO+XTfK1g2lEOncXAUTXzs2UqjLK/cCEYnO7zmptYz3QU5z5KVBoonGKQjNXpPDUkcsgGwJrJgAOqnRyuFC4Jlnczc5YbvEUkDnAAO9UIaDvuWF8TlLZ6jqrD20KutTYHv3NUVmazftKutyCdCx3BGzOHcenRWgtodqZZHHvbE1oaABu5S0EUKNmdXqu2KOO40CvZvOPLQbggOSqdNGP1BGUYl4bk201IF0odrQZK43SFhs0rDZksJiwm+awviKMVRS8hG4bnK7JqCpJ5Kr8lI84laIWmnBC012UWLsqWuV4yPrRB3zWIPNPkaWnaongClUHtzV4ZqqtB7qYdio3SFdYf0hRBt48sncd8lDuU+4JnJaC76JpYHdZMcOCFoF+7RVRaK14qY3YyoO4OiemEOSpO4K67NXB0yhx+abx7avRc4NFSjaG8Nq5yMisTFcADs4pjAxTSGtxqbExnfKYAZQWDZyWiSgujeVDEGDzU/wCU5WX8v6q2d9vyUf5bflyRu/EuVn2zOPzQAG7ktXfYE0AADlMrAaV2q+3NYrMwmvuTE8Fi5NKvSaCvbaQqTfCrs2oJ7ZQ3Y5Nsz5DWQlCBo/U5YLfP1WFHpWGzQFQZclBl2l1uke7yMvil6iYxrN3JNNh/NXpZTvTLI3ipWMElKZJkbBw93c4NFSn2l7jRqbHM/wDUVJZ7g3plmYRtQswDgQnRtcKFBoG7lO4qICp2INbkFhs0rCZkp2NATI9m8rC+NywzrKuESUqrj9auyagntkuncog+nBTB9zcm4lO6vaaFV3FhTmMP6CFhlp6hKqWvBKbOwozNArVF+I+rimyszWK3NXxmrwzV4ZqvQPQHZlDim8eiSjaWhNtDHdGR72uAAXtzkEItTiejaInPAooowxu5EBPF2QluxRSX2VXWM5zqm2dv6iSt3IOvauS0flOVn2RBWqhLfJWd4MdOIVVB+cTw2quFNWmxc6GkrHruY5SsfKB1Chzlmy6r9p0/ZYVpfvdQJtkZsqarCjyVxukK0RXheHBQz12Hvfuc/Wl+qjaGig5Jvzx8wm+72rcFBEG7ePJP+WoT1R0juPyUW8/NV5ZmlzdiYCBy3RlyX21pXkoE5ocKKnRnaMQJkbGjYnxtfwXNG6iuaN1IWYA71hsyWGzJYbMvdW8U3j0CpCXOuhYDeKkbdfRRfljoFGZmaxa7tqF/j03Gk7r2asncd81LE1+2tChjN4grFkyahK7yTi5st9oQtN7cFJKSC0tTDORdaE2Aj9e/en2Vw2sKwJnbCo4GMG6quN0hAAbgOyfZ2O27isGcbpEGS8XhAU4/uFpBDg8KKcO+fI81n+qb7vM2835KN1RyS/llQd3pHcUYZSmwTt4pgf8Aqp0yQBUpvXmqgVXlJAFU1wcNnLMHX27E3oHchM/EoUOQ+5lN4pnHoSmjSVZ27C4p+5HrSFMF1oHQO0JsMQ4LYFfGaxG5rFHmsQ6SqyaF7XIK7JmE6C/3nIQgcSsJqw2aVdbkOXCjP6QsKPT/ACI9ge2hT4nscucnD+JWaIk33e8yAxuqE2ZmamnFKBQtIaO3e66ERJLv2BNjAbQIxSXtlVHLwdvQPJPLe6jVG2gHYSTBm47VCwk3ihyH3Mobj80zj0JhVjlBK0NoU+UcNqMbu8Fjv0oGTjVVfoXtfJXJNaw83lYTfNYbNKujIfypgxV7vvRFUbPGU2CNvZTyOZSiY6vI6eMfqTZ2O3FAqWQt4LHdxYhaG1G9BPha/wCaY5zTdcnmV+wA0UcIb2OCyqpyn3MoHYfmg8Cu3isTJVfpVJPJXX6lzdh3oQRrDZkqDL+wVpGwFM3KUPeaJtl1FSxsYyo3ph2LgroyUo9qEOSSMP8Amo3/AKTvQ7U9A9nVFyv5Lrngix3FybG1MA27OP8ALNfcK/sNo7oTOR00beKvGZ/km8s35jU3lnbueEx1R2p7Oqqr6654K5m5XG5cpQ3FM4/P+Q6q8MwsRmoLFj1BY0epY7PNY7cneixvgcsR3huV6Twir03h/dVn0Be3yaqT/CqT5tV2bU1XZ9bVcm1hXJfEHorknifZYcnifZYb/E+yw5PFWHJ4n2WHJ4n2VyXxFcl1hXZtQV2XNquy5tV2bU1XZdQV2XUFdm1hXZdYVybWFcl1hXJtTVcl1BXJcwrs2YV2bNquzZhUm+FUm+FUlyC9tk1e10he10qsmhXpNCvP0FX3aSsT4SsT5+ixQsZuaxW5rEbqCxBmr4zV8K8ryqqqqqq8to7iZuHI6zgu7y5vTawpknAqvJP3mpvK4VaQoTtI93vHgFRx4q41U6RTdx+aZx+f7reGaxGagsaPUucRrHGl3osV3CJyvy+F91WfQ1fiPgV2fxAsOTxVgnxXLA/qPWAzN3qsCLJYMWlYUegK63SFQfut1uQVxukLDZpCwmaVhR5LCYsFnmsFuZWD8TlhHWVhnWrj9auSawrsubU9krhuCYJQO6sRze80oT+S5yMipZQ8i6CmyeRWKFM4EhNkbmsRuaxG5oyNAJqonbSUHK8FVXlVVVVvVeSqqq+5lN3FN4/tNRmjIzUFjxaljs8/RYp4RuV+Xwiqz6AvxHwK5N4g9FhP8UrB/qOWBH8XqsGLSsOPQFdGQ/lYwxH9K5vH5psLG8OSqtG8JtMlQZJ2E0VdROdiuo1qjhYABRYbMlhsyWGzJYTFhN81gjMrB+IrC+IrDOtYbtauP1K5JqV2TP3Mpu4pnH5+/wB4ZrGZqCx2ZrHHBrliScIyqz6QqT5tVyXxPssJ3iuWC3iXeqwItKwo9AVBl/Mro5P0vR5yOCe9zghM1qdaXHuBCGSQ1eU2MN/YSm7kzj8/dKq83MLFZqWOxY2THK/J4ZVZtI9VdnzarkviLBPGRywW5u9Vgx6UI2D9IVP5xfDe3uQs0fzQY0cP2Mpu5M4/PsaqoV9uaxWZrGasU6HK/L4a9tk1Um1BYb+Miwc3uWCzzWFHpCDG6R2LbVEa7aIEEVB/suU3d9Uzj81VXgsRmaxmrEdwYVWXQqTfCsOTWsLNxWCxYUelXRkPc3WSM7ti5vJGasco7Vtuyev9lLyxG5rEruBQxKGgTWv1LCzcVhMyQY0cB7gJjzgs4dG1TOZdDTtVmke+Ors+wmgbIPNQzFhuP3f8f2OqrwWIFV54K4/UsMcaoNaOCKbuPzTOPz9zcbtoJ+Lo2gXp6fJMYGCg6Bewb3Bb+hao6tLhvVmkvR0O8fyPX+RMQL2h4K4TvKEbclTolN3H5pnH5+5zD2zlC6sTSsaO9dvbeV//AHY+Y6FomN7DafmU6GQC8QrNNhk1JpRMeHtDhykVBHkrIaSOb5f8fsNVeGYWLHrCx4ta5xFmucM+L0WN8DvRY39N6xX+E5X5fCKvz+F91Wfwx6qtp0tX4j4F7f4F7f4FSfUxXZ9bVdm1j0VyfxQrkvi/ZXJfF+yw5PFWHJ4v2WHJ4v2WHJ4v2WHJ4qw5PF+yw5PF+yw5PF+ywn+KVhP8UrCd4pWE/wAUrCd4pWE7xSsJ3ilYTvEKwn+KsN/iLDk8T7LDk8RXJNf2WHJ4n2VyXWFcl1hXJdQVybU1XZs2r2vkvbZBe20he10fdVk0K8/QVfdocsQ6SsX4T6LF8isUeaxgsduaxmZrGbmsZuaxW5hYrc1itzWI3NYjc1fGavhXgryvKqqqqqqqqqr0K+6U7Epu76pnH59nC6ZxcTu6XO2XagIWs+GpHF0lbtFDCZK9bYEyzxsNacrv+7/3DoRAG1H5qitUTWEXRSqs4pAzoQU5z/8Ad7lfbqCxY9YXOIda5zF5+i5wODH+ixZDuhKvT+EPVVtGlvqqWnNiu2jxW+iw5eM32WE7xnLB/qvXNxrf6rm8ebvVc3jyPqsCLQsOPQFdbkP3ugyV1uQV1uQV1uQV1ukK4zSFhx6Vhs0rCZpWFHpWFHksJiwWeawW5lYQ1OWD8ZWF8RWE7xCsN+tXJNauy6grsuYVJfJUl8l7TJVk0qr9KvO0K+7SVfOkrE8isT5rEWKFitQkBp7kU3d9VHx+fZPe1gqUx4eKjoF7RvcqitKrDZpCoMladk4+Ssv+p8+haepK13/uxVrt5XextFeFVfZdvXtitD8STZu4ICgAyHK9wawkqxt2uf0bzcwsWPWFziHWucM+I/RY2UT1iS+CfVVtHhtH1X4j4FdtHiN9FhzeN9lgnjK9c3bxe8/Vc3iyPqubw6Fhx6AqDIfzbsV0Ze5FN3fVM3H58rpGt3lG1/Ao5WSCo5SaBNkmeasAp5qRt9hCsziyQxnoSVkc9+SAk2vyUEwkb5jktjdjXKxjqE59CeLEZ5jcrPNsw37COWSNsgoUbF/U2KSzADqO2qOZ3+o5q5xHmscaHKWV07mta0qNsrWBoY1XZz+toWHJ4xWD8b1gR+fqsCHQsNmgKgy/saU3d9Uzj81O8sYShPNq3qKCu1yLG3VGTHI7yqr00p3lCyPptcnPlj6j9oUQ9mz5cknVtIPy6AjkLnNAO9RsDG3Qn2XbejNFS2DisF7/AM2VRYUTbuJVY8eax28Gu9FiP8Iq9Mf9Meqkgkk4NBVLY3zTWSHvPcFg/G5YEeR9VgRaAgyMfpCkljjG30VZrRsb1WqOJkY2ev8AYuo7Ipvd+qZuPzT2B7SCo2XZgHDjyTyXRv2qCEXSSN6jjbGNnJbHCrQopWCJlTwWOzzVoJcWkNKxZD/pFXpvDXt/hVJ9QWHL4qwXeK5YDONT9VgxaVhsH6R2b2vcKB9E2zRjaescz/Zcph6v1TXtAO3isZie+swICe+e9sZsQs8zjffRXJuMiwj4jlgM4k+qwItKuN0j+1V4BGVmaxDwaV7Y8AEWP1psTbvFRxspu4qin/Ob8v7WVRkaOKxcgSvanhRYbjvf6LCZ80GgcOUpndTNx+fJafzmfL+1mFmSUGNH6R2BTe6o9x+fJafzWfyJUZq83UFiM1hY0WsLHh1hc4h1LnEOa5xH8Xosdul/oscaH+ixv6b/AEWMfCesV/guWJJ4JV+Xwlfm8L7q/P4X3V6fwh6q9P4Y9VW0aG+q/E5NX4n4FS05sVLRqaqWjU1UtGtquz62q7Prars/iBXJvEHork3iK7P4gV2fWFdn1tV2fWFdn1tV2fW1XZ9bVdn1NVJ9TVSfNqpPmFSfNqpP8KpP8K9v8KpP8KpP8K9v8K9v8K9v8K9v5L23kvbZNXtsgvbaQqzaFWbQr02hXpdCvSaFffoKxHaCsU6SsU6SsX4SsXyKxh5rGCxmrGbmsVuaxW5rFbmsRuaxGrEasRuavjNXgrwV4K8rwVVeCqqqqqFUcleSvuZTO4o9x+fJaPzh8v3S8MwsWPW1Y8PiBc4hzXOGaX+ixv6T1iS+AfVX5/CHqq2jQz1X4n+mrto8RvosOfx/ssJ/GZywP6r1zdup/qubxefqubQ6fusCHQFgxaGrDZpCut0hUGX8gbFQKgyV0ZK63SFcbkrjclhs0q4zSsNmSw2ZLCYsJqwmrCb5rCasIZlYfmVheZWH5rD+JYZ1FXDqVx2pXHalcfqVx+pBr67/AHEpncUe4/PktRpKw+Sa9rxUfs2JHrb6rHh8QLnMGtc5j+L0WPlFIfosWThA5X7R4I9V+JyjCpaNbB9Fcm8b7LBdxmeubt4uefqubRZH1WBD4YWFHob6K63IfzkO1KZ3FHuPz5LYNrPqoGBsY8/ebzdQRliH+o1c5h1LnDMnH6LGPCF6xJfB+6vWjQwfVfis41cn8YD5BYUnjuWDnLJ6rm0XG8fqubQ6VgxeG1YbNDfRUGQ/sYUzuqPd9eR8bH94IdtVX2D9YWPFrXOY/P0WOOEb1iycISr0/ht9V+J1NCxJDPhmT6rBzleubx+fqsCHQsNmgKn9iR7gUzuKPcfn06jMLEYP1hY8Wpc4j+L0WP8A03LEl4QlVtGhqpaD+sD6LClO+ZywM3vXN4skIYh+gK63SOk0jnQp4n9jh7g4psjA3vJkzADv3rFPCNyvTeGvb/Crs3iD0WE7jKVgN4ucVgR5LDj0hXW5Ds5HhjC4p1sl8grPPiCn6hyVA4o055UHZfRmhH6whNGdxJ+n9jB2ZkYOKxm8KlX5DuZ6qkx4gLCPF7lgs47VGxtzcFHu+vultDjGKDjtTOauiu7nU3lQNfjsup966bu9Os8sp9o+nknwtbOI65JsTG7mj+xo6Zmar8h3M9VdlP6qLBzcShGwfp6JTO4FHuPz91MURrVgT7GzrEOorJK97XB22nHkk/70fMf2Vp2JTO4FH3fr0jLGHXS7b2W5RWpsjy2ny5HNnBqx9RkVizDfD6I2iWmyByLLTNS/sCjjbGKNHI+zuM4fXZs7F0kbKXnUrySWmNjru2qa9rxVpryNtdZrl3ZWlVPMIh8R4KlokqbxUdpc19yb17evutRmrzdQV9uoLEj1tWLFrasaLWFjw6wucRa1ziHUucRZ/Zc4j8/Rc5jyd6LHbpf6LHGh/osb4H+ixv6b/RY39N6xv6bljHwnLFd4TljHwnLFd4Tliv8ABKxJPCKxJPCKxZPBKxZPCKxZPBKxJPCKxJPCKxJPCKxJPDKvyeGViSeGViSeEViSeEViSeEr8nhLEk8NX5fDV+Xw1fl8JX5fDV+Xw1fl8NX5tCvTaFem8NXptCvS6Fel0K9LoV+Xw1fl0K/J4avy6FiSaCsR+hYr9BWK/QViO0FYh0FYjtBWIdJWL8JWL8JWJ8JWJ5FYvkVi+SxPJYnksRYgWKFiBYoWIFitWKFitWI1YjViNWI1YjViNzWIFiNzV8dKo7IpncCj7v16Vrb1q0THSN2xu+YUM7Zfn2Ev5T/krL+fH2hIAJO5G26WfUoW5/FgXOnSENiFD5oMtI/1gfKittfZ/KigdehYfJSwskaQRtzVnvRTmN3HknhdE6+OLtiiJnnF75+nJbIwWh2R2qzPL4hXhs7Y+ZV9mtvqsaLxGrnEOtc5h1fZc6i+L0XOBwjkP0WM/wAB6xJvA+6vz+CPVVtWhi/FZsV20eI30VyfxvssObx/ssOTxnLCd4z1gf1H+qwBqf6rm8fxeq5vFp+65vDoWBDoCwYvDCwYtAWHHob6K63SFdbkFQfv9OhQKgVAqBUGSoMlQZK6MldbkrrcldCutyV1uSuNyVxuSutQ7cpncCj7v1PJeAV5uoLEZrCM0I/1GqZ9neymImHDfUUNFsMrSzZ2LepMPJ/aW0SFrbo6vFWaCJ7au2nJXIYmE0psQbVrpMioJDJECd+5WptYD5Gqsbqx3cjydWS1AjP/AI5LZ+T/ALlYmjDLuJPJafyJPkrH+Uf81ebqCxovEaucweIFzqHMn6LnI8OT0WK/hA9X5/A/8lW06Geq/E6owrk/jf8AisKTx3eiwM5ZPVc3j+L1XN4dCwIfDarjNDfRUGQ/nspncCj7v15LVUylQx4gA2rmcfmuaRea5rDp+6e6BnVYxpcrPAR137+xk2SP/wAkHXgHZjs6gcQr0Yr1mq0vY6EgPG9Y3sMP4lBKxkQG0njQLGB/0nn6IxyB9YmPCc22Sd4FQxTx16rKr8TnGjHO7YZG+iwpN2MfoFgf1pEbKwjvv9ULJCBuJXN4fDCw4x+hvorrdI99daoQabT8kyaN+4/T+Xq9qdyZ+WFH3fqnbkGLhyuhe/vy7MgmRRs7reyk77/8irPsgjqeCMsY/WFziHUucM4B5+ixncIXq/Mf9EfUr8TkwK7P4gH0WFJxmcubg75H+q5vH5+q5vDoCwYtAWGzQE2zwtNQwfskk0cdLyNtj4NJ+y57lEueHjEo5WyCrfTktjiIwMym2W+0G/ROBjdR28K9JE0PabzDwKY9r2hw/ml25M7gUXd+vTqFfZqCM0Wpc4j+JY2Ub1iS8Ifuq2jQ0L8Sf1MCuT+N9lhP8Zy5tM5ztnHeU2zx0bVtTRCKMfoCoMv3CeJjwXHeGqxsDiSeHIdx4qzwujvl1KnktEeJGRTbwUE9z2b93DyVrjvMv8R/woC3m/X3bVY976bvcga8P5IPbuIzTZYwwVcFHM27xO1Yx4ROV+bwvuvxGTFdn8QLDk4zFYGb3Lm8fn6rBi0BCNo/SFT96k/Lf/iVY/8AU+iDmnc4evRnhYWE7lffdu3jTJRgykN4BMY1goP5aPY32jiEZ486rFd+mMqs5/SArsx3yU+iwM5HFGCOndTGNuDYFF3fr75I8MaXFWWeWR7g7dTphzSaBwr0ZJo4+8ejPai192P6lRSYjA7ktd4TA5bkCCARx6M0mGy9SqNqnce9T5IT2s7mf+K/Hny9FHznFAcT55djN+TJ8ltKFllOQWDaW7Wu+6gtBcbr9/DltLwG3eJUMV8g0qOKkgdH14yoJxJ/l/LR6V+U7o/VXZj+oBYNe89xWDGOCAA4dF25M7gUfd+vvkrjaJgxm4KKJsTaN+p5JJBGwuK583R91z157rB/yvxr/wBQauauO18pKsX5v+w9GZ16Z581Zn3oW+WzoTwOY5zuCsZ6jm5O/wCeS1trDXSaqxurDTSentTpI2d54CZIySt11adi5oc0tPFRwRxmo38too2evyPK6ss9MygABQcloZhPEjE03mg/zQ5M7gUXd+p97tUv+kzed6giwm04nfyua17brhsXM4fiTY2MFA3kO4/JWL8w/wCHRtMA68nluVirdkHmjNG3e9OtzBuaSo3F7A4ilU7uO+SsR65Gbf8AjklFYpB8JViO148geia0NMk0W1ooL32WFa3959PmU2xs/U4lMjZH3R2j3hjbxUYdNMXHdXlZ7K07c6ctqlDqNbwUQpG0HL3WozVRmrzc1fbqCvt1BYjNQWJHrCxY9YWJHrCxotYWNFrCxotSxotSx4tYWPFqWNHqWPFqWPHqWPHmsePNc4jzXOI8yucR+ax2eax25FY7cnLHGkrnDdJWONLljDSVjjSVjfAVjfAVjfAVjfAVi/AVjfAVjHQVinQViHQVinQViHQsU6CsQ6SsQ6SsQ6SsQ6SsQ6ViHSsQ6ViHSsQ5LEdpV86VfOlXzkr50q+cliHSVfOlYjslfOlXzpWIdKvu0q+dKvnJYjtKD3E93t3bkzuNUXd+p9zqBvIQc07nA9K0S4bPM7lZIdmIeO7knkkx3bSKHYmzxljXF4TXtcOqa9A7j8lZJGtebzqdVc5iPdDnfIIOJFbpHkhanuBDWddB1uy/4TxbC114ilNqhidKSL1Nm1NssQ31KEcY3MHLB1bSPm4ctlNJwPIjtqjMK+zUFiM1tUtocJRQ9UJtriO/Yucwa0+2t/QPVXzI7ruTJIWNo0O9FjjQ/wBFjf0nqcGTbhuXOZWjbEUX2ibhsUcMjduFU/NVtGhvqvxGTF+I+BfiM2K7aPFHork3jfZXJfG+yw5PGKw3+K5YbvFcsI+K9YJ8V6wf6j1g/G/1WANb/VYDdT/VYDdTvVYDc3eqwGZu9VgR+a5vH5rAiyWBFpWBFpWDFpWDFpCwo9AWFHoCwo9IWHHpCw2aQrjdIVxuQV1ukK43IK63IK6MldGSoMlQKgVFQft9FRUVOSnZO3Jvcb8lF3Prym0Qg0voEEVBRIA2nkJABJTHte283oOc1jbztya4OFRu6Mkk75XMDjv3BR2Lb7Q/QJkUbO62nStLJXS1uEgIttb8x9aK5aaNGIB9VPC6Mgl1byZZZXNaRdoVDEImUrXPkmnwi3qVB4p7bW9xIdQfOi5vI7vzEqyMa6XaP0rdyca8j+4//Eqxd93+HRk9naa/HVFXhqCvBlpLuAemWuN1Sequcw5/Zc5bof6LHJ3QvWJL4H3V60eG36lfif6apadbPRXJ/G+ywpPHcsDOST1XN483eq5tDkfVc3h0LBi0BYUegLCj0BGzRH9K5tDoQjY3c0dOn8u07V24pvcb8lF3OS0WgyG4zd/ym2Tq9Y7VE50U1125Wx46rK8alQGsTFa5qAxjeQrIaxfXktU8jX3Qdm9MN5jTmFbq3Gf5KxmsP+7o0pWgTpI2d54TbQHvoxpOZy7G2dxn+Ss35EfLszCvs1j1Rmi29cKySNY8lx/SucxcL3osceHJ6LFfwhesSXwfur09D7IeqgjtDSTQDZTaqWnWz0VyfxvssJ/Gdy5uPEf6o2SI773qubQ6fuubw+GsCHwwrrdI9P2mioqKioqKioqKip/Io7R24pvcb8lH3EdyhOHOL3B23ktlBIwoRukxHqx7Yj81bg3qnjVWORgY4OdTajaoB+tWiRkslW5KGQPjb8tqtb4yy6DU+SsX5R/y6Dq3TTJNjtEw75+qjscbd/WQAaKCgCvNH6gsaLxGo2iHWucMyefosY8IXrEm8H7q9aNDfVfidTFaRLhtvPHeyVnY8wj2pG9YGcj/AFXN4/M/Vc2g0IQRaAjDHdIugbFZ7M6N95xG79jc5rBVxohQioOzkoqKioqKipyUVFRUVFRUVFRXVRUVFRUVFRUVFRUVP5EHaO7pTe41RdzkfBE81c1BrWigFFLCJbtTuTWNa26NydZpmA4b9mSNmm2uKaLzmjMrmcI4VRig3FrU6zxjdOE6OBsbvaVcrNMGxkXXHrcFjO4QuV+fwh6r8T8AV20eL9lgvO+Z65s3i95+q5tDl91gQj9AQjj0BUGXStf5P+4KykCGhP6yPc6KionSRNcGueAVRUVFRUVFdVFRUVFRUVFRUVFRW5+1sdN21WPbZ2qioqKioqKiorqoqKioqKioqKioqKioqKioqKioqfyIOQdo7cU3uD5KN7AzvBY8WpY7OF70WN/Tcr8nhfdVn0tX4jNqlxWscTKN2Sssd+TeRQLm7eLneqMMABJag5s0lyNoaM+KfGxsDwB+lWHuP+nuFoFYX+W1RgmaOm3bXt6KioqKnJPLhRl3oooXTyivHaSqKioqKWWOLvHbkpLa890XUyCSTbff81HLJBI1ryS0qioqKioqKioqKitw9k3/ADVjHsB8yp5MKMvpVQ22ryJaAeSoqKR7Im3nJtvaXbW0H3TJY3ioKoqKioqKioqKioqKioqKioqKip0yj+/hUQ6ZkjG94WPH5n6LFdwicr0x/S0K7Od8nonRGm2RybBHcCiijud0K6MulJZmSPvOr8lFFcryTYk8hYzc1QQCJvxcSnirXDMKwHvjyHuDhVpGYVmgfGSXU3URIG8gIEEVBqORz2M7zgEyeKQ0advTomlp3EFU5KclOR7mMbecaBBslsmqdjAnYMLb52UFFFJHK28xUVEaAVO4L21oleWCpP2ChsMbNsnXd9lRTVktt0H9QHpyUVOSR7YmF7tydboRwcja5qEtg2ZqMudG0ubQkblRUVuHsR/mrEPw4+ZVuHsP9wTLNiWSre8CVZLVdox52f8ACorcXvnujhuXMiyaKvWB3qWxbDhV+QUFqfFsdtHEZJpDgCNxVFRUVFRUVFRUVFRUVFRUVOSioqKnIUUUf35vRxJTuj9V+IPEBYTzvlKwI/msNg/SFToO3FN/Lb8lF3Oys2yWYchVh/MePh7aadsQ27TwC59JoYhabQ/uRj0TzaDS8+hyG9Nssju9s/5UcbY23W8lHWmVxUsUkTtu7gVDaiKCTb59K1lws8lF/Dz7R4zb/wAdGicWsF5x2ICS2THR/wABMjaxoa0bArbCZIDQnq7aZr+HvpN5PH35ZI8SN7K7woLNa4Zm7Orx+SorVPgx7O8dysEFAZTvO5UVFRUT42vaWuGwplls9n654cSnW+EHqguUEskt69CWKiorf+U3/NWIfhmfVW0fh3eRCsH/AG/mHFW2zNHthn1grI6/Z4z9PRBt63f7z9lRUVss8bmOkobwHBfw5+xzPqFTkoqKipy0VFTo0VFRUVFTkKKKKP76ztn90pvcHyUXc7KesMokHHeo5mSDq8ll2WiT69ta4KgyDeN6sjQWHYN/SicbPKWvHBTsEsBoa8Qtlw5qPbGw/COi+O+xzTxQGBawK7nU+hRmhbvkanW6zt3GqY4PY1w4jltUL5WNDCKh1UIf4gxt1tQPIhRyfxBrLphqcyq/xN36Wt9FgvxxE4it/ePNQQ4UYZWvLRTSthZed9Bmoo32uW/J3R/7QctOUjYVzEuPtZ3uFdyjhjjFGMAVFRUX8R/Lj/yVkH4aH/FPZfY5p4hWWYQSuZJsHH5q22kSUa3ujb81Yo7lnjrv3n6qPqfxDbrP35KIgUNclYP+48rh7CioqdoUUUUUfcBybMwtmYVW5hVbmFfZqCxGagsRmoLFZqCxY9Sxo9Sxo9Sxo9Sx481jR5rGYsZvmsZvmsVvmsUeaxhkVijIrFGRWL8JWL8JWL8JWJ8JWJ8KxDpV86Cr50rEdpV9+lX36Vefkrz8lefkr0mlXpMlV6rJ5KsnkuuvaKGu2vLXs390pvcb8lF3B2UjA9haUHSWeT/3aorRHJu2HJWP85/yPbTflSf4lWedsTCCCSXLnkfFrgmWiF25/r0JImyCjk+CSAF0b9nFRhuIwOOyu3lmtVoDnbbu3dRRz2wnqlxX/wBSOQ9Fg214N6YeqtED4yLz7xIqobFE6JrjXaFzSDZ7MIAAADoUVFRW0uitN4fC706FombBHfP0U0rpH3nEHyUP8SY0XXRgAbrq/wCoOd+VAShL/EX/AKQPsnj+JtG+9/iVZxKIW4h63HsP4jduxVrvKsONh9bufoz5JrNFKQXDbmEyw2djg67U+Z5LfE5rsZvlX5qzztmZUb+I5LTIGRuFesRsX8Ob+Y7ZTcFebqCvs1hYketqxYtYWLFrCxotYWPDrWPDqXOIvP0XOI/i9Fjt0u9FjDQ/0WN/Tf6LGPhPWK7wXrEk8FyxJfBPqr8vhfdXpvCHqr0/hj1V60+G1ficmI85yYjzr4ERas2Ii06moi06gqT6wqTeJ9ldl8X7K7N4quS+KrkvilYb/FKw3eI5YZ8Rywvjd6rB+J3qsEaneq5uM3eq5s34vVCys8/Vc1jy+65tHkubR5Lm0elc2i0rm8elYEelYLNKwmZLDZkrjclcbkrjcldGSuhXQroV0KgVFQKipyUVFT3NvbP7pTe435KLuDs5IWSDrBGw5SKCFsTacTvPSc9je84BY0PiNQIO49KdrnRPA3qKyuO2TZ5LAh0BOssR4U+S9tZnCu1pQIcARuPJLMyIbd/AJ8r55APRoTrG1zBuDswrNK+OXBk+nKGgbgOX+IjqxH4qKym9Z4vlT07H+JMvYPzIVldes8R+H/jleGEUdSnmsKy6YvsrtmG7CHosWzD9bVzmDV9lzmPgH+ix/wClJ6LGfwgesSf/AOP91etHgj1VbT4bfVfitMapaf6au2jWz0U1lkmFHuafomQTtaAJhQeSwp/H+ywZfHPosB3jPWB/Vk9U6ytcCDJJT5p/8PmicXQur9isO3bepJ6plhlkNZeqKcDtKbY7OBQMQs0OhYEWgLBj0NWEzQFcbpCuDIK6MlRU6NFRUVFRU5Siiiij2dFRUQCoqKioqKioqIhU/ZW9s/ulDuN+Si7jfc5Q6acgDds+Sjskbe91kAAKAU6RIG8gIOa4VaQeW1TMIa1prtqoWlsTAd/I1kk8hz3kqCBkW7ac+S00ktLWs2nYOhUZhYketvqra+J0Ox7ahw4qxzxtiuOdtDyudQ/F6LnI4RSH6LHk/wDjvWJP/wDH/wDJB9q8Fv8A9yraj+hgVLVqjH0Vy1+K30UtlmlADp9xqNiisjo4wzHeuajjLIfquaRcan6rmkGn7rm8PhtWBF4bfRYbRuaPTp0VFRUVOwoqKioqKnuZRRRRR7QBAIBUVFTkoqKiIRCoj+yDkHaSd0pvcb8lF+WOwdNG14YTtPLLKyJtXJjw9ocN3JPO4TtaNw6Ia0E0btO/kDmncQelM5zpOuzYNwTbUGNoIgEba7gxqMkr9hk2KLAZto5zvksb+k/0WNJ4B9VctLHl7GUXPpBvYAse1TVaweihscjNuLQrAfxneuat1v8AVc1h8/Vc1g8MIQQ+GE+zxOYW3QK5KCzshvXa7f2GioqclPdSiiiiiij2IQQCAQCoqKnJRUVEQiEUR+yDtn90odwfJRdwcktqjjNN5UdqY803ckswjLBnyvfekc5MNWNPlyW2OrWuyVlNYQMuS2fn/wC1X2UFXjdmsaLWFziLV9lLaTsw2nz2IyWt24OWDO49cE/VNxmijYmD6r8T8Cuz+KPRYUvjlYGcj/Vc2jO8u9VzeLJYEWgLDZoCoMujQID3Snbm0RCXDrt7IOa7c4H3Yooooo9kEEEBy05KdEohEI/uMndch3B8lH+WFaJcNmzeVDZRsc/aVaoqNvDgoZg6IFzhVWl7TO2jtwCNphz+yltUVxwFakLq0G/zTLYWsa27Wi57J8IRbLIz8zYRkiJYHbzRXoaVL5D5J421zWBDoCw2aQqBUGz91tjDDa3PFdpa/l/iM5jaxor1l/DpHyWRhcdoJHQtdqbZ25uO4KS1zTHaa13NCbJabM5pe26gaivupRRRRR7AIIBBBDsSiiiij+yDsb7NQRni1LnDeDHH6J8shBpEdyrOWDqtGxRie4KPA+itLHgBznk7UxjZG1xCfqnWaK6dnBRyMYx3V28E2O7JGHDfRTw4goNi5lNm1TQYV3bWqssET46ubU1WBFoHIaEbk5tnLqRxXj9lamUw9247k3ut+Q99vsv3LwvZdEua0VcaBAggEGo5ZpmQsvO+gzUn8SmO7Yo5rfKatvU3qG3TNfctDabO92FRmEC07iD0v4kw1Y7btaW0VndegiPwDk/iMOLATxZtC/hbvZSM0u/56Fpc6a3FgPG6oLJDCOqNuriv4pdowcaFRAiNgOke5lFFFFFFHsAgEAgh2RRRRRR/Ywhy48WdVj5RuV+Y7owPmV7fUB8lhPO+Urm7ONSsCMfpV0DhySd0odwfJRfltUseIwtQinieCKIVoKjahZ4Q6tzarTE591ze8E29dF4UPHktt+/tHVG5WH8k/wCXLPO55ut7tfVRRCIUHFW3/T+qj/Lj/wAR25IAJO4KCYTBxu0p2pdS3l1aUk6P8Tnfitj3Bu35r+FO6krMnV9eX+KvOM0ZMVgskQjZKes8iteT+JiENjJG2v2Vmvc3ivb7o6B3GgQt1smdcEdM9lFzW2voDOB91/008bQ70UFiZFMZQ9x2bul/ER7AH4wv4ea2Vnw1HI5t5rm5hfw11J3sPFv/AB0JLBG6fGa5wdWqfI2NtXFNmxrTekHVqmua4Vaaj3Uooooo9MIIIIIIdkUUUUUf2IbkEOS6Oxk7pX6B8lF+W3pkhoJO5Fr7U6u5g3KKMRsDeSd12J5Vlgu+0NNo2clt/wBM/NR/lx/4jt52l8LwFYT13jNvI94YxzjwVmmMrKltOhJaoo3hrv8A9dK27LRMo3XmNObR0JYWTMLXeuS/h1W2mmbCPTltVkZaANtCNxVms7oIxGHV2qe1xQVqau0hQ/ip3PlkFNP/AOOwLmjeUx7HirXAjpW0Vs0n0K/hzqxy/wD9nLS5/EP/APX/AJ6Nqsk889b4DPuh/C7PQ7XVzqi20WKrhtb/AO71BOyeO8PqPcjyFFFFFFHpBBBBDkHYHkKKKKKPRqFUZhXm5q83UFfbqCxGagsRmaxGZrFZmsVixG+axB5rEHmsUZFYnwlYh0FX3aVfdpV92lXn6VekyCrJkFWRe08l7TML2ma6+pUk1K6/Umd1DtJO6fkv0D5KPuDs7X+QfmFZ3h0Tdu7ktu5nzUP5Uf8AiPcIupagPjpySisUg+FWHvHadgGxTYsEt+/WpUcjZGBzeR96R8h3naVBapYgy/tj5QqtG9wVvwS9r2uBJBDqKH+IRMgYCHXgKKH+I4k7WXBQnoRezt4yxHN9ehajaMP2Laniov4bI7bNJTyCP8Li/TI4JktpsktyTrN/93Jj2vaHNNQegbP/ABDre0bv31K5t/EHHrWgIfw936rQ76Cis8DIGXW/XpTtvQyj4Sv4Y+r5hmAactuoLZX/ABPK6aNj2tc6hdu6Ely46/3abV/DicaQDdd2+5lFFFFOIzCLm5hFzdQV9uoK+zUFiM1BYseoLEj1ITRakJ4tX2QtEWZ9EJ2fF6LHbpd6LG+Byxj4bliu8JyxJPC+6xJPD+6xJfDWJLoCvy5NV6b4VWb4V7bMIibWEWy60WSeIUY3+I5GJ2soxHUVhfEVgjMrBHmsFqwW5LCZksJmQWE3ILDbkrgyVwZK6MldCoFRUVFT3BqHaSd0/JfpHyUX5bezlbejcPJWOW6+5q5Ld/p/UpgpGwfCPcJdlr/3t5KV2KxGk93MEK1R4kJzG1WGSk13g4IKy+ztVD8TVaosSE5jaFZ5pHWZ8bHe0b3fknc6mhjZtJ214JlhtPi0+pX/AE7i6Y+itNkjiY0hzu/Q1Vis8Jha8tqVarMbzJoW9dh3ZqJ+IwOukV4HltPUtvliMdyyzxQir3UUFojnBLK7OW30FmdXMU+a/hhPNzXxD21ls1pitNTS5Qjfy2+zSTPaWFu6m1Bwp3gsRmoK3u68b6Nc0eqZ/FbKd9Qv+pWTWnfxWyDiSn2uS0uug3R9lZjBCygJJ4nNc6j8/Rc4bof6LnH9N/osc+E9Y7vAesaTwCsWbwPusSfwR6q9aNDfVXrTpYq2n4FW05sX4nU30X4nW30V20eL9lhzeMfRYcniuWC7xXLA/qORg+N3qjZ25n1Rs0fn6o2WLz9UbPHkjBFpWFHpWFHpCw2aQsNmkIRtyCDBkgwZINQCAQHJTkp2JRRRRR/YW9rL3Cv0j5KP8tvYB7HGgcCehaoSHX2jYo7Y4fmCvmutaZvh/wDx0jPCDS+mTMeaNr6dlaP+5PzauPJao3RyYjdx21yKFqidE68aOu7QrIwmePy2nktrCx+KBv45OQt0ToXuOx1O7mv4ewmUu0t/56Fv/wC2/wB4X8PcDZw2u0E16Nts0krw6O73brqqCPCiYzIclrDDaxjOIbTZTJRGBrAIy26sRmtvqpLbZ4x3q/JS2h9rkDb1Gf8ACims8bGsZeoPJc5bwY/0XOD4MixpD/oOWJaPA/8AJXrT4bfVfisowqWrUxXbV4rfRYdo8f8A8VhTeOfRYMnjvWAfGeubf1ZPVczjzd6rmkXn6rmsOR9VzaHSsCLSsCLQFgxeGFzeHwmei5vD4TPRCNg/QPRUbktmXuhRRRRR6AQQCCCCHbFFFFFH9hby17KTulfpHyUfcbyYsd67eFeV04EoZTkKg2St4dbkkdcYXKGXFZepTknMDKViBJUd0xtLRQdG1xyOuXQSmWPW5NAaKAU7K2fnD/EcpAIII2FcwZWoc5QwMhBu8d5WzNF0ZFC5vqnWaxeJT/co5LJE261653BmT9Fzluh/oucO8CRTY00T2YG/zVlgtMLnOuCpGaHPMo1dtWtg+QWHafH+ywZf/kOXNzxnkXNm63+q5pF8XqjYrM7eyqP8Ms3C8Pqv+lw+I+iZ/DrK39FfmgxoFAB+3lFFFEIjkogEAggEEO3KKKKKP7CO1k7jl+j6KP8ALarXM69ht+qNmcGfErLKXC6U9wa0uPBXiHXzv3p9pjYaOrWifbI2upSqlla6W81tNyxrU/cyifZ5Cwuc+p3qxP6rm/XkthrNTIKAUhj/AMeg+RrBVyFqZkVzxn6WkprrS/hcb9+UuaN7gsaLxAucQ61zmLheP0WOeEL1iy+AfVX7T4QX4o8GKlq1s9EI7Rxn+ywZPHcubZzSeq5pHxLz9ULLBpXN4fDCEUehvoroyVP30ooooohEIhUVEAgEAggEO2KKKKKKKP7CO0l7hR7v0Uf5bVfDbU4v1KoIqE/2VpqPmrS+/KGN3D/lWpgaWD4UYo3UJbXYhHGP0hWzvt+SHJJC+J96P/8ASNqmpS7Q5p7aUJO9NniDGdb9K5wzJx+ixz4T1iy+D91MyaW71AKeabZH8S1NilbukA+QWFJxmcsDN7z9VzaLz9VzeHQsNg/SFdGQ/k4ooohEKioqKiogFRD3Eooooo/sI7SXulfp+iYRhtqQnYBoSWrnEWpWlzZKXa1+Sgqx14xuJVqc43SWUQkmcBQMX4n4QpILRI9tXCgWFJxlKwM3uRgiAJJNEzDe+jWbMyrVGwBhAp1lABgs2cP5bKKIRCoqKioqKnuRRRRRRR/YR0S5o3uCxo9ax2cA4/RYx4ROWJN4S/EfCFcnP+qpInUNZHFGBhG2pUcEVwbEImDc0K6MlTkcxrhQjYmsawUaKdGR5mkDRu/SFGy40BWz8of5Ky/kj5/y9RUVFRU91KKKKcj+yYb+MrlgN4krAj0q43JUHRl7pXD6KPuN+XZWh12J3nsVnhDQ1/GnJa/yT8wrJ+T/ALv5eoqclPdiiiiij2tRmrzcwrzcwr7NQWIzNYjViNWI3zWJ5FYnwlX3aFfdpV6TSFekyCrJ5L2ua9rmqSa1ddrKuO1HtZe4V+n6KPuN7K2flD/JM7jPlyWz8n/cFZfyR8z/ADjVXm6gsRmoLFj1hGaLUjPFqRtEaM7PNGcaXeiM39NyMp8MoyO8NX5NCvSZBVl+Fe1zavbagqSa1dk1q6/WVcOtyw/MrCHmsJqwm5LDZkrjclcGSuhUVO2G7tJu4Ue79FF3G9lM29G4KyyhzbnEcls/K/3Ky/kj5n+WKjMK83UFix62+qxotYWNFrC5xDrXOYc1zmLz9FzlmTljjQ/0WKfCcsR/hFYkvhLEm8IeqvT6GqtoyYvxGbF+I1N9FSbX9ldk8QrDf4jlhO8Rywvid6rBHmsBmSwGZLBZpCwWaQsNuQVxuQV0ItRaiEQiEQqfsDdyPZy90o7voo/y29nMMOXqlQWjE6p7ytn5bR8SswpCz99qM1fZqHqsWPW31WND4jVjw+IFziHWudQ6vsucxfF6LnDdL/Rc5/pSei5wfBesaTwHLFm8A+qxZ/A+6xJ/CHqr0+hqraPgX4jNi/Eam+iuz+L9lcm8b7LDl8YrBf4zlgHxX+q5sNb/AFXNmZu9VzaLz9VzWHSubRaVgRaAsCPQFhM0j0WGzIK6FdVFRUVFRU9xPIUUUUUf2BvJQ9lL3Sju+ij/AC29nPZ7+0b0WSsNS0hPlfLcbvKY26xrch+0XhmFiM1t9VjReI1c5g8Rc6h1fZc6j+L0XOW+HJ6LnJ4QyLGk4QOWJN4H3V+0eEPVVtWmNfi/6apa/EZ6K5aPG+yw5vHPojBL47lgHxX+q5sPEk9VzWPN3quaQ5H1XNodK5vDoCwIdAWFHob6LDZpCutyVOxH7WUUUUUUf2AdpL3Cj3foo+43tCKprGt3D3iozWIzW31WND4jVzmDWudQ5n0XOWaH+i5yeEEnosWXwD6q/aOEI9VetWhnqvxecau2vxW+iuWjx/ssOXx3LBdxleubjW/1XNY+NT9VzaHQhBCP0BYcehqDG5BU/Ya9Cqqq/shRRRRRR/YGodnL3Cj3foo+433i80b3BY0XiNXOYNa51FwvH6LnOUUnosWXwD6q/aPCHqvxX9MK7avEb6LDtHGf0CwHnfO9c2zkkP1XNIuN71QskHhoWeEf6bUI2D9A9FTy/l8oooo/sA5K9lL3Sj3foou43s6jMLEj1hY0WsLnEWa5wzgHH6LnB4ROWLN4KvWjQxfic2j6K7aPG+ywpDvmcub/ANR65rHxqfqubQ6UIox+gK43IKn82FFFORR9/HJXspe6US273go5I7jesFziHWucR/EfoucDw3rGd4RWJL4f3V6fJi/EagPork3iLBdxleubs8yubx5LBj0BCNg/SFdGSp/PBRRRRR9/HLix6wsaPNY7dLisU+GViS6Aqz/Cvb6x6LDlO+UrBze71T4GgLBjpuUUTbg2K6MlT+wpRRTkUfcajNVGavszWIzNYjViDzWJ5FX/AISr79CvPyCrJ5L2mYXtNSuyayg11e8eURNyV0KnTl7pX6VF3B+97P5MKKKKcnEZoubmFfbmsRmaxWLFGRWL8JWIdBV9+hXpMgqy+S9pmF7TUqP1lXTqKw/MrDCwwrjcldCuqip7rL3CuH0Uf5bf7DuUhOae9+opznV3lFUCoMlQZfsH/8QALBAAAgECBAUDBQEBAQAAAAAAAAERITEQQVFhIDBxgZFAofFQsdHh8MFgcP/aAAgBAQABPyHku2F5C50ciCP+VSDRMh3GeqiSzoQEWGlnbG4TNYYk3H3ZC2saoWwuS8IbI2TQJwR4ISEwLCtMVIEpENCDHwPgZPAxsY5EcBmHfkvgu/UQuNi9A/pcYz9HudRCqIiTZEFkSSSSZhC2aKtupShuFIiUmbuEonCcNOGnAmXRtHE+2MawPkHwsgkhoaftUb2wS44wgg/2OzrjOMcl8xf8nIhNpwxZh6EhIlZknZiZ4Vuzdk9RDORu5jMhCkWxEnaCdBuSWjOobwigQJE+FCY8OBhcD09ME4RD4HfFYOBjwS/TnWXqZOvIeM415q/5SES2h+RrNDUJmxbd8c+QegQ1GixaTImrsIUjzEKskbc2DdGxjanQJzjekOgnAdjVyYTEyRs8E8sQRwTuMbkYkahmL+Wz/Zk6i5kMjmr/AJVo7mqEOr0ZLR5c1vyHhTHuRXchNZE7PBImZrgTGJXuIAleZDUbE45YPEfA2TxvFjwX4STwzwXrqfc58k4vjYvoyH6SPWJd0iwLlxxyXSNgcbMQINqNd/BE1WbAgIE6kl2hC5roLQG4gpix8hOMYQNYMY8NY78UEYstcBL5Uk/WJ/4J4weWMW+yzUZphTcyYJk4SNkjHiuFIgeDGNDRAqYQQtsIwS47jL6Sfr8/XUxMTE8Ek4Mb5ELCScGRg8HamhFJchPBdgu/o4xn6ZOEk4SSTiQ4gQI4IkNSOpHU6uQIngE4kkk4JJJJG9MJJJ9YhMnBJJI2N8LfGh4PCNBrQfErwTp5g+9zY5Lxj18k4SSsJ4QjqQ1N438LNRm8N5gegRrRrphpCR65HUbg32b7Oubo3mbrN1keb8kdRvCGs6wtDkxPXw6q7bCI1jsOhE4N3BFcv4IgbxKNgJNSom/AJJJJwn0KZJJJJJI3xoRBHFTCmpmP5XlMsdROjkwRzY9TJJJOB4EdSKHrG+dQnqwUhGw1kNwb3N5kJBnSh5GF0M3pOGbCOkbM/osDLUdY65HUQLeEdRHUR1HXOudcnrJ6uERLaG04GDdM6BGgSEnuTcYDqYfT8EvkJslh77DaXsKuElP2IM5LUdZG/gIPMjiSSThOE4zwTgkkknjpgsHgxjeBskknJjSm/KY/eFb9HlEk8ItVmh4K2Jm7JbIgTHqm8yKSFyRsrCryZuSWMaTfRrncEM2OqbWE2kRoX0ppaLBNpgOuRCerBR5oq2EoYrudTD12irTA6/k2tgtoXZiflN2RN0WmNwhxAkkkkkknhnCRsnBmweDxtHVy2CwI9dJJOJHUaam9g3B0kmRGqI6jUIXJEWhDT2Js5JbKNhgoazrkGQtEQZL6DX6HC0Rshn6pAt4bM3xDkiVwItqYcuhDZMHSbJ5BoIb6Z0o1TLPxEM5WC3EbmNJJI3UTFjP2GxsGsP3gk8y1QK30zxkngMdTfIEolshJs0SO+RkOmBLJ8GfQkHXNeWIG2IX/ADN7kJ6Gyhg7JuCeTkNhuooyMTS7EX4DXk6JXkiX9Mp3kshor3O4b4kuyGExkkjY3gxkYORDbCeGuEDHaK30UkkkMENRqsyJoMTpJhvEBTkaZpMVnpmsY5tmwQ5CNv8AnY9FCzSG664bdZPJiG3kQaMbWZclvATE+BjwY1wU4Y4WMlZy5JJwdQ0HrECTsxLiXNGoddtkJDkTyYqEmaNx6hBkEksv+/uGvGx9OBH8RwrhdjKKzvwyTg6sLXUgbDK8iUbxqNkKQZG0Sx6CwOswtASMv+vfp8i4TFxsiuCfLZlEZJKBoMaYhh5g1WQmmG2yFYmzSJZneYkBIy/4KcJ5U/Sl6ZMCsLgaGMdCSSd3yJJGyxhSWTIY3shMhpkiXsJdEJtxHUWmJFl9ZnCUSQIYkdSGpsjbG/jENH4OodHgf0RHc65vm8bxu4beN03TeN830b2ESEdSOpDUjrh6uFJJwSSST9AXJSuCYuL8jsMklcU4IIbOyIbOCCdWSlQS1kb8CXUhyEiy+pSSSSSTidWHaEOZuyVWdhUv+x0DfQ2h8Q1W3c6/k25EULRFCmEcmCFojYXg2ESXQ22Bbc2Ztza4LZ4AFsvyPV8sAgXWIbe02ng3whcnkpwo2V1dsNahvIhrwxJKwkn1lqxsJeuE8LGTjIw0JrI1GQpsYKznIi8eCfpEkkrBOBqNFnwLHS/AnhJZzo+ToCQtT2YTdwJLL4wj6p3I1Nt4JcuC0H5Yr7DwbhjQJzjelGTFmT4FrC1hGAhAkkkkklE868PjwRgzowbHvG7sQ92Qom3YJl2ILDsZeh9j1E8uSSeANVmsNHJNkuYqPTG28G5IF1H3wm1Nh/x9cGmgenG7KdB3wKZf0WLKiacBqeIn+oj8CHMThuI3MKXUiQJJJJG01iQmLCcYGLh2CCzkT0Et2JHC8P2fVySTwDeN8qszN0JaEa6G9jVnuJOU23/VRsjYHwRsT+5KWE9JvBpL4LFXyUzQNRyuaHghEcDQ8cousQllxs/yfb508Uk4JOoarNYD3H2JcxLkjb+Ceo1ZYkHYX/fpUeDYowgY8MLlPDd6cuSSScVosx6hDKfBpOQ2SRsESec65BkILJf8rPqn6bPBajwoxvCa4HYShD0YU5DF9pf6cUkk4Gizwa7MS+030SGGoWgbD6jH/EL01eJDk4Twpcpn+C70xOoa6m1YbrRrHVbYlBIsvrskkokkgTgknhiGLEgdeNEjjROrhCSSScZJJKE+gXJXplGhoWBMbxaNR8qRiMm3kTvCbFN5CW41G2bAacyv/geSmRDNSi3SErz9RPq54h7htsJHRkv1k1mJcxpwT8Qf2RvvBIoahD9582fK4NuF/Rn9mbT8nV8nX8nW8n8mbvkfOYHEZ40B/FH81iwwuR9yfkNR+JnxI+DP4I2/A/uBCWkNgR1OrhyJOCcZ9ayMBiYmSSSNjK8WSRrqMKsieYRYSumXArFgbtUbENq7CXkvBHJRVjUqpdEMWAKI8c+BNCa4XEOkTToMqCGqUk2kxRurrB4dk6lqOVJAlEODwZoenOuNp+DQb2N+V/sTmS/ijUDU851PIgrJ8QkWS+n6yeCXL4H+sw/X8nzpsDTPxGERpH8SM74ghq8GoLRYZb+FJJJJ4VhPNgTEiOGuMkDYdAQzbYkZYMz9D2C4aEQMpWLqydUPTcDJo1miRiGomnng2JG+CUiBG3OxsiNRcPRWrXFIh1saJu0iZpOKyVGqhJWrOCclqbsRmOqNkbwpW8JLYZb9yNHkb4+JJr+zA7/3Nlvvh4/xGgl4/wCJ7kJ3SNv4Jsgy6PuNrNybLwbl2wPR8m5Ib+E3eA1zZGwJM0ReJAQklEkkk8DU4IWDweLa1HoJc4EZ1I4iu5AdirsE4UHpEMjyGiwbJ17kWZsKM4GTR6jhmx14JMUiCrkOtKFIhqgyirMQq8NsVaYisFVSlSGqzQhSykd8NmmFeRE10XQ3FrS7i0JFZSFp/wBLCJMh8UbQ/oz+Txf6beDRUb52N9zZ+T+ZwW8JNWweJCM+CCGbkSLkrnIlhWnX7YtwO9cCeIsdY7EamrxhK9RSU1RKH2QtNpLCVgmqyutUJQUlFiLTEOgom7WN1+BbR9gcooK+lPUlSlF0RDl7oK5zISWI2oHVuxaf8tNee8F6Zxwk+KnowDVF+MRreea5RiPLkiSUW50JGE8jRRwkkae0sJJHR2V5Eaionr8Gs3uMpTgspN5sSWi/4l/XXmNkjrghPGcKcsri7gNVmSSh6Ga5sk5ZY0LNlfuxpiQ1dpY0TbNoSgkFRUF0QqJzczo25TKrHkD/APD7xYhPHMbXLdjNjVx8RCtWRZLeg1VkyhEiYoUjZoCVSX2NkSrKRtg1CqBrQQlhYhYTs+vTxzjPFP8AwFvA8E8I5Uk4NViIccAmZERzYa8hfD8TSULObEnCinkRxzw7tli40fTpJJJRAgQI48DbHyWPnV8M2X4whP8ApPgz4LiBDyfhz4k+PNTwEv1n90f1RteB/JHX8M3Hg3sBtTY4NsRaQhqQ1I68WIEolE8E/SDwMRZjHCkbOsesS2GaZ12KkxdyCSWSXHfIplLAxIPT6JJKIDQib40ZTbnX8FVvGS2CWt7yNB3KdxJldifR2NbxYP5s15dxfINoJf4CD8RtPBC0XIjkd+OFoiGiNh4Pij4Q+ANpj7tvyfyZp+XGh/ZYs3UnT84F8edv0P4LERaYWkIPMgdeCSBAlE4TjPPXA7cCYsLiMbKleUG8EqyWLwL/AEHFOeQixj1j+XqZRDBE30PS4bQT9iSx/wAGfyZ05LdV0RqB8kbTfc24k/gILJYV4qevfqYRtPBtR6DAf2Z86MWh7SP9T4QjKz0SR35qj/VYe0NobiFqERHrxpJJU4J4cicWPBOohJJI06kPsJM22JJcTLhdzyQaGzTuC64KaxyZzp6CSBEeohpyj6hN2f2JrN5Iaye5thJn8Ec/KavuIcglW8RCWS8ejaaW5IuGcX5mpIvrCpLIZNnYfpVCpYo7lyGiJL+LANlgN3yNHy4SPOUPxHhlhMvIpSo8m884bAH9URevgma4SMeCY2M7iRkXKXC7q9BGTpsUBfYgLTIQJWLiklHURHrDI8pz0RNZvYmsxDZJ3NquxJfsGs3uLc9RJsUessRC2FmFXFJODy6FdubirBSqWVPbeteGq6Q8Nnt6pcbiXqprCfNKQlCXqzweLUQsI5a/rPvc6SSSViQ1Ibpg6HhJb9yTQaviiebjebuI6Xl8CSVvQNjQkWTfDInz0jVQ/A0oaGaIsENt8EynNOex7Pgl+8rZtjKJJ4WiUtk8EkknonbLPkNUKXNjg90WBYszhEqJ4Kc6Ax4sWBEctn3D7nIkgQ1IkGQ3yuyboia3eKsi7kpSXY123cQEqylvUMkpdiH60W2EZhF+GlcSqTySqqeelGCakVBZrtIoK6DQgORYXm7FRYCpXXSohlOU2GnosGSC1PQa5nTdEqynuSuCdnRaiVOFoV5qpVH6xUGInDokLUq/CwMhIgE8CqJ3cRZzkG84ks/kHpfkVhWJJgxDqxT5NME940ksFRqCmB1XegVHY46CQ21nwHNMxLnrBYGMYx4LBJTlM+4PfqTitNcNtTdjTYh8kJrqbg1pfcgyiXk8cL5jcGXPoN1ESzdXxNLOakIpWjXUWEoZRC+otJTuSk8NCYVcEpjCq3oTxoFJVJOotJWE4KEVNxJAq3RIgKY8kCh1KcrmCyhGnOTJQ024Uw4Tmshje2Q/hDtQ6MquNQRKh1TyGKt3EuyUCxbgt+0xLe8buNSo1RL+2hG1oct78Xjc86LR7Nn9y3jbSUsjqLgY2rpCG85ui0HDUOxU5WxTFENKZyGiU0I1LnoJNFUEydyFgIVmdS4xQ9oIeWUGZqKItLYJLmJYKGo6iwbhSyLE/QmMY8GFyZRKKAs5mPzK6kPojU8TUbYhJGS50cUcORGC9RxTwZHkH4RCSrO2Kl6yT+3GgmwboVUxOUhioyKVC9NLDlcd5UEINpKCwgnmx9htNLDad/cjmaSMslB6mRyaEyihoWnkMDR0mNXqk7MbMtZ1Fs7IVSNTCNWzJ16UNVqaIPMSxLC46p4RA+uSSSiSUSMc0xORG2qEeVDEyRoSUzsRdliYcMJSOlXuK2Ekk4SXHoySt5sXAp5miRMU0LbDFRMxNRT5ZNBKqHoTsxlLhNYq6kikbRBib3Y9dp3JiLiyFaWLQVY32AhjqiwWL3oJVsZMoHph7EerqxYK+4PeN5FLMGpwTjwJJK5BSbpmOoRNoUp78JYPBjHhGBcMkjKUZhJLw6Dz5fURFCufe9cqaGsj2GKXNZDU8jqh5Yts6Yoz5c0xubC/GJ0rkKm0wbhN7Fe2f345bPkIywlcp6YkhWUq+W0GYNpzOSFbdJvzhJ1CJ12OxCzsJTkqslCmrdShzLQTkqalv4NgSLrlOI6k9B5db9hBQzLPIoFxRMpUZ9hTCylWJWHLpArsQ7FZNDOTIhNbsyNB2hikSj8OfHHxB8fihjQaOpnrcUFnvg3Ji/YbU0upPyj+USfssVy7WhD/ACJ+Y6XknR8k6Pk/mzcjPQLRQFcmxMEBRF1PGE2ItAbAhrgTBV8sGcGY0JQq2ijHTT1CUhCmMc5XyKSrhWduuBNCGtzRPQhZTNmIpnEMUhOJuqiqEpPqWGZ7Y9tsSqjTjJQ5DS3uNjahyQxOpIhFVEdSjsV8yFi7DxYmKEQTgaaldx4Is42WRRwLOo+56ZsTTGyiOvRVHr6BGDaSJjyHcfRfJplS3QmtC1o6MRI07YJZ8yHQlsNSMh7WtRpVce3B6yNo2ZZRwpJJtELcJGZBtF7lKJrcrqPPTmv4Ioj7CAD7Kklm8igaoeovsIQ9qUychl3cG+7EwGtQlCsbkP3DlXvccGZD3RHZtjzI1ZU/8Qv0RWnXqhhPkKSknVDCpJ5EdwiwgYqidyb7axcU1nym0pboORo0kCjBosy6hPzur3I/rOE2+ahE+Qf6Q2Rtzbfk3fMhkL5k1uizNNsMaC1Kx9xVGr6nyJKqVG1AIdV4ErLxEv8AQQOgnaqtTRDaEZuagRkwxqNZWhOocoTRKwBq+rwzKCSMktxfjuqDKUk1sNSMpmBUDWTCJEyMxI6c8DVCjFjHhdwIS3CTvyD0C3q5kkogTwNDKI1bowKqdQCCE33K6Vd2KpQx3FJd4OkPwCy2lO+xGWFMF8xFFCkU9+hVlWEEJCwecrH3EEskUJFt1TGouHbsGuzK7vsaRS2V1Z0RrL7DY5XokQWvuJkl5IwRad9SH8JHZF2IQ2NNo2s2RyoTyRmez6dlUTMTQuFAlDFMk62QhDYWUgtBb88+nfQinH3FsuEYlwcii3Y6qkiBJHUtaMV8THEtLn6UbLBJESIa/dElICImzpyL4x8UXiyipblBl4S5Tte4Tz+7CFx6RDlOgsaTyIr1JK7CMo8kI5egtOIy0xtByM8Hwm5i3qPvcMQ4zfQzqOomnDWfAoC5VxKzBqZ+yKiEkoS4LiYdULOZ3kYVUhjLJOxBZsygJwzly19hJJCSSwSSbJ/bB/GKt2Q5VaOegtSyWhqlI63oV6y/wysoJNdexQAa1IN5dJE13oSPOCTZ+wSvzqJNvAPgK3ClT4+4Vc+GPpqtq1VdhHTCxBYvTtClpJCOtWCy5IC4ffhknsJSVhTiYElMWDa5uMjK0iYkWSROQoYdzuPqVupkiCUEymEZobw3onODWaaFBVcHtRpcDxYmTynYs6j73A0FXZT/AMiYjlcNhcTylWFbEzTglpnxyBLCQW0U1SXadSpXyEutGxM61Iq5FAId6ifGSVyXmrQkZ/hsTUDS1kTU0bUox7BZ10RPJfwnWQm6bW7J9P0RAiT3+odV0pdoVQnJS0/iWL08Y4CNzMTwlkXDOBXgftJNE597kQVXZxzshIWZXaREUFLPF6axKGpjOkz0LFwSk0paViwzkaVhePF4vmWFnUWdXBs8sIEqY8rc6LkrFExGqX1E1QkkbIa8h/ZGj4ye3kV5PclyiYn4EK4Ras+RaYWUrsKmSwb0vtCRk/4Rw7TJlZqw0UShsSp6imY1zwPLI9GPX8kwacqeGrRIzm4sMehQlKTWjHSqH3YEklVSHaLgjgUUC/59hKYXj4nh25iLOrgastCUUNMiZmgnrTMCgiUji9pIWS3ch8k7kl07ITj15dWLSCTbxEf8k4ahqVoXkSEvUoRpqUP5aaH8pN9RU5LelESMVMbhTMYeefcJCJSVzUUz9pjynBu1CDrAoslqPc+IIT7i8KXmyI42pTQkyht7iRW4LxfDPJkdC6grVEIOxvsSWbuSZeRMqouw3G2ddKCWTYtCJFk/7tcgiQo6WKaIqSiBYpJ7j2r2Gk6qo2Yq2i3BZ7B0ttAz5tq4TwjDvwyQEIrpUdB1GP8AAgOZddRahOz/AJCeGSSScEkolEolalNcJJRJJJKJJIEokkkklEkrCSfTe+LUNSTkyhxQh23QJCxgmFmEDU7lCp0Lhz47B4sfE0Guo0yqdB1JP/ASsjFTCxnvCz68SSTjDVD/AHxB+XCmT+CNBw2P7EroWn5EfIHyOF/m+C+hfo+AnFvkN54xItp4I/xHxfAzQs/x4f8AEnxp8CfD8YK9gO9gnyJH7R/Rk/OR5vJuvOHfBkv0kdC12/GA2OGJtkNsS5oiQwxIkNRISiUWOo/gJGp2DZU7OhXlhiE7l30GosVZQ0MWjYnQninGcHYfG8JbjFfItkKassSKy4rMAs+pkkoachHfyDXlNxvoiWwJf0D5SC0TqyGzQmyeiNZ/A23OGfkNdnUb3uzY4JHZPY0El2+qQtEfAHwmAbI/qzbfk/gxhwwjhV/gpfiaXgwJxUnQghdOgJ1kKr4CoMRkPwFHPwV3sQrBaQ25HFYW3msqCNUdLyR1IYYkRtpCeCTcRIajj0b3TPvfR5JGq6ITv5xoymnPoJrnsTW7zJcrqzqT3JLq6CS/jN7e5rNgl/uxK/CQ28Qktiuv/IRi0mqoaN09KG35FqqJSoQ1IpsKRWSosWaPA7SELXl9upAy9zbm3P7s2Gf2ZsZBWOR6LeDdH9EbHwJGV9iHwRhGELlvcP14ka7oNINeroiS67E33RNl9WSZfuT3VdBJfsUNcdR/ZiTbwCVZF2/6S5L9tjrqvYXE0pWgjq5KBBuTUL7iiEi3OeZm8I59hc6ss9GSQGq/mGnKPIbfRFVx2JrFPZXUSZXlk1/FCALPYEaxeIisl/1ywyoS59oUuhaUXT0EjwXoLC515IlakB6g13Uasp1/AnWZ2JLeRL5XcnyRNudkQf8ApFot1eHIW8BG3G3CbHsqGbI0Gv8AwCSeB4LF4LmL4sCGo0Zoiy+TQqSXPsTWh1ZLmhJfxKrs15fcSMgl28RC0XomEv03Gst8jTjyh9/+UXqlxU4/xjPBPCsGIRHHKGiGjIPOXRDtA3zHU7a5Clcnyqli8RC579Bl4aA7VY5MlqE8hgcRGj/J732b/rVxzwySTzXxQGq7geVUyXmSXVdDXN3LIqLD3T0k2C4fYSeR6tTwW0dWJpJTlcHfc6EXoL+oysJJ4JJJJxkkklEkkkokgSSSSiSSSV65cuScJwnCcJ4mIWDyq9CbEVuf5tCdanvUSLJcT3ws9HO76Yt88oGtIJaY1q2zN4r0AHdiNRGyluW2HjvMxOmfrycIao+eGj8o05B6h9maKYRyFP8AQSWD55DCRrYu50iP6ZGv3HwjPgMPfAG2wN/JY5G9G68G4G8G9Hwx8EfCHwZ8ThPwh8Mbjwb3xg380bcbIfBHwGD/AARAgjT5n8Gf0ZJN/wCcPi/AfEksxfxQ0ZeB1fGKmzFo8O25tTam0NsbiN4gQx4kSGpHUgQJRJKwSiRkkwSTyWIWCRWXJsLot5Q5IpKoh04W4TeiHKYbmEhv8WVdM8hHJky3UXEZta4vCjng9JEveHvsQaaalMY9AdCI7TwVMa1ehlajTfyDT+UaMg8iXRia6H+guDaup2PyJMvzhiW72wbPNnc1XDeRuncJOTvUS7eESLeIg74Vwjgj6bXGFojYPsfBHwQv0R8ZgGwNsbI2GF6/kfyD5E+cIDIvgDR9p/BEX4sQOwKbpivHmxKP5I6PAjo8Qjki3455Vhf6izlco4Qi23wMkkJvJitidCrPtiRZF2KjqH4GadXgJESWdcb3dKdmJkabxKlbp3EM5CxetlTqPbWSju8JwkaLq6jTfzmw8M010GJu57Etu4JvuBXp8izFdBJfxDb9lCwSbgEnJ5Yl28Yl28awl6/8GvWzg+CcYRGyI0Gy41zF/qPeODdidHjU8hUSiRUjGuABtBTaHC3cLFldqf5HoZbjLGq2csF7Vx5G799uClLUC0k1En/mMNej0NDvCo0wvNJJdGkrK7NFn0Q/1pFCJ21YjEjV56n+II1ewkb3dya8wlZPcSbeESLJ4K64x/xy9DPHOEk4TwPmvBcuwu9RZ1BKroebVYYiz9SYRWKVUNGNFQrUD8kizQFJS3YKndnLF1FxSdTily7zV6lZJ6WGmlV1aHYK2HoSqRr1dESXI0+6ZJHUVp6gmKApgs1UTyAlzb3NdncISyeMeJqdFx05ukZWXm13/wA0vWz6F4JcyXh7wLCoxp4d2JjVSxsJR6Wd5kjHVECM5B7rsUf6lhRI7pt/I55Ce6+xJp6I1A1HWC0orLxiSVkuV1wrio7gqyFI/wCtZli+KeYsFwsXLehU1zEwJcPVkm0lJR5EUecoTEk8mySytkiW/wBg1iLLi41qJdvAQkV/8Ib9EhcLFxSh3DEspPfdj8oMz4jTS2q8xdqeohovAsf2uZv/AMOnB8mnKnkNEXwV/bCcp1MzWEi67ixIu2Np9xnvH/PBOEkkk8M8Mk8icZ9NOE8M+ieCwzKCX9YWbkFh99jeXh7N/V3xzjXQqTubA+ZPlR4H39Uxqz+DSTDTwPtpvh8P+VRvfK4iLDkf3ZAfws+BPiT4kf6Y+MPiMGbPwfHHxZ8cfHnxx8Jx8XEI7o3PIj58U4OPkI0Do8zpMfuH92T+4bLyf3Z/Vmq/k3uPL8KfCkhh+s2vA6/jhltUsNsbixhLkNxG8bgkwI4EdSJHC3BNakChAkkTxWNeVYfcZ7jhJpn+Mf1GGdWNN/MNd/MNYb19EPIZ0Kd28Zpd1CSyuonyA01mnk2LoZL+Bn+yUG9vc13DWmN15CKgt4j4M+MNp44K6leKPpFOG3FBCI0GwjbGy8DM2Ztx6A2g8Cthmw8Dc8jeeCRCAdc6mBUr+CgbMQSZFuF8uw+4z30Z/ULii+U/oldBtK7S6saPxBo/KNGvomzQn0cr/wAQT/dOCayupr+4JfzBPd+x/gInArPd1wQk2JBbxkLRciP+PfAvRrgND5dpY7nuuCp+gjbc/UtV19y6eQe76Jmj0Qmue0E9n7xJfvJENk9mS3AzX7ag3gzXdYpOvq2JP4BJ/EEiyOxXUrrhH/NxwvgfolgsELCOXYyz3LvXggSkh0ESSSVFlzK4Q1Xkd95SHIPJn0Y1h2JfuWS2R1ENf3QqJ8oLOCbvO5rp+rCVkfUSbeESqyS6IrjH0+fTr6LXgn02QZAhD5djGo6s9942v8w7ryjXl7GkmEnZ/Ym+4ZPZHVme6aQ/sEoIu67ms73bLB4ZEuyOxEcMxl/x5cpcc+keDHy55VeJPMQlcgsMy6CqyknuutCayLqzskmR0E/2Z+YBJ/cSvxCV+Ig7kcizghl0adIFPZ6iwdQ0XUakKDlWHte1Ufw42b/l1xr0rwf0E2XBR/5BCun2GaNLfDyz6mIpvC10zkejqnJTDNTnsc+pEGUzV7CRXSyyS+ArXCBM03PuWPbwV1/4Zf8AGPBkZfQzevAzSbEQf3osiEQRjZh/fPS1QZ2G1qHZDkdHqwrHnmPGunPXq54Zwn1c8S+lrDIXBQSKyXJtwl7r4o8UE5Upz05LaSW4Qpsby1jBtUkN5u6jPNuPak9inRq83gj6pJPWnJpjyBEvyS8ZCjESZwaloswu52NA2Uyrqkh4u06B89PHJJJOM410IeLRk8kF/INP5z5o+axetkfxTN/5G6WRwqruif6CX6xcC2v/ACp82fPYq8v5T57EZ+SH++Pk8E+UN15N8bs/qze+TfeT+DP4M/u8D/ViJtfJ/d4fXxJ77yb3At/xAGbHx5MJC3GeEOp4N4iOk6xsPwdY6vjC6mKbwtY3jeJszaG6aKCfZyIXBucq3AXuviZC3Fy71IaZELlr05CzDrH83MelCXZfrrUMxVtKHO+XYqDY1UCu2ybdw13CdHiggQm75QzoWR9brCYFKpZZjKeaSwQVUwNsxh3M56xzYYyVhdWfHBp/Mbf3P7saEuhkAy271CTN4iZZXUv9gVZPk2Lodmdx4Gv4kf2QVG341ay7jdeQvkMgL40+Dwh8efBGwvBC0RPF39ZHoO+DWLIRTQhEIhECEQiEbBsGwbZtjbeDbGyHpDaG3hNobDBLKWBMqThXlWvgeO4aXcaIlE2qNN/KfkAanTaKjZKo7krts2pWUyO744kf+dcd+WgGPQ1GJrQ7XEEBqiD6oklStWWgDk9YHQcjwFtordYZuVplRqtmEfGKQalTssEnpPuZxxV9hrunuhpv5Bp/cafSMJtmGa460JreaE9k9WZD/YJskuvZCV17SIk1VeBNeXVzbvq2fACXZA+OIK6kvX6yvUP0ywkkkknm198OxtJJD2VKfY1mUu6buRa+o8eHKQ2oSstORJasn+4qjUH55NdMHWNXcnUc3qPtXBwmUOmc29jM/HqGNdqG1VDY09UJknVo2kigJGbeXYrdjsxRRJ3iUqBaIRN38kDknV1mKifWMSf9aitiJdk9kLT1lVOiNZ9VHzF9WeD9NXDMnBPMvdMB98TkkIrKTEkkSULBl5thCLaLfPkSaYMsn1OC4eUaNfRM/wAkOs+0GSQNX5TJ79MU37ZQZgjXT9WwKB/5nwpWQb1+iKZHLskhT3oOd7yR3V3JPdcywSpxe6IuIO1JoPa6lOg6T6mpA9m+WnoJ/wCKeKnmXD2Z90Rw9hou0NV/OJ5X0Gqyboiu47ElzuJ7dUyP8oT38Br9ihG8rbggpSElzmWLxiVZPHBH0yU6VFaGh9juKhKxKLPMYbIqywgSSNMSbMqv9CErGrqxSIVpUltK885cEa5Vz/4pCwRPKSTlEKPohOCVZZEtx1oSWTuJfINRPRE32KIu67ioym6hKCxeAhoQQR9En9ekJTU0qXl/PThXdlLn/BvVoNhkTrIgDC/5tNRD4ndEj/gia760Mt1zkpIOgVfeoEWu6sVb7R91hBA/UN6tbd6ELTqWiOJ2mw2M0yT4YG87JVYmmk05TUrgWnKVeU9hS7o+qwZgpBPeW2kTXfhl5dCX+k1VCyWgviTcSz9JC8lvmHJeOpIYqS3RIeFF8FN/p31WvXHPf20Ophd1iuql1mv0IYdEutd1/wAA8HyJ9CaEROOgN2Hd9Kj8wQKB95YkXDcPZn33rOopf6QS+48MqbLVkyo87iHRvuLEqvQc2Aq3yJLvJcBodZq8DJ95eHBfw7lM7+sElmR2HYL2deJUpY7j7gVfYTNEauXJnQhKwVyvU8aQVUu9grokke5okKCISwZRibtuLR2aT9AvVT6h+oeE8yx9D2frEbSo6I/YT3V/wWDxIYhaah3H1JKeuHuwrsf18NFuIlRmdCK/KHUInRVLlm9CWzyCymJrIfnrYsDam/icKstobZLqfcwb7maE/iwv7NQXNRzfOeYytovcRxRJ9rLCaoZw6jd8Ljp6ZS3vYffyQnCeROFeRtDaeTYnyh8+fL4b8ifM4kG1NrwAd/BH8kfzRvvBuvB8IfxR/ZHwp8IfGnwJ8IfAjRj0tjkczkT4Hbn33AldMDK3puDeG7N2bgv1m/FrzeG/wTf4va7m6Nwb835uCAOGEidBMjlXegni9IjSlLqyVpF4c8S6el+QyK6/y2QL6emgihlZusjs0ptwI++GdEp9xEIdG0jXIfKWVzSn1F1pNKWFMgUmEVHVf4IaDFqEnYpOWIrhxOOHsQ9MGi/kGj84/wBgMhegrMZuf3jR+rEKSvUSzp6x9kUz2uYeWwTyZ2IBJ86CQp6FEsVUdaFRDmaZU2GkvqE9MdXuI03Y2UfyUr3eB8Kapf1rBPlyefmIkWBKIl8kPkB/Vmz5G984Pbm1IC+NPiT4M+LPgz4w+GPjD4Y+CNkbLwbY2kbaEmiNhEEEIhYwQRwwsY4GiCBoaWhGMYwtCEQiFhGEIhEIhEYRhDAwgly1zoUk+4wbSvQlhZ2qR5NDU0Jb4PahK4lMcTmo4HhkII75bhuLJJkJJEckNKwSMUs8+J3RQSWjG6bSYhKiKcQNzYkTWruhwUGZkeFkblsIU2yDU0aeEbLrIuaiSWUiohUW2EKwp1w/vaHsX3wnCuQ8krJ2MhN0Qv8A0Hfxh0EbCg6JuWx5Tvow8lnQq+fsJ/5CSyg7HlmxdBqeOGYOjQnu3qVqXViDLh+X7Y/146mC6UEnJ5Zbn240isl6iCCPWTz2P0yGEhLl+2eGfceEwL4cZhipJZD06Gy6lMJIJdoo8CdYB6Ei/wC0JKTiJbmPb3S2JLHZWxeCWRKm7Sgth2mWKyz01xGRgsvW3yjIZJr3K4NpdXVrASC0bzIOCmp7kmZ0c0mCb7qETuj90G2hynfD2tmVjoNfxU/GaEjq0MJZwtQ+rCXk9ypPsiXbwhUt9CjGCCOYACCPpT9OnzntsItdWXBitDBKdmmhFFQ4fsTJkm3ux2leCuqVrsLW0GpETu6Ji7NFFRlppNIk0gh5nTzQeS/A6NuTQPkw9RUZt7CAhDJDul9Whpv5BNZuiZp9IJ7jqoPkqS5fUQ91dhZjKjRQG6km6Etzc/A1+8x/RsRsbiE5lKVh2Y2qOCCCCCCMIIIIIIIIIIIIwgjCGRhBBBGENKDpzmsyOQAj05Je8NDQ/o74p9ChYIRy/aFPQLHV4VEXqKCyIrySlYhtBroSsoyIqtXqUwdCwnb+pkJpv8JaJOTr9ismKiiEOa1KITkT/cUJ7I6jawluvYP7AUJPcBFnfcL/AGQlZPYSMhXBrFGxLiCdxryYxggggggjAsBiAWT46J6E+X8UukGfU7A2vf1q+/v4MQNDQ0P6pPJXoH2jKJ4CZK6vMaf1NMwk7P7E9n7h5a+rKsvsx9kdcx9sTSjVPUJzQrtmZJqKkRi0nrmNKN29B0+h2FZKjAzfHGEYQQRxAgREy7LqyY7ifR8IJlcWW7EjSF1ux62sTockEYr5SPj39OPk2Q7uSK8USW7HqDFmluuK8tpks2dI6E6j1aj0ihQCCCBoaGhBB/RX6ZYrOCnGScG4vTBA8rtCf7ppEKnUuTIK6CQl01GpU3TUiHXl5CRZPHEiMakBDPCVIUPB1Ws7qa2b+0M1RR5I/wA9BuULyVjkUip7vjghy1FgsT6xmdok1E8EEEYELazZzgjBGCBqhP8AUIEN/wALTqRyUsFxWNCdkqYc3TxJJkIl9EJXujTQIyD2BkJKbRbXMariQT0w0vUT0nyTUDdG8ybKwzHiH9tjNandq3RMqmi3YKBrUm7EsZnRaCN6JP8AVSkzkqX6BlcolP0IAERiMMNCCCfRz9RY8ELDQfUQyz2Un+G0K0uepitgSKyIx9sOGx1fKueszhUuxT/BUnm5mP8ALP4GQXcJv9Ip57eB7MVzmorUiZrgp0ik9FkRqVVEfUS2tdeFIYzw4Xhsj0axBBBGBtgITRKS/wBjqyLpaRUndHAm0206toVIIJghMpHjmQ6ah4CptD+Y9DdlXpr34Rk+IqJ56/xSIEy2zGkOSlN54lvqv2PIQ8lX1PuQaLVvuS7bqslzmh7i93dA6N5OCwG4z1mRLNovewRwhBHAIIII4QYYaEEE9GQyCPVzz6p2GsFy/YYdY78ljKunuD88t0J1KVl+fOmFQo1Q8G5TU5iSSSVhJaY69CitcG1tZosLKq2E2nbsgfdsSMETKFihlMrnon+0pHiTPai2kpqcVcVAdmRzkN01xFZVMXu5MS6yj8lCaFOpUoUPFty9yCMDL/sMPu5PJlC0IwQQSITiVfQ9qcCB2HXzwRWur+2FE2s9DTm5Xqy5jybrqSGqXKHkVCbL/wACWDSaU9BJeMx2kggggggjgEEEEEEEEEDGhBMRMU8M8ddCBCN8BP7w/wBkP90fJHyx89gz0OO39kfzQ1ZvB1/B/JGz4D0vA2/Af6TEihwIWnrE3Phm/wCBwTYZtzYGwNtGwNgTrROtDrF8xskVBO/K9g8E+65LM9Ac4vZzZCbsMxWyf2Pn+ksohZUF+LGUVCelBpviioovIz7pZ1KSkaERTLIgUydJLQ7k7axaJROaJqCieSb/AAV0py6Eopqd6IS5KjqpnyLQhJQkQQRwBJsR32go6p0dSCBtTNYTcvPsQcKNEIS0RIOeq3eJQrcLzswgy8nGYLGbCggggggpz5KOhNYpSpiCIG54qJIcCoOlymxwQLGa+glhHcl3qZBAFRJ1zEKXKdrFyC/lPnT5A+bxE9h4Z/RM3/IbbcBVm+BNMPmBYEZmGef7AbyqG+bgf0U/RST/AJj/AEptMGf0RuvB8QLBe+dJ45oSkTbtsBF8pwZpg24wPRGx8GxNsbU2BtvBso2TZNg2iI9IhgjBAgQiEQiCEQRsQtCEQsKYU4bsVy/YvBPv+XFJNHmImv3Q1I54gj67aT5oQyhrVcSC5ZUQ9aGs9TK0+2a26lNI07+7j45RKeC9e1m7HTVG6igq6NWKE3qWZ5MghNQ1PUmoU3hECRZau8h7envIwjjjMrvs2pKjTSp8MYWvog0a/jGzOlRWZ5CqeLCZcLVORlJPMn3VDeeIn5JkyQtp5NxPJRsBAg1tJDlEJLKLN8DJfxj+dEyNKGug2SsUUwmQat1F1to1N1GUcV1YnkPjz4YSbeE+PPhiDJ4IaYIIII4wGhoQQQXHfKQRWFRXD5h4RhrkP0C5dC7DQXL9qz2g+69HJ+dDYsxvNXe3ggQTRcSOVmrcEQJN0VwVkdTNfYV3QrdaidSA2pVGSE7uVV/8FsPTAVHWTNkPCO6u6IPxCoc+US2G+xRRNGXIbdHJyqZbzoWW/dBqZUMt1TbJdlqJMvoc/wAxEpilpQmYGnR1nP5sJf4j4cKyPRCCCCCCOIEEEEEEEEToEnAIIIIxjGCCCCMIGPAnC75KQlwAoLAjAw8QMIRzH6ZF65z2LPZT73kf4CDqRhKB1sldknstcGlNNU7yO74G4hXGo6KW46imVmq4K6GhO225KEcgspKuBvVi+6ePYnrdVq6GtNEtu6OxETmmg7gujI9Ed2ke5QaNVYUwT/piZd5Wg/VxfKCX4SB9zJDEyXKbkSwgjCMEiCCMIIIIIIIwgjGCCCCCCCOARggggjgjkwRg/QByQgnAAsZGBh4gTAaHwrhY/TtXBC5ftz24+7wuDnJZEgKu2EfJb+EZjcD5+7oXfqt8HTN8NdTfa1hS0XgWkuAaT6roxTXG832CZQ10gSx9SKKqKFea9myd2Ogkv2VBVdB3AG/8iQST+ESrIhYIgmuk+whWQuBIgWCFxxhGCCORBBGEFQVaVqJvLCCCCCCCCiUtwtye7QyCCPQsfGO+NCQggmEkJYIwQNDQ0JiCDXLfoJ40SIXL9keyn3o7opfkWUplY0KL7iCCUdRvIaQb7kh1x1DzlmEjI1Cu2SJbJG7WyKuUx2TU7urMlmbcXqisUzCEiIsXEv8AEJWSG5s0nFpII5yFgsEIXAuFcCRHDGEEEcdpYD0c2KYXnB2pYnBSHo+BJoCVU5tRIsi6Tiqmsi1JZqVhJPPYx8Q3HxoLhIIIJCQkQQQNDQgggggg+XHpkLAuOo0X84nr6KSb2oQOqqtijGWS5YxGXcRzWFoiSGU8w1UTuLw3UbB1w7diskk5UFQHRubwHGsKqJDTSI0WCQGjW9j7Cmo6KNMlCDgs/teiQsUIWCwQmNQFOuBYoc1UZsV2YqNWx7bkXYaZMS0vyxdgIqm6NPqUk2hDXXbkNd/MSvZHPFBUkyTyjcH7GCbI6b7jJLze2KRSSaeyzYpVYw2uMixZ5oXEEh+PQvlB74kLiSYEhISEiCMGNCCCCYEH69YtQuFg8vtJlV77YYCH+zSP7O0KfumKyQVshBR0y92HtBDVxOYxPRpJO6KFUQylU1qTxF3bQaMGdWxUus9xwubCily2sdUsrQx59N6hEsukGuTxWCEIWCFg98sFN7RHDB1EusyvG6SLbElk5fLE+KtNYnTBbWtMUdI77vcDtOkaThalarVVIdWNRFLqwmuoXQNcjhLi6UqdaD0ndvC8FMKpigbfvv38EoKRtCl+vuJnsEaSiElaRTVZmubJJJI8GPjNZPCootBBBMCELBogaGMQTgKD9HPNQ+BQUEnISRBHFX0xB9hxvLhLsbkrrhTXacHrNI8joymnpw98Hnn1fDiesEe5PAhSTaSyGJSLyzwWEiWUtatRVrOCFhNPWHTobhjyuBZ11Cz9A+4134yK9ub6inKTbcaiqzKXCK2rFdJ/AQuCGJCBwqNyqcola8Tdt7DHKu6Z63SxTL/scNM+yQgqqUA0vOjVuwWKb8D9GeK3J5Y6iYFgQhcDwPgCYjTHjuLyfPGxPnMEhxOf5I3Gf0Rt+A9MfBn90UKBvTf4PanzWEbCJ14J0fAlrYHVcmkVxBcxl7HkdqVEUIhJKiyxrEVqRtYawROdwpV7egdmJtLdjwq5dh6dxaB0Z5zS/wALSTutHoK6ERpkf0RVi6i1SWgmmk05TUpiqSiw3IR6sqpwCbWGP3RqEFIjboWCLVLqW/BQRKa4yQjR4uy/JGdi6iiptVHrAyMQeMj0bskxOgNO8Syl6slf9XLO7fE5LdxeCUHH+GeKJW1n7wSsFzbI+BkfmBBqlZd6cM4TymPiGv8AmP3I/bD5Q+YxYlpz4M+aH7AGsgQZfHFkGjFqMDLSeT5YeDR/GH8M/RD4M/TsLa/P3sb/ALz5M3fI2X54FC+CIMngjyeDZG2NhYUSOJBBCIRCIRC5K0GFzO+0PYcvetibZUbw1g0QDar0AlXcM2eRTyO3idiFrR9htZ/qRkKW80ycmOXSl6/0EKvI6SlaLZ/ZLFFVV0TBM3Us4D/iahqticot1eUMioqGmRG6bIhrFm5tx+DE07NOuCqnKyzZN2TQ5UCwZ3+xDfTL4lwTjekXImwSsyyxS8xM23khpkitSK/nE9Ad0OZEtbdMNZezFu4L5CXIVjuE0pLND0G+DwVNt5T+Sk+R1w+fyJt+81PAyQobKDdl7H4AaxPM8o/mi2bMNGqK4+4fJmmXIsmBfEC/UH6EaN4NIFaIXiCQgkhCCCCBoaGMQXFzic5+jcQmTyvY4X2hTjfV5dLHUb6xVxkxREGKJRir0mkvsHV8DaVW0hsZZWibHZrRnZyqMqWDu64WyMggsiGgy7bWRC34ywRaKEpkWZSBWT1HoWiqLqwsfaFMlprNSxCFgmSr/JYlfpN6vMkt8QmYLu0spPhA4OLrJi4DVpToFkQKVGuTpu7Ctu+0jQTugm5Yl/yGSKz2ZtXQ/wAUJG/aCzy1fKNXfCPSCgc+4P7tkWXA/iRsr7Ejc+xLOnsNj4FoE4xhHDCIII4GPhNRWNYoJgKIIIJCQkIXCxjH9HHYROB8n2+F9twpKkzd3phCKjTU4UvoWfcS7VlawjVUNEDl5mj9joCxWXC5a8qELVxuFKWQnxiy5U1uwdmO7wlQIhodCq0uRxc3FyUunkZGaeTQYdFryEI6Uzm6mh0ziy39DUozqh0FlRDaXQ+T4WwZsnyS3IJ1/A/GoT7juazyq7cjGW2rYzZ0yrXsit198ikmWiQlhBBBBGEc6CCCPRMYxBRRcYgWIEwkEEISwXExjHxjvgn1l4uZ7Qf89D2InVWVN3ORIo7CoOUqTfoW1EkphU3IT7WdELSvqcwSCJFD2K+LfBRllAhzqzBEkepQHq814Hd1MtWxtKV6jfT+fYcy06QSaWoyzHuNYtf6Mks6Dklx7FCncElu+xNyccCddHQZEXQy37BJ3IX30KX5tsRqdiKOirsILqQQJEC5S9THonggmBBOEmuCgmAgkJCFyGP1IM+euaoGWBGrzcfbYWTTqiSbD+64+t8jUWTV+SPtoXKqpugqT3a3qWKmSGti5hTK1D9CzJcZEW3c1l9xdQlJNB5fRDS8RLZu418QvfvBJAL/AA0QbMak+4iyd6itvGJFvARhBBAkQRgsIFyV9VYxiCCYg1wooLAIIJCEhCXIYxj56z9Q3M3wwXgVNScytZ3Y/wBNCh1dX4Cw0FSgnYqpVdzKLLOSXzLeShIH5IhBGbYii8FUFsbDhajzYfIgjCCMYI4oFhGECFhHJX1Z4MaEExB8GIIJCQkJCQkLksfoDz9Ula42c9WNOQf2gDzX1oT2RdWS/wDkpMw/ZQSbZpJS1LUaa5tn+MjZECEPaz0ERiEcE4FUaj1YudnV6sSpop4bc2CCOFEEYLhXrZJ9c0NDGiZHwmgSEhISIELlMY/XETyEIkkn+woTXPViXkEqyIWgiCOBZeWx8S9DuNy59rBvbPI3vcmONEcCIFd85fUFwsaGiMSMECRAkQISEhcpjHxtvkRjO6Nh5Pkj57GDvm+/BteBEpZFvPJs/OML/JHR8EaPg/osE1D0JJ5cdh9tyvYCPa4WuacyFiuBCWCF/wAE0QNDWMEEECQsFguOVqiGqGq/kPlxoDRT4Q1L8Gm8TJ4Ya6B1ryP5p8kf0kkEfoH9kWK/GF/OH92b/kdbybDvhdqbLAjggggghEEcEYISVwnmFQ7XK39VOwuM6VN1hb6RuaiXGuUuFfVfmB/vcGP9+M9pym5fY3S0XdjQJMPziP6MTAL98IxfEEvwgsWgpPym8n9mb7yQ4M+EPjh/qhqyQgRiqxY0IRT1qwkJ35M4pe05WTQh6rKH3F0kQ7HeFOopfv6BYx6aeCeRPBmdsWjJ5InXxhpv4h8xhO39xp/YaUu834vdD4cmt5UfFMJ2AKP/AFNn3k/qMry+glyeJu/Ebvxko6+GDqs6ja8hvvLNmRB8KRm+CNr2IEcSIlwJIjmseBiC4FF5yfRsNTzJKXteXltZ9xDgdmhaq7lmIUZS40q8S9TGDT+Yhv4BH+Q2Hhj3XcR5YcdVdhx1fdIT9HVcLzZHkls08srWENVS3gZNZ5m+rDqN7xfsBSSco3eHJX4z4wJH4xaTwQIRBBBBGFMVPRQR6NjHxHT6E5Ecb4I5e25iVaegvUE68hcxYQ8ILp5Ib+INf5pI8r6Jmm3vHlN6FM+5gT276D/3RliF9RVk9mytklZngpX/AMCRfd4e/KmEvIWTxiV+AQsrsiBBBBCIXrFinBDlo9OxjxFF+hvMXctgvD23pksHYHuNP5DavomL/NGDdT7BPt30Rs5Tf5CW6OgWe9k/xOhERLmdXEMnllo8UlmT2CVWQggghEEYxhBBH0aPpDGMYmBRcL5z9DfhHmIey5bXfzDrT5RpBrz+Mdg61PNk1kdyoyZ18MENSq7uK73QWhLJ4RJ/FgggSEsIIIwSxjCCPpVfpzGMf0NpYXE8aRYV0OiEoZGolpQ9B2TZp9gaDOxJbvuCfKuolyPJDX6YNl37En+g1H1mUSl/hGFPCJNk8ENCCMIIIIwjkrGPq8fSWMfEdeQ/TSSlEkoaT6/omaHYE9u+yW3fZPkvYh8roH+kyTuwwure7IrboVOk9BLsiIaEEEEcpYIXKQlguNfWkyfoTGPAmNnwvjfIk2BHlIMuB3TZ8CH6yZfIZRLoCf1CHy4BCVkJ4I5TZIkLjWTp6NrgXAhcC5UcaXL6iV9Knhlkv1DHwE3h6hDJgLb4Xefg0fDg9EP4PAtgySPhJgeeH8mdQWibQ214IaIjgggSIIxXC+N5YVl7QXKfAsFylgsEIXrFwZeiX1NlouqN5P3M/MQ7pUuUQtMbYSUuhGL5OXHlwa8GbF/mH//EACgQAQACAQQCAgMAAgMBAAAAAAEAESEQMUFRYXEggZGhscHRMOHw8f/aAAgBAQABPxAhpehzpcG+5lDrfuK/uQ0pKzKlMqG0qOJjhi1BjbcplQ+BKmJmUy0sGJbL8z7lajEIEYacy70p0vS/jWfk7Tjf4GI6ZjcIt/D7r4WXLxvLhE3hSMumMNL1dNoPmYg3oS6m8qXpWtZn3LlziG0rR3IweMMN+mAAtHNcw97Ta49hMENvRK/YbQFYhVQ36JgWmPuCANwlz0TEGhwNcQG3aPgfNMQMt3ly8Ecwp5JWZeeZiJg7URI2PxB96nUeQl8XtBstHKKu0HENrut9NoG0DpB2lai+Xxp5od4c78ypWKg1yzG844m+RPMIGjBnZOBjdb6T8XM4KNG0ZYBQSwrob4m872zPcqOnehosby4suoeSD8SAJVQnm5el4gyzAypxL0SXUvV0CNx0EGDK0vL5jPcuXONAiFQljHS97lt640q4rK+DeNL0xpcdCEp0tPMuU0GVmXjeMxpepvperCr+N86ZOZ5mdDMdfuF5030yMYMbbtLRZGrySgyDF3LSmBkT1KsYTTCGFbauUoHF2TEvgEN8DRio0YvEAZC3YIDUo0CLGkHzLyuI13qQdQzNAvpmNoDCDdkYaFO4dOJhICLW0XF4nd1KoEMGIkWKDXMGXvExcGFjhKBnvciK3DLnDgD/ADKt1HKf+X8BswaGYR8o1C0YO3kE/RQ2NLcQhk0Eom0v+S5cGXdxZaIKvwGoaWHPPwWJ3o+IR0+pvPvW5errzpn4eYaMIkvTiXNtNiZl1pfwME9TxoZNa1Jx6hpczH4Y+BbpdS5czCnQcTMzoTmAwx96YADeTwjUZuPDYLjuBCkEfUsSpaMhmVbyqS/wS8bS1YMAFSuoC4CMM4R2L9xPeRdkoXIg92Qp5RRhJdm/uEjnZLINF9S/MtqXGMuKazHt8s28xb5gwiyw4u+oXENQNR0URPqXdS+4uEzRhm3M3TFTFXD4gSVyLi5eDew9bREtkf6IAF8VAGMNczHU60bib1rSxhG4qdmyOzFuZWd6gVKyakSS4uhbfqWwgrMDU0+yOM3reI7TDGjLn3OYEMQdCcb6kJc5jMQdGZ070c0X8CMuVln3KPji53mXpUHX1FjcrS5fwrW5m5vHxpeudD4JLxOY7aXpcJBw5phjHohbVz4grG8ixe0LrtxDBRU3TM4leY33GmrjmKRnVjbhn1A9w6ZuNyUgqY4igF/syVWDnZx1cRM/cQ/6yPjVEkoV4uLPI3S5TzfUA7/cByLxZK3M0Nx9iGYbzEfuWbQdTIveskKoEIAGbnZodUahcpGsaF8yymViJm622mRERw9kMhzAMV3vUfsjojRSbkuc+JavGVlQFwlyYl9MvTghiWcS5cvERUGT0Jv3wMQrPwuXN4VGUpKsI8UKShS5VS9o1Bpl+dVly47bxWsvW9CNTDoTbVn3NyZq9XQhpmGjp1pc6t0v4Z52g+dGURCY1YMdpel5bh50I6M3r5Xpy6e2HOofB3n2SonXwLQWTKLwbfiVGyhsv/MRu5urmG17VAhL0zcHOmZd4xDEKqWljMVkslA2/cwUT1lBoeoIii+yAbIlMMMmbBiWKEEo5l2DQ+y4B6t4KnV1O9nJV0myCN1tNqG0RN21xxLmrTeH4SLHnc0hHLo2qBP5KBlts6L5i53ZcHzFe42mN2+3MVCrduGW9x0NvDtfEAGBWAVnbSyT3m+lmiCEq4gD4iiX/MmK8TmD8Lpyy3rWjS+3RHem9BC8y4pGL5gtaMOZetZ0vzCWRuviONThl4lytPuPuX8bj/j47XmXoNA6Xo+4S2tMQjGE51u5U+5aYNGu5mXDzpe2t635+Fvfwt0veXCZlmKtvM4Am2l6XLgzi708Sk7zKl+ZnuVUTzEDas5I5dvaQaJKIpUUq4jkp4JXsEgXcTwiQqsYNyeRheZJzGY5UiDNOmOFp5yosXsq5+wJZW+i8zOcoxpJdS43dXF770KlS3iGF3EI44ih9ym3BDYjDZkuNc3i8fcOKvDMVcRQU0hrSy0DKmYsTDd3JaZuYOZcIFsrqVKJWuElkY2bR30+pxpURmeoaFVcb2uGMfBfjfnXiXWjpzBzvoT1qzbS465qeYacwc6vwYu4vTOcy86XM6bczMY+e4dzGtad6Oma0u5enm5jvSp7rQPhcI63rbcyYNCEbjcu5bFm/M5fhjWjxGdJ7YcNzkBlmUfmpaQ5aiKqlikwR7ivPtGrA+jRIW+Y050GHlfM73LZcwreo7yoQITRRNnO25B/JVT0hu2nbj3MC/qJf3K3XumUjNLvUMbl1Ftz9pjEylbwNOY+596LNt7Za4+YDAmJzqS5iNkbOSfcrbQJW+YVF7cS70WQqtonN6mc3r3M63o1NiL8A0Zxob6Ol63OJcde9TXLuy/Ol3VaWSwnG8sl530KvPwXEuXX4hFtSyX3LJZosvEs0uXpZLMZqL5gkareOi6LrnS9OCW06Xj4vucQ0/UZTPOuNedGHqXn7l3MbksyQXSxu4e1zbySmEe8cSK0xYdJbtjLz4hRFt3+/cwkDefwhKFZI4S7ISmIztEvAxJnmd7vMKqm+MRKxUVbrZPuXF8ykFlOMysTDFyQ2u2FbkGj8LzO9EjB0uXpTKYRTct5JkaLp7iy9OQl686WfA+Brkl6Z0xcZbL86EdDeXM3oMuUOZe2Y7pSXDJiJXMRNnE88TAuI51iMJ7gHO8oDMT2w2biRs8Q4rEybIGsQTXvPEqMMN57QPceETykp3K8oSlbxrpI9yJlZTuMBiWBjOIGzRvrRcuY7gsuVzc2HqLnQ9zN3AuO02Jbln1M49xtnDA2xCbda8z7hE7dSq4ecIM9Lpe6NTGcw0oLWKVUBu/EOYmJ+Y5PqCVbjcXna/1MJtHcqvq7iDeWKlhkozC6sVDJvK3hjd0JUwuYYFuO023mDb820upZiXtL8zmXm8aDLjtKshFWSjqVAlSpzKO5TJDzKWNCE5jPuX1CeVly+5ZA+VhCbyyXpemNb0sOdCJit5w0rJ7swvPMV58aKXl3nQYhxjZtxHoTql9m30y7ZPqEq2r/AGmW5fcvyCwU3Xice55iO/6Qoc3EQbx7mdL37++ojj98Dzf5xtz+WYtzfFxC7rxzUF2/JAi3+4d/HApkR48/iJncSjkPnMy4D6ndb6lBY/VZha1yjdsYg7/iA7JEqhQrD+40m5MPzOWz6Zkzg+5/oONKs/vDBv8AYzfvbOAIMFIXwxuwiaZIE3RF4pgNohgZXsl8hDtL8wwIMupcu3clzFE7nuZg1MZ0otWeAx6l1MvGkM5l9yDzL1MOY+UsyRvQWXNxzUu6z+oP5BmXl5XFMYrT6iO97xIufq5jJFsGMyKOQY2Vt+4+9WD40zGXjePDPxxLLqystnEplEdctwTo2bllywvSw0+oQ9aow5aXO9L3ls4hGUBLme/hzHbee9Ly6KVLhUYp5gOJiNaQjgTxZ3CAuxGxKbTxL0S66/BLlpyzbf2w8GLmFFcP4JV3cqwpDfEry1Kc+nEAbAjmwfRLOz+iD/5SDbKPh+2W7B92zPufzLjJfuWXshxW52/hCb40dM82YF0euePEcVfvlI13LWFIZGoYTcPE6v1h2/xP9vEo2x8z3ndQwOIuAckByckC2VNirn4lZtOc/rKBxlPP8wLefC+uoO8h9RC7LtcQqq7z1LcQd0n1ORM4CvTEKwX0wJtRW8o3Pu0SwDiVXCvuoZHjtaXshAjMQ0vyWMyCGC5C+i4f4HmYNwm0yaO93K7xC4g+4Cqu4JmEXLZbTEHQRRqmW7jDbMuK4luglk4vMPLMCdpfGhc7wHcpVwCs8GJ7bTPWJa9qgshLrWyS08pUxnOjRDaX5l5nFxZaqucxaRAU+2YJctlXKzAlT7ZtM1rbCc7650515g6Yn3Goa8762ZlyyKQ7pjKkR3KcMfOJ7ixZXAmRcdozGuKTL7r8EKFV8su3Q78Q3n6y3Lzvd9xJaY17cAKKfER2rzUBkJ6Ll+y/UNkp1E+5YuFgjh+pdvApy2U3apV/3YHgMP42Jg/wTDsBOJbLhUdt9VncTWm9GJK0WGYQ0L71uMt8wla76tS36jKLyE5cLt/uIr/pjnSndMVNh6ZhsL7uUOA+pRVB9kuOTHA1KAcvZDldP7X0jxDk66i25snQe0uLqn3A9mqc2l80518OQgAF4S9ooeGpU5z8BiO/44E5EeqZvfhYz7RDfCncFuklb3gO4B6gJvwwLCjvMAnGY8wlyncuDieZucy+LhSphm59wVD7vEXUdNdokMxXabt92wjsniXsdy9iqzUS3ucy5eg1GZue8zEXEd8VsfB3UywUqGJdac6iQjMS5zqfC8a3xet6KS4juVInOSVlYyBNkTNsTWBZbt+GW+vtIkgfEO9QrP71Ku2eWWr/ACRvcvUppOHEImvHRBVphUu4pcRucqpky/6hltXQsK1fnA1X4IUKL6m3BvDS9eNK+GIVWtPxzpxpiV8Ct53q3N5w5+GJ1FNQgeZXzxO5TKnOa0uZ0qJAhuyl5/MVcwvofxxGaTqB6Y7oHECMfiiHN4SIcjxc2VxOifTcqM/inAUCqqF5ZWOt47odO9RwuPzL8UnkZe4eHN3MFetHbtPiI0ExRz9DKjJQ0VmIpSqArRVxVQTcBxD/AL6DbH6gHZIi0UhXdJcYC5W9DzCMUveAv7QanV1PbC/UTnOKjeTyJ/iJbzHJ+Vy6IsXeORgMzn8MqtCuNW9e9M96VLuVDbRZZL1KSyUj5T0Ju3lBicJcY5qF6qVMNnAIeZlmqD2Mgbv81KDs+2cEDKNv5LaUlwWYpvmHIMtZH1Lcv5ga2+yBzSBbB9SnAB9SoTwSvhUrXnR0fjknLmNGlQlyzQ0LqEbl6jiXoy9NpYVN9M650s0IaZl51WYySyXiW96fc70s1NNncjm/M7h7JvcovUepjS2594juoMali+ov3eDT8Wz9mdZ/dx4x7LjaoblRvys2B5qKZN7pTURFlxTFQ0Hslu5e8WEt3dijH0w2xFPC7bJcz3Q4BCiKdlMQ3YYWfwFaojOcxhG9wq0N1gxbmBrPREXiUY2gW39mIc0X5ntriXKiu3QCnMxfG7Mt7ZhpdxmarXMutDTiFdy99L5Y7pW9DCgbxLFGJVSK4G5dlEsFw/U5AIYRQF59sXMH7zKA3eiXWr+oX2UfMMFsX/4MQvtR7gW6fazhfYShsD6mCOZxic6Vz/wZhXwwS9VnGnm/jklxZdy5bq63pmfen38PuXBjxB12dWWwnGl6Y1a709zk1PgR1WXLzdTHcXSmMPDTMSU3Cobx5hpQwpN5gZZL2nD5ZtWWUpVv3L7tY6mGXnqL0bOAWNOAvYu6lZVDgSUIEZT9yQe28mSOKogm96dzN6OCcwbZxE2WU53leZTi6uV4fiJtjmbE5ZnGZsgZjGWzbc7Hc7xzGdWzExnTaWwYuG2XN8ZZd8a1dJl5qC2NxzzdQLLw9w3RS5yjKX95LZYPtjjAfRLHIhwRSyEEtJDnV9sLlQ2QH1pWgThnPw71SdzEOr0+2c/DeYjpl31flaQjDfTNq6ebjVaetb0NBrKS8y70vRmxpio/CsfIw6ZZnTvQ1JaJLnE2ZnXFurMJVzCkuc61pehvvD3O9n8zOSe5UxRPTCbSyHjEK0e9CVExxKOzS3DcI2NzkYhe18z/AHKY2RL7lXeYJyOVxb7ifyJNlRbNCAmI1PNzZob6MWUYn6CDTaDHFzEsR3KXDjdkOuMdgt+ottK4eYCFt2VpFn4PuDsDoomRTTCr7Qa62IrdxmyIDe7NknHg+ohUKuc6YlTiC/8AA76svWy9TfR0tmZWpUuLK040Lmblz7jq6Ezpxn4f60+4e/jc5lz6hvKxr9/Ld0rRaNHYlhuy7070NedCVdzZx1FLlzdYaeYVBjnCyq1fiExpzvoXLzN4713r9kG68E5hsMIy8+5WNKuj1MG42Jmj29y8RZux2+yViO8sVMgbWwSh7IYOzLO38MNStO9DTaxog8b6YaacrgeSB1mL7uiS1XArtZXql7lewfRFlJCoqgx3kF+79E8/oTZAfUDyRHVn3qfHFT/cZzoR+Ny5y61pvONDS/hn4bS5UZTLZely/hjS5cWd5lwTvRfmcsyyXLlyyXLJzLIwMs7hBJeGe4+JiEWXLl5jpjuYjW8GMvEqXpZnMGD8lNE8Qc6c763oIaYJ9xlQDHuEuMu7zCok5IRlaG287xAwhmOgXoRgZG+ZWNVtcxworJiYMAg0x0y8y9Filx2RUGt4jf7lA84YAi5KenS7ql8weP0zFugzaVhEFFbBtQeV+kTwfjTbV96XN5gltzDHTiWfvRhpeYMdL0dM6E+9LjnT7lulx04+G0Zx8bxLlkfKXpe83JdPfQ0ZBEcv7RO7gWYSWbfSo0b2emPmx4Z1r9pnt+GFAX8yAvc+0D3PwlYjl6Z1L8SlL9MR4ZtxOcrKNN124hjxqOyZQp2zkrLP90rdtwuqm9TsQYukcuOJk2QkBm0iXaE9z2gXmU5ZXGdNO2GW+ikpL6imHzLhMXvLKluJ3BSVCfcuXiWrMTY0My7WUcTMsly6iznj4VLXpiUYdDXDhcQDBmcppO5UojvG4qG5fmZXKNj9ytMcQoR7Tyaetbj/AHEkXN/2bvM6UQBsYCYOGD0X3B3IjlNhJoqBMOjoZ0317fhczc3jtHetb0doK3MzvM31zrbqJqpMwu2VDS5el+ZfmU7lKiSecTNsYIczAieyIbwd4TzL8n1Qx+8CXGPsxMLA/aB0fbFb/sYO5zPBC2/1Ah/cI4EftQJr8hDCPwQ4y+iV0JXAD1KgCVCw6gt76HiY6PxKLVD8THR+IjofqUb/AIpas2/RfRmO+NeJ1/jjgv8AARkZ8z3a/ZMw1esRS6XnMvr/ADZvL+7Or92cf9M4j8icCDpH7nh/uXFrx3M6iEnDV6SusonecbwK88ZzcA3x6BguBUiM1/kGaPzQcsgMo8wPZKKw5zayS4Ct5RfWilwYy+pmH1L2l4mTmZm+n3Ku4S98wu9yczbBLhAYTkhvEbhzOLjuQZWmYUEKy3cv+R4pqOD6j/mvzBOfqe2jGkDuAItpHMUcJUN/nytwTj0US8bQgBNpDAo3Q54hFn5Qb0NDSvjiWVLJehHR0shmPxXW5czLdNpZLIjuVOZZAY7rTugHLNyMociJjcVmFfpY76f7E2J/qNQ8HYhfhfMXuX7JzoF/8oyMuwpy33A97nlZsn4oAY/ElPEd81D38My5zvqy9R21wnwz8O4VOZjX86ONblLzOdLEmOJboagQ1p7SjwYo2u9ojvvx1HLkfbHe/IRKtH1tUSum32RA/tG9SfTKzdOIEfsElKX9ZcsCz9kBge8JuxFGDLdmXLN62vpn7Im5Xa4m95SsOk3CU7l+pZcsJZxLn3Bg3jhYXoce5xMw3kwQsIswiMMfnU0GNt+yb3yQDiM/+IPDAOEwgtjtcjuc+Zzp3wRe6L4Ifc+3MA2dYnEyq96Z/ZCc6Xvpvp98/BwS8SsTNJLlefkLHCXpiedOdGGNKcwMqO5K1dkTjJE96VNqFu6ljX1TARVPqCuwxi6ILvk9sE3+qLt/pCDVbwp4ntQ6P2rAcn44H/oIngqtpmZd1lzETTnQ0YaY+DUWXmM4md7nOl635houZ4l6Zn3OZVaGu8/Es0vTOl6EvMdSculTmZiQ05mKZ2XN7zKDmLAbC5k23lUtQ9w6ModwYurQ8k3Uf8YYiTh9EZ1p83AKovojcgY3KbxTKHZ97n9ibgzwxFpfsiUQqyJ7wPCDPKjhKvyJNmPq6g1Un3KtxKOyOaiQjLcyXcDRm4Cb8PMpllRuUtztMdVHV5jMFw9kLXWxMdx4iKYUPuYh6KlTm2eYXrXaI4gZNZMxVvbG4VWlZnhDZ6Y2zW0sGjTaXvD0wWtXSyXOYOt5l5l+YvmEsg4gzclO5WqvThERJi+Ij67x2O/EAA8sFy7YzziK4fbf8g2QHgg6MmFm74U5Q95gDgcdGjzAL0qV1o7Q1Ul6/nS9OY74mX4mg61rdypelRxMTjW5U2mdXQ+Fy/hcvS/iU4nmGlaHwvQhH4WM5J/qVmAaZ7iGMRoZWNMwC9iVDwQ7zELiHiIVWj0RXC9eCK2rR2fRiO4CelK1Q/ctQASgfyLMDcl8uUcpFNC32wzWOsMDwBvsiW2HmUqDPWDETWYbsLxmW0Zq4kBn1EWY3ZjshucQuUF5IAqhjFQzOtMb/Bd/dBnJD4VopBxGXGXMJ66hLlwTGZU4idCa3JXrNylvVmIuPGINl9oE2FHtnaHqFFv6cQXd7mZIEC2/EQoKIhM6Pwwwgy5eNKlWS5z8Vly51pzphhrdfH6jWlSif7hkPjvHRHE2l7bSpei/FhpUzf1E1JXw9QKZnT70JjX70NWEIL3pUxPUu5nMojiVmE8acw2xEphXcxALpljsdyiAaDipUoJW2leZXiVdwriZNOgd40y8yrGIlcRi1QI3AVi54DTFa5rRqt5cZ2uB74Zv/D4XL0uXPqDW7KTAcz3JvhCL3JgEQe8KCBelLKtX3iGyJndgtL6xOY877Plhsv7QwgvRM1Vx31znT6mJmdMrG86zPuDoV8Od5j4u5refhfmZdW4E7+LLxox0vXjSsyyXowl5+DpnUl6fjV1qHx2XNuZ9/DaG/wBQ5zHb486FXdzE8y4w41DO+mzQvMIXMwlQdowniUS5TjXMvMz3MWwww2X1OjQHTJXllMXUCqgN8zZuMKXWZQhlW84qf/N0uLnczDtjL7I6FmsL6N02l3LJcWb95UwaWsDyPOZkMy1Ff1DquyxUyUFWv6J3sw6qX3mA7B9Sg2NGcEpPh9zkl407+F/K4byiA6ml/Bd9U+V5ixu1lR1XmXoaNaXpzNyGt4dGXLhTD43M3OdR07rW8zvOnGmZzCV8SvhmczG1xYbTjS1xLlZ0aNMJPHOjneZNVOuLgdMJWlNbxJfmYrTOgECbsHEYsMB3A3EbwkaN9SpCAr8RxMv8y4tt8w3hQavaeyXxp1MwTQ0uU2hVv/N46koxET4QLSRlVyNeIrs/bvKW4Q5jzU2tg5Zsw9wrAJRQaF8Sn4ZjKqDjS6nMWXLhX1Uo+NaW8TLpZOZefgOl/B8Qi/JmCO8IsJeiy5dQZSUj2Ss2TctlZSzMyIXxZtKCYie5XuBV2mK7hu6lI5iyYnMoRW6uVreMjuz1Kd6clXAxz6lfuAieoFgQlO4iX5l+ZRIxSXbeUszBO5fnW5Zcs3uX8LuGdL1MJZDRzvDEpRnS60NLhuPmEDzFgl7wdK0+yXgITFxhtcRNswGpiwd6G8rcwZmxDcJlmAajthkiiUuf3Gb31KorxLuPuV+tLKlNhgBEcQwnGU4IOM+YbR+o8oedomwH1LkQBe9ERV2espRVNJxNyv0TmF87TYTlwMKuBNOScuv3Os/BZb8DS5cuXMZiZd6X5gml6GdFnENHeLPvQdOdXEfMa7mKZSIiKXipjKHMrWfMSuwRDk9MQ/1Id76GC3TRzn4agqiuOUi/C+2CZ/pMNUeRQ56epeSI5qPUu3NDnfxGCBXdjpvCnP5YbtnhUB3fyTdx+SXdvtKeJeGX0/CnPh6i0r+6bXD5EBA2/Mc9BDJczgD6Jn/wTyfu82qrNBhH0xO8n3OdU5BUOX8AzHf6LMmfxzwX1K/9cCqyPqYMj9XOwHy5emy+8CXB94WZv8icqFOIDlyWpBVwF4gF1Z4JR3bIeZPfiPZmVlO5TuWQTvQPuX5l0TExKhel6EzbLmdL1rSwm9pBgwSY7i5IQ4iG8xEgYA7lbTDFZlIZ6Fs5pj6T1NFuXguXgj5SlYgHPKWqG/EG2qlbsV3vRLaLxzCBNglVo5GXk5YqUcpuWy9nsQrRX6RTlGvF2yqNfUFV+JckTS0t2WwkvPPIl50ueZel6XL07xotfmcUA2slBZ2mcmIyBl8S24jDCJdtFszkUkUww7iOsYuiXiY7cHG8qXuJcNPuXUsveWMsghEmI9k80YoJWUyR3hPsgs7HknS/oy0wvpRUznuS68JxbDg/IE5SfyxJgGFi2PWJmtUHIP2oFwfbmA/xk2RfUrfeZn3MTNT70dcQ3l7ZlS9Lm8IyvOgXoa86YNMSpVTBpnMM8w2JUJfmfczdizOitwn/AFlE7xeCebY8dfSlSUUVKY21VPZ/qUXm9qIbPXud6+mWS0voTJEfw/yJGYu4fahfS/TEobxBth+oKFWlW6TGJRiOLgJUN9AS4GXnSyWXES5SDMznaeY52ly9bjsxEj45j5lFsEyq2MVUrzUSURLbsa7ilR2xDdja98KVofzDdgXtAx1N48MNm9oVv1DIaCy37iIMF+SUWAK6JsZbhikPKzlzO4QEJhGUXL7bR0MAwEEiWUDBRAibw3lEfAmINkHRzlgqZGWftR3M7A0hDdQ7Gz5gqowa8stIc92A8RAdsP8AZRZ3E+yLfiElda0QjTMCX1NmZchLKo1+VYcVxE6aK2zEdyif+aWVV76IO7ep5AxziFzL7EX2P8pYZD8y5z9CiqsHgkvz+iFWYnb7UAcPu2Gx/EleB+orEzywwRckSN6GokvOj8D4/cPjzvK0x8bRI3pdarMQqWRreBjTOINzeZ0YR0dMYzExGXnR9wj5iSpTxM9xzvCZtfUzP8Ub1/hCJtrtG3IelKjDIjs1SvZs8xWV+shiwvtI05vUV7+oblgBMNNjAKCTA0jcrq4C55t4GGQbCQ8jSYqgUZhOaVtgLJlXEBe8XzEL3I3iZkQtxMGbZRoPLN0Kq6lEyoyUGZdgdO83cABQB9SsQlTEwlvNURv5og3DfRruYjvHTmCHNf3PCFXKSZhreGYaNslrEEF7cyzS2n36Iayve8UwMtG13vCXkAjKl2mIM1quWKuoVCOTaLnCYvYg/AdIxRFUG9oUGVWxL0xsNQ5u2IgMl1+IpQDuvEOexntjGbp/cNbg0O13RMqhBly9lPcpAU0AMuyrHJUpfzlh+ryWd342zM+XsgHJ7zDhP1ANgfUypKIRB31xCYlTeJiXM1DRh8cwyR0NMzn4eIGX4XpbHaZohpdfCiVHWo6YuHGppcqVM50Gb18Kp30ZVVpvrehNtAlQhqxqExOMTuHAMX0xQ2POIuF+8I2XxdIrlv8ABUoxbG2Ut2B944KD7jsACZL9Jht/KYKP8JcRMWDtlFUtXcDe0/QjlbvmyUpc0VsdjxKxE6BzH0dS3Mz1m28b4iZ3j5Q5OAADQdSGmyYesmf0aDL9Qm+gzlfR59Lg2aPslHK5YzmCCkKft5bIEqGxC9WwvMdBlLR8bgZY7OwbrHsV/wDSy7m1EZLLhhRoExAwAAMOWL7alOGmYn7yTzVR7L7MFBjpAw4q2uanDJqyzEO6RzBhqWSiH5SBo4WBHP3CUB0gGLHabNkYeFQtu2MI+IMdLxLrUvW5cvTnRnE5uXUfEMzmOm8pfgb7zMDUvuX8+fgb6VqhAJc507j8O9HbTM2lugvwrTM+2felzcIa8/KoSgdKYDErDmKNF6U3cuneNzi5WIUzmN96O88ysVAgSioBc7h7lZxBTjiLLsgMxYUwl3KzdyzEWiLkzu9S+zpmDidaE83LjibIrqOCdzGJgN4aZn3Lzc/EMYpwWvopi9sxuZn6qi4BuJv1KoYL2tgXwf7QowpyKwrie/zEdlAkdCCrLVePMY6eAC94utbeB0QpPNJKbHsQU/BEty7vEMQ3bLpzK682ZIP/ABEF704uXLXEYso6H2XoXD/j+/n9ammNHU30rJAl6XL0HTEqVo/AjM60aU6MME7+GzS9alS8/C4Ta9bhtvLe4uoVPvmF6fczWpOrldaYZ4J9xmauDKuLtp4hiVMhVzzejtvowqZzCLzKqB2VpxCOmKWhhlLiMefGkuJfUtsMWku5fxE7l7y7m9xFTHN1P5yGi40hWspLtmEb6qHkFsSMIrARWnwwNLWbrMED7lsD0EAfmFxiCuDC5jDcmSFgbbgSoaPlNR1ZWLrN3KV+Dyysb8SiDpc3ifFhcu5vKCESEtmYWzD8WBr18DS5cPDrnXh06mdA04g7y5cuLLl27/FZvrUA+RtLjLYsS60BuZhtFnubMtl/DFR+H3pWlsuEry63Wix2n+5xL0L7j+I6ExKqHEriMG5ubc6XiZmZvOJel8cTnJMmgEHn9REN46VmPj8yxJe3iVY/bMK/cp1c6fejhxvHTegmd2qcl1Mo05IkLY44ZdgVTDkjJdW+UxPjxijJ/YCLmTeKt4irMfUCoYOyqFmW+1Ztp+pQ2BKYQrjGuQB2dt73FmA6bt+C5n3YP1qfcvS4M5mdMaGm0qPWlS2Fw0zmbaXpbL+P3qVN4aNfB1If8CmmNDKLLl1LIpwwfOi/UuU7g4iksN4ocmjouXlY776XrfmXL0uOn3FvQoZd1HX704JTGLUuOgy4cxZelpUTxL3hO5XwuF3KolZ17ltEISnQhOpxKq9aemMLVzaJBsiokqVOanMUjocynMYeMAGggGzkKrM5iqeonaStjLC+/GXRAA/IVgMHvBlY03W8F+1Zh4oWb95XPY7QDMrTmozNMNrgs9ykW1LY5mUyx3LmdPr7mH0Vp9y9Bj8q+N6Wa41sxL+GZtGXpj4fibX8bG5TuI4lCGaUrmZvMat9ChKo1X5ifJEVt2uUiW5fSdo+pb/1j2P1KzZfSYusfkTKyPvHhgH4fcXpU/GwyrteILW/ExOGttpxTFRFRVz470U16u/7kBzg852bDuyYsn5J5phmn8iN/X0zcs+JiJX7V+57Su4bX12ROP3wQ23XdzoEGCMufwSncrVkrUpKPcGnmJS6lncvbMEntB2zLuDiGzreYS5xBjiLu6DNtNiGxLh7ly8zrOm8NOYabu8NLnmbZXmAzLqZM3M3MT+E9MSqzpp50waUg9xoOBtuwEGa2e8QM4TeiJZfsZUQG0BZ5IbMqmVcJnRuGoY5QK0rNxdFmZbcaaPyy4FiUwPceFjAl5tBc5tl51oqUaX8CepXmXF1rXbXMNHTfSyWUSzuYJTGYluzzwLv+oheYk5P5JhEfuIw6V9U4NI++nOs/JU6z7MG/utB1i63ZuHxi39nO+ikKfxQRzyn3Kt5LsfYcCAP7UBbhsXtYNt+NAXB/SUbB9EDzKq6xpkjtN+Z9/BVyit5Uz3L8zPaZ7ZnOZksWG8CIO+Y2f4iI7B3iLtK+xMOPw4vv+HMRN1D6J2F+0l/+ikpb/dl9ZB4TKmBS8F3SSoa+8HaZ2n9xXVfiYFz+7gZt6FI1F2vCJYfqpIg5CLFX51og0gebjK5fZUEvGJcXxeyfcKlRY1cBZUVrnaMnbOC5ddsre8EveU7l7QZuKdLzNmKbWRWDoMefUFlweSG0rzBLhmswczOO5eU8xoMXA4Y+JzPNUyp30tUlHcsrLEEGtyolUspVtHyYJ3UPP0o3cb/AFNszfFJlg5Iaj8anmccQZWJbEq3YX6rMcUHEGKOs3EqvAuvQqWRdvhXiVqFfDvTu6hLIw0vi4MWZqsgd2yjyRLaJZZDu/y3ErgT9JNAsHqoM4Z7BK4l7m4tfuWN4G/87sOd+gJmtT6H+IBnK7Uq5vdsCxMPw/olVaYZlyxMymepUE7lJZRKrSsaOmJ9yiUaFaYlZxpiITE2l/AuYhHnV3Lm8vQPiXzpWhnnQvv4UziXxeihsfiWWv2iLXf44nf8Mc9fux4X6QHscjmhaxf+WAZX7t/mVrr+sp2q9pkyvuNEb33cr3C+G5nyXAkLCl3iVGksRR3jxHcQzu3UH2d8aMiqMGpHEs2ZS9kpzPbiVvDiV2v6qdwmBx3+YzZeeJcHaYzFbVe0aMzcWdZS94uAJV5QAomzU2gK8Qzar5zps2Yqb6YTE7lM2tE7fJG+5NMy8686X8DR9wVNkSCpuKD9kxaQbS4uKhrN4O97ma0qXM4zLxoyr0zqoxa3mzeUcke2D3KKVk6myFXgn8XYyu0/KSN77TODb2vFyxkPBBba/oQ7z3aAv6LBj8swxgvQJntn3KiG2JUNExokqmVAhpiE3QiCXeze/EzCuoa3EG6XLHZlzy2KbF4LhMwjdyvisvS46VoFdzEuF/BlYuAxaNVAtiDCy9ahe5o+/gmGDLqNTDp617tlVC8x9QqZTcjzEo4Hm4alG7BlmjZVOIqHuCjvMW+YGZC1R8K7iuW71EuR9J+K6mJoJ5Rje4vsNlYis4UO+i38wc03Vm0SwGDFwlw31Ur2fylwtweItC5eooc0+Ayrc/qJGxxjFQNKeL0gLY3xaBCOWXHDeZ3oWUM2rgnelukIxAYME5uMaEi/DZB9KT/weIXCtO9DUfhmFEMBMqVZXK8S4I9Ko9vDNrZiaCjSpcuER3PMSnIiF9QfEIXFZTy+wyl+JpDaAe0Ifr/Jg2/oQC+9QIbzsB3H5P7Hd16lAoAOqlWcwME3cwrJL1ZWt6b6OuXW9G5mVelqGM5dXD4WPGZuY4h3BthfZi0SwyTIi/uNjDpWFtD+JDT7jPfw+9LvW5R3MaZqPU43lfA0MFTETe5TFxlpBbAUkCBe/MBl6Xpicy8TNR0YZhEI/UuYtg6G9ab8zgh/8XNygUBfZLg+xSoQOgJ9yi/qHUuAeCUTOZmF6JDicwVlw2Lh5lXM9bQZVHMtJm2fiEuvuJE5IzHMqrjvvLkmyZWhl+n4dzF7/FYjPyJQZELqM96YmK1uXCWXGESncdzEocxNOdomWiN76cU2tfA5i7mP0ht6+yTs+1tlmyQtH+VKd/fpAOC+1ZhAfpAKARO1mDBCtHS/mXGHmXLLpoWkIFc6sQGWpZkcTjfUn3CjQdF0ziLL5il8G9qUbe8zzuP4hDVUzfCzAwx2/wD3sEDE3JZnMuCdy/DHkOH8NHAt1pHSboK6XpWgHbM+2CiUj1xpZ3My61dL8y6xpc5G4a7cECnKuBUJVS5cYc0xZIFKg4i/yCOgoaLEzOTWt5RziVG6jCXVs/2TLEbTYsbjAGF+bigDxWYBm4BYr3C3c42hWlh0+tK0SZ4S/U3WAZ0L4YZN4Fw2m6DRyS36gau94g+mPYlKn2x0xL0xe86l6bWYuZF3SNCLLlmJS3Mc2Zi2SuIKoz3EuMbmla5CH4jcIC/tw5yP5ZhKc7BUN+MFnP2sFKP1KKUBBajWm+0ohtCZqXpUJedK0IaeZUqpuxWgDKsbmBHLYd43ZcIVQgNcVEDxbhm2XzMxm1yMPejM1rc2Zll6K9TOgYm5HuCGylLXEFbEmRKzxcvTAA7kAGmRPMww4QXv/UaoINYCpeqvuFs+NktF8/6mbxmLHBu7eETeJsRqXQVrrgdkqlmMwTSlq0e5EUQcUA5fMujU0euY3tyorTIfKy2lujVXmX8AYAysRjayVHD0r4seaju2mY8zd0uXGDq6CHs1jleamGHpVRHU3Z/2iuxFJkOGVWu4pV3AZFFYhHeYIsE3nGdMa0JvDTYNdISvHUzJnmPyS7zZiXP5QnCxV5aC1GYI2tgaNneHptE2pzLDNRal1D/Ghj8zYWVUwakqCiVNzKbyt7ylOZQvMyNFsW0pAOlmJ+IbS6ZUuWabWKs+n8m74ipoabwfH8x6/wBSreB6hZr7tRV+wsClf0Wy3K9VB3rcuGw+7M2Q4qUMrM6mBerpxMSpnuEoznacwd8GwmmxoB8Kmb0b1z4JmoW7cBLL6Lq5tBSONQTb+sRfu0JmqVOhogS//MC4OEmxMjEoXLFuICTaz7hutexywfVbgMbtZwbr6lABLCMQclnDM5ZX1aPyl1bBTMAm8UjEWDkYGzLvZP8A7EUURCvUE3d9SiFjCc3Re1ROJUoQYucSLbpl2W5KayN+oG1Sl7CxCmAq2yRMEWS7rsZauZUXArxKBvquBKeIV10XkRZvkH7iSdn5wZgOPEtlRFdl03+WGjPUFd5l9G8vdb548TZ7DE2KgtqORZTNp61uOkoIIhS3RUrqYiLwtGuh0CBZZCJGdqs9GI3TN2tXHWzvFw5pggMFWxA6rTSf5AkO5/M/c0zBNg0LXqX+e+M4jxCk5H+iWl3xN5UzPxMdxFOm4ym7aXHQ5lH4fliMiHaqx0Qn0AoVUMx5gpslzFCoNiuZisNKmtzMwD1L8w0QqZiJmC1nFw1+5ehBzLxlhXiY8wzBKxDUYzJlBMTdO1w3iRkvRfGncrRSIbxLmGJWofO64Ss9g2IF2/eyzf8ApBf61QWx+8wfBfRKxUrOxKdk02mWLGoVxDSpiFNaiwdBKxo4gbEiVKgFT6a96XAXVzbS4XYf0+iCs0XlgOwgNHe4SrTMSpvNPE5hrV6CjvawzcF8Ff7WmXPsngyznbA5DqblqqNpbrgA9OGUQhD+zJjqEY0q/lZCzocrvbgITIrYqH6l3ypu7SuC5b0Sje33ECWqN46lwxll41hQ9sBq1VNOGWXHXFeKi+Ln3EFld+AipMkfVkI3XP5HE4huhlK/BBO3sr8MciZAj9xILj/wZUhB5rEFSPHJC7ylH6IA5lO5RuysBAKK+p7QkYsiNL9QEd5UwP3CdSrE8MHsiO4JLYFSm4jsoopOybtu+om6Aopm2XO2826OqS8bwDyQwYRZEQDeaFfW0OQPduAzBIsvRzMVPiKqrq8oFzQvHUL5TXCyXU7Dd2VxCS1anGK2hszkewdo5M0pRq4JamrkiV5nNiQaqoW2fsYJm17PMUC7MXKYK/WZa10QmVLjjbXUrt7gSlV9f2f+7emZ4ZdkMlHBKUQVsBRCjiFWyUdwW7wy8GYh8IV9R0W6qOt5iX+mLvKxmikylAvZxCxACU9y+0KqbRZyPdhlSPTwWEraYJALTG6ZnJWZbvqiWGWOOZziEzEUXOkuGC64ibMwlibZUZczGMS4A71OWt6IKPtMNnh3Bcr39lCEBVLqUSeatlTOl6VpWt7Zjv8AF2m7vBmzp3rertcvzC7O4aQaEzMqJ8U2y5+0EMkd7aqO1hKgnJ2hVRildx+PMIKPsrzAA1NMl5WQe3CPrifc6AFAMr3V3o+596spJC9vzK+aDsVipay5yfRUab8QlU0jfaqxNvIAyAjAKY+xBiMus5nMXl9xMRR7rjXYu+kNWqlP6iC5sSEaqsQ/sYxuVl8pLg3KiYZeTi2mGGERjxjThuHRTjBukPDBYzsXllAWwQ3KWs4Q5E+oOnvKUvzpraN8y7UVhXi1odyDw2xVddMK/SHolboKkNi+YKsKuc1jJBpQ1vhhhv8AcjdADQ/nyhsb2p0M+RJ5vrD/AFbFChMI/wBoZR4TZjMqe2wXbIXFwEgsyTDgkBkVZhvczP20zJsqHOhjbVMuGds/jL3uxvAlfomjkmgRT6DKx/qTFehCKjwpLbeV5fymCbfnTv2e0w7fmIb+HimHXR2zXxcKGk+4MXTJ3AKZJTxQ2NmVzV0QWzkMwogNjvLDuL6hNEtpfXTFUpOHZc+UuIC2ag5i9MoqdkDZU3mzVq7wfUH0SLFSs1KbsRIGGlwxPs3fuVekBTDc3Y23JhKjViNQ2hXYQi80qXQrLq3JDYUXR90xmeTle4gKwD1s1KmUhLC8lQQEVYIsyWPp4gNdlzHUbG0d7EC1vySmwclvEF6y0YwNjfQhtDBGYU/cBKBqVNplppGGAXcqwb8EMiwerZYtHp2mwUBUDzFgziZx/wB8zpxMaEvQI5dCb6VU5jOYkp0AYJhgGY+iw2FfqJ0QXdDGXCMLFoWYx13AZAgCrlHfCXor7HLLnxYYNdoyQGGoyBKg6/ZkwNi55szRDE8PdhtKN2rL6Y+DNcIoIdfbyfdzLoRN0iIKQzx9wZejEStzenLQbrElizagrz2wVcvGz2Qiic7WvlYk4uGbONrqL7CxurzSXCvik+xuxTMACqJNsMrYPlBEwLIpzfgiuBUWqylFV0N4gNeNWXEV3+tUX3VW6eKhTpAFQ87nTDsK9xZfUZiJqkiDKBwFQ7ccsBUca3OTD1Nx+KNjR8DEYDaiw3KIEtZDBQOaRJ4mMAQRICFZsxCIIhGys8syVJnzlW61KZU8aFQFAAysH9xpbUQiBQaFZoTDgert/UIAx4cQBtDxC2XTRmNNzMLqBpmXneW9xZuj8R3i/VxJSh0AleSa6X+4hdg/tMjQPhxDYRwlG6gIBOAxU72eSoMKvHbLMeYYfuU/QDkIxxkVFCHdmS4JhAbkvcTVFZc+IbmTCV+RnL5UwymstsXdu8c0bG0M/FAqUuI3BLGwj/llLnEdTdNoHdFU5AKYcPW86m4h96O0VXNM2ji8UQvswV9sVXl8zBHsiPuLyDlXM3sDopSXqu6gepQQN6i66xCORN/2Qwfel9Gc4iKJgi3D6gw3ATDURMdy63+6m5MOib0K7cwAEABleYm1MxN4wYly3FPs6XDRh4Z5l6XFpu5TuJBaTFAIOvfqHQMlsvUPUmdE65omT0SjDFq49rn+F1DxMJk1V0H+2Z+C1NJLxArra9cmJxFeF0eCEYMwayXKFPMCzs2V+4QzasoZzDkyJseJV7gbBJQ4NMy/ytVKM6ISw3EBubTZvBEMh9pErLoW8JVZyWQRsLjtL/76JTM774Nx9iyzPghQPolm/lVD5/QIeAHQtAatftQT+QlhhfkMNp3QIcAHrEXEGAFI2SUQ3+5zoEwaURpI7xHyDK2lnrMu6QM6VKmJUqVNiExMSxi6EWXo6brpsNyYLit+WWQwNJeeCN/M5Dj9QhK7JdcaJhvKpKwC8lhVkMGNLYthmXCbXPcxHqcaroSrYTzKm07iZUH7YlA3GCM4ZdN1tiNKwbxaR/FaaGpRuFstu1VLSQbKp+YZQjqfbOhYaPUksAO4RBVn0izb5IvzPTUZxZWhbMRYTxxwYYoDgW4KU+0h+u2tcQ1UfCyY8v4SnriQXdbrKNIzQu8TXO4IwUSWCVFAE9giY/oCS9X13Soq83RipiKVCEgom5GIrlZC5YAlWtwDxAADoKgFfYtEWWH8xX++YkO3eIVi7LrQXehmKl0kDGZbqmmO/hdTZK+9zEiwrfxp9wc1leLi7IuLvOMIaiwYZiYjD4CZXNjO5EsVX2MAAUBQXElS482WDhRjmQzF1orJRNkemzFZIFfWw9MoTUpdioerxyWkHTjYCjQbryvG5a2wj1JbeFrUQK0qcKOcH0Q2ZZmw+oi0Fu3zEhT3s78hFiYcqhR4Jti3vKh3amRjo0Wy4T2QOHkf9oqFpxh+iUJfcYLm1F9mNpP0hKsVU6NmUd4qnBTkiwoL4ZcG+pWiJUDSiVptK8ypUHQ1dMTxqy9SXo50agTOdLuHMY/GsShSzEQNuMPpC50Yqr/Mzcd+m/Ux1r1zq6HMJiVGZJnQ4jomWJYsJXs5qHZOmXDCeqpA7rvNtSsTA6L4Yub/AOESQBWfLnEqnkl1mIbQSXLQBG6JgHuDLVDkXzEDCJq2eBlxXimVoAbBtHSoWNniEUH79QIYHLJCzlEpCKcDqpvCm6c+INEsgqZd4NuCAFLnoh3KzukDX0SG+H8sv4Cxw0w1lYiVWDMdmN5zM28R49y4s7kcWV8/iUSvJoXUM6MqIzelFunHf74JUxnOlIeWYoVcpDGTfKotehZZnM4+xdS9a0QWbMTcicEDgc2Ibh3kxmDGYZeCNN0wmoFKlF5hw+iGSqt+9RGsvs5gTgmNe66xBm1kQyZjlLelCD6BUMRpCtv5l3tKlkb3LZdcnV0f7IA5OTqcpXuFvD6pP1hhFRJUrzKhrnubnit+LfEDHl1Mh2GdY4pPK+O7GVAlSu5ufJ+FaVvn/grzp9w0Ya1KlmjDWhC6MtrMZlNiX/wyv9wDuJ+hgotMaDczCV8cwI/D7lTrRMbxhLuUtIwtMdSqC8nEPLuP9hQy6YmYnFQPfTr2kE3DmnDHkUt2pQ3bbq7wI1e/1DC4gHcagAPqIiizeMkdES6zGXiCRxfZBAZfUsuPmoxNAywBcRYwYmInHwEQVZduWFyqnDKL8CdpXAd8GKlYsMSxSUm1xYLjoITHbp3GEvEzc6hpeP2s3N95ib3MxeZRluSVS+7yxKO4O8PmGn4mYMmftzMhbLCWRg7Ij6YCXQ5VK4aqoKiO/wCSOZ9RLNheoV39wbwPYlfsCmbB/OYZAo75agmvHuiHYt8qAza+cwHCdQAWB9RtEWx3GOLB3pUbs+7P9lBQFVsErT2vyrWmBqnwr4Xr9wvRhqa18eISoDK+L8XU3nE+9OJzLomYlFXT0MJC85cMUBYVtdMSbq896XKwAwGIzOhoExR8LNBjehv8sREILHCQaLWwOS9oOXuKCQe4t1ZvxDutoXxiAAmjA0qe5moIbkrFI5qDLgXEtgvFw/dknCvExzCwbZgRSXgsLisf/RGHd3xRKFZMHMs5vpTlY4uwD5SAwuZzn3AQszMbxI9GZUGagl0qynCymlaXymFxZzGozEUvLLY5jd4dKL+NTaytmcqF+3B0uuY6W6qo9PeZxc3yUZG0u6B7jOc2ETeVathb6MpiwCgUWgn+szibxBQCP1DdT+Vgbr7LYfQPQlCZlBPENKzo7StauUa3r9xHXERl6F/Hf4prcx8H3oanxZXwCMt7mX41o6VqmNLhHmcQIFETdFkOR/1AAABWxLnmcTLKmdFK0t0vV9xn3o6WSytQjJuM2UKsVBLAbGKfhLqGWcVMaMWOazKV5Kvm52HLqACAvdxEKRzdZZTlvoVP9CEAoAvEvw3sNj+IBylWwnAMxi71QxmO3RMFYo5b4faUqC+S4EUOI++ZfEZcudQrxzvUvlDtcxoNBI6r1UUrySmUzGHuOY4cSnmZhpfwGUN2Ut4dlVOEBh2XlhuW8KFYHjkEXbHu02jEqi39lwGrcBK9tHbAc3uYQOcASvMqYxGsujPF63KjomNK03uZViF6kr41pcNDXOmNCV5g5jD4EP8AhvTrU0al/K/htWhHW4ysaGl/HG3xsn3DVmL+bLl6VUxy650q3eCGrHSzKxe5uRg0BH61AbAhuxgIDYIjVgqjMMzq+08SkE5LLm0frMSjnE4KuibeSV5uXdMTKWwC4vklA0IhUrmVnSioV3MYguhCtB3zEzvC5sQbedAs9okzpxozZEhuZZQJR0L8EeIysLTwKjGxaZTBqN3NJX1EF06IE21JWt6VKlaVp9zEuZ0xrxj586Y+ZUdTVl6Uys7641v5Xoy9L0s5nEWXoiWd6WdyzuIvc007nKpulck7knmIdkIr6Jh2YiHdCEym6x3r/Up2Sss5ieLJTe5ThJWBxmdySjMG8slJTOZcsgh0SyYxtDbTKlwxFmMZnejCLPuMGXd5izLNLxO1GIJpNpUt8DKVKb9cAcQgCsYMQRIFtEdOVar3tMQn3CMVIChW1whdxh4YziVU4n3N7hF4CVvD3oaeXBBFlnwN4kZZW8HBnCPaSujMFrCe4FWrjBgSmyLyuYCwUHg0wgTc5zD2IfBzmc6m+5HVK05ma20rWjQNab+W0L031NCY1o+G0uOj8iYl5lymcxHei5Z2Su/6QOEPpEWfxYnv+S4NsD6GPCr02CP7RLoxpXWfNEtf2QuPAD0EW2C3FzlVB9st5Ge0et9XN2hvwseP8LNiyvOHqPD/ABjaQW39QTyJ6w3rvsTNZBXlnhbM4MeWDJm+mWlO10xfba6YGrfpRFs/Ay7L6Wa7I7me0/pFLlj0wpJsczfipjtf3lPXHjb7Y0tv7Sm6V9o9h9iNbp5qdr9ZhfqECMb+aDDOJ+bGVbzd4/abRX7UDMB6VC2vzpgvUweg/PNwfpIjvn8wwDa7mAgpj+yrGT2GY726LumeaZoy66CcEI4ZlM4+pRsN2qodMd+bCt72bsxmZZc4SpcyCGsb1ECHbeGGLzcUQYOc5iC3wemXXIjFz6JmhztLp0HNRsui1AZ2ikNtic8zbRcRXuIwGt9GOpfTymxNinkLmUs+W5V0ECJvMVrWMCrNp+6gb64jehKlEdDXMZjTmMPh9xv4VqxP+HOjLhbLu8yw5lyk+qbkP2RsYfrHltiezuBWCKW8VNPI9hAxhwI2+y/yLiw9ZY7v7rB/5zAcz1RONJNh+WYBzeVYHt96sBKMfiH6iGBP4YEMS1vMz3PuYZWhqnTKmJiUmjHQjpWlw+JHSi5RcxOZUwypWbl640xvpbM7XKF4l2/4JZb+tFSBXdvqLmxFDd7tLyks8InTX7zgCdXABoPsZVtAxnLuJtA/c15+zFdIwOzccvRFX9hJVQoyTLst9MWUbOMmYpJfVv5KdGa6pa8QQytVi0Qpi8WiK+2lj7laPVtMkYGzvsXiAqLyvBO+8BmXTTyj2J1A+4Sr3OS5sZhFAWLiFFGVsOWBM4TcbMRpzwjTHcYbRMR3iaJfBKO5X0Q9xI6kDQ4x3BUIqUdZKYkxK0ogaVob/E/4K1ZcI61FIspi2Ipzkn4YFnTpqN2f1bGxB7ZlyvwX+wdXugThq8MpmfyIJqLHQ2AQP+vwT9s5shfaTbjg2Q+kBsD0Es843yscwBhibyj5BrvpUfi67xJjQPjWMy9TbS9QNOdL+TrjXvOhp4+FQ9ytA7hHSpUolR0VcSAJ5LlYHuYeIZol2jlbuO/1X4qBbXOri2MC2ty+YiYPCYt1W8XobirX6lQAvr2UUiClRaruwoynTB5O85eFFclV7XiFSWPtHh9RIbKu25KcfkblD/OqVLTeEwx2Q/cIbMVsxumZG5dRd8y48xy3iVvMK22iYvWfEr41Km2UybysHuhKhL0vV/4HRa1sly9W5cuokywsRnlmLlZZewzYIz+qlBHaW/LDOfRGLOG6P/MWN86w/qD49qQF3vlbP9iU/h0gptj0VMwHMqY+O0fifN0r5X87mPhxBnMvS5elaHxx89tLl/Cpj4YrTxHS5dGJc3YXU2dD3Egw2o02SFMdmOlouI4UrTDlKs5ZtBDubYbddbu+pvldbynbuutv1KJRTG6mLM/b7gUoJvLzoQwdaVoGItRZ6Y7Q3DjJOYxXVRv8RHrZJ7lHnVlSpUxokUXnK/a0IR0x/wANHcs5Yp3BDeUq7PKxDK1L1BXhLa19ZgWvZLMF/h8/yqhMqOcj04LMAdRSFv1iD/YKB2L7VgG5veAVBegIX3Le5VasCrhpXxx/w4lQh8GGpoaKSz5VriVNo6bR+AxhCEqX8KuOlS9cTxGGjWtW6MJWvHwu4fA93A3+F96WBccNRNHcRtamW+4XjM+ihgV2MKgBdBD6mZem2jO9LzLixZfmGErmMLbl3JfcYtkssm9ytDU0dHSfPi8pXipZoSiXos8aeSCyibCfuXef1mPBc7HOVgsyJVzntU6E6bMc+8+FlK2+aSYFiDUvtsqtlsb6oQNVQ+pUqVKzKnO8uBoMsNUOwaGBEPZGyff/AAOua+Fa1KiStHV030davQ0qMrQuY0uHzvrT7+Betml6XDRNbjoM+9ENCXeI1BZ1BaiY+Nmm8qXoaFa8adQzKOJejzmK9yyZ6iE5zM5PGg+ZyTJcvqZ+N3oiKlxfKS87y1rLYqhtHmZN3oGzeN3tDXEdWu9GUzLLyiDLmPGm5fmCNy/wpbi68DBDuFZoTjkJmpPt3nQDwhveGupZtLypSfutgeHngSrYPoni5U3lYlTEZUScfKiVLSAucgy6GcJS/WzMiu6sI9DiCJY3jj4XH5XCMxDSr+JnVjDTOlammfm/GpmZla9wj7gfE1tTTM40udy5ehoz70dGbPMpSVONO4Q+BONcLcvSsOl67xmKYaIXAjp96uNGB507jefcYvaXF0WZxGMWqj8xm4g9QhKedMasxKuZuTHcwrJLK4BZVzHrmpbE/rIA5u9pigTfSHQQNM6b6sqB8No3b3TikQvW8TiM5CJWxCdL4suLhK+FXEEqGOjgc+Iu81aHd0PidTbS9b+dT70v4M4jEjK1ScQfmLWt/A0s0sly4at41uZgTExo7y5cuXqYjLYwjL02XTMpmMwYxYaCXo8takuYmSGjH3LTSpZ3H3HaWdylwZePuVvNw2g1cGeEHS6iymZ2GpylxZcWXFb3gs2Y7GPM3hzcZS4DAJ9xwLLCsxhtZ7Ylyi+hcA5weXUM/uAy/K98qodXRITiGWgbPfrUqVH4GjMaZmNMtmIripY101FFs2c/nSo7EoX/ANzKK62JXnQiANvAkKkTZMmlaAKUgYw14tPMcOlaXKlR+CfAqpzNpUuXpjTPxGMP+DHxsl6WQqohzF2zoo8yyXLjTmU7JTlIja5Yyy6geyVlO9Ko1E5qFuZmbSZ4nklQlO4HsgkpUR3PYnZLJe8E5ZcXnTjQYbRqLVyyYHeCTEAn+9K0K6Iy9Md6GLzzMfBs6jttMS5ZL0Ui7ZlqZdqkYuWi1bmFoVHNyi7lZ30Vx/qUlEZhrzYLlW7bZ/1hatzimpQrC3bBVBeitOpU3N4cSzg2CXfZnEqUXpWtaMyd61L20WNsOHL7mIAMSy3qM5loMjMd4zPNj8SLfs1QWNFG+eCIpndN4iGlKjkgL0tw7ia4sGhT5I76hSvKhpzNpfwqXqX8OISpUElkWL51uXFlxBuy65IiZD2yjL+JN0D6zmD0LOH6zT/Gim/ZhEw3uszcjyVBtvvlkUA8wsUu8iLbe5Iv/ewry+lKHi4zOCGyP57H/L3l24enAX/Fix/pIb65fB9Bne/dGY/0ggRlvrM9h+hHPz+E5zyQZP55tNv0I8c92P0IbL6gEeL7CH/Wof8AVYWGz4JAVr8dizZ+cYdk/wCijhrPtC6rvcv6mrzlPvI0O94UoKTzaOm8J6pVvqsNlHjCAOW9GUb/AEVMKw/KF/8Ansoos+0tyXtzdRfeV7o+89Cjkgma/hg8km3HnL7jyYYcOXztOt/uCH+aIYh/9YZZx8zzkslLQhTzLDFuh3DRczWIdsqxcTEt0Igm9mJpYpaKtnMOjou3QS5RiYlYIbzjQskdmfxM9H5h4AeiEqX8K090d18qdvZaGpKlZ0xMWN4XIFRNHxDVnIQi/UYKNji0gTk9EX7DGUKq2Iu1jYhEq61Adc7Nl7jCpkB5N5QyqeWITSIiJvcCgLAcYiWG6/Jl6F2S2m0M9jQ0xMTGtx0vRgLtKYkZBGaD7E3WT/DIsBu94n+l6G8fogek9CloZ/lfxGxX01Ftx8k730BIUZ+kCGYhSivPQc3uQDv7kH1v9mHbG+sw3p1lDYD0EFhvtl9mJd3KErWkolaVC5VxrTESF3K1+5Xn4MJjSr02+CYjKgaUQmalROJRGJDarm3LFUL7YniP/UR5vaEXytXYl2/4kElD9J/8lFN/xxn4d/60ZrRsd6WP9m7OoPpwCIiduj8ZyrJ9EJYNmUpXNwVN4PxZVX7IzYL5nKy+4eP97G4z5RAUTD3Go/DaiBs/OaI2qpxE7FrWjFbLKMu10yxEEFrNlzl4cHjMpvKPklFZQ7qIhk+MEvvQ02ikYQ9y/elQIko+DAKipcS3V7r447jGEcRCsPEX9ewpHXE2/wBiUspHf2tl+o2rattneA0F4BDcuyt+GWh6CQlaZ1Av7UZqxA+8xjHTdjQUq5irArzit2o3aqWEEoA+iBoXwpA2VGAl0VIb9jpQuCxpBHGdgmfD3uiFZPSRTHnK0GV9JCGfWvgIbVD5/wCRP7KqL/rU6R65uYe4Bv2kme/cU21vLAGghtZYFhHQUMbUeio9iVblWVKB2lJrWflUCZjrXNxKlwNWWam821AJcHXqo63KWVHr4VKYwlkqVRl03udaVAjmeZzoylTOly5icZhipvUMyzSyoOZe+Pg6Zx7ho4tOtVm9OJZz9RWy+o7VE3xMv3LdpyK+vuC/3M973pulGGU/6CGJofUpyDe6FMoK2ivULuYbiVeJT3H5JfydWbKl2VeNiWZbMQ9QPHMIL73ZpSWDStzcZzXK9n5IoeioKiu2FnuKdpbyDMf5PYZJ3MMwFZRGU16VQ5bCVtlmI+6OzSowFn5IM3YQ+kNc7g1nfiXBna2YXzKWAX0ZDdeIo0BvwiPA4Ms8Sqa92W3bMn5tYYsQvfEhpzktb2MHY73OrdR32b3/ANg3m7ClHPvZUZ+9zk/2qVdD6zKB9CXwjLzKveU+FBHSpWlaHwqbQ0rR+LPuXqacxvSptFhq7SpUuY0r5XoONbfgS5evTpcuZJfiWZ0yzcxqZuO2NPxD45lY0OYEHV1A0N/UUuMXSZjwleyWRpcXBFvBFYiLTtDEtuDenMIaN3CEsXFcVHxfxrWoGm9mY8Uu/IQ9ivbLQlgibeiNMtreXqVnjFDN4bDOSrzHE2Mj0qMSsVUu6Z9cRTY4T7XPcA5E91NXF3hBSl3I6SQ9AFoPSnMXdjVDdveT0kBJuGUV9sDtoMBGObCyVhWH4Iw3g+IEvFp4ERNBUmQk2RAXLMAKpZBq4AGU3NesP7BANJ91s2TvrEwFMCXZzdc5ftmdRJgI/BJnQPhWjKlTj4uj8GHydDXGmY64hpvpfx30ZboS/hcubPyHXGZ9y4uvP3pzpczN1y5b8L6fgX8bgZ0rQplkXeKXFi4mc5lt8xc2PEbbzPqYmcx2joeHTGmKncL7iTEEshxmblaCHf4YSvlfnQNRXg3Wli1ML9wE9jskoIxfiaHfLzL7miL5Hd+45y5LyQ6JTlPvEwO2UAqjyMFsYOIrCS2dy5hCMocAl+weWUd0eLuVgO8Wjvl9OC1d7pqGe7e6A53zbMwN4QzZt6CKsrzOJUqYvR0wJXYsoebkFu31AAAArAFfDfWtMfOpWtSpcWPwZ38L0NN/lWj89/g/CpUdK86WzeY151+4zF6XWtWOhiY+FWSoXdwmb3jcLhKmJjTmZ0K70zD1CUstBwgkxKRVuK59y5ZLjhLm9ZlzbD1O4eZnhl532m7o2TJhvDiM3YmYBPCZzEITbT6+ICeiCJgEK8+bcl6h5YouIbqFVLUPGcTg58wmE1lz0VDaEUdMm8Z6qC5U+lV+pmZgw2irp+jDYAfUvtHL3cqVA1o+fPxd9POjovENK0Df/hr54lRlf89XOPhx88RmdT4VnVT/AIB1wStc6mm05Zeoyto6XBmCe2D50dO5zA8y4Doy5csi6G0uX/IYiRvUfHELl6Vcur0+rm33F5mAR4zL8x2lw2by91Uvw61mMKrmaAJgrG9jM2a174EVsD87Ys4+jG5pqNrCcfIKXVQPYq2oEJu1jJ4hsgGiSq20qJq/DNfI/wCGpsyofK9HfR+L8X4v/GRjWhetzGncvS/+DaXWm0uDv8/c2deZeuNcafcOdcwlzENFmIR1JvosWYzMTqFu0Z3OY5RYouG2OGNLpeaucQZzN0+2bVPA6N+IPGhDMFkl5d5ZcL7gYuV5mRmIJllnRttLMFnqOGf7obZ+BRMo67dyx27gSq2gErIrfeKGzlmcw5P7mGq6JWlXr9/B+FwlSow07l/CvlUrQmfjR/w5+DBNbmxCo6Gty9L0uXLzL0HQZeJeN5ZL60uXLNPuWSzRcRASkpL0uD5lJfJpZ3FJTslL3lncuDGYlncEJlLmMyncWZl3LmXiK1ifmWsWXiWS/MYMvmWQS94TYJcUqULxBjZl4ixplvcpFxPeg+YU/mXiXPbGW8S5e8vO0vKQ5hSkqBwTCIw6JeyDSLb+2BMtYvkuUGwB4JWhM2zMrEwc6zaF2baDAKVf+wiF4r4Xo606Z1rWs6BMa1qa1mZ02+SQ051b0XRlzMrQmyoS4suKdyyIlkG3EPJHxiDhENx9pKdw+s7fw4O7/NKt8fhiU1db305b+oTO5wNt9Urcqi8r81JsV9iBBjFfkI3UffLyPwl2x9olvBfZm32Tfsf5QbbP5S+8/uw5fwxb/hgRz+dPF/acL71BOP0md31yuNyGa/34FVffIW0z4yO+avmYOf8AOnfT6mNuT3nioZvx0xbb7456/dDlp+yWr+1Rxf5I7j+7PJ+TMNB+TGmpV2cGMsrbMXXF94iOye1B54+q6f8A93PipJb/ADQgDWB41K55R38bTm9xU2LLwwJvVFV3+CVXfkziWEvvcE5+yhbu36hdVPsZgujGwK5jFFZ/eVybbsr3HPQrPMrCJebGc+T3F446MyMjCxyQd3iOLZuwKKXDLm4JUKq3by1gME5l9iHA7wHcCO5ASJK8wQWLLiipWnGhHRZjFmD9IjM6KL1+M3RrU1qZNHW6NH5nyzcZzMfEi/DEx8brEycTwRU2D2kGwvYm1v6zdfptjxe4zJ2vdv8AMDVldgixf1xML6TiTHnKYkA/dKXb/cv7MHF2BATbvojO2/8AWGS9vFzds8S5VIHt91sNkvUguA+so2/DgOcvpOMVDEt3tl9kvsxvtm5AlEJQ4lGlaUfDFMqDL86VCXVyvhW+oSpUqVHWrlEoJRCo6UShMSiUaC8p9sz3PawDuVeIjohdsfiLJYln+uN3HW1Rw3+NN1+iHg5m4fVzJ5ScUF09Ji33nafgu4bvsLl5shxljd/kTs+xguP23M7XibmHxdyl2Ytsy94/IypNiL7GuglN5U7Qtc33Fbo35JRtZ3UdCI3tUOB+e5fEDG9Sv7DaHJ2zPTo6ZhD3qzfgwhyXMApLl2G/gQs/S4emOv3HTNaGtSvgEr4MzOSePj5ZZ4jvq7lDA7vxDbO8ATdBgjn67fyMJVRFdv8A5W8D9aWqUrX6JdjHjlm1m7Jf5Fx7FKLlm9QS8y3mqtGtu2bUA34tEgYV9tsraX0gyxfWAbfQEvzEvlxK0SUSjQaZ1rOtZifCvjUZfxsZ9kqZjHXGcyzSvgSnXj4uh70x8OYmjp1mLF0zLfjm9GPiZjduYvBctyTDzHiUYys6cTIRjfcKDEf8aWSt+pvNj4YLmy4YywpgEGATAqZ+JpbM6YuUoe/pmKBcYnuyc2z7lhrioSn43XxNbhUuclzLGxzR7xP3cEn8eW/kBsvbQT8Qs/HJSIU/x6OFf7/4m49WyO/7ok/cFdzhiqV5LD+Rba3bM/z9pSVCkUMP18Al7ibW6lXorStajMSpmA61MytSVWlQNcT7jLl6XrUrSopK0xnvTmGjUdKjibw8RhGFrE2lO+rPGlyvie9KIG8TknnTOm0/Mq6hpXwz3O8wjmMYre8cdV1LS5TwtEWDUrS3Myj3GczFyyiNSmG0wUwUrslKMzibIizdMpmPpM/N0+4Rl+7/AFDjI8VKVFnKqUqU9gA8CVUv43L1Z6FR8kQ3I8gj1F+sVYf0LAsIuQueqwL/ABU3YMDN8GEFkXaD7KmTkdzEgtSVWB5yVlrV+sL+uAJdN59wJSVKjjU0fgEr5EYjofI0ZXmXpcdL+Dqy5u0vS+JVuNKzpRqRlb263DnS4OpY/G5xmW6XpUqmLDjTj4cMHZmdbhc7hvKY+9L8xlxQ7x9y72joreDi3S2t5vUrJMD9Mz3Ky0TzG5iZ5iud4PcOJxDa5W8Np/uWMoYYVotUN/I+GO5iHiZCGAdfAubS63xLYQfIhygDdjmL0Wf2AUoCe87IsD2q403v2yfrPIJVZOKEtCeZCGzd03Bg+1AWvVCB2R9sLdMWXDEUtV75aju+/ljV+NaMz8g+BdTM+4Hw31vQ3+Do76XLjr5086GJh0XxDQuJHHxepdkx3G4R1vGq9OZZMx0ubJitbq5mDDRUS5T3LqVm5iZV05mGAsNN2EFmYykuLRdcmjFqW9xl3BzFyZlt78yjCcyy4y7hxrcIK5lwlcrMkCICWrLPH405ZelzEXRaMtRKoK5WpcWFxvzBrLiujHz2yIdqXrlPn8qxfnEhzrfIqWFDdMmOb7jb/stNgDPBgQwErQohiVcplQjvH3ek3V2CPxjsLIe4PI+2OyYlYOvdURgTRm2R0Wb2Vv1PEkI1JnSmGgTMNalOvGh/wDUt0GEdDS/het7/AAu4y7l6YmKmPhcrUfg51uXUGzeVrWpiDoXDRjDEvQytXV1oOuKIGjjmEzTD3ME+51LbY7y8RcaZSplvpe8WWsXLTLc5W5ZjTjjQ3J7iim20xbUN8zdjLjeJfcL3uWYzL2ywl23CH6qoIrB9zE+5ZBC1CbRE3IvBgA2YvdAlwfAmWPZXYwSu/bTGQzPC4RWDwkybiaYiXArTEqFfBlVmXrzFpMEF0VhlWoxnY9QUAO+xRpiq2kewZRMMAr7UYgS2klM4qrwbmPLLGLRBlZ0LmCXLJefjUrzqsPhfwzqauhq/HvRl+ZZLxh+NjpjRl6XGGlsXRcS8S9MJiULmOlVokuvhxLi6XCMEjr9zHel+Y7fAu4uj7i9aVbAmI1o7aMuOYvuGxFKnEb7ijm5zvLxCZvH3BqbyyDMVPvRs3mLlmniG31EFxcCQn3CqjAaIE1f8Lh+YCpFIn8hc/XtofqV/5pf9hRgjbeGJUxTD+N/uqqlRNMfA0qpbLvQqMbjcbuXpXJs3cYvQrfDHiYO9ODGWKbn6S42X4cfCm2UarTaUyxV3Lpdbh/wcXeidGMsfiQdKY3qlxJcG41DF5jpcuXNlS/geUU1Ol6XMy8Z0Yy4SyO+l6KxZc3lacy4CWGi+YPmWS0u8XpcXbRfMuX50JZL0dpeJejF0Zeaiy45Zeb8S9sxa5hLzejU9sLq9oM4IOS7niEOZjucxYghUGwS1GJWjK7RKwfUqVA86VHRgLk2fFv8AZV8cTTOjBKsWDAAA7VkrNOiMqM30uPTAKvAEdiaV1wGMDVkjF9MCb6O8NynjxDhqyNB+IDJssyhyxuI9oHacWvmGNPuXoxjoR2G1YrqkTsj4VipxaBXWl7I9JLsdmFtLL12GrYIFcAsHbUZfYwW0w7FBUtea3Jh8b04l6DLLly86G0uDpcvQpopDLebMWmAZczK7IJxG+klnKH2TfPwokwfZhVp+zHBf4s6PxYkn6lj5L0xFq/0LPd8kksWviSZhPSgiBl6lw03qLtoQN/UMY3Ngf3RxzKcfeBEbkX5/HLNvRif9yJjwj6T/AFdJ0fnjZXF2Q2n2CC3+UDB0/sEpM/mmLH4hNw/iQ/65DaPQpM+Pxoq5/GmPFrsXUtyL9k7H9mBl/ox6k8yeJ9Jk3/ZIhVQey/ZHp5ihmi+ZjYe1wO4EVMOPNRyH9QH/AL1HnHyRiZmS2rpjwTQzX3ioWV+m5d1+oPdgHQy+qE5wyjeRNbN8kGb/AFRe4V4j/sCokrm2xGhVeeVDLKTqR9SjvTPBN7Cx1BagRvAz1AqzApumrziGG3PxD6/3BufcJul+pvIJnStVUOFqduAud5hylt2Y+Bw7LYcXU2mwRviedAiR0JcWVE0z++YYoWT1KIsUqW/TG97hATI3EPJyQ9o3j2pzGH44jHOFWsC+I491kfqWOjojvpU5jUuMLme14JjQ20Ur+iGR5ZdJULa0X6JgbN894slsQZAYILBFwecBgcQGGxcxRHC2ULIKPkjGi1ZluEwa2JjZiZqUvi1N8eY89rPxWLGrgnwZZLJcuU9M8HMt3yYETeWtpb7+3/Ind/WRiVnsaHnSoXvrKQ/vggyD7wmG8wUQ4PyzQfxqWmfFv/sUHB6Mvq/rKGDK8BLnL+kigysm63u1N5Y5uR3PtJ019rQ2X3WwigWyYDYvpD/qc6Px4f8AVoBl/AQRsBLYrF8y3tvS3tC+2ZHeU8LMzPbCZiHOts+4zPcqXXMolEqpRmBDG3craBLvmBUqUlEQhCtokfcqVZcp5ZSwu/crMQZU+5fcOZZ1EOiZ/Ua7x3KiJulk8BHBHJgz4hkwZNG92mcoPVTwPxAMgm9J0fsja19hH/q0b/BW0urJ9ESN0QtuRSFaIVJR8TvlXiF3AzBBQVFUwwYLkWkpjZZfiVKue5jR0Zj6ofuH+x5f+sxYmF5tYJ7gQc+oE0frN0o8RcvtKuhJZKUDWLRauEMW8Ivyab/FCp2yMu4YorwRizp1qo63L1s05SVabX4gSwWgGLE2W2x6M9xuBSDsV+pnPW7lyiad79YMsfZxnt3UsBwoMrgJt2143fZ5jpvfDB0az4RiF1sx/YNuhMDNYRa4Tb+N7k3h/nN6+gUb6d6dE69dF4Ouwm1mCdAfdx+pzcHb+rClXiLBsFoPZn+CbZn1ShWXQ5UwKm582/s21vAh/JxhQ4/BBPKPYjbuxIR0TRh8L0Rla1fyvGty46dwZQa1oxX4nwzriLBj8mfgQqc6WaVR8Ld433HfeJGOBjljzPPn/GpsTmGzrQTDLd8/mYvS5V+GFZJ4hnVKTAQotQ4RkVbzyZfr5Y1+5tXxMfur8z/w+YwtHcW0VXRBqeChgO+WDNL+yb8vmtfiZCepKlgtYUtPuUn3RY9qIYjqw0Mi7q4layn8QTFFwbWIR3gxZei+SeoDcQ2ble4Z7Skl4sZIP7gq+qyoMc9Wnc3/ANijLolY31WMGxlKNe4rxXySsKdzvYVcDZqzProEbNL7KlofNVcvuHcPwJI7qejCH9Kuh+IwwN18vaE2tPtFYl+kQvzhLAo0dBUV2tmOongIypWdQlaXr9yozEuXpcuXLlxcKMZhg07H5ZdlR3wkCWQ1uLoS4/ELL0+/gS/m3fxuXjfUuFy9GDrj4ZreXvpcNaIWxxGK3Gb6HnS39rLZeTW86VKrJpbcxMTuEXBpmGhLtkCGYtQOoeUztuXpvK1dSMrZ5R7u+f7KH/jvDaMrREq7iyGmDgKJRDhpzUEBMeCpR3YKmb06ly5mMAy2/YiVnn+sww3OgoLiB2f6sxlV0qKYc6SLPE8iKxmfolgD5RCk/tL9y9V+qVQ+LaQmKL7/ACWwcSy943DClOOZ4D1tT1cLgvcz2zeGmA0al6Xr3BmNE+FsFl38MaK6sx3GDvrKEq0OsqIUt/yp/hKNnm7Y/pCtvBd+2XiLesXMWG0d3EOMKPEG6gej2GMSCrCvxDAVg8l06mDRKZtLlly8jBahGXcPkxpc3fhRKzrZLi63DeX41+pgNLmKn3G5cJjW9DUjnEYxZaRd48x2jCcwePjitGoOWDBuffMsmMagwP8AuWQa0rZ5r1Fc1ErzBbcyn/gxpegc0yvuX9mULzrMp0alq4iNFqbD/aEbwvrN1/MQa/KxDtB5mu+igQJxHKs/3FWItv01LM7+9kJs6sJRZ3uDx0ZUgitle42k+hG+9KJTqJ4lfCqlSpX/AALKl6505mYRYOtSpUJet6uly0UGcBVtzfONTm4uKEPRUoQyNNhcDFLCFPYDen5gNMu7Som668JtSi+El61bd1g4qKtb8ZDGcaJGMvEuLBlx1Og0xEtIioIOjDeXMR0I/J0LmZeLl9y9d4bS9N4XElwhrcL712l6I6MajVNzHbHUqXxLXmEN9fvMqljvMXDcLni9M5gyioOkad3QcRcS2j4+C7aZpl1HbHO7BkkPJMxoitzuLjmBd0Eduze4Dch8qxX8U7HJ9SiOfCYyt7GYo+wuBFP6QHYfjVITSiVA0rStW5iMYaO0zHR/4KvW54lyhQoK0FBfU2joGN5ZLly/MudeZmY1ZcuOZTL/AOiVxgXKrhjFevGAuZiLNmJhD4d39og5lTYZd2sIHHb7Yb2w0S4aXHRadKhLhoaM30ub/G9Ljq9a/ehL13lmhCOiaZnErTM+j4sZW0QqMuPcQp/1E3mQ1+44xDmcszOoRfMd95/vMuc7zNkJbzczvOdNtFwKRCGg4bmO5iLFslyG7yRWhLpmU3d9xKiia7kvL11D+AKBy2O7OYULq3pMVVf98PUB3MIJUolSpWNLiFb6Y0ZUr4V8F0N0FqO9GBFdsTQtvBreoRJobrghfEtKoSzXiHlTbWDtOCVfiQ5EshGLOKLwF9INVLY9b1aWVBxeKNtRFvx0LjrcFF40DF9rghZwVxeZTy6v7oldQh5qJHTLvkfoLi6OjPubxjo6km7Uw8w1ZTm82Q4blpih4gTULhrDjy0WHqbyuOxjsKwsEmwRIqcyb/3xbcHYbCA3BqXHSokZbLYa22ZjLSEYVCXelz71ZeNbi63LNV+Fppe+YPmEzfwZvvoyq0xMT7i4YsVijPabjmYrcl5neY3Wl6LzvMx0+9LmL1PxLL0G7jvBtoOqL9RweIWMz1G3R9RLOi6uYinoMEYpfylhgGeCtHX84Z/5vMPTb+sTGiwMb6Z7ZlmXQjvKWVEn38GGmNtLjp3aUby6nKb0O3N+BDsTlhEdwcck2ILoyeH+S0BveSVTIs0B/VsfAFsDbXtOxE85QlYiwZui90ItVhBfWEaGZF/WEZzcvCNk3Lbpgpd6D4Gg8UT2wwWytP1E2jL0tRIqU+gVKV7oUHjm34WlcoDB3eH4OjrsWpZTFxVKHtJ9xxmI1cpWN0tbWZBEug42YicAwBUFGyVnIPUOU9M2gmfZoYvOt/EdeZcdV/BSXqsuXo/DnS5dS4XLhGB0vTOjsy3VZcYOYpGllncWPuKZlxfMU7JSU6XFgy5vmGXE8zaXGuYr4hFO9NuSXMwHqCXvLjXcRZmDTDCcsuVUrRPhjOlNrlCc/wD9RXif/aBnR7nEZn58zOm7oy5Vmvn4X3pHsbXlvI5PN08EDmh0PRvBjjb8G+LKFm9z9zbmPkPPttAKqrUu22X1qx4NQY3XpWNYcceUIvf/AKlkDGqZ/Nys+lXeMzESx07OI1o1cmg8ksewsnFAn9GOlxl6xLtSMS0+Ocl+mA6dY3fqa1S5CFgNCrVq9ll6XFly5cPelyyUCto5XRKFpMdgQ3iFE8xNsrGxU7Y8SkNffiVTLiyLMCFpRyRi/MLNRalzDHS/Et6dXozPSQF4WF9Mvwy14gpvL8kQ3H2ynf8ACjX/AJyY7/Qj/wBJmfP4MefN5mWj8GO9+pKN/wAsTBaYJs35J/62ZQ/QzfoP0x6efDL9r/aJ3k+bQbn+c4P34jzenP8A7lh/9WeD7w9rA221KIU/4zoXM2tfpwcs8dxgH8Mtx70heAdpi+lxU6x+pS7uOpRs/FOpfqZ8zFCXSsKeSWXY/WJkz6KlCznvFwH+iX5jcRtMfdjRaK52HAn1Lmx+54UlunxlRMf4TPjl4gDDnIHZKZhpa97TjydmoWVtYuVb3eJ2fQQN7PGPqAjsS4QBuxbCKzMJd6huqvhemCYjr2oxIEP/AKzo+/nn4GmdQVxbKwe6sQiZS2DRHVfMWKl43w9/SAs9zhaDv5mCwU79R1GV34B4Ix5OyzssIOfNLwZvFgXGVn/zhTHYW6ujFEb6f/Mdy0qS9F5DaFNqbti84ZVQscmxK/ZuJsZ4JRbhltl1tK467rA/VJmTK0Gx9xTatwpQQl5GUoS39suULW9iJ3ZEfYIB8ZCC8x030RWQlBou0+oDwo03aZvj8k21ewS4X8eBL/Vi76AJZ835gBb/AA/UHur6aCZ5dnQfUsVH2NeqDkBuHa7ZbpaVMYK8Vlf44DnRGe55WfdEdBkznvd7wuam0CLyvtiUrRe1j1H6gfIz3l2/qFnePqFguuSt39RIUgr6Jfv9EL8XmyKbwlpbnH++Qcv3im7e2wN8nlDtfcrimiV9Xb7wG/7Wdre3KuD7WcmaN7UzILu0nYnuAaKKjJcn/wALDDX4sp2L0Cf/AAEx7teM2P3mBcEP/QkNn9SP/QR/6aGB+qpRQA9Rs5PRAOKgOoWbE8BAq6jKJE3AGwSjqUHBKOpRFIEqIiHRE3iZgVtKVSCRNGCDmzE6CogWULKOiAOJQRzC7MeA/Ew7E9UoqkgNwpiGJzUQs2PxCqqmCoEoxKJQZR0Szao320G07d/C9KjGYmD+UvwMJWscQDIBy7ESVfeiPyQm17JAiTdVBBss2esyvE1VXgjcDRuMeIY0xDs71la84aqEYzeK3L5LIhru2Dle2bSZSLV9umYxjVzC397oywcUogIdAxQSJmyxykf+q2V+S4OeALI9kRDhZQtViXKv9ylVaqJdZtpQHolgVjpWttm4wDLvLoayTEp6BRKbu8ytCyU0LqLC04z/AFSwKVt/hFJSbynkNwAyDfpzEVt3jPcQlGnpMVs0jIzF5WiHdBBcq4uTIPdkGftQMu6RjAZmJ/q7f5C/+mHA++sttM8FF7v6gInyHuUldXZBb+aiZVflYCUfiuOfB8GKTdJs7EyWE5m9pCq+srApwH4I3L8z7dG8zDmLgTHyf+SnSsymCloKJElGt/BhlhqkGnMxZrWn3DffU06aWwc7y86ZnGjG4nrRjM36g8wmCsbTGdPGGXAmJ/uV5hOWFQzE0upawNSM8BiW0VvBqA9TBL1rO+mamdTeJBo/+8x2uosZW5u/1Q4gAsl0nFw3iwbXXBghZQHVbQs5dn3I9Xb4gx7jmeqEygnba4TpZSeAnlIyxQf2TELaW4XMJFmYjyu7Ms+WJUz/AOALln+5cSVCLUWNMpQoPmIIBcYJkcCEg5b2K5XRlpuNT3tYUTW/vEqBWrFuIJFgUXNHiXP2RFa+pqftmArgwn01D2gKrHJC4wNtiXeKhlvvkEukkH3L4ELC9ztuWetBm0wR9oRi/wAqoB+5tDqGdEAYAPRUze8zzK0NKa1qVMmib6VibaGPjWlaVUqVrWimUxW+k0jQJvCK61tVhGJWl6Mv486VMWw2j8H438Kl6WxGN8MoIxs5jFxHRnS4wIwJtm4aWy5ZvBly5dTEN99MVOl0qgtH6xAraZ6laO+rjmEYzceUzxRfM5/zwqA8fuKSMFunmF9cXSNw0K3JyqFqczC8GCZyf5RCPlTpynuL/wDM644j5lLwy4B1VzQuupd3mpkKz7iGraYKuVSCndv4iLLxLGMrTaq8hjEQib3GN9EEBv3kqdgqlQEMxXYpkfoWmyPvpz9avN/jsUTZYIeCA2ftjUMwPw2BW1G+I5mJo1sJ2YWig2Jl2W9tP6IL/sRcEFFJVwHGI7u7vmZreMqGh7Q1FRU76ipaWioOXmEtK1KYQtKjqrQGMLxq3l6IGgthzBzdiW0HhBMofBihI4M4gp66S0BB9Q7ysB1KwirCKdRXURGfLEgjrvpc4+F/G476Xrz8LHS9L0s0YsVsi4i+dDo1KmVlrmGpcsl3LmdDLVwlXM+Is3N5zGFXvMhx8bzM9wjTpzowj6nE7RWvGDh/+sqpUlXWSLXqbbEgjwsNW5uET0InLe6y6BSqs6JzSy3CWJQrc3CA1neRiFXYMH1RF8A8xh08BWwpzYVgRLjd8/4or3zmSpwXYLUuYo8jcVF3NUMynMcsP2srNoT8p+lYzZR9ATwZnNs2MTbQxRtaQh/AKrVNErWtKdExoRlMKaNkNO+k8IF5iaZSNvKvO19RotzLiemvvlvKVNOIwriKnhKxmnUTCGEBqJXlGAgdy3UV6gZWoFgJlDwnrLVxDwnpPX4h6wgDPSGUP+AculPSMQuNRZcvS70ZcuXLJzoaMdMa8tT7htOdfuXKvVnuO20YxDTiUMrS5jPZ8CiPlHfeC1L03ZiXBJaG0yMby69xmSUBpUrXDqsuJnLJDDmOz3Oe4wlFOkxYvK4pRdXuKR494qiCvaj/ACV+Vg0ByF0QeAuY40X6Rl3L8RLtzLWo4zKs4Ourg5slFprdYlngZ9kq2VrUTR+NNMqVKtmx9mcGEMRmixVj2Xl+QSkDRRBy+saJWeRAxMi0byy0cyDlN1Smx6hSUdNySFnuTfNj/Zh+mIqviKkbsuVrDoS9pSpBR8Ix6Q8I6gCALVUbrNAzm9zt5mF0VtnsnW1jH1AEEpEsTZND1S1Bu9EWBreDY9x6o+knHmPhM9F5nx8MaYZSAgNOMroJrGR+Hi6HeculaXo6X8SXL+Bp5m8vH/Ax40Zlc8xlwlkWXY5hxTfcAr4fcUOTS8EY6eZZFDYhKB4jY+4MMwJRKSly8sDcPZqK/gjf8n+daGKzzAfz3SIZ5bwOI90rXgG0YH2+XUtlqFvRgdB9AlFfyVKzrWdDQ0UQWHaKOLvmZwE3lBu0NqtZTsHwfzwgq3C6tIB5PvCxUZUqVo6MHTMarS+LjBoNu7FaiuJBt5WrA1MOqCz40LZZMQ2q7CzTo3Y4ZTJeDshlZUq8QwhBB5EBAmlID01CK041aysJ/uF3XocstWoWOOh5xm+Rk2ZqEvfFmK6CQikynA/QWxFiMlArWTDVdFz6zmBwOCgIM/uQEH8UsT2ykpGXkChhaVQBFtjECLfq4mUG6HX1Ur/R02EPjEeC/wDDEb1xTfuZtmIuabvuTtDzo5inr9TCFbhPaq2FNiGSA2G9sP0opXhLf5EJ6QLk+BvyT00jrQaZGUtq01kaNUw/BQUMYsudZhto7fN0vOt+Zmcw1ybxdeCEYxZUTRSUqpZLCWRrQ9cwI1CYl3Lu5Xk+pvOyyDaTucTN7wfMvOgyv2RGNGPSu2+UDJRA4TezHMU2O5uV9bPUoqD0SsCM2nlMg70n/l9zMqVDeVpW+mBvqVYsl+2hsO1E4DC/UOr7jfwx1KgRvTHFLB/ehM+0eYFt73SPyowfQozkedsveluxaAxykq1WDmG8G9nbbMsBtcYX/DEXtobf8iASoEqJcU/QqdAYdpVWdqgoRSV60GT36/w8sYs/KbcQkDsldj2+Y0nKg9yzsIZOB+muUobEdqzoFENb4uGjOU4HZE8TAbMHRz9YLcaBk3vvBNTjRSESrgn7PJPCvXc/sjQqcFR9DeU0Ut6vxkJ6aK5dH6ClW5lrdXl29anvZK7oBI3TcIOC2RF/aBRze4iQyl/rZFmDMg9ecOxivpEt4MEhFYqClOZXiXl5SU0E3hN4aHpEzd0q4mhuQstLmIy5csl65g6ExGBc2oTeJXcQ0dpvounvS4uJcuKxjGLel6WSyXLDMpTSe4MvG5LPEEWFXLYGcwZxLhcVtmO4ZIcIXydAlqtmYXA7lGpWjHb7n7OAyPGJvUu1+WEYM3Ye9LNAyzu9B2hkM1uKSWCOppVccVG8uXL0vRhcuOiYgVcXoDFwxwZS8ASYQBgCCtBbu1DRFB2jO2SKqrFXhX2iVZYmcWNoKCouqcx2nKn8QzAh4M+5V0skZOYbti2a858XL2vXX+KXQvkEg8sCVCoUl9ypUNqrY4aqyUA2hcMCRAPHw3wqK1kP9IMNXtXcg56mw3XQGxK67abGD6BLTGh8jjwdwIAABQHAQJLM61KxEFoBypNy5aOQNuPlgqAKsF/e5gt6zDx0uIhZZlSishx5zP7VBTDGSapZtBVeEmRHKR0yoTSAs4VhA4VLTgsrqCQ3fw2YKsRQvkAhYh8LNN0Ka5oki61GB8JTBN6oi4spLO5cuW3iWgmmemF9MLCFwtyhbCkHax+yANxF632Snf8AEnK/Eg/5Ujnv8Kf/AA0Rx/dOn8micO38MEqi94Y8lvSiiA79p/tDN7P5ou4J27I+0GZPHaN81CB/6+b1m9VHDfgxEl5OoYWqcY5g6Bilt75sn5IX8HlqXjxzoue6gjWMC6/ZBhRo7gJg7w78ruoK0U13Cnbg+J48fdmZW/2zfXLWw5mC6PqD5LbjFOZfkzN0YpLwaGjMkxE0vh/9Ezs6XO3z/U505+BvpZJsSjfp7gMClgIwL01tZLHhBlOWJjRNWXfxsiSl3UECQFZQBlZdpHFUikTyBgG8zSKTYmSEqJ3UsrAfDLZbiygYZNmLNMguKgVSgVh1LQOmAMQci7iHf4jV6ZRKM5zWUxkTAJzYh/EWrm1VbHVM4uhzxUfaZiYB7gYgwtgMBCDRpCAOKg3Iwm92jC/KwHsckIIUFcn5e1vBGD4OBZGC+VfoRjCuVuocBgI9Ss3HvZjYPLgjfiGy274tlHzreeqxrmuVx3W6wjYLamExoQMfopMwGTkQfNwWGrit/lCETFwxX6h8NbHIYL8EpUEY8RnFLCvsylBFfGI4fxYjdxf/AGpXvL/r4PBeW/8AnJCOPScv2eXhT1p52BvrBk/KAl5Z94InH2olvR8mZtfZNXF0pxT5Zcflln/dYvHH7xhgGHLZQJMyWkpXqy+k2f8ADAly/aW7/hkKi6vAInL+EisDbW/CDufZHC29uCb/AHtgrPjj8ylpb2+6jG1e2Jgzr2zrMeMk5hiFwNscQeH7SPB6aSq6z+JXk/FFf9cK6Pxkw7r6T/5xOkzJt84I8APreNUeEnQxAwMoviVFrFym/MeiPTPFPFKtiFbn9pWG/D6niGdtCglFkSKOFmHE3uAVQEOSBmNH9S8Zl5lsaOIbRIfD70up1LmbVmXu/qEZtp96J8AWO2MCX1UeL2WMsNdXWwaupu9tXV1BSyfqmy2R0NFiOhgMXmEq4QP/AMyU1X1RdoiJ18VPqPptqMjW++0fUQBQitc9/wDgBEeJSkHlZX/PrDemKFcoXop6YYRbAKqhcsbKtAL7qBgJKL4nvBuKWrteLJCEASpUCBAmQmYwDPWTRTeWA9MqjaPm7NKE8MX/ALpC6CAySAhjjVbTdp6glS0XT/4RLKuihllljgQv2WsY3mHAvA/sqV2J5KwJ+25Yoj7tQTf1By9Wjw2ZRdurdB3TDQBFXcKcEan4oTJlPuF9/rBAZjTXEjFtRKjrzE1qtj/ZhfaCzx0uobpEl7PsVhTv+7QLb8GNWF7DHkT6y2v54YQf0gWxPrTeXSPvL1UNGsppaEHTwyhXQsgog3mPPxCYncYEslxO8tuDKeNAPUJZdLii+I9YqzQQlT7jglTJzLO5s0Yx2j8WdME0fcwSkuVmL8TbeHqFw8CA2nEUo8zmDv4n51fhWr+7+UBQSq0f+XGMZUrGl61o64mJccoQr2QbCqVCtw+p9QUHdgAl/BnjsaH7i8KorZcUOK9sLbuqM3wTceqUMUDtZXYTfS2EwL4y/Uy+R2G+iI16b+QcEF4FscVQHps58TeruFuzAZ/UUm2o+whtPHJZbQ7YCSTkvEwYD34AyXRWAD9oanS9YST0ArgBafX8+b88QmZUR8q2EWyi3krMPDuoVJbeIIN1w0IJT/1PZmALvuO3/Zb+wHIMi3ylCFaoA8Yh1lu4Yaa6NkwmEpK69eozWVikqagpKaM5hoqVoqVq01KYwYdQKsYIPg50Almm/MDV7auW7EDSybQgxjqPBoVQYw6b6Ny5VkYza4sTcdzM30Qlzir0oCZlSg5ISy3T87M2d5eJtUN/uEHzATnb1LxNxBs3gnZ8DOj7mOdU1ErWf+Kh+tFfcxpmUnBpUaqKuCvbHA+0aNXExDWcUe0mKo4pTiLMVP8AuMCsqZpdktjczLtAz7xDCHeBERCpbZZN+TTecsvxKVCUXm8RrZyBFB3U5YPXTQf5YxBGwnLHb9lMn4HMNILIUP4Mv/BiHlbFBGmmrRLrNiVQVc2Ea403YHTKpSyjXYFgFuekjkv3uLWfGhGm8bKqUVTVbECem7wxHVaKtUViJ2wHth5QgIDeAaFICEBKaCA96SCKdAIkrMHCHUW13QIu6CGDQqVK0VKlSoBElQNRId4BGbIK13NjoYStGXAitzpm3cLqLE60AQg13r0G6mFs0s+YMxJcXGlI8aWRzN041HcmJUwb6VTM6YepbLmbuoJMVvCDX3GYhBhCYMVlo1cz6jpvoOjtvF0P5Mqv/wCqgrzf5aMwH8D2YTvlWXPm6nYpZFPvsuntjhHUNFuDeNNWuPAYIzQFjTO28WA+x6hzgWjdf+yUpsxXlexOEgCJHRA7TeLr4bjtD8ETJ6FXGQGC9qtfuI1/UE24hCm1lU/TId0M8RbeLeKIuEu98qiBgu1MJn9tlfX2l/2bYP1lPjtqAlgQZWICEbH3wZb0HrEGYECBnQKaAzBAXCECBAgQgIRhzDQCVAZUplStFKiYGiy8t1YOxMqA0W030OyK4wcqiPCq3oa1byohKiSpUrVetS4mjOcZNscdxGdC30kr4EEfFzZm3opC0QQlheob0vJ3EwVF0mMWbymZjE0dF5iF3o13OIstgmgruaJpcvQUsLjbzC4bwm89wwuNgfi6rM6bzpzO1r/VMd3/AOokuC39HMA1id8B78wwoPbmoejbdRxswSzByDky9jWylEx1JmszHhLZqvFQvGG+W+DYn5lKIZoJhmL/ACehP4xTwb1sRZt5C8OFl4ZQRFsvKH6wvBdUEYCXsLS+tSiAXdSg+CSoEqBoQQZgQQ+AIQIIEIEICBCVbPLDoStAgaAhHhoqBKlErS0KcNDVTMsiSoP9r6oJmcnlSouVAlS3Kq+BrdZYdsE0zwEefZe2WgpKAKSHSXLl4WlaVKlf8Fxih51mZjq4o95k0X4l6jlhLmWyjf4OOJohCGHWu5NyX/EzmOmW9HEZUSJGxtKIhE6mNHTg3021ym823Zd1CDmtAly9BxUBQw6CRjCpl2jTLg7cSxp1vZlru9PAmg+6P7CoPgUDhaZVFTD7Wqs38wXCCGhdKg5kwLiPUAbUqVr7zHxr6tUtllGxdvezMg062L8xoUxeW5cHbuihUMYllYAI+rYkMVWKjqtshH7XFL1covvIy5yaWkaeI03aQvJqSJqkfheZcLvQ+Abwgg0Ggggzqrt9kECGjeAY9EvQifaPDCBFDrncOiRpiSDBIsGbdPYKMG5hRbLyDhph8iFUIjeR0CEIEpmwjNZBNkduHT3UNWJiXKHGssyMVty197o5g1QRLWOErEVx5G4MuOyFxA3nmo8ShcN8hGqS8iCgItw+8SkdCLoL8LlwdKiabI6MJznOLQqvS5dMGXmcwZdYvu9PBUeHPy5bFQEPRFubmgJtZmLFbjrsS5c60do/USM70vEuDB0YDUvNwdsyypnM79uly2ojFsM8wiJ0NkpgsOuB0VUy/QIkv21cd343+RKK74oIIBpyq6dnmh6Cc8wCKN+0s9j+UNe9/Y/oVwLRItNvQXL2RCBsLIMdtLeIHwQVK3BtYu0JmhyXmK0ymzDcO5Za/Of4E2ZVq7isXGRI234jmLk2weiCuYz+FEGAV/phczKxKzGG8dGNumI1CXqgTwQgpmVlewwbhorMofAGpTxLuABguEXLywYQgr0JQ9uKuVtOwwZcDe5PudGSJK9Q7IFFYqtoxqyCVuvbzHMJhFt2xcGDLlujWzYMH3G76jFm7WXDBdSn411E1/3AvxdxUHzTQu7gJdS5emI2dWb0LWiJZOe+pcDmz+1lS/lxryj0Jem0WlbSl0xOMTC7vohi9K1gVbg3m2QZrPgsKhLmNEdBqPWW7gyZRRj3nPRlcGh8zbcdRgdbZZGxpL5bKYJjpEDQdQOoGyAg3qNodB1Y6JKxL86+YxlvepomaPWlzquDRRIJW8EmJxCJdhWoT/Wkg07MT0EESkfAlN6CxikFJ2vBRbYHrECZ7r/LSqSI67SqCb6AjbWQtyxZDZK8roBVuLxsuGooYDZZmssKBXgf1cN21h+DTFPxfcvWsxjo8TcAOy6gKNUg8uIqXtBUb3gjqygtYICl06CNhet0OCKAARBE2R5hqDFfUGpsBNQShAO+gYECENKLiDutTpZH22XCEUb/AK143AYFHL6r0IFVVsjLa+iBsCRbHcF7SNsBjAbVBoSpzv3F2CNgwtsYJXmEluhuOt6kY5IfWwwgWF8toJcy3Tcu6xrB0uXNksmFQOiXsjpwPaHPo6leLsNvK4poMNmXLly/MuJ5+BFi6WsXmLzpKXqyZDFLlwWXDpO0CYiGGCCHQEqMEDo2OkPEzOIXIQvTLjiB3SWwfJ+ZVuXsTF/gRK/7xuf4ortudx3H5rjlov0xu2fuODf9o21m6pm2YPtoYTXP1LeaKNkV9rV7XKmv2EeO73CnNPCwoA/Kx6uF80F9yqv8saO02qXRUGuoHMoXe5DuY8WwS4yiVdsakcT3laHwxpmMv9qBPDZ+J+s/2EYy4V3oaIK3HJAAAMAKCViMDkoFj4uVky7craXDSvf/AAQJZocsfhc5Y6OJfmMN4YErPBfu8Alwo3fouM40KHK8Nw5AUFMXlm0WTg5D3Uz9hMeIGtnlAMnpXIekPeMDkcjMyECCWHZMjLkmthIBw5kMSzD36dALYZnadK3VdxQm8jRhqUBWSGIaMIXkEpuLHB96/ualeu1a1eGBecQ5efiGVFYaDMXevMTFg7ww2NEC7fFyYqxSUrfbcpcxc2/l0JUZXmMXhvYtMuk+vVtpcbaMM/AtBqTZly7dG0ubMxMRSAoW6SBK5Rc22MHTEuplLhCkuWdz7gytFDS1bacLvEtCwsQKKTdgeqz/AKEimsvpH/rE/wDhpWZ/PBWRpkXFpqxTZXXohjUmYNAe8dRlUkE5KJZlHsCJMfckTVfaIFV0+k4P3zbx+5TsH5jbk/FiOn2l5syocHosv2/iY2/1AmXaRrnO7JuXb5jO2fMu9ZO67/N4UFoeUwFukWxQOKmKuTqGitv+to/9POv8cIFWxUwbR5qlZQMStStwLiEPVGXiJUDKypQuTjbSuiI+YYIQYVK8mIpcSbaVKjqyo18pvdy36uAt7X90uNj8FK+Au3VCvzGN8ZXDElfmGKXa79TIH/QmIzNfCsaUyoytMxuomdt+fUTa7YoWrfl0Kg9NUZxl2RFlfb1yS+8mVdAVjMmzzmER4y4DZ7uoH+wTVVs/EZtxFaXn7IL1SYoxQaDwNgEkJIWP/qWIMSYNlcAnkdvcMqLDSY65cG0tssBpIbQgIU8QGkxZRLUjZoAfC7lHQRfrrPnASiAcWWnc5CbzK6RIahTKgKly59wPUWKpsxKKsCk8MQ7WWV28Zcs7mfb4xEzFDDC0AVctRBgZ5MThpsJL+iG1bui5xrlkOVipSTc8EHfyy23bjuNlQ81hML31M7SxXA0hflX1ie34CC/sEjwL7gOo8oH+QTh+0u4A9qHTwf4zDq+1T/EErXR4CP8AooX7r6CZL+iiFq/4zd1zP9bOZj+Vwjg3zAW35JgjGbynE/DP/kXKcSE/1pwA9CGr+aF6PRKGKPUC+YZWMEo4NO7edbQDUoRERBgQwwoEMwuCCt+BA0dXDG8xS95iDzojM3KmNAqBBdKhVcQhObGGIc5hMT3EXvL86bIulS9OI8xuY4rylJ6H8hMHb+6FnuOiS+Cb4sTaaXLwsROjRyz5j2iCyfZcpkEGWCbS+2IR1tOYEgO1onPTFB+QlGlWpEcSvOhGMrRWpViosuickjJk3Jk6XgJ3v54YF97jftqnUN7zMZy2yEqxTHgVbi53adKqgs3gFVAl7Jy49Qxxj0s3Qebi0e+WuVi7CZ66wcmVKDTMWtqF+JhYUACfnzE0HNtDbf1I0u1sVGMapM38mYPj0Ze1g2PTqWU2m22MV78S8af2IZlflv8AIXP3IXtt8NBTMArV3DiiLxO+BKlLI8lEXw89YvbOqOJlu1xmw4m1izy5cZT3ALYvtITYbZ9hcq2/Dj9ke14UgHxNq3uwIB/rRHgme1EMypSVHpN94BKIGkagiESGGCESCDDPHCXrVF6nPUuLuDZOetLZ+FA+Jgh0GCGGDeGBzHQ0NGJGJMaMYRhLJjjU5mJ5m+vAwl6DNw6XQUSU86LdLbmGZ0Y7MQnXLMu/Rf1KueSmNHdqS7DwsRMS6rMLOAzYtGskCRsRH7lstCjsxynlLRY6WySVomXLcQjOBUqBRuxjTeLBWNXEYAEytgbsUg4tEwxb1cO9wkH4XnSoGZywrZTaN4IWOcwmUpAMJEkL6i+lggveNo6iSw+UEMEeWBlKVyQk9ZljFa31eYCh7CxWPNrMAIeQI4zCPUljB80K4i7bqUF/koBd3xa/2MYw8UFS/qKHV9TJdn20WbE9qEg1sVS2+0v83CXdTdX/AFUbLS5aQa8AAAEMMEoSsysBATKFJUpKlGjKCVK0SVE0R0IjBAVA+FaVAlSta1SCYQ6QZm7N3SfjT26fih0MwEyzbhhNIIIGiSo6BDBBNkMG8tDl0XrSbxKjrzO5UqJE0rzOr0WEYy51OIbQ0IV3ElrigyybS5cZUzqzjPOoAp1lDLPeAFIt9BmvEVtFeOqii1fSuxhUtes+zwShp9EXf+I/CSqKzNsn41LzRKGLQVWq7ltHpv8A2LjwjqzRTNNxmio8Rwxh6hRlDed24HhS9vRvGVN7UAvpBEAm/KiVK66z/q0Asmxkz7gwtpi3dljcD7gNi3mzG6bfDf8AJ3700AHsoBgeXoha2/spI5gh3y1LBfYpdQe1XiCH6AoO/XBE76yWo43ZP8RUptbQAN3vaXAwCdUYUHogQCqoPUFbI0A0TQCEDQJUpgQIC9AgStD5VKlStSUSpUxGJoqMDWpUDQNKlSviZZoD4dYWHe0fGHEK1amWEDWjBAgQl6MT4AXBvDvOcMFQZl5lwrS3uXcuNkY4ZxE1caLMWOJctqcab8Q2lzecaGLnEVVHgzLxLO46b/Bm0uL2CLLv/wBZQ8ZUKuo1dYwUJop2IkeVXCXzhD5NURsr+6gKMCfIRYGdq0Z2uPItuBcPqksN0QZeXF4jcqvUy1sUJY8JyTCDqCaerxLeqafeUZ1QgTsQSF7zjljme6RJt4WbKovt3DV4AbgYcztQS7nqoHFTzA7h5GQrHvTBBUrxieN5AQisby0L6AhBAQSoQIECBAgQIErQECBAgSoEqBA+JoS5cx8qYnyrRPlWlfCtCVKiQVBBvo0XLZ2QVZem/aeHTzTIYjYg6BY0MCB8ajBDDDBC5hyw4YbltTUmNBGU6O0Y6pMS4S5ZLzLmYDLZnuXCE2oON5b3rely5WjllnHsrbzLh2A3OOIyUG9BzEl4xjg9SnyTtZVvWUsqOKNCUy7sVzdiMsN9cAy2EU4F6uXoOCBVxQPhUBBt2PUg3jbhzJ522tGMDBJ3AFpcC5traLwiALDE8JWjd8FtKCBKlTCCBCAhAggQgIEIQ3gQuEECGgQNCEqGlMNMf8LtpmXFlY0qVKlSpXxJWlRNHXOrBEhNCyDLTQsitJrav5bQNTSoRjribWHT0hZujL0uXrjQ/B5iy8xSYJljDc0utu4TFGYPFkuip9wKjC6m5HtCjI7xgTwxUin41jeXzWLf5PJLki9rdmgiivP/AOuIW3xpT8xvVB66MMTAtwEKJC5blTwK2rzG2m9mUDWvpJRVUQLg3ImNZscwIE5o7lN45jtKLJeeL2Fe8gKEFkVZuy/tV9OIrM4L+ZWgZ+JPvSpWg0AgZgSmCEEBcEqBAlQQgQgQlkuEIQgQhBhCbS4MuVrWmJcpoxL0JiWS4suXpX/FWgyyYjol60dMpcMvjjGQkJPE+KiQKgh8DVjoRrmHDCVBV3jqb44vXMuLCHdxI1MEuXoxmM6XiYmXS5TQd8zCwrNsN6uZumXtFt7hpJRMs9YPt3hf4RHmfKkqsldz9XxUAYD6lbuJ3iRITP1EtP8AzEzxkJWZUZcrHwVjstv3zf4WHQWXKmauj2ylyarTKjt8aLgJVMTQyaEGIQECBBCAh+mBAgQgSpUCBDQgQQNCGpDTOgRmZn40aOly5cvSjuYhXzuY+TDRVF1YYTppuKqKinRjomlIGoDW9CXoxhhh0bJtZzhEYEXMXboS5cGeam8VwMbj5iPBEt4HkD6xDd4dra4uO2FfAzy/xOQb0o8Wdjdp/qdj/Eu/zwLtVGTAQTaQ/I9xay5cs2NVfhLbth0CFu/5uXWo5pcMCreJTRRKzMaLCLojFXpjBuh/IJlxUNFMzMXxF1un0j4wxqvZ/noix5gGVWly7hCEqE5+AQIIECBBoBBBKqBAgQJUCGgQhCECB8BNC5cPheluhiXHW9T4V/wF6HzuXBjHQdRUypWMkh0BAghoNFhmZ6mZ/wDYIn/uJs59iP8A1yb9+Wef+BhMZelO7+nMtH9Sm7EWmE+qieQOZssL6S0ATOLvDy/lM8H4Q3th9LFOORN83ozJgvgxTL/CK5/JC3fzQXWvBfbbHMYdz8pQbCB5PwzDX6JgwFeCV7AMqTuMpAkrDq4lJS9pRKNqgY0BjeAyVMlNiLWgjvPvXJ8MGvj/ADKgLKCfqKmXUtfBSWTEdK+3s8HKUm6d8aDrzxPfODzmLL0JcIVK1CBoBKgQNA0FQqFQYMGWQYLEsIXAlaCXC4SoGlTNhiuYGl6su/gfPbXGlGl6X8LgwZtLJcGNTMz0zPTM9S0u8TL/AIkOZL6xDf8AA0GDd/UzffpFjw+o47Y3pSv9FIm4xcG2+yidFXmSWR/jNgD3Ktg9yp2vzEuDwKcoP/HMVufoEt3P0EUM/S1FWVkfP9qW7r9uHJ+RDgftYRqZkNvwIO6/Bm3F9GnJtiHCtnR2hFhpVK6SjStCLL3zCbRfOjqujNoahi4VrfmWsOdCvLuXt1EilNXVlRjHMYq/n9TG1/8AWNy5etaXFiXcdmONBR6WZXpDuWqK75dL6GfUl6dBMEL0IEMyoEIQ3gSoMyoEICEIQIECBKhUCBA0IQ0GEIRelwtDS4Ol1FI5bwYXoLhTC+0fUsN0m9H7BGkG+YbW4IGdK1e/1ijBm31Eatw7kEdvSUrFBSNdetE5AxiwjxfbITansS52XmXYD7bL3JflGvZYAmfcX+wuWeeKIHv9EUM+kBExf0oSxyPGE8v9pf8Av2LfzhZvZ5lVm72sBUfjm6n78Nl9In/ysD2H4QJsKZRzK3AzwE6ED1MqAlECUSpUr4VowQaTpbkOWVTIsAXWt63BjpeNG/qMXcHEWfehd7/qPl1ze84hM73oZm0K3gjXEYKJUG43ODRjdS8y5elxbi3K2m5eP8JfQ1Kn3qytHxM2s5tgMSoZjuq5shLAqnckoWNNyvaby4Q2hC4EyG3PHBoSqh8BAgQIECEIGn3A0IENL0K0IQXTA8xdEnyYgsEHdfQWHe+oB2fgLG1n9KDXXgzLilfaVjrKVsyG2LxMwXY/clq/sKNC/ptFMfCOXh+CScN+hAZX22dFIoIQsUF5gL+sDBAMW0Azm+2bR95YG4KGDAPBgNj9CAZolm8CRPErvK+oglEroShZiVKghvKJWjjTE5+DKiRuI6CKlSpUqUaXD/jDSIcMDUGYdIuYm/wuXDRlxix0xGK9xYMJetweoXoS5ldGjiC4amfcxG5jvRWm1dqieD/pLZGPDHEWtVe4StahVWNJUCAhXOYRTQTUimNTQ0IGhU8GF3sw6GUm5UXUP2IqoHuG6fX/AIo7D2FBFwxeJiFo+2C5HmANf1FFGF4KLh2qz/JiQX4iteBlJuPUt3+NQcL5KBMAj1WFKKe5Fwi6VLsK/KsrG/d22mzfizJ+sKBdfg0nkyscWI8kNElRhfeublytbepcuF63L04i6MbvDOzfRKJhPWeJh4S7hKiS/kqUSoGlQIaY+C/N+BvgzBNzR5wgy1/cd3UaxqRZdzmXGoxl6XGVMa3M6E3uBPuGjLF9RbPErS4r3KlSiWRYkzPiI7sPxUf/AKdzmXiLpzExpdaYlR0vQwQuDiWdwhbxEeI4G6Pc25PJJvJ/WIn70iBRVwrCu87UgkZsGz6TZmeqzhtELDh8RZ0jYVx/vIgevvJQoRqDa0orKQCj+z/UQ/EBNrHoCEk0Ssw6oDQEo0UaCQSoECGtQNH5V8X4ISiEKjKjpmOqSlT7hdaVpQwxpcv4kGJKmO4V3EJVaEuZly5cv/gIwQzvDN6HeYmFdQ1cOZWlwhGMd9Mxjpgy/MZQQgy9Ll/AzCF1C+Lm3BQJ4NHQaly5UYsHOcS1Q/8AanCeX9lxbhhi5Yprl2mc4foiIXsduIJgezAYOt8ZYrVxVswS3pxSst1WZaX7oi4Kr5wkwtgzaYc4/CZUJBe2KG8ngxBUHdYyxYtUWQgU/u2U9X6s2g/RIC9oSdnQAhAQ8IQSiBKIRUIIqExKlaBKhoECAwlfBrStTaMrWtGErRfD890uvhUSVKhK0T4J8HS5elaGtStKlSpUI/N+L8oMMBUHMxuXt1z3Lxcuo50Wc6MYs31IS9DGpLlwl2xWEKxHRmyesWXbLihvFiIo3wROChux2S0ArmOCAzg2X5gGlnyEcOJ5Y7n4DOVc1hjKrCxX/CcLB5FN7++ptbOhUMSp0Ml1FZytwADY6VYNR9loIRV4kQw/UYKoHUCdQEAgIaBAQEq4EIECECBiCBAWFIQIFwJUNKgalwIEqEIQlEomOoJGWx1o0vR+LqsvQ+N6ulXo2lmpXcqV8WoaGlf8VajL+F/C2MMOoYIcM9YC75qPNa8Gl6DMZcuMZmMvQn3ON5eIZly5cGDBlwUWw96pmn0DceJ+yjkvvEtQz+QIWq3lmNyvuI41Os0YhloegpHOW8KoOmpuzKxHc+bZfF0bW3MPow2AlWw/Er1A6SvBMVnTebaV8KaDMEMahiELgQJTBKIQbwIECBAgaqYEA1ogaEDQIGhrUqV8q0r4Dpel6VWl6FSvgy4wZcdLluqRegkx8Lgyn438Ll/G/mx1dzBLrh3goYcxy+EdbOYotMuZIsWZ2BY4M4mA5Cf/AHCO8F9xJbjmO6/hmLDXoGdMV91+pDHT3BCz9SPE/tm9Wx1LQssw8Sa6qdn0FQKoGUveVG8t7geBxWxKiqzpCVbBKCsQLlHcQiT9CDfrr+JhkUzv70rEYE40TQ1rTOhDMGgQIIQgQQQIQMwQhCEISoEJbhgQgSoEbdmUGW4EIQgEqEx2QDsh7JYMw3YlyyY14+NwZcz8qlaEDQYsdX4MNBl6Ww4StF0ocQ7pfxvU0sl/JdL0YzZpeZyjYLIXOJUNm0W2/uFtfzERu5v/AM7Oh/ShYWoeQ36juflEUugdXC+xvlY4MEwZD6ljkHqK+foxF0Upuz64Hwq+5yf3gGP8kAkybFeJTwQFbQFyuoIoNoG+8p19aEv1Hf4CckJw+2bo/i/s/j/k/Yf2co/4dOJ3DQ2070nHucTl0Gg0NoQhsQ20NmbtNkNTdDchCGjCGh8DUhCc6caENtCDEPgPhyxhvow+Jo/AwnBqxhHd0dHV04Ix2YQ30Pj38ufjzo6E5jGIaUmDWIcp4dlL75OcQL/Ii8kxRtzcSp6+CUBR56IekGevEB0Si3BCbCUXKP3EP3O4yimUTn8z/BhHcjxKLjx7Icz/ACjxDeAMP6nP3OYQ/BcAuj//2Q==)"
      ],
      "metadata": {
        "id": "_70vWDDUNy1n"
      }
    },
    {
      "cell_type": "markdown",
      "source": [
        "# **Practical Questions**"
      ],
      "metadata": {
        "id": "uiC7T2dzGi3Q"
      }
    },
    {
      "cell_type": "markdown",
      "source": [
        "***1. Write a Python function that takes a list of numbers as input and returns the sum of all even numbers in the list***"
      ],
      "metadata": {
        "id": "QUiH5_5bGpWZ"
      }
    },
    {
      "cell_type": "code",
      "source": [
        "from functools import reduce\n",
        "def numbers(*x):\n",
        "  a=list(x)\n",
        "  b=list(filter(lambda x:x%2==0,a))\n",
        "  c=reduce(lambda x,y:x+y,b)\n",
        "  return c\n",
        "print(numbers(1,2,3,4,5,6,7,8,9,10))\n"
      ],
      "metadata": {
        "colab": {
          "base_uri": "https://localhost:8080/"
        },
        "id": "81j5IzklGzSM",
        "outputId": "39175e5e-2627-48ce-a7b1-4df9b608268c"
      },
      "execution_count": null,
      "outputs": [
        {
          "output_type": "stream",
          "name": "stdout",
          "text": [
            "30\n"
          ]
        }
      ]
    },
    {
      "cell_type": "markdown",
      "source": [
        "2.***Create a Python function that accepts a string and returns the reverse of that string.***"
      ],
      "metadata": {
        "id": "vdw1_HscMb8A"
      }
    },
    {
      "cell_type": "code",
      "source": [
        "def reverse(x):\n",
        "  # The slicing [::-1] creates a reversed copy of the string\n",
        "  return x[::-1]\n",
        "\n",
        "print(reverse(\"python\"))\n",
        "print(reverse(\"hello world\"))"
      ],
      "metadata": {
        "colab": {
          "base_uri": "https://localhost:8080/"
        },
        "id": "BPaJO3wjMeuI",
        "outputId": "2d6df75f-749f-4714-a659-120b4ecf3257"
      },
      "execution_count": null,
      "outputs": [
        {
          "output_type": "stream",
          "name": "stdout",
          "text": [
            "nohtyp\n",
            "dlrow olleh\n"
          ]
        }
      ]
    },
    {
      "cell_type": "markdown",
      "source": [
        "***3. Implement a Python function that takes a list of integers and returns a new list containing the squares of\n",
        "each number.***"
      ],
      "metadata": {
        "id": "VsG0p7OONgwZ"
      }
    },
    {
      "cell_type": "code",
      "source": [
        "def square_numbers(*x):\n",
        "  a = list(x)\n",
        "  squared_list = [] # Create an empty list to store the squares\n",
        "  for i in a:\n",
        "    b = i**2\n",
        "    squared_list.append(b) # Append the square to the list\n",
        "  return squared_list # Return the list after the loop\n",
        "\n",
        "print(square_numbers(2, 4, 6, 8, 10))"
      ],
      "metadata": {
        "colab": {
          "base_uri": "https://localhost:8080/"
        },
        "id": "w8Un-AuwNk9Y",
        "outputId": "e7226181-2484-4833-bade-f65697b42c2a"
      },
      "execution_count": null,
      "outputs": [
        {
          "output_type": "stream",
          "name": "stdout",
          "text": [
            "[4, 16, 36, 64, 100]\n"
          ]
        }
      ]
    },
    {
      "cell_type": "markdown",
      "source": [
        "4.*** Write a Python function that checks if a given number is prime or not from 1 to 200.***"
      ],
      "metadata": {
        "id": "jMLMeHeWOv2e"
      }
    },
    {
      "cell_type": "code",
      "source": [
        "def check_prime_with_count(k):\n",
        "  if k <= 1:\n",
        "    return False # Numbers less than or equal to 1 are not prime\n",
        "\n",
        "  count = 0 # Initialize count inside the function for each number\n",
        "\n",
        "  # Check for divisors from 1 up to k\n",
        "  for j in range(1, k + 1):\n",
        "    if k % j == 0:\n",
        "      count += 1\n",
        "\n",
        "  # A prime number (greater than 1) has exactly two divisors: 1 and itself.\n",
        "  if count >= 3:\n",
        "    return False\n",
        "  else:\n",
        "    return True\n",
        "print(\"Checking for prime numbers from 2 to 200 using the corrected code:\")\n",
        "for number in range(2, 201):\n",
        "  if check_prime_with_count(number):\n",
        "    print(f\"{number} is a prime number\")\n",
        "  else:\n",
        "    print(f\"{number} is not a prime number\")"
      ],
      "metadata": {
        "colab": {
          "base_uri": "https://localhost:8080/"
        },
        "id": "EYJ7uje2T1tU",
        "outputId": "e91b5933-b3d0-4176-d7f0-b6b0fca76923"
      },
      "execution_count": null,
      "outputs": [
        {
          "output_type": "stream",
          "name": "stdout",
          "text": [
            "Checking for prime numbers from 2 to 200 using the corrected code:\n",
            "2 is a prime number\n",
            "3 is a prime number\n",
            "4 is not a prime number\n",
            "5 is a prime number\n",
            "6 is not a prime number\n",
            "7 is a prime number\n",
            "8 is not a prime number\n",
            "9 is not a prime number\n",
            "10 is not a prime number\n",
            "11 is a prime number\n",
            "12 is not a prime number\n",
            "13 is a prime number\n",
            "14 is not a prime number\n",
            "15 is not a prime number\n",
            "16 is not a prime number\n",
            "17 is a prime number\n",
            "18 is not a prime number\n",
            "19 is a prime number\n",
            "20 is not a prime number\n",
            "21 is not a prime number\n",
            "22 is not a prime number\n",
            "23 is a prime number\n",
            "24 is not a prime number\n",
            "25 is not a prime number\n",
            "26 is not a prime number\n",
            "27 is not a prime number\n",
            "28 is not a prime number\n",
            "29 is a prime number\n",
            "30 is not a prime number\n",
            "31 is a prime number\n",
            "32 is not a prime number\n",
            "33 is not a prime number\n",
            "34 is not a prime number\n",
            "35 is not a prime number\n",
            "36 is not a prime number\n",
            "37 is a prime number\n",
            "38 is not a prime number\n",
            "39 is not a prime number\n",
            "40 is not a prime number\n",
            "41 is a prime number\n",
            "42 is not a prime number\n",
            "43 is a prime number\n",
            "44 is not a prime number\n",
            "45 is not a prime number\n",
            "46 is not a prime number\n",
            "47 is a prime number\n",
            "48 is not a prime number\n",
            "49 is not a prime number\n",
            "50 is not a prime number\n",
            "51 is not a prime number\n",
            "52 is not a prime number\n",
            "53 is a prime number\n",
            "54 is not a prime number\n",
            "55 is not a prime number\n",
            "56 is not a prime number\n",
            "57 is not a prime number\n",
            "58 is not a prime number\n",
            "59 is a prime number\n",
            "60 is not a prime number\n",
            "61 is a prime number\n",
            "62 is not a prime number\n",
            "63 is not a prime number\n",
            "64 is not a prime number\n",
            "65 is not a prime number\n",
            "66 is not a prime number\n",
            "67 is a prime number\n",
            "68 is not a prime number\n",
            "69 is not a prime number\n",
            "70 is not a prime number\n",
            "71 is a prime number\n",
            "72 is not a prime number\n",
            "73 is a prime number\n",
            "74 is not a prime number\n",
            "75 is not a prime number\n",
            "76 is not a prime number\n",
            "77 is not a prime number\n",
            "78 is not a prime number\n",
            "79 is a prime number\n",
            "80 is not a prime number\n",
            "81 is not a prime number\n",
            "82 is not a prime number\n",
            "83 is a prime number\n",
            "84 is not a prime number\n",
            "85 is not a prime number\n",
            "86 is not a prime number\n",
            "87 is not a prime number\n",
            "88 is not a prime number\n",
            "89 is a prime number\n",
            "90 is not a prime number\n",
            "91 is not a prime number\n",
            "92 is not a prime number\n",
            "93 is not a prime number\n",
            "94 is not a prime number\n",
            "95 is not a prime number\n",
            "96 is not a prime number\n",
            "97 is a prime number\n",
            "98 is not a prime number\n",
            "99 is not a prime number\n",
            "100 is not a prime number\n",
            "101 is a prime number\n",
            "102 is not a prime number\n",
            "103 is a prime number\n",
            "104 is not a prime number\n",
            "105 is not a prime number\n",
            "106 is not a prime number\n",
            "107 is a prime number\n",
            "108 is not a prime number\n",
            "109 is a prime number\n",
            "110 is not a prime number\n",
            "111 is not a prime number\n",
            "112 is not a prime number\n",
            "113 is a prime number\n",
            "114 is not a prime number\n",
            "115 is not a prime number\n",
            "116 is not a prime number\n",
            "117 is not a prime number\n",
            "118 is not a prime number\n",
            "119 is not a prime number\n",
            "120 is not a prime number\n",
            "121 is not a prime number\n",
            "122 is not a prime number\n",
            "123 is not a prime number\n",
            "124 is not a prime number\n",
            "125 is not a prime number\n",
            "126 is not a prime number\n",
            "127 is a prime number\n",
            "128 is not a prime number\n",
            "129 is not a prime number\n",
            "130 is not a prime number\n",
            "131 is a prime number\n",
            "132 is not a prime number\n",
            "133 is not a prime number\n",
            "134 is not a prime number\n",
            "135 is not a prime number\n",
            "136 is not a prime number\n",
            "137 is a prime number\n",
            "138 is not a prime number\n",
            "139 is a prime number\n",
            "140 is not a prime number\n",
            "141 is not a prime number\n",
            "142 is not a prime number\n",
            "143 is not a prime number\n",
            "144 is not a prime number\n",
            "145 is not a prime number\n",
            "146 is not a prime number\n",
            "147 is not a prime number\n",
            "148 is not a prime number\n",
            "149 is a prime number\n",
            "150 is not a prime number\n",
            "151 is a prime number\n",
            "152 is not a prime number\n",
            "153 is not a prime number\n",
            "154 is not a prime number\n",
            "155 is not a prime number\n",
            "156 is not a prime number\n",
            "157 is a prime number\n",
            "158 is not a prime number\n",
            "159 is not a prime number\n",
            "160 is not a prime number\n",
            "161 is not a prime number\n",
            "162 is not a prime number\n",
            "163 is a prime number\n",
            "164 is not a prime number\n",
            "165 is not a prime number\n",
            "166 is not a prime number\n",
            "167 is a prime number\n",
            "168 is not a prime number\n",
            "169 is not a prime number\n",
            "170 is not a prime number\n",
            "171 is not a prime number\n",
            "172 is not a prime number\n",
            "173 is a prime number\n",
            "174 is not a prime number\n",
            "175 is not a prime number\n",
            "176 is not a prime number\n",
            "177 is not a prime number\n",
            "178 is not a prime number\n",
            "179 is a prime number\n",
            "180 is not a prime number\n",
            "181 is a prime number\n",
            "182 is not a prime number\n",
            "183 is not a prime number\n",
            "184 is not a prime number\n",
            "185 is not a prime number\n",
            "186 is not a prime number\n",
            "187 is not a prime number\n",
            "188 is not a prime number\n",
            "189 is not a prime number\n",
            "190 is not a prime number\n",
            "191 is a prime number\n",
            "192 is not a prime number\n",
            "193 is a prime number\n",
            "194 is not a prime number\n",
            "195 is not a prime number\n",
            "196 is not a prime number\n",
            "197 is a prime number\n",
            "198 is not a prime number\n",
            "199 is a prime number\n",
            "200 is not a prime number\n"
          ]
        }
      ]
    },
    {
      "cell_type": "markdown",
      "source": [
        "5.*** Create an iterator class in Python that generates the Fibonacci sequence up to a specified number of terms.***\n"
      ],
      "metadata": {
        "id": "Ng5JDShYgkXr"
      }
    },
    {
      "cell_type": "code",
      "metadata": {
        "colab": {
          "base_uri": "https://localhost:8080/"
        },
        "id": "4109a6cf",
        "outputId": "15e2cac9-5440-4bc8-9622-8e6d0540ef1d"
      },
      "source": [
        "def fibonacci_generator(num_terms):\n",
        "    a, b = 0, 1\n",
        "    for _ in range(num_terms):\n",
        "        yield a\n",
        "        a, b = b, a + b\n",
        "\n",
        "fib_iter = iter(fibonacci_generator(10))\n",
        "print(next(fib_iter))\n",
        "print(next(fib_iter))\n",
        "print(next(fib_iter))\n",
        "print(next(fib_iter))\n",
        "print(next(fib_iter))\n",
        "print(next(fib_iter))\n",
        "print(next(fib_iter))\n",
        "print(next(fib_iter))\n",
        "print(next(fib_iter))\n",
        "print(next(fib_iter))\n"
      ],
      "execution_count": 4,
      "outputs": [
        {
          "output_type": "stream",
          "name": "stdout",
          "text": [
            "0\n",
            "1\n",
            "1\n",
            "2\n",
            "3\n",
            "5\n",
            "8\n",
            "13\n",
            "21\n",
            "34\n"
          ]
        }
      ]
    },
    {
      "cell_type": "markdown",
      "source": [
        "***6. Write a generator function in Python that yields the powers of 2 up to a given exponent.***"
      ],
      "metadata": {
        "id": "wBZvFZUL5gI7"
      }
    },
    {
      "cell_type": "code",
      "source": [
        "def  square(n) :\n",
        "  while n>0:\n",
        "    yield n**2\n",
        "    n-=1\n",
        "gen = square(12)\n",
        "for i in gen :\n",
        "  print(i)"
      ],
      "metadata": {
        "colab": {
          "base_uri": "https://localhost:8080/"
        },
        "id": "TtbdKE-H5z3Q",
        "outputId": "b0cfe6ce-5b83-4fa6-ab3e-0eb2a8038514"
      },
      "execution_count": 5,
      "outputs": [
        {
          "output_type": "stream",
          "name": "stdout",
          "text": [
            "144\n",
            "121\n",
            "100\n",
            "81\n",
            "64\n",
            "49\n",
            "36\n",
            "25\n",
            "16\n",
            "9\n",
            "4\n",
            "1\n"
          ]
        }
      ]
    },
    {
      "cell_type": "markdown",
      "source": [
        "***7.* Implement a generator function that yields files line by line and yields each line as a string***"
      ],
      "metadata": {
        "id": "a-F9wx2E6GzR"
      }
    },
    {
      "cell_type": "code",
      "source": [
        "def file_line_generator(filepath):\n",
        "  \"\"\"Generator that yields each line of a file.\"\"\"\n",
        "  with open(filepath) as f:\n",
        "    for line in f:\n",
        "      yield line(str())"
      ],
      "metadata": {
        "id": "PRl-Lrtb6VKd"
      },
      "execution_count": 6,
      "outputs": []
    },
    {
      "cell_type": "markdown",
      "source": [
        "***8.Use a lambda function in python to sort a list of tuples based on the second element of each tuple.***"
      ],
      "metadata": {
        "id": "DLNb9b9_6W3b"
      }
    },
    {
      "cell_type": "code",
      "source": [
        "# A list of tuples\n",
        "list_of_tuples = [('apple',4 ), ('banana',3), ('cherry',2), ('date',1)]\n",
        "sorted_list = sorted(list_of_tuples, key=lambda item: item[1])\n",
        "\n",
        "print(\"Original list of tuples:\")\n",
        "print(list_of_tuples)\n",
        "\n",
        "print(\"\\nSorted list of tuples based on the second element:\")\n",
        "print(sorted_list)"
      ],
      "metadata": {
        "colab": {
          "base_uri": "https://localhost:8080/"
        },
        "id": "4sRYwEoy6Xbw",
        "outputId": "19262286-6371-41dd-d9ce-0a15e411ba86"
      },
      "execution_count": 7,
      "outputs": [
        {
          "output_type": "stream",
          "name": "stdout",
          "text": [
            "Original list of tuples:\n",
            "[('apple', 4), ('banana', 3), ('cherry', 2), ('date', 1)]\n",
            "\n",
            "Sorted list of tuples based on the second element:\n",
            "[('date', 1), ('cherry', 2), ('banana', 3), ('apple', 4)]\n"
          ]
        }
      ]
    },
    {
      "cell_type": "markdown",
      "source": [
        "***9.Write a code using map function that creates a list of temperatures from celsius to fahrenheit.***"
      ],
      "metadata": {
        "id": "pFOE-7t06X81"
      }
    },
    {
      "cell_type": "code",
      "source": [
        "conversion=map(lambda x: (x*(9/5)+32),[0,45,90,72,180])\n",
        "print(list(conversion))"
      ],
      "metadata": {
        "colab": {
          "base_uri": "https://localhost:8080/"
        },
        "id": "oboIiV-W6YYx",
        "outputId": "3dcee63e-0126-4332-c57a-0f70113b1683"
      },
      "execution_count": 8,
      "outputs": [
        {
          "output_type": "stream",
          "name": "stdout",
          "text": [
            "[32.0, 113.0, 194.0, 161.6, 356.0]\n"
          ]
        }
      ]
    },
    {
      "cell_type": "markdown",
      "source": [
        "10.***create a python program that uses filter to remove all the vowels from a given string***"
      ],
      "metadata": {
        "id": "yy_TyvtB7QvP"
      }
    },
    {
      "cell_type": "code",
      "source": [
        "# Input string\n",
        "my_string = \"Python is awesome\"\n",
        "\n",
        "# Define vowels (both lowercase and uppercase)\n",
        "vowels = \"aeiouAEIOU\"\n",
        "\n",
        "# Use filter with a lambda function\n",
        "# The lambda checks if a character is NOT in the vowels string.\n",
        "filtered_characters = filter(lambda char: char not in vowels, my_string)\n",
        "\n",
        "# Convert the filter object to a list of characters and then join them into a string\n",
        "string_without_vowels = \"\".join(list(filtered_characters))\n",
        "\n",
        "print(f\"Original string: {my_string}\")\n",
        "print(f\"String without vowels: {string_without_vowels}\")"
      ],
      "metadata": {
        "colab": {
          "base_uri": "https://localhost:8080/"
        },
        "id": "qIshHsJQ7bYI",
        "outputId": "e5ae6416-0879-4909-b2b9-d9d0a20f4e2c"
      },
      "execution_count": 9,
      "outputs": [
        {
          "output_type": "stream",
          "name": "stdout",
          "text": [
            "Original string: Python is awesome\n",
            "String without vowels: Pythn s wsm\n"
          ]
        }
      ]
    },
    {
      "cell_type": "markdown",
      "source": [
        "11. ***11) Imagine an accounting routine used in a book shop. It works on a list with sublists, which look like this:\n",
        " Write a Python program, which returns a list with 2-tuples. Each tuple consists of the order number and the\n",
        "product of the price per item and the quantity. The product should be increased by 10,- € if the value of the\n",
        "order is smaller than 100,00 €.\n",
        " Write a Python program using lambda and map***"
      ],
      "metadata": {
        "id": "FoLFo-SKJgap"
      }
    },
    {
      "cell_type": "code",
      "metadata": {
        "colab": {
          "base_uri": "https://localhost:8080/"
        },
        "id": "3f10012c",
        "outputId": "7f60bdf4-442a-414d-f23b-48f81db8b483"
      },
      "source": [
        "orders = [\n",
        "    [1, (\"5464\", 4, 9.95), (\"8742\", 17, 19.95), (\"5464\", 9, 9.95)],\n",
        "    [2, (\"5464\", 9, 9.95), (\"8742\", 400, 19.95)],\n",
        "    [3, (\"5464\", 200, 9.95), (\"8742\", 1, 19.95)]\n",
        "]\n",
        "\n",
        "# Function to calculate the total value of an order\n",
        "def calculate_order_value(order):\n",
        "    order_number = order[0]\n",
        "    items = order[1:]\n",
        "    total_value = sum(item[1] * item[2] for item in items)\n",
        "    return order_number, total_value\n",
        "\n",
        "# Use map to calculate the initial order values\n",
        "order_values = list(map(calculate_order_value, orders))\n",
        "\n",
        "# Use map and lambda to apply the bonus if the value is less than 100\n",
        "final_order_values = list(map(lambda item: (item[0], item[1] + 10) if item[1] < 10000 else item, order_values))\n",
        "\n",
        "print(final_order_values)"
      ],
      "execution_count": 38,
      "outputs": [
        {
          "output_type": "stream",
          "name": "stdout",
          "text": [
            "[(1, 478.5), (2, 8079.55), (3, 2019.9499999999998)]\n"
          ]
        }
      ]
    }
  ]
}