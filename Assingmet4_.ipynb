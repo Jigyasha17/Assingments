{
  "nbformat": 4,
  "nbformat_minor": 0,
  "metadata": {
    "colab": {
      "provenance": [],
      "authorship_tag": "ABX9TyN+y+JFhASn+Lt3D4Tjp2cA",
      "include_colab_link": true
    },
    "kernelspec": {
      "name": "python3",
      "display_name": "Python 3"
    },
    "language_info": {
      "name": "python"
    }
  },
  "cells": [
    {
      "cell_type": "markdown",
      "metadata": {
        "id": "view-in-github",
        "colab_type": "text"
      },
      "source": [
        "<a href=\"https://colab.research.google.com/github/Jigyasha17/Assingments/blob/main/Assingmet4_.ipynb\" target=\"_parent\"><img src=\"https://colab.research.google.com/assets/colab-badge.svg\" alt=\"Open In Colab\"/></a>"
      ]
    },
    {
      "cell_type": "markdown",
      "source": [
        " # **ASSINGMENT 4**\n",
        " # **THEORETICAL QUESTIONS**"
      ],
      "metadata": {
        "id": "mu8EX6bJZS5V"
      }
    },
    {
      "cell_type": "markdown",
      "source": [
        "**1.What is Object-Oriented Programming (OOP)**\n",
        "ans: OOPs stands for object oriented programming language,it consists of a class and its instances/objects\n",
        "1. class acts as a blue print or template for an object: it defines the characterstics and properties an object should have\n",
        "2. objects acts as an output of that blue print : it is a real world entity\n"
      ],
      "metadata": {
        "id": "Xj-hfV1JZl8s"
      }
    },
    {
      "cell_type": "code",
      "source": [
        "#e.g\n",
        "class Car(): # a defined blueprint of a car\n",
        "  def __init__(self,name,model,color):\n",
        "    self.name=name\n",
        "    self.model=model\n",
        "    self.color=color\n",
        "  def description(self):\n",
        "    print(f\"The name of the car is {self.name}\\nThe model of the car is {self.model}\\nThe color of the car is {self.color}\")"
      ],
      "metadata": {
        "id": "de-tkry7drkv"
      },
      "execution_count": null,
      "outputs": []
    },
    {
      "cell_type": "code",
      "source": [
        "car1=Car(\"Toyota\",\"Corolla\",\"black\") # output of a blueprint Car/object\n",
        "car1.description()"
      ],
      "metadata": {
        "colab": {
          "base_uri": "https://localhost:8080/"
        },
        "id": "uScxwQ9Xd5qq",
        "outputId": "ab75bef2-8c1b-486c-ffef-ae006086d3da"
      },
      "execution_count": null,
      "outputs": [
        {
          "output_type": "stream",
          "name": "stdout",
          "text": [
            "The name of the car is Toyota\n",
            "The model of the car is Corolla\n",
            "The color of the car is black\n"
          ]
        }
      ]
    },
    {
      "cell_type": "markdown",
      "source": [
        "**2. What is a class in OOP**\n",
        "\n",
        " ans: a clss is a blueprint of an object in opps. It states the characterstics or elements an object should possess.Foe e.g in the given exampe  a class \"Car()\" contains all the properties of a car i.e its name colour model etc ."
      ],
      "metadata": {
        "id": "UgyY89mLeTI8"
      }
    },
    {
      "cell_type": "code",
      "source": [
        "class Car(): # a defined blueprint of a car\n",
        "  def __init__(self,name,model,color):\n",
        "    self.name=name\n",
        "    self.model=model\n",
        "    self.color=color\n",
        "  def description(self):\n",
        "    print(f\"The name of the car is {self.name}\\nThe model of the car is {self.model}\\nThe color of the car is {self.color}\")"
      ],
      "metadata": {
        "id": "Pe5iJ-fge6Bz"
      },
      "execution_count": null,
      "outputs": []
    },
    {
      "cell_type": "markdown",
      "source": [
        "**3.  What is an object in OOP**\n",
        "\n",
        "ans: An object in a clas can be defined  as an instance of a class. It is a real world entity created from the blue print .  For e.g in the given example for a class Car() , \"car1\" acts as an object which consists of all the properties associated with the class."
      ],
      "metadata": {
        "id": "oWCsRjfYfBQC"
      }
    },
    {
      "cell_type": "code",
      "source": [
        "car1=Car(\"Toyota\",\"Corolla\",\"black\") # output of a blueprint Car/object\n",
        "car1.description()"
      ],
      "metadata": {
        "colab": {
          "base_uri": "https://localhost:8080/"
        },
        "id": "tAzR00gvfZnK",
        "outputId": "65ba153b-5499-4bff-a726-879c81172030"
      },
      "execution_count": null,
      "outputs": [
        {
          "output_type": "stream",
          "name": "stdout",
          "text": [
            "The name of the car is Toyota\n",
            "The model of the car is Corolla\n",
            "The color of the car is black\n"
          ]
        }
      ]
    },
    {
      "cell_type": "markdown",
      "source": [
        "**4. What is the difference between abstraction and encapsulation**\n",
        "\n",
        "Ans:  Absctraction helps in hiding the complexity behind an object and focusses on showing only the valued or needed output . For e.g  while viewing a website\n",
        "we donot have any knowledge about the the backend and frontend part . Abstract class cannot be instantiated.\n",
        "\n"
      ],
      "metadata": {
        "id": "xx4k68lrfziI"
      }
    },
    {
      "cell_type": "code",
      "metadata": {
        "colab": {
          "base_uri": "https://localhost:8080/"
        },
        "id": "b3894b87",
        "outputId": "c591d46f-05b2-464b-caff-1af7d4ae24ee"
      },
      "source": [
        "import abc\n",
        "\n",
        "class Greeting(abc.ABC): # Inherit from ABC to make it an abstract base class\n",
        "   @abc.abstractmethod\n",
        "   def __init__(self, name):\n",
        "        self.name = name\n",
        "\n",
        "   def say_hello(self):\n",
        "        print(f\"Hello, {self.name}!\")\n",
        "\n",
        "# Create a concrete subclass that implements the abstract __init__ method\n",
        "class SpecificGreeting(Greeting):\n",
        "    def __init__(self, name):\n",
        "        super().__init__(name) # Call the parent class's __init__\n",
        "\n",
        "# Now you can instantiate the concrete subclass\n",
        "greet = SpecificGreeting(\"Alice\")\n",
        "\n",
        "# And use the inherited method\n",
        "greet.say_hello()"
      ],
      "execution_count": null,
      "outputs": [
        {
          "output_type": "stream",
          "name": "stdout",
          "text": [
            "Hello, Alice!\n"
          ]
        }
      ]
    },
    {
      "cell_type": "markdown",
      "source": [
        "2.Encapsulation : This is about bundling data and the methods that work on that data together within an object. It's like putting things in a container to keep them organized and safe. The Person class we just looked at is a good example, where the name and age are bundled with the introduce method."
      ],
      "metadata": {
        "id": "5HEU3HY6oQ4H"
      }
    },
    {
      "cell_type": "code",
      "metadata": {
        "colab": {
          "base_uri": "https://localhost:8080/"
        },
        "id": "78654c7b",
        "outputId": "c1f5d491-959f-4245-d528-48f302ab241b"
      },
      "source": [
        "class Person:\n",
        "    def __init__(self, name, age):\n",
        "        # Encapsulation: Bundling name and age data within the Person object.\n",
        "        # Using underscores (_name, _age) is a common way to indicate these are\n",
        "        # intended to be internal to the object.\n",
        "        self._name = name\n",
        "        self._age = age\n",
        "\n",
        "    # Method to display information - it uses the data bundled within the object\n",
        "    def introduce(self):\n",
        "        print(f\"Hello, my name is {self._name} and I am {self._age} years old.\")\n",
        "\n",
        "# Create a Person object (Encapsulation in action)\n",
        "my_person = Person(\"Alice\", 30)\n",
        "\n",
        "# Use the method to access and display the bundled data\n",
        "my_person.introduce()\n",
        "\n",
        "# While you can technically access _name and _age directly in Python,\n",
        "# encapsulation suggests you should interact through methods like introduce()\n",
        "print(my_person._name)\n",
        "print(my_person._age)"
      ],
      "execution_count": null,
      "outputs": [
        {
          "output_type": "stream",
          "name": "stdout",
          "text": [
            "Hello, my name is Alice and I am 30 years old.\n",
            "Alice\n",
            "30\n"
          ]
        }
      ]
    },
    {
      "cell_type": "markdown",
      "source": [
        "\n",
        "**5. What are dunder methods in Python**\n",
        "\n",
        "* AnS: Methods which have double underscores before and after their names like __init_ or __str__.\n",
        "\n",
        "* Dunder/magic/special methods are the methods defined by built-in classess in Python\n",
        "\n",
        "* classes define these type of methods for creating custom objects >> for init\n",
        "\n",
        "\n",
        "\n"
      ],
      "metadata": {
        "id": "kDx11zK34ED8"
      }
    },
    {
      "cell_type": "code",
      "metadata": {
        "id": "6533ec70"
      },
      "source": [
        "class Book:\n",
        "    def __init__(self, title, author):\n",
        "        # __init__ is the constructor, called when a Book object is created.\n",
        "        self.title = title\n",
        "        self.author = author\n",
        "\n",
        "    def __str__(self):\n",
        "        # __str__ defines how the object is represented as a string.\n",
        "        return f\"'{self.title}' by {self.author}\"\n",
        "\n",
        "# Create a Book object\n",
        "my_book = Book(\"The Hitchhiker's Guide to the Galaxy\", \"Douglas Adams\")\n",
        "\n",
        "# When you print the object, __str__ is automatically called.\n",
        "print(my_book)"
      ],
      "execution_count": null,
      "outputs": []
    },
    {
      "cell_type": "markdown",
      "source": [
        "**6.Explain the concept of inheritance in OOP**\n",
        "\n",
        "Inheritance cn be explained s the objects created for the parent class can be accessd by the child classes . when child class can access the attributes of a parent class it is known as inheritance it is similar to  a child inheriting the properties of its father and grandfather."
      ],
      "metadata": {
        "id": "wGu4-AeI5k7C"
      }
    },
    {
      "cell_type": "code",
      "source": [
        "class father:\n",
        "  def __init__( self,house,money,land):\n",
        "    self.house=house\n",
        "    self.money=money\n",
        "    self.land=land\n",
        "  def _get_house(self):\n",
        "    return self.house\n",
        "  def _get_money(self):\n",
        "    return self.money\n",
        "  def _get_land(self):\n",
        "    return self.land\n",
        "class son(father):\n",
        "  def __init__(self,house,money,land,car):\n",
        "    super().__init__(house,money,land)\n",
        "    self.car=car\n"
      ],
      "metadata": {
        "id": "0MTesZKa6lx6"
      },
      "execution_count": null,
      "outputs": []
    },
    {
      "cell_type": "code",
      "source": [
        "c1=son(5,20000000,3,2)\n",
        "c1._get_house()"
      ],
      "metadata": {
        "colab": {
          "base_uri": "https://localhost:8080/"
        },
        "id": "R6MNzvbJ8YJ2",
        "outputId": "698605ab-7129-4fb8-a4ea-e223e03be3ab"
      },
      "execution_count": null,
      "outputs": [
        {
          "output_type": "execute_result",
          "data": {
            "text/plain": [
              "5"
            ]
          },
          "metadata": {},
          "execution_count": 14
        }
      ]
    },
    {
      "cell_type": "markdown",
      "source": [
        "**7.What is polymorphism in OOP?**\n",
        "\n",
        "Ans: Refers to an object taking several forms depending on the methods/data i.e when a objects acts differently for two different classes then it can be defined as polymorphism.\n",
        "\n",
        "Polymorphism in python can be explained by two forms:\n",
        "1. Method overloading\n",
        "2. Method overriding\n"
      ],
      "metadata": {
        "id": "VnwZ-hU49KEb"
      }
    },
    {
      "cell_type": "code",
      "source": [
        "class Animal:\n",
        "    def make_sound(self):\n",
        "        print(\"Generic animal sound\")\n",
        "\n",
        "class Dog(Animal):\n",
        "    def make_sound(self):\n",
        "        print(\"Woof!\")\n",
        "\n",
        "class Cat(Animal):\n",
        "    def make_sound(self):\n",
        "        print(\"Meow!\")"
      ],
      "metadata": {
        "id": "hDWDva8i-zPK"
      },
      "execution_count": null,
      "outputs": []
    },
    {
      "cell_type": "code",
      "source": [
        "a1=Animal()\n",
        "a1.make_sound()"
      ],
      "metadata": {
        "colab": {
          "base_uri": "https://localhost:8080/"
        },
        "id": "1F8l_Qis_DIx",
        "outputId": "646facb8-c102-4677-bb0b-dac051f6febf"
      },
      "execution_count": null,
      "outputs": [
        {
          "output_type": "stream",
          "name": "stdout",
          "text": [
            "Generic animal sound\n"
          ]
        }
      ]
    },
    {
      "cell_type": "markdown",
      "source": [
        "**8. How is encapsulation achieved in Python**\n",
        "\n"
      ],
      "metadata": {
        "id": "pnTo13S6_dxT"
      }
    },
    {
      "cell_type": "code",
      "source": [
        "class Student :\n",
        "  def __init__(self,name,age,grade):\n",
        "    self.__name=name\n",
        "    self.__age=age\n",
        "    self.__grade=grade\n"
      ],
      "metadata": {
        "id": "SNRHGgPwDVAO"
      },
      "execution_count": null,
      "outputs": []
    },
    {
      "cell_type": "markdown",
      "source": [
        "**9.What is a constructor in Python**\n",
        "\n",
        "A constructor in Python is a special method that is automatically called when you create a new object of a class. Its main purpose is to initialize the object's attributes (its characteristics or data).\n",
        "\n",
        "In Python, the constructor method is always named __init__. The self parameter in the __init__ method refers to the instance of the object being created."
      ],
      "metadata": {
        "id": "CsX-uGfLGUvu"
      }
    },
    {
      "cell_type": "code",
      "metadata": {
        "id": "33f1a8bc",
        "colab": {
          "base_uri": "https://localhost:8080/"
        },
        "outputId": "61d06c7f-34d3-4549-946b-9db37a729c41"
      },
      "source": [
        "class Dog:\n",
        "    # This is the constructor method (__init__)\n",
        "    def __init__(self, name, breed):\n",
        "        # Inside the constructor, we initialize the object's attributes\n",
        "        self.name = name\n",
        "        self.breed = breed\n",
        "        print(f\"A new dog object has been created named {self.name}!\")\n",
        "\n",
        "    def bark(self):\n",
        "        print(f\"{self.name} says Woof!\")\n",
        "\n",
        "# When we create a new Dog object, the __init__ constructor is called automatically\n",
        "my_dog = Dog(\"Buddy\", \"Golden Retriever\")\n",
        "\n",
        "# We can then access the attributes that were initialized by the constructor\n",
        "print(f\"My dog's breed is: {my_dog.breed}\")\n",
        "\n",
        "# We can also use other methods of the object\n",
        "my_dog.bark()"
      ],
      "execution_count": null,
      "outputs": [
        {
          "output_type": "stream",
          "name": "stdout",
          "text": [
            "A new dog object has been created named Buddy!\n",
            "My dog's breed is: Golden Retriever\n",
            "Buddy says Woof!\n"
          ]
        }
      ]
    },
    {
      "cell_type": "markdown",
      "source": [
        "**10.What are class and static methods in Python**\n",
        "2. Class Methods:\n",
        "\n",
        "* These methods are bound to the class, not the instance.\n",
        "* They take cls (conventionally named cls) as the first parameter, which refers to the class itself.\n",
        "* They are defined using the @classmethod decorator.\n",
        "* They are often used as alternative constructors or to access and modify class-level attributes.\n",
        "\n",
        "**3. Static Methods:**\n",
        "\n",
        "* These methods are not bound to either the instance or the class.\n",
        "* They do not take self or cls as the first parameter.\n",
        "* They are defined using the @staticmethod decorator.\n",
        "* They are essentially regular functions that are placed within a class because they are logically related to the class, but they don't need access to instance or class-specific data.\n"
      ],
      "metadata": {
        "id": "y_4XW2sRHKXk"
      }
    },
    {
      "cell_type": "code",
      "source": [
        "class children:\n",
        "\n",
        "  total_children = 0\n",
        "  def __init__(self, name):\n",
        "    self.name = name\n",
        "    children.total_children += 1\n",
        "\n",
        "  @classmethod\n",
        "  def get_total_children(cls):\n",
        "\n",
        "    return cls.total_children\n",
        "\n",
        "# Creating student objects\n",
        "student1 = children(\"Alice\")\n",
        "student2 = children (\"Bob\")\n",
        "# Accessing the class method\n",
        "print(\"Total children:\", children.get_total_children())"
      ],
      "metadata": {
        "colab": {
          "base_uri": "https://localhost:8080/"
        },
        "id": "ddvxwpjHJD4x",
        "outputId": "cd643f2e-0bd5-46cb-d1a6-64c0ebf5b858"
      },
      "execution_count": null,
      "outputs": [
        {
          "output_type": "stream",
          "name": "stdout",
          "text": [
            "Total children: 2\n"
          ]
        }
      ]
    },
    {
      "cell_type": "code",
      "source": [
        "class calculator:\n",
        "  @staticmethod\n",
        "  def add(a,b):\n",
        "    return a+b\n",
        "  @staticmethod\n",
        "  def sub(a,b):\n",
        "    return a-b"
      ],
      "metadata": {
        "id": "zvbwmZkUOHYz"
      },
      "execution_count": null,
      "outputs": []
    },
    {
      "cell_type": "code",
      "source": [
        "calculator.sub(7,4)"
      ],
      "metadata": {
        "colab": {
          "base_uri": "https://localhost:8080/"
        },
        "id": "Fd569WuiObLb",
        "outputId": "67a81bba-097b-4c1b-a199-1364f39e13db"
      },
      "execution_count": null,
      "outputs": [
        {
          "output_type": "execute_result",
          "data": {
            "text/plain": [
              "3"
            ]
          },
          "metadata": {},
          "execution_count": 55
        }
      ]
    },
    {
      "cell_type": "markdown",
      "source": [
        "**11. What is method overloading in Python**"
      ],
      "metadata": {
        "id": "1oFk_3gkOq4r"
      }
    },
    {
      "cell_type": "markdown",
      "source": [
        "Method overloading is a type of polymorphism  in which the same function when created for two different classes acts diffrently for each class:\n"
      ],
      "metadata": {
        "id": "l_AnNhxoVvIP"
      }
    },
    {
      "cell_type": "code",
      "source": [
        "class Animal:\n",
        "    def make_sound(self):\n",
        "        print(\"Generic animal sound\")\n",
        "\n",
        "class Dog(Animal):\n",
        "    def make_sound(self):\n",
        "        print(\"Woof!\")\n",
        "\n",
        "class Cat(Animal):\n",
        "    def make_sound(self):\n",
        "        print(\"Meow!\")\n"
      ],
      "metadata": {
        "id": "e9wbKDptV_4R"
      },
      "execution_count": null,
      "outputs": []
    },
    {
      "cell_type": "code",
      "source": [
        "a1=Animal()\n",
        "a1.make_sound()"
      ],
      "metadata": {
        "colab": {
          "base_uri": "https://localhost:8080/"
        },
        "id": "gccavSpXWiwu",
        "outputId": "f3c70074-fbe7-418d-cf83-642a8996df39"
      },
      "execution_count": null,
      "outputs": [
        {
          "output_type": "stream",
          "name": "stdout",
          "text": [
            "Generic animal sound\n"
          ]
        }
      ]
    },
    {
      "cell_type": "markdown",
      "source": [
        "**12. What is method overriding in OOP**\n",
        "\n",
        "Method overriding is a concept in object-oriented programming where a subclass provides a specific implementation for a method that is already defined in its superclass (parent class)."
      ],
      "metadata": {
        "id": "kKxj0yGdWlae"
      }
    },
    {
      "cell_type": "code",
      "source": [
        "class Animal:\n",
        " def __init__(self, name, type, color):\n",
        "  self.name = name\n",
        "  self.type = type\n",
        "  self.color = color\n",
        "\n",
        " def animaltype(self):\n",
        "  print(f\"The animal is {self.type}\")\n",
        "\n",
        " def animalcolor(self):\n",
        "  print(f\"The color of the animal is {self.color}\")\n",
        "\n",
        " def animal_details(self):\n",
        "  # Now it correctly accesses instance attributes using self\n",
        "  print(f\"The name of the animal is {self.name} , its type is {self.type}, its color is {self.color}\")"
      ],
      "metadata": {
        "id": "yc-xvlQ_en7L"
      },
      "execution_count": null,
      "outputs": []
    },
    {
      "cell_type": "code",
      "source": [
        "ac=Animal(\"cat\",\"mammal\",\"brown\")\n",
        "# Now call the instance method on the object 'ac'\n",
        "ac.animal_details()"
      ],
      "metadata": {
        "colab": {
          "base_uri": "https://localhost:8080/"
        },
        "id": "f0pxZHJOgqs2",
        "outputId": "fa8e5f86-a969-4cfa-ddbe-724d9a8193f1"
      },
      "execution_count": null,
      "outputs": [
        {
          "output_type": "stream",
          "name": "stdout",
          "text": [
            "The name of the animal is cat , its type is mammal, its color is brown\n"
          ]
        }
      ]
    },
    {
      "cell_type": "markdown",
      "source": [
        "**13.What is a property decorator in Python**\n",
        "\n",
        "ans:The @property decorator lets you treat methods that get or set an attribute as if they were just the attribute itself, making your code cleaner and giving you control over how that data is accessed and modified."
      ],
      "metadata": {
        "id": "QZX1v4GthbF1"
      }
    },
    {
      "cell_type": "code",
      "source": [
        "#without property decorator\n",
        "class area :\n",
        "    def __init__(self,radius):\n",
        "      self.radius=radius\n",
        "    def area(self):\n",
        "        return 3.14*self.radius**2\n",
        "    def get_radius(self):\n",
        "        return self.radius\n",
        "    def set_radius(self,new_radius):\n",
        "        self.radius=new_radius\n",
        "c1=area(5)\n",
        "c1.get_radius()\n",
        "c1.set_radius(10)\n",
        "c1.get_radius()\n",
        "\n",
        "\n"
      ],
      "metadata": {
        "colab": {
          "base_uri": "https://localhost:8080/"
        },
        "id": "KtJAIHBOH_da",
        "outputId": "c24574e6-3daf-45a6-ee34-86a81b9f09a1"
      },
      "execution_count": null,
      "outputs": [
        {
          "output_type": "execute_result",
          "data": {
            "text/plain": [
              "10"
            ]
          },
          "metadata": {},
          "execution_count": 21
        }
      ]
    },
    {
      "cell_type": "code",
      "source": [
        "# with property decorator\n",
        "class rectangle:\n",
        "  def __init__(self,length,width):\n",
        "    self._length = length # Use underscore convention for internal attributes\n",
        "    self._width = width   # Use underscore convention for internal attributes\n",
        "\n",
        "  @property\n",
        "  def length(self):\n",
        "      \"\"\"Get the length.\"\"\"\n",
        "      return self._length\n",
        "\n",
        "  @length.setter\n",
        "  def length(self, new_length):\n",
        "      \"\"\"Set the length.\"\"\"\n",
        "      if new_length < 0:\n",
        "          raise ValueError(\"Length cannot be negative\")\n",
        "      self._length = new_length\n",
        "\n",
        "  @property\n",
        "  def width(self):\n",
        "      \"\"\"Get the width.\"\"\"\n",
        "      return self._width\n",
        "\n",
        "  @width.setter\n",
        "  def width(self, new_width):\n",
        "      \"\"\"Set the width.\"\"\"\n",
        "      if new_width < 0:\n",
        "          raise ValueError(\"Width cannot be negative\")\n",
        "      self._width = new_width\n",
        "\n",
        "\n",
        "  @property\n",
        "  def area(self):\n",
        "    \"\"\"Calculate the area.\"\"\"\n",
        "    return self._length * self._width\n",
        "\n",
        "  @property\n",
        "  def perimeter(self):\n",
        "    \"\"\"Calculate the perimeter.\"\"\"\n",
        "    return 2 * (self._length + self._width)\n",
        "\n",
        "# Create an instance of the rectangle class\n",
        "r1 = rectangle(4, 5)\n",
        "\n",
        "# Access the area and perimeter using the properties (like attributes)\n",
        "print(f\"Initial Area: {r1.area}\")\n",
        "print(f\"Initial Perimeter: {r1.perimeter}\")\n",
        "\n",
        "# Modify the length and width using the setters\n",
        "r1.length = 7\n",
        "r1.width = 10\n",
        "\n",
        "# Access the updated area and perimeter\n",
        "print(f\"Updated Area: {r1.area}\")\n",
        "print(f\"Updated Perimeter: {r1.perimeter}\")\n"
      ],
      "metadata": {
        "colab": {
          "base_uri": "https://localhost:8080/"
        },
        "id": "UBCojIW3IqFP",
        "outputId": "fe9f3dfc-dfb5-4529-9cec-a4ec7d40c781"
      },
      "execution_count": null,
      "outputs": [
        {
          "output_type": "stream",
          "name": "stdout",
          "text": [
            "Initial Area: 20\n",
            "Initial Perimeter: 18\n",
            "Updated Area: 70\n",
            "Updated Perimeter: 34\n"
          ]
        }
      ]
    },
    {
      "cell_type": "markdown",
      "source": [
        "**14. Why is polymorphism important in OOP**\n",
        "\n",
        "ANS:Polymorphism allows you to write more generic, flexible, reusable, and maintainable code by enabling objects of different classes to respond to the same method call in their own specific way."
      ],
      "metadata": {
        "id": "G4zc8R5cKuGS"
      }
    },
    {
      "cell_type": "markdown",
      "source": [
        "**15 What is an abstract class in Python**\n",
        "\n",
        "Ans abstract class in Python is a blueprint for other classes. It's a class that cannot be instantiated directly, meaning you can't create an object from it. Its main purpose is to define a common interface or structure that its subclasses must follow.\n",
        "\n",
        "To define an abstract class in Python, you typically use the abc module (Abstract Base Classes). You inherit from abc.ABC."
      ],
      "metadata": {
        "id": "fv70B9OpLK5f"
      }
    },
    {
      "cell_type": "markdown",
      "source": [
        "**16.What are the advantages of OOP**\n",
        "Object-Oriented Programming (OOP) offers several advantages that make it a popular paradigm for software development:\n",
        "\n",
        "* Modularity: OOP allows you to break down complex problems into smaller, self-contained objects. Each object represents a distinct part of the system, making it easier to understand, develop, and maintain.\n",
        "* Reusability: Through concepts like inheritance and polymorphism, you can reuse existing code. Classes can inherit properties and behaviors from parent classes, and polymorphic objects can be used in various contexts, reducing the need to write the same code multiple times.\n",
        "* Maintainability: The modular nature of OOP makes code easier to maintain. If there's a bug or a need to update a feature, you can often isolate the changes to a specific object or class without affecting other parts of the system.\n",
        "* Flexibility and Extensibility: OOP designs are often more flexible and easier to extend. You can add new features or modify existing ones by adding new classes or modifying existing ones without significantly impacting the overall structure.\n",
        "\n"
      ],
      "metadata": {
        "id": "0SSTqxSWMSJF"
      }
    },
    {
      "cell_type": "markdown",
      "source": [
        "**17  What is the difference between a class variable and an instance variable**\n",
        "\n",
        "A class variable is a variable that id defined inside a class and can be accessed by all the instances of that class where as an object variable is created inside the method of a class within __init__ constructor using self.variable_name. Each instance (object) of the class has its own copy of the instance variables. Changes to an instance variable in one object do not affect the instance variable in another object."
      ],
      "metadata": {
        "id": "7ZYhVPbYNNBZ"
      }
    },
    {
      "cell_type": "markdown",
      "source": [
        "**18 What is multiple inheritance in Python**\n",
        "\n",
        "\n",
        "When a child class inherits  proprties/methods from one ore more parent class it is known as multiple inheritance."
      ],
      "metadata": {
        "id": "VYRqBzs8Ojp6"
      }
    },
    {
      "cell_type": "code",
      "source": [
        "class parent1:\n",
        "  def __init__(self,name):\n",
        "    self.name=name\n",
        "  def get_name(self):\n",
        "    return self.name\n",
        "class parent2 :\n",
        "  def __init__(self,age):\n",
        "    self.age=age\n",
        "  def get_age(self):\n",
        "    return self.age\n",
        "class child(parent1,parent2): # Corrected class name to 'child'\n",
        "  def __init__(self,name,age,gender):\n",
        "    parent1.__init__(self,name)\n",
        "    parent2.__init__(self,age)\n",
        "    self.gender=gender\n",
        "  def get_gender(self):\n",
        "    return self.gender\n",
        "\n",
        "\n",
        "my_child = child(\"john\", 25, \"male\")\n",
        "\n",
        "# Now call the methods on the instance\n",
        "print(\"name:\" , my_child.get_name())\n",
        "print(\"age:\", my_child.get_age())\n",
        "print(\"gender:\", my_child.get_gender())"
      ],
      "metadata": {
        "colab": {
          "base_uri": "https://localhost:8080/"
        },
        "id": "wdOYiey60ZQL",
        "outputId": "1f47c0ea-b244-4705-fbb5-a7c84fc87402"
      },
      "execution_count": null,
      "outputs": [
        {
          "output_type": "stream",
          "name": "stdout",
          "text": [
            "name: john\n",
            "age: 25\n",
            "gender: male\n"
          ]
        }
      ]
    },
    {
      "cell_type": "markdown",
      "source": [
        "  **19 .Explain the purpose of ‘__str__’ and ‘__repr__’ ‘ methods in Python**\n",
        "\n",
        "* __str__ (for \"string\")\n",
        "\n",
        "Purpose: To provide a user-friendly, readable string representation of an object.\n",
        "\n",
        "*_repr__ (for \"representation\")\n",
        "\n",
        "Purpose: To provide an unambiguous, developer-focused string representation of an object."
      ],
      "metadata": {
        "id": "yxSVuvkk2VmX"
      }
    },
    {
      "cell_type": "code",
      "metadata": {
        "colab": {
          "base_uri": "https://localhost:8080/"
        },
        "id": "1cb8a68d",
        "outputId": "b7e81d62-61fe-4bdb-873a-fd260ae8e34f"
      },
      "source": [
        "class MyObject:\n",
        "    def __init__(self, value):\n",
        "        self.value = value\n",
        "\n",
        "    def __str__(self):\n",
        "        # User-friendly representation\n",
        "        return f\"Value: {self.value}\"\n",
        "\n",
        "    def __repr__(self):\n",
        "        # Developer-friendly representation (can potentially recreate the object)\n",
        "        return f\"MyObject(value={self.value})\"\n",
        "\n",
        "\n",
        "obj = MyObject(10)\n",
        "\n",
        "# Using print() calls __str__\n",
        "print(obj)\n",
        "\n",
        "# Using str() calls __str__\n",
        "print(str(obj))\n",
        "\n",
        "# Using repr() calls __repr__\n",
        "print(repr(obj))\n",
        "\n"
      ],
      "execution_count": null,
      "outputs": [
        {
          "output_type": "stream",
          "name": "stdout",
          "text": [
            "Value: 10\n",
            "Value: 10\n",
            "MyObject(value=10)\n"
          ]
        }
      ]
    },
    {
      "cell_type": "markdown",
      "source": [
        "**20 What is the significance of the ‘super()’ function in Python**\n",
        "\n",
        "1. The most common use of super() is within the __init__ method of a child class. When a child class inherits from a parent class and defines its own __init__ method, it often needs to call the parent class's __init__ to ensure that the parent class's attributes are properly initialized. super().__init__(...) is the standard way to do this. This avoids duplicating the initialization logic from the parent class\n",
        "2. improving maintainability: Changes to a parent class's method can be easily incorporated into child classes by using super().\n",
        "3. Handling complex inheritance hierarchies: It provides a reliable way to work with multiple inheritance and ensures correct method calling order."
      ],
      "metadata": {
        "id": "WLYgwMRtdrJh"
      }
    },
    {
      "cell_type": "markdown",
      "source": [
        "**21.What is the significance of the __del__ method in Python**\n",
        "\n",
        "The __del__ method in Python, also known as the destructor or finalizer, is a special method that is called when an object is about to be destroyed or garbage-collected. Its significance lies in performing cleanup actions before an object is removed from memory\n"
      ],
      "metadata": {
        "id": "TMTMGgNneUHO"
      }
    },
    {
      "cell_type": "markdown",
      "source": [
        "**22.What is the difference between @staticmethod and @classmethod in Python**\n",
        "\n",
        "* Use **@classmethod** when you need a method that operates on the class itself or needs to create instances of the class in different ways.\n",
        "* Use **@staticmethod** when you have a utility function that is logically related to the class but doesn't depend on the state of an instance or the class itself.\n",
        "\n",
        "**@classmethod**\n",
        "* Alternative Constructors: Class methods are often used to create alternative ways to instantiate an object. For example, you might have a class method to create an object from a different data format (like a dictionary or a string).\n",
        "* Accessing/Modifying Class State: They can access and modify class-level attributes.\n",
        "\n",
        "\n",
        "**@staticmethod**\n",
        "* Utility Functions: They are often used for utility functions that are logically related to the class but don't need access to any instance-specific or class-specific data.\n",
        "* Code Organization: They help in organizing related functions within a class namespace"
      ],
      "metadata": {
        "id": "hQrxNgS1ejC1"
      }
    },
    {
      "cell_type": "markdown",
      "source": [
        "**23. How does polymorphism work in Python with inheritance**\n",
        "\n",
        "polymorphism can be seen in in python inheritance where the parent and the child has same function name to perform same task but fr different objects i.e for child and the parent ,by default while calling the function the  the function produces the output for the child class ,in such cases we use __super__ long with __init__."
      ],
      "metadata": {
        "id": "YpG2aKauf1np"
      }
    },
    {
      "cell_type": "code",
      "source": [
        "class Animal:\n",
        "    def speak(self):\n",
        "        raise NotImplementedError(\"Subclass must implement abstract method\")\n",
        "\n",
        "class Dog(Animal):\n",
        "    def speak(self):\n",
        "        return \"Woof!\"\n",
        "\n",
        "class Cat(Animal):\n",
        "    def speak(self):\n",
        "        return \"Meow!\"\n",
        "\n",
        "class Duck(Animal):\n",
        "    def speak(self):\n",
        "        return \"Quack!\"\n",
        "\n",
        "animals = [Dog(), Cat(), Duck()]\n",
        "\n",
        "for animal in animals:\n",
        "    # The same method call 'speak()' behaves differently for each object\n",
        "    print(animal.speak())\n",
        "\n"
      ],
      "metadata": {
        "colab": {
          "base_uri": "https://localhost:8080/"
        },
        "id": "nwTVYzJ2gulz",
        "outputId": "da9f0750-d0b8-4e4a-85e9-5ec33bbe97dc"
      },
      "execution_count": null,
      "outputs": [
        {
          "output_type": "stream",
          "name": "stdout",
          "text": [
            "Woof!\n",
            "Meow!\n",
            "Quack!\n"
          ]
        }
      ]
    },
    {
      "cell_type": "markdown",
      "source": [
        "In this example, the speak() method is called on each object in the animals list. Even though the list contains objects of different types (Dog, Cat, Duck), the correct speak() method for each specific animal type is executed due to polymorphism. This makes the code flexible and easily extensible; you can add new animal subclasses without changing the loop that calls speak()."
      ],
      "metadata": {
        "id": "trBs2pnZhDE7"
      }
    },
    {
      "cell_type": "markdown",
      "source": [
        "**24. What is method chaining in Python OOP**\n",
        "\n",
        "Method chaining in Python OOP is a programming technique that allows you to call multiple methods on an object in a single expression. It's achieved by having each method return the object itself (return self) after performing its operation. This allows you to \"chain\" the method calls together with dots.\n",
        "\n",
        "The significance of method chaining lies in:\n",
        "\n",
        "* Readability and Conciseness: It can make your code more readable and concise, especially when performing a series of operations on the same object. Instead of writing multiple lines of code, each calling a method, you can string them together in a more fluent way.\n",
        "* Fluent Interfaces: Method chaining is often used to create fluent interfaces, which are designed to be highly readable and mimic natural language. This can make the code easier to understand and write."
      ],
      "metadata": {
        "id": "Zc-vTBrZhO-2"
      }
    },
    {
      "cell_type": "markdown",
      "source": [
        "**25.What is the purpose of the __call__ method in Python?**\n",
        "\n",
        "The __call__ method in Python is a special method that allows an instance of a class to be called like a function. When you define a __call__ method in a class, you can then call instances of that class using the function call syntax ()"
      ],
      "metadata": {
        "id": "yayjmTZDilwi"
      }
    },
    {
      "cell_type": "code",
      "source": [
        "class Multiplier:\n",
        "    def __init__(self, factor):\n",
        "        self.factor = factor\n",
        "\n",
        "    def __call__(self, x):\n",
        "        # This method is called when an instance of Multiplier is called like a function\n",
        "        return x * self.factor\n",
        "\n",
        "# Create an instance of the Multiplier class\n",
        "double = Multiplier(2)\n",
        "triple = Multiplier(3)\n",
        "\n",
        "# Call the instances like functions\n",
        "print(double(5))  # Output: 10 (5 * 2)\n",
        "print(triple(5))  # Output: 15 (5 * 3)"
      ],
      "metadata": {
        "colab": {
          "base_uri": "https://localhost:8080/"
        },
        "id": "P1AEMzuyi5IL",
        "outputId": "cc0be517-c5f5-42a3-f94a-5800d62fc808"
      },
      "execution_count": null,
      "outputs": [
        {
          "output_type": "stream",
          "name": "stdout",
          "text": [
            "10\n",
            "15\n"
          ]
        }
      ]
    },
    {
      "cell_type": "markdown",
      "source": [
        "# **Practical Questions**"
      ],
      "metadata": {
        "id": "Y_hxAwBNi9Xh"
      }
    },
    {
      "cell_type": "markdown",
      "source": [
        "**.1. Create a parent class Animal with a method speak() that prints a generic message. Create a child class Dog\n",
        "that overrides the speak() method to print \"Bark!\"**"
      ],
      "metadata": {
        "id": "sP8KZOhvjNRA"
      }
    },
    {
      "cell_type": "code",
      "source": [
        "class Animal:\n",
        "  def __init__(self):\n",
        "    pass\n",
        "  def speak(self):\n",
        "    print(\"choose animal\")\n",
        "\n",
        "class Dog(Animal):\n",
        "  def __init__(self):\n",
        "    super().__init__()\n",
        "    pass\n",
        "  def speak(self):\n",
        "    print(\"Woof\")"
      ],
      "metadata": {
        "id": "EszkeM40jQMZ"
      },
      "execution_count": null,
      "outputs": []
    },
    {
      "cell_type": "markdown",
      "source": [
        "**2. Write a program to create an abstract class Shape with a method area(). Derive classes Circle and Rectangle\n",
        "from it and implement the area() method in both**"
      ],
      "metadata": {
        "id": "KISHw5pZkcNz"
      }
    },
    {
      "cell_type": "code",
      "source": [
        "import abc\n",
        "@abc.abstractmethod\n",
        "class Shape:\n",
        "  def __init__(self):\n",
        "    pass\n",
        "  def area(self):\n",
        "    pass\n",
        "class circle(Shape):\n",
        "  def __init__(self,radius):\n",
        "    self.radius=radius\n",
        "  def area(self):\n",
        "    return 3.14*self.radius**2\n",
        "class rectangle(Shape):\n",
        "  def __init__(self,length,width):\n",
        "    self.length=length\n",
        "    self.width=width\n",
        "  def area(self):\n",
        "    return self.length*self.width\n"
      ],
      "metadata": {
        "id": "9E8xBi1EkhWx"
      },
      "execution_count": 3,
      "outputs": []
    },
    {
      "cell_type": "code",
      "source": [
        "s1=circle(5)\n",
        "print(s1.area())\n",
        "r1=rectangle(5,10)\n",
        "print(r1.area())"
      ],
      "metadata": {
        "colab": {
          "base_uri": "https://localhost:8080/"
        },
        "id": "0VX8Eh5F6jn2",
        "outputId": "ae0d4813-104d-4dbc-a785-d4a44366105b"
      },
      "execution_count": 12,
      "outputs": [
        {
          "output_type": "stream",
          "name": "stdout",
          "text": [
            "78.5\n",
            "50\n"
          ]
        }
      ]
    },
    {
      "cell_type": "markdown",
      "source": [
        "**3. Implement a multi-level inheritance scenario where a class Vehicle has an attribute type. Derive a class Car and further derive a class ElectricCar that adds a battery attribute**"
      ],
      "metadata": {
        "id": "lxhSFijm6Mog"
      }
    },
    {
      "cell_type": "code",
      "source": [
        "class Vehicle:\n",
        "  def __init__(self,type):\n",
        "    self.type=type\n",
        "class Car(Vehicle):\n",
        "  def __init__(self,type,model):\n",
        "    super().__init__(type)\n",
        "    self.model=model\n",
        "class ElectricCar(Car):\n",
        "  def __init__(self,type,model,battery):\n",
        "    super().__init__(type,model)\n",
        "    self.battery=battery\n",
        "\n",
        "ob1=Vehicle(\"car\")\n",
        "print(ob1.type)"
      ],
      "metadata": {
        "colab": {
          "base_uri": "https://localhost:8080/"
        },
        "id": "9wz5Lrzm_FWW",
        "outputId": "8e6adfe4-3308-4724-a2d1-4bb3642056e8"
      },
      "execution_count": 18,
      "outputs": [
        {
          "output_type": "stream",
          "name": "stdout",
          "text": [
            "car\n"
          ]
        }
      ]
    },
    {
      "cell_type": "markdown",
      "source": [
        "**4. Demonstrate polymorphism by creating a base class Bird with a method fly(). Create two derived classes Sparrow and Penguin that override the fly() method.**"
      ],
      "metadata": {
        "id": "TH3kRApW_dQj"
      }
    },
    {
      "cell_type": "code",
      "source": [
        "class Bird:\n",
        "  def __init__(self):\n",
        "    pass\n",
        "  def fly(self):\n",
        "    pass\n",
        "class Sparrow(Bird):\n",
        "  def __init__(self):\n",
        "    super().__init__()\n",
        "  def fly(self):\n",
        "    print(\"sparrow can fly\")\n",
        "class Penguin(Bird):\n",
        "  def __init__(self):\n",
        "    super().__init__()\n",
        "  def fly(self):\n",
        "    print(\"penguin cannot fly\")\n",
        "b1=Sparrow()\n",
        "b1.fly()\n",
        "b2=Penguin()\n",
        "b2.fly()"
      ],
      "metadata": {
        "colab": {
          "base_uri": "https://localhost:8080/"
        },
        "id": "RgD1f7Ne_kXD",
        "outputId": "0600bdb7-c8f4-47bc-e654-246c4c5ccd49"
      },
      "execution_count": 17,
      "outputs": [
        {
          "output_type": "stream",
          "name": "stdout",
          "text": [
            "sparrow can fly\n",
            "penguin cannot fly\n"
          ]
        }
      ]
    },
    {
      "cell_type": "markdown",
      "source": [
        "**5. Write a program to demonstrate encapsulation by creating a class BankAccount with private attributes balance and methods to deposit, withdraw, and check balance.**"
      ],
      "metadata": {
        "id": "z_5CPSWI_5M0"
      }
    },
    {
      "cell_type": "code",
      "source": [
        "class Bank_account:\n",
        "  def __init__(self,balance):\n",
        "    self.__balance=balance\n",
        "  def deposit(self,amount):\n",
        "    self.__balance+=amount\n",
        "  def withdraw(self,amount):\n",
        "    if self.__balance>=amount:\n",
        "      self.__balance-=amount\n",
        "    else:\n",
        "      print(\"insufficient balance\")\n",
        "  def check_balance(self):\n",
        "    return self.__balance\n",
        "ac1=Bank_account(1000)\n",
        "ac1.deposit(500)\n",
        "ac1.withdraw(200)\n",
        "print(ac1.check_balance())"
      ],
      "metadata": {
        "colab": {
          "base_uri": "https://localhost:8080/"
        },
        "id": "yqVzz5JEABpT",
        "outputId": "b9d20ab5-ef5b-4ca5-ca13-cc0f3c94b052"
      },
      "execution_count": 16,
      "outputs": [
        {
          "output_type": "stream",
          "name": "stdout",
          "text": [
            "1300\n"
          ]
        }
      ]
    },
    {
      "cell_type": "markdown",
      "source": [
        "**6. Demonstrate runtime polymorphism using a method play() in a base class Instrument. Derive classes Guitar and Piano that implement their own version of play().**"
      ],
      "metadata": {
        "id": "sM67H3WmAP7G"
      }
    },
    {
      "cell_type": "code",
      "source": [
        "class instruments:\n",
        "  def __init__(self):\n",
        "    pass\n",
        "  def play(self):\n",
        "    pass\n",
        "class guitar(instruments):\n",
        "  def __init__(self):\n",
        "    super().__init__()\n",
        "  def play(self):\n",
        "    print(\"guitar is playing\")\n",
        "class Piano(instruments):\n",
        "  def __init__(self):\n",
        "    super().__init__()\n",
        "  def play(self):\n",
        "    print(\"piano is playing\")\n",
        "i1=guitar()\n",
        "i1.play()\n",
        "i2=Piano()\n",
        "i2.play()"
      ],
      "metadata": {
        "colab": {
          "base_uri": "https://localhost:8080/"
        },
        "id": "ASStsHaoAA0W",
        "outputId": "83077cc1-bdd1-4773-d767-aeaed79c2803"
      },
      "execution_count": 20,
      "outputs": [
        {
          "output_type": "stream",
          "name": "stdout",
          "text": [
            "guitar is playing\n",
            "piano is playing\n"
          ]
        }
      ]
    },
    {
      "cell_type": "markdown",
      "source": [
        "**7. Create a class MathOperations with a class method add_numbers() to add two numbers and a static method subtract_numbers() to subtract two numbers**"
      ],
      "metadata": {
        "id": "3BPULuH1BAZ-"
      }
    },
    {
      "cell_type": "code",
      "source": [
        "class MathOperations:\n",
        "  @classmethod\n",
        "  def add_numbers(cls,a,b):\n",
        "    return a+b\n",
        "  @staticmethod\n",
        "  def subtract_numbers(a,b):\n",
        "    return a-b\n",
        "ob1=MathOperations()\n",
        "print(ob1.add_numbers(5,10))\n",
        "print(MathOperations.subtract_numbers(10,5))"
      ],
      "metadata": {
        "colab": {
          "base_uri": "https://localhost:8080/"
        },
        "id": "1WkER4iiBHdZ",
        "outputId": "2501fa36-f0cf-441c-8956-6b47c602cfa7"
      },
      "execution_count": 21,
      "outputs": [
        {
          "output_type": "stream",
          "name": "stdout",
          "text": [
            "15\n",
            "5\n"
          ]
        }
      ]
    },
    {
      "cell_type": "markdown",
      "source": [
        "**8. Implement a class Person with a class method to count the total number of persons created**"
      ],
      "metadata": {
        "id": "RVCou1D0Bblj"
      }
    },
    {
      "cell_type": "code",
      "source": [
        "class Person:\n",
        "  total_persons = 0\n",
        "  def __init__(self):\n",
        "    Person.total_persons+=1\n",
        "  @classmethod\n",
        "  def get_total_persons(cls):\n",
        "    return Person.total_persons\n",
        "obj1=Person()\n",
        "obj2=Person()\n",
        "obj3=Person()\n",
        "print(Person.get_total_persons())"
      ],
      "metadata": {
        "colab": {
          "base_uri": "https://localhost:8080/"
        },
        "id": "bNrv8EUHB4RI",
        "outputId": "f4004e57-db08-4598-aba4-f390ccba638f"
      },
      "execution_count": 29,
      "outputs": [
        {
          "output_type": "stream",
          "name": "stdout",
          "text": [
            "3\n"
          ]
        }
      ]
    },
    {
      "cell_type": "markdown",
      "source": [
        "**9. Write a class Fraction with attributes numerator and denominator. Override the str method to display the fraction as \"numerator/denominator\".**"
      ],
      "metadata": {
        "id": "tp6M4prGCwrl"
      }
    },
    {
      "cell_type": "code",
      "source": [
        "class Fraction:\n",
        "  def __init__(self,numerator,denominator):\n",
        "    self.numerator=numerator\n",
        "    self.denominator=denominator\n",
        "  def __str__(self):\n",
        "    return f\"{self.numerator}/{self.denominator}\"\n",
        "f1=Fraction(1,2)\n",
        "f1.__str__()"
      ],
      "metadata": {
        "colab": {
          "base_uri": "https://localhost:8080/",
          "height": 36
        },
        "id": "gbevk2E0C08w",
        "outputId": "06054fcd-4d9a-4453-d583-e044bdd3cddf"
      },
      "execution_count": 35,
      "outputs": [
        {
          "output_type": "execute_result",
          "data": {
            "text/plain": [
              "'1/2'"
            ],
            "application/vnd.google.colaboratory.intrinsic+json": {
              "type": "string"
            }
          },
          "metadata": {},
          "execution_count": 35
        }
      ]
    },
    {
      "cell_type": "markdown",
      "source": [
        "**10. Demonstrate operator overloading by creating a class Vector and overriding the add method to add two vectors.**"
      ],
      "metadata": {
        "id": "jPelM0wGDOWG"
      }
    },
    {
      "cell_type": "code",
      "source": [
        "class Vector():\n",
        "  def __init__(self,x,y):\n",
        "    self.x=x\n",
        "    self.y=y\n",
        "  def __add__(self,other):\n",
        "    return Vector(self.x+other.x,self.y+other.y)"
      ],
      "metadata": {
        "id": "XkUYrGhfDSUa"
      },
      "execution_count": 40,
      "outputs": []
    },
    {
      "cell_type": "code",
      "source": [
        "a1=Vector(1,2)\n",
        "a2=Vector(3,4)\n",
        "a3=a1+a2\n",
        "print(a3.x,a3.y)"
      ],
      "metadata": {
        "colab": {
          "base_uri": "https://localhost:8080/"
        },
        "id": "jMu-3fyTEVpa",
        "outputId": "c478fd56-7233-48e6-e77f-7b2a7b0dc64d"
      },
      "execution_count": 48,
      "outputs": [
        {
          "output_type": "stream",
          "name": "stdout",
          "text": [
            "4 6\n"
          ]
        }
      ]
    },
    {
      "cell_type": "markdown",
      "source": [
        "**11. Create a class Person with attributes name and age. Add a method greet() that prints \"Hello, my name is {name} and I am {age} years old.**"
      ],
      "metadata": {
        "id": "dj5AQbBgE5h8"
      }
    },
    {
      "cell_type": "code",
      "source": [
        "class Person:\n",
        "  def __init__(self,name,age):\n",
        "    self.name=name\n",
        "    self.age=age\n",
        "  def greet(self):\n",
        "    print(f\"Hello, my name is {self.name} and I am {self.age} years old.\")\n",
        "ob1=Person(\"John\",25)\n",
        "ob1.greet()"
      ],
      "metadata": {
        "colab": {
          "base_uri": "https://localhost:8080/"
        },
        "id": "DMmZ_IhNFDU3",
        "outputId": "92e7dec4-a660-4dc3-e72c-19cd14dc7844"
      },
      "execution_count": 50,
      "outputs": [
        {
          "output_type": "stream",
          "name": "stdout",
          "text": [
            "Hello, my name is John and I am 25 years old.\n"
          ]
        }
      ]
    },
    {
      "cell_type": "markdown",
      "source": [
        "**12. Implement a class Student with attributes name and grades. Create a method average_grade() to compute the average of the grades.**"
      ],
      "metadata": {
        "id": "kmj50-diEdVn"
      }
    },
    {
      "cell_type": "code",
      "source": [
        "class Student:\n",
        "  def __init__(self,name,grades):\n",
        "    self.name=name\n",
        "    self.grades=grades\n",
        "  def average_grade(self):\n",
        "    return sum(self.grades)/len(self.grades)\n",
        "ob1=Student(\"John\",[80,90,70])\n",
        "ob1.average_grade()"
      ],
      "metadata": {
        "colab": {
          "base_uri": "https://localhost:8080/"
        },
        "id": "YeUzj30VFTCx",
        "outputId": "d4e4b0e3-1b1a-41e4-aaa7-82d2df8d170b"
      },
      "execution_count": 51,
      "outputs": [
        {
          "output_type": "execute_result",
          "data": {
            "text/plain": [
              "80.0"
            ]
          },
          "metadata": {},
          "execution_count": 51
        }
      ]
    },
    {
      "cell_type": "markdown",
      "source": [
        "**13. Create a class Rectangle with methods set_dimensions() to set the dimensions and area() to calculate the area.**"
      ],
      "metadata": {
        "id": "mhhbC0g3FfuF"
      }
    },
    {
      "cell_type": "code",
      "source": [
        "class Retangele:\n",
        "  def __init__(self,length,width):\n",
        "    self.length=length\n",
        "    self.width=width\n",
        "  def set_dimensions(self,length,width):\n",
        "    self.length=length\n",
        "    self.width=width\n",
        "  def area(self):\n",
        "    return(self.length*self.width)\n",
        "r1=Retangele(5,10)\n",
        "print(r1.area())\n",
        "r1.set_dimensions(10,20)\n",
        "print(r1.area())\n",
        ""
      ],
      "metadata": {
        "colab": {
          "base_uri": "https://localhost:8080/"
        },
        "id": "qAAd4JniF1x1",
        "outputId": "1e9ee1f6-7d61-46c9-8a0d-c01a9d7020bd"
      },
      "execution_count": 52,
      "outputs": [
        {
          "output_type": "stream",
          "name": "stdout",
          "text": [
            "50\n",
            "200\n"
          ]
        }
      ]
    },
    {
      "cell_type": "markdown",
      "source": [
        "**14. Create a class Employee with a method calculate_salary() that computes the salary based on hours worked and hourly rate. Create a derived class Manager that adds a bonus to the salary**"
      ],
      "metadata": {
        "id": "rVj0SAwaGWfL"
      }
    },
    {
      "cell_type": "code",
      "source": [
        "class Employee:\n",
        "  def __init__(self,name,hours_worked,hourly_rate):\n",
        "    self.name=name\n",
        "    self.hours_worked=hours_worked\n",
        "    self.hourly_rate=hourly_rate\n",
        "  def calculate_salary(self):\n",
        "    return self.hours_worked*self.hourly_rate\n",
        "class Manager(Employee):\n",
        "  def __init__(self,name,hours_worked,hourly_rate,bonus):\n",
        "    super().__init__(name,hours_worked,hourly_rate)\n",
        "    self.bonus=bonus\n",
        "  def calculate_salary(self):\n",
        "    return super().calculate_salary()+self.bonus\n",
        "a1=Manager(\"John\",100,10,1000)\n",
        "print(a1.calculate_salary())\n"
      ],
      "metadata": {
        "colab": {
          "base_uri": "https://localhost:8080/"
        },
        "id": "2MXPrPNoGfj9",
        "outputId": "f1e2886d-38cc-4df2-a9a4-bd18a3d2a09f"
      },
      "execution_count": 55,
      "outputs": [
        {
          "output_type": "stream",
          "name": "stdout",
          "text": [
            "2000\n"
          ]
        }
      ]
    },
    {
      "cell_type": "markdown",
      "source": [
        "**15. Create a class Product with attributes name, price, and quantity. Implement a method total_price() that calculates the total price of the product**"
      ],
      "metadata": {
        "id": "4LT2s26THBZz"
      }
    },
    {
      "cell_type": "code",
      "source": [
        "class Product:\n",
        "  def __init__(self,name,price,quantity):\n",
        "    self.name=name\n",
        "    self.price=price\n",
        "    self.quantity=quantity\n",
        "  def total_price(self):\n",
        "    return self.price*self.quantity\n",
        "a1=Product(\"apple\",10,2)\n",
        "a1.total_price()"
      ],
      "metadata": {
        "colab": {
          "base_uri": "https://localhost:8080/"
        },
        "id": "LUOv8nQwHHxA",
        "outputId": "56d8cb51-201b-4fe2-e877-0053e7b4ccc0"
      },
      "execution_count": 56,
      "outputs": [
        {
          "output_type": "execute_result",
          "data": {
            "text/plain": [
              "20"
            ]
          },
          "metadata": {},
          "execution_count": 56
        }
      ]
    },
    {
      "cell_type": "markdown",
      "source": [
        "**16. Create a class Animal with an abstract method sound(). Create two derived classes Cow and Sheep that\n",
        "implement the sound() method**"
      ],
      "metadata": {
        "id": "smB1UPsaHPE0"
      }
    },
    {
      "cell_type": "code",
      "source": [
        "import abc\n",
        "class Animal:\n",
        "  @abc.abstractmethod\n",
        "  def sound(self):\n",
        "    pass\n",
        "class Cow(Animal):\n",
        "  def sound(self):\n",
        "    print(\"moo\")\n",
        "class Sheep(Animal):\n",
        "  def sound(self):\n",
        "    print(\"baa\")\n",
        "\n",
        "a1=Cow()\n",
        "a1.sound()\n",
        "a2=Sheep()\n",
        "a2.sound()\n"
      ],
      "metadata": {
        "colab": {
          "base_uri": "https://localhost:8080/"
        },
        "id": "wIS_VRCDHTXm",
        "outputId": "c49e4e4d-f73b-439f-ea48-e29f9fcabb57"
      },
      "execution_count": 57,
      "outputs": [
        {
          "output_type": "stream",
          "name": "stdout",
          "text": [
            "moo\n",
            "baa\n"
          ]
        }
      ]
    },
    {
      "cell_type": "markdown",
      "source": [
        "**17. Create a class Book with attributes title, author, and year_published. Add a method get_book_info() that\n",
        "returns a formatted string with the book's details.**"
      ],
      "metadata": {
        "id": "TeRYKiKmHmFe"
      }
    },
    {
      "cell_type": "code",
      "source": [
        "class Book:\n",
        "  def __init__(self,title,author,year_published):\n",
        "    self.title=title\n",
        "    self.author=author\n",
        "    self.year_published=year_published\n",
        "  def get_book_info(self):\n",
        "    return f\"Title: {self.title}\\nAuthor: {self.author}\\nYear Published: {self.year_published}\"\n",
        "b1=Book(\"The Alchemist\",\"Paulo Coelho\",1988)\n",
        "print(b1.get_book_info())\n"
      ],
      "metadata": {
        "colab": {
          "base_uri": "https://localhost:8080/"
        },
        "id": "1uZMTr2GHsUN",
        "outputId": "722a6801-55f5-4042-c6dc-c82c8d8ab09c"
      },
      "execution_count": 59,
      "outputs": [
        {
          "output_type": "stream",
          "name": "stdout",
          "text": [
            "Title: The Alchemist\n",
            "Author: Paulo Coelho\n",
            "Year Published: 1988\n"
          ]
        }
      ]
    },
    {
      "cell_type": "markdown",
      "source": [
        "**18. Create a class House with attributes address and price. Create a derived class Mansion that adds an\n",
        "attribute number_of_rooms**"
      ],
      "metadata": {
        "id": "uXaiVBBqH4uD"
      }
    },
    {
      "cell_type": "code",
      "source": [
        "class House:\n",
        "  def __init__(self,address,price):\n",
        "    self.address=address\n",
        "    self.price=price\n",
        "class Mansion(House):\n",
        "  def __init__(self,address,price,number_of_rooms):\n",
        "    super().__init__(address,price)\n",
        "    self.number_of_rooms=number_of_rooms\n",
        "m1=Mansion(\"123 Main St\",1000000,10)\n",
        "print(m1.address,m1.price,m1.number_of_rooms)"
      ],
      "metadata": {
        "colab": {
          "base_uri": "https://localhost:8080/"
        },
        "id": "MXC2zB4YH9Sr",
        "outputId": "90143dd8-87c8-4e73-8df7-cbcfe76ca916"
      },
      "execution_count": 60,
      "outputs": [
        {
          "output_type": "stream",
          "name": "stdout",
          "text": [
            "123 Main St 1000000 10\n"
          ]
        }
      ]
    }
  ]
}