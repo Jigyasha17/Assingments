{
  "nbformat": 4,
  "nbformat_minor": 0,
  "metadata": {
    "colab": {
      "provenance": [],
      "authorship_tag": "ABX9TyM2caSz8ISdRx983DK+DcOt",
      "include_colab_link": true
    },
    "kernelspec": {
      "name": "python3",
      "display_name": "Python 3"
    },
    "language_info": {
      "name": "python"
    }
  },
  "cells": [
    {
      "cell_type": "markdown",
      "metadata": {
        "id": "view-in-github",
        "colab_type": "text"
      },
      "source": [
        "<a href=\"https://colab.research.google.com/github/Jigyasha17/Assingments/blob/main/Assingment_2.ipynb\" target=\"_parent\"><img src=\"https://colab.research.google.com/assets/colab-badge.svg\" alt=\"Open In Colab\"/></a>"
      ]
    },
    {
      "cell_type": "markdown",
      "source": [
        "# Data Types and Structures Questions\n",
        "\n",
        "# Theory Questions\n",
        "  \n",
        " *** 1.What are data structures, and why are they important?***\n",
        "  \n",
        "  Ans- Data structure is a way of organizing ,storing and managing data in a way that it can be efficiently used .\n",
        "\n",
        "  Importance\n",
        "\n",
        "1.   Eficiency: data structured allow for optimized data storage and retrieval, leading to faster program execution and reduced resource consumption.\n",
        "2.   scalability: well choosen data sstructure allows for efficient manage of a large amount of data without significant performance degradation.\n",
        "3. algorithm design:Data structure serve as  building block for designing algorithms,influencing overall edfficiency and effectiveness of the algorithm.\n",
        "\n",
        "---\n",
        "\n",
        "\n",
        "\n",
        "***2. Explain the difference between mutable and immutable data types with examples?***\n",
        "\n",
        " Ans-\n",
        "\n",
        "1.   Imutable data types:objects/values which can't be altered ones assingned are called immutable\n",
        "\n",
        "\n",
        "*   E.g . Tuples - Tuples can't be changed ones declared i.e no elements can be added, edited or removed ones asingned in the tuple\n",
        "*   string: similar to tuples strings are also immutable data objects.\n",
        "\n",
        "\n",
        "\n",
        "2. Mutable data types: object/ values which can be atered  after assingment.\n",
        "\n",
        "\n",
        "*   List : In a list an existing element can be changed or removed as well as a new set of elements can be added to the list thus it is a mutable data type.\n",
        "*  Sets: similar to lits sets are also mutable data structure except mutation cannot be done on the basis of index .\n",
        "*   Dictionaries: Dictionaries are also a mutable data type except the keys.In a dictionary set of new value can be added or updated for a particular key as well as a new key-  value pair can be added or an existing one can be removed from the list.\n",
        "---\n",
        "\n",
        "\n",
        "***3. What are the main differences between lists and tuples in Python?***\n",
        "\n",
        "Ans:\n",
        "\n",
        "1.   List: collection of  ordered, mutable heterogenenou/homogeneous data elements  inside []\n",
        "\n",
        "*   Declared using []\n",
        "*   Mutable\n",
        "*   Use Cases: Due to their mutability, lists are suitable for collections that need to be modified frequently.\n",
        "\n",
        "\n",
        "2.   Tuples: collection of ordered immutable hetrogeneous/homogeneous data elementsinide().\n",
        "\n",
        "*   Declared using ()\n",
        "*   immutable\n",
        "*   Use Cases:tuples, being immutable, are often used for collections of related items where the order matters and the collection should not be changed, such as coordinates or database records.\n",
        "---\n",
        "\n",
        "***4. Describe how dictionaries store data.***\n",
        "\n",
        "In comparison to other data types dictionaries store data in the form of key value pairs .\n",
        "\n",
        "1.   Key:  alpha numeric or a tuple  ,act as indexes and are immutable in nature\n",
        "2.   Values: data stored inside keys , can be a list ,tuple,sets,strings or number,mutable in nature.\n",
        "\n",
        "---\n",
        "\n",
        "***5.Why might you use a set instead of a list in Python***\n",
        "\n",
        "Ans- A set can be ued instead of a list because a set has a unique ability that it stores only unique values ,thus in conditions where duplicate values can't be allowed  e.g in case of adhar no.,ATM PIN in such cases sets are preffered over lists\n",
        "\n",
        "---\n",
        "\n",
        "***6. What is a string in Python, and how is it different from a list ?***\n",
        "\n",
        "ANS:\n",
        " String in python can be defined as a set of characters enclosed in '...'or\"...\".\n",
        " 1. A string is different from the list in a way that list is a type of a data structure used to store values of simiar or different  type where as a string is a data type .\n",
        " 2.String is immuatbale where as a list is a mutable data structure.\n",
        " 3. strings are define with the help of '...'or \"...\" where as a list is defined using [ ].\n",
        "\n",
        " ---\n",
        "\n",
        "\n",
        "*** 7.How do tuples ensure data integrity in Python?**\n",
        "\n",
        " ANS: Tuples are immutable in nature thus ones formed can't be altered. therefore information or data stored inside tuples can't be changed ones saved preventing any false alteration which leads to scams ,thus tuples promote data intergrity.\n",
        "\n",
        "---\n",
        "\n",
        " *** 8. What is a hash table, and how does it relate to dictionaries in Python? ***\n",
        "\n",
        " Ans-A hash table stores key value pairs. It allows for very fast retrieval of values based on their corresponding keys . This is achieved using hash function to compute an index in an array wher the value is stored.\n",
        "\n",
        " Dictionaries are based on the concept of hash tables , similar to hash tables dictionaries also has key value pairs used for efficient storage and retrieval.\n",
        "\n",
        " ---\n",
        "\n",
        "*** 9. Can lists contain different data types in Python ? ***\n",
        "\n",
        "ANS: yes lists can contain diferent data types in python as they are hetrogeneous in nature.\n",
        "\n",
        "---\n",
        "\n",
        "***10. Explain why strings are immutable in Python? ***\n",
        "\n",
        "ans: strings are immutable in nature as it's character can't be altered ones declared.Any operation that appears to modify a string, such as replacing a character or slicing and concatenating, actually creates a new string object in memory. The original string remains unchanged.advantages do dictionaries offr over lits\n",
        "\n",
        "\n",
        "---\n",
        "\n",
        "\n",
        "***11.What advantages do dictionaries offer over lists for certain tasks.***\n",
        "\n",
        "ANs:Dictionaries offer several advantages over lists for certain tasks, primarily due to their key-value structure:\n",
        "\n",
        "* Efficient Data Retrieval: Dictionaries provide very fast data retrieval based on keys (average O(1) time complexity), whereas accessing elements in a list by value requires searching through the list (average O(n) time complexity). This makes dictionaries ideal for lookups when you know the key.\n",
        "* Meaningful Data Access: Data in dictionaries is accessed using descriptive keys, which can make code more readable and understandable compared to accessing elements in a list by numerical index.\n",
        "* Representing Relationships: Dictionaries are excellent for representing data where there is a clear key-value relationship, such as a phone book (name: number) or a person's attributes (name: value).\n",
        "While lists are great for ordered collections and sequences, dictionaries shine when you need to store and retrieve data based on unique identifiers or labels.\n",
        "\n",
        "---\n",
        "***12. Describe a scenario where using a tuple would be preferable over a list.***\n",
        "\n",
        "ANS: Tuples are preffered over list in situations where the stored value can't be altered like storing adhar number , ATM pin etc. Storing such values in tuple prmotes data intergrity.\n",
        "* Representing fixed collections: When you have a collection of related items that should remain constant, like the coordinates of a point (x, y) or the days of the week.\n",
        "* Returning multiple values from a function: Functions often return multiple values as a tuple because it ensures that the returned values are not accidentally modified by the caller.\n",
        "* Using as dictionary keys: Because tuples are immutable, they can be used as keys in dictionaries, which requires the keys to be hashable (and mutable objects like lists are not hashable).\n",
        "* Storing heterogeneous data: While lists can also store different data types, tuples are often used for a fixed collection of items with different types, where the position of each item has a specific meaning (like a record in a database).\n",
        "\n",
        "---\n",
        "\n",
        "***13. How do sets handle duplicate values in Python?***\n",
        "\n",
        "ANS: Sets only store unique values so if duplicate values are entered while declaring  a set , the set operation treats all duplicate values as a single entity so in output only unique values are displayed.\n",
        "\n",
        "---\n",
        "\n"
      ],
      "metadata": {
        "id": "5mbT7_0TW64s"
      }
    },
    {
      "cell_type": "markdown",
      "metadata": {
        "id": "d39d85c5"
      },
      "source": [
        "***14.How does the “in” keyword work differently for lists and dictionaries***\n",
        "\n",
        "ANS: The `in` keyword is a membership operator in Python. It's used to test if a sequence contains a certain value. However, its behavior is different for lists and dictionaries:\n",
        "\n",
        "*   **For Lists:** The `in` operator checks if an element exists as a **value** within the list."
      ]
    },
    {
      "cell_type": "code",
      "metadata": {
        "id": "7e193e7a"
      },
      "source": [
        "my_list = [1, 2, 3, 4, 5]\n",
        "print(3 in my_list)  # Output: True\n",
        "print(6 in my_list)  # Output: False"
      ],
      "execution_count": null,
      "outputs": []
    },
    {
      "cell_type": "markdown",
      "metadata": {
        "id": "c8d9d024"
      },
      "source": [
        "*   **For Dictionaries:** The `in` operator checks if an element exists as a **key** within the dictionary. To check for values,  `.values()` method is used"
      ]
    },
    {
      "cell_type": "code",
      "metadata": {
        "id": "22dbff4d"
      },
      "source": [
        "my_dict = {\"a\": 1, \"b\": 2, \"c\": 3}\n",
        "print(\"b\" in my_dict)  # Output: True (checks if \"b\" is a key)\n",
        "print(2 in my_dict)  # Output: False (checks if 2 is a key, not a value)\n",
        "print(\"d\" in my_dict)  # Output: False"
      ],
      "execution_count": null,
      "outputs": []
    },
    {
      "cell_type": "markdown",
      "source": [
        "***15  Can you modify the elements of a tuple? Explain why or why not?***\n",
        "\n",
        "  ANS Tuples are immutable in nature thus we can't modify elements in a tuple if we did so it gives error."
      ],
      "metadata": {
        "id": "PEQj3wK4wUlN"
      }
    },
    {
      "cell_type": "code",
      "source": [
        "a=(1,2,3,4,5,6,7)\n",
        "print(type(a))\n",
        "a[0]=7\n"
      ],
      "metadata": {
        "colab": {
          "base_uri": "https://localhost:8080/",
          "height": 193
        },
        "id": "NIbjKX8Hwppc",
        "outputId": "2582ca43-37b9-4daf-a867-602a8734fe0b"
      },
      "execution_count": null,
      "outputs": [
        {
          "output_type": "stream",
          "name": "stdout",
          "text": [
            "<class 'tuple'>\n"
          ]
        },
        {
          "output_type": "error",
          "ename": "TypeError",
          "evalue": "'tuple' object does not support item assignment",
          "traceback": [
            "\u001b[0;31m---------------------------------------------------------------------------\u001b[0m",
            "\u001b[0;31mTypeError\u001b[0m                                 Traceback (most recent call last)",
            "\u001b[0;32m/tmp/ipython-input-149-2616645224.py\u001b[0m in \u001b[0;36m<cell line: 0>\u001b[0;34m()\u001b[0m\n\u001b[1;32m      1\u001b[0m \u001b[0ma\u001b[0m\u001b[0;34m=\u001b[0m\u001b[0;34m(\u001b[0m\u001b[0;36m1\u001b[0m\u001b[0;34m,\u001b[0m\u001b[0;36m2\u001b[0m\u001b[0;34m,\u001b[0m\u001b[0;36m3\u001b[0m\u001b[0;34m,\u001b[0m\u001b[0;36m4\u001b[0m\u001b[0;34m,\u001b[0m\u001b[0;36m5\u001b[0m\u001b[0;34m,\u001b[0m\u001b[0;36m6\u001b[0m\u001b[0;34m,\u001b[0m\u001b[0;36m7\u001b[0m\u001b[0;34m)\u001b[0m\u001b[0;34m\u001b[0m\u001b[0;34m\u001b[0m\u001b[0m\n\u001b[1;32m      2\u001b[0m \u001b[0mprint\u001b[0m\u001b[0;34m(\u001b[0m\u001b[0mtype\u001b[0m\u001b[0;34m(\u001b[0m\u001b[0ma\u001b[0m\u001b[0;34m)\u001b[0m\u001b[0;34m)\u001b[0m\u001b[0;34m\u001b[0m\u001b[0;34m\u001b[0m\u001b[0m\n\u001b[0;32m----> 3\u001b[0;31m \u001b[0ma\u001b[0m\u001b[0;34m[\u001b[0m\u001b[0;36m0\u001b[0m\u001b[0;34m]\u001b[0m\u001b[0;34m=\u001b[0m\u001b[0;36m7\u001b[0m\u001b[0;34m\u001b[0m\u001b[0;34m\u001b[0m\u001b[0m\n\u001b[0m",
            "\u001b[0;31mTypeError\u001b[0m: 'tuple' object does not support item assignment"
          ]
        }
      ]
    },
    {
      "cell_type": "markdown",
      "source": [
        "***16  What is a nested dictionary, and give an example of its use case ?***\n",
        "\n",
        "ans : A dictionary inside a dictionary an be called a a nested dictionary"
      ],
      "metadata": {
        "id": "dyFCVhRfw75N"
      }
    },
    {
      "cell_type": "code",
      "metadata": {
        "colab": {
          "base_uri": "https://localhost:8080/"
        },
        "id": "8ac657ad",
        "outputId": "deb6d0ce-3cde-496b-e997-567f9ce7ab47"
      },
      "source": [
        "\n",
        "nested_dict = {\n",
        "    \"person1\": {\n",
        "        \"name\": \"Alice\",\n",
        "        \"age\": 30,\n",
        "        \"city\": \"New York\"\n",
        "    },\n",
        "    \"person2\": {\n",
        "        \"name\": \"Bob\",\n",
        "        \"age\": 25,\n",
        "        \"city\": \"London\"\n",
        "    }\n",
        "}\n",
        "print(nested_dict)"
      ],
      "execution_count": null,
      "outputs": [
        {
          "output_type": "stream",
          "name": "stdout",
          "text": [
            "{'person1': {'name': 'Alice', 'age': 30, 'city': 'New York'}, 'person2': {'name': 'Bob', 'age': 25, 'city': 'London'}}\n"
          ]
        }
      ]
    },
    {
      "cell_type": "markdown",
      "source": [
        "***17.Describe the time complexity of accessing elements in a dictionary***\n",
        "\n",
        "ANS The time complexity of accessing elements in a dictionary is, on average,\n",
        "O(1). This is because dictionaries use a hash table internally, which allows for constant-time lookups."
      ],
      "metadata": {
        "id": "5NbvAZGVxvdJ"
      }
    },
    {
      "cell_type": "markdown",
      "source": [
        "***18. In what situations are lists preferred over dictionaries?***\n",
        "\n",
        "ANS:Lists are preferred over dictionaries in situations where:\n",
        "\n",
        "1. Order matters: Lists maintain the order of elements, while dictionaries do not guarantee any specific order.\n",
        "2. We need a sequence of elements: Lists are designed for storing and accessing elements by their position (index).\n",
        "3. we have duplicate elements: Lists can contain duplicate values, whereas dictionaries have unique keys.\n",
        "4. we are primarily accessing data by index: Accessing elements in a list by index is efficient.\n",
        "5. we need a simple collection: Lists are simpler data structures compared to dictionaries."
      ],
      "metadata": {
        "id": "Mi9Rmc7rnq2a"
      }
    },
    {
      "cell_type": "markdown",
      "source": [
        "***19. Why are dictionaries considered unordered, and how does that affect data retrieval***\n",
        "\n",
        "ANS: Dictionaries are considered unordered because we can't access its elements by index,elements in dictionaries are stored in the form of key value pair ,values can be accesed by keys and not indexes thus dictionaries are  conidered unordered.\n",
        "\n"
      ],
      "metadata": {
        "id": "240Pnoyfr2Tu"
      }
    },
    {
      "cell_type": "markdown",
      "source": [
        "***20.Explain the difference between a list and a dictionary in terms of data retrieval.***\n",
        "\n",
        "ANS: In terms of data retrieval elements of a lists can be accessed by indexes where as in case of dictionaries values are accessed with the help of keys and not indexes."
      ],
      "metadata": {
        "id": "Z3oVadCQtGeX"
      }
    },
    {
      "cell_type": "markdown",
      "source": [
        "# Practical Questions"
      ],
      "metadata": {
        "id": "mpehwOhNyA2p"
      }
    },
    {
      "cell_type": "markdown",
      "source": [
        "***1. Write a code to create a string with your name and print it***"
      ],
      "metadata": {
        "id": "K0tbwwxyysma"
      }
    },
    {
      "cell_type": "code",
      "source": [
        "String1= \"JIGYASA\"\n",
        "print(String1)"
      ],
      "metadata": {
        "colab": {
          "base_uri": "https://localhost:8080/"
        },
        "id": "2eCDKSf7y1Mz",
        "outputId": "8bc3a2ee-17cc-43ff-8290-62807d235d46"
      },
      "execution_count": null,
      "outputs": [
        {
          "output_type": "stream",
          "name": "stdout",
          "text": [
            "JIGYASA\n"
          ]
        }
      ]
    },
    {
      "cell_type": "markdown",
      "source": [
        "*** 2.  Write a code to find the length of the string \"Hello World\".***"
      ],
      "metadata": {
        "id": "mQIs8MmmzDlq"
      }
    },
    {
      "cell_type": "code",
      "source": [
        "a=\"Hello World\"\n",
        "print(\"length of 'Hello World' = \", len(a))"
      ],
      "metadata": {
        "colab": {
          "base_uri": "https://localhost:8080/"
        },
        "id": "EfQxR3ijzMQq",
        "outputId": "83f21722-6f00-4133-a43d-50d25eee9808"
      },
      "execution_count": null,
      "outputs": [
        {
          "output_type": "stream",
          "name": "stdout",
          "text": [
            "length of 'Hello World' =  11\n"
          ]
        }
      ]
    },
    {
      "cell_type": "markdown",
      "source": [
        "*** 3 . Write a code to slice the first 3 characters from the string \"Python Programming\" .***\n",
        "\n",
        "**bold text**"
      ],
      "metadata": {
        "id": "HGNVlxTGzyIp"
      }
    },
    {
      "cell_type": "code",
      "source": [
        "a= \"Python Programming\"\n",
        "print(a[0:3])"
      ],
      "metadata": {
        "colab": {
          "base_uri": "https://localhost:8080/"
        },
        "id": "OYqDldxc0WJs",
        "outputId": "7d975c15-cc6e-4789-cce7-8ebc9b307176"
      },
      "execution_count": null,
      "outputs": [
        {
          "output_type": "stream",
          "name": "stdout",
          "text": [
            "Pyt\n"
          ]
        }
      ]
    },
    {
      "cell_type": "markdown",
      "source": [
        "*** 4.  Write a code to convert the string \"hello\" to uppercase .***"
      ],
      "metadata": {
        "id": "TDKyVopR0ha4"
      }
    },
    {
      "cell_type": "code",
      "source": [
        "a= \"hello\"\n",
        "print(a.upper())"
      ],
      "metadata": {
        "colab": {
          "base_uri": "https://localhost:8080/"
        },
        "id": "YdagiAyp0pcY",
        "outputId": "a9e1db9c-34b5-48d3-8ecd-1a2def7f3910"
      },
      "execution_count": null,
      "outputs": [
        {
          "output_type": "stream",
          "name": "stdout",
          "text": [
            "HELLO\n"
          ]
        }
      ]
    },
    {
      "cell_type": "markdown",
      "source": [
        "*** 5. Write a code to replace the word \"apple\" with \"orange\" in the string \"I like apple\".***"
      ],
      "metadata": {
        "id": "nKw5OfVp04qi"
      }
    },
    {
      "cell_type": "code",
      "source": [
        "a=\" I Like Apple\"\n",
        "print(a)\n",
        "print(a.replace(\"Apple\",\"Orange\"))\n"
      ],
      "metadata": {
        "colab": {
          "base_uri": "https://localhost:8080/"
        },
        "id": "Z4CgfNH71BRY",
        "outputId": "670c64d3-0089-45f1-b893-252d75c50fb0"
      },
      "execution_count": null,
      "outputs": [
        {
          "output_type": "stream",
          "name": "stdout",
          "text": [
            " I Like Apple\n",
            " I Like Orange\n"
          ]
        }
      ]
    },
    {
      "cell_type": "markdown",
      "source": [
        "*** 6.  Write a code to create a list with numbers 1 to 5 and print it. ***\n"
      ],
      "metadata": {
        "id": "2zVLjJTL2IrU"
      }
    },
    {
      "cell_type": "code",
      "source": [
        "numbers = []\n",
        "for i in range (1,6):\n",
        "  numbers.append(i)\n",
        "print(numbers)\n"
      ],
      "metadata": {
        "colab": {
          "base_uri": "https://localhost:8080/"
        },
        "id": "MVxvCMGh2SXw",
        "outputId": "87fc7bb5-4afc-442b-b73e-3582a30530a9"
      },
      "execution_count": null,
      "outputs": [
        {
          "output_type": "stream",
          "name": "stdout",
          "text": [
            "[1, 2, 3, 4, 5]\n"
          ]
        }
      ]
    },
    {
      "cell_type": "markdown",
      "source": [
        "*** 7. Write a code to append the number 10 to the list [1, 2, 3, 4].***"
      ],
      "metadata": {
        "id": "Vw2eDrrw3Cgi"
      }
    },
    {
      "cell_type": "code",
      "source": [
        "list1=[1,2,3,4]\n",
        "list1.append(10)\n",
        "print(list1)"
      ],
      "metadata": {
        "colab": {
          "base_uri": "https://localhost:8080/"
        },
        "id": "KWM_tVwD3JDv",
        "outputId": "1d7aefea-3e88-4955-88d5-a1937359ddc5"
      },
      "execution_count": null,
      "outputs": [
        {
          "output_type": "stream",
          "name": "stdout",
          "text": [
            "[1, 2, 3, 4, 10]\n"
          ]
        }
      ]
    },
    {
      "cell_type": "markdown",
      "source": [
        "*** 8. Write a code to remove the number 3 from the list [1, 2, 3, 4, 5] .***"
      ],
      "metadata": {
        "id": "D3_49NiF3TYb"
      }
    },
    {
      "cell_type": "code",
      "source": [
        "list1 = [1,2,3,4,5]\n",
        "print(list)\n",
        "list1.remove(3)\n",
        "print( \"list after removing 3 :  \",list1)"
      ],
      "metadata": {
        "colab": {
          "base_uri": "https://localhost:8080/"
        },
        "id": "949gBD6y3ah-",
        "outputId": "b2fd368f-4803-41f1-b4ab-309f1c3ef555"
      },
      "execution_count": null,
      "outputs": [
        {
          "output_type": "stream",
          "name": "stdout",
          "text": [
            "['HELLO', 'WORLD']\n",
            "list after removing 3 :   [1, 2, 4, 5]\n"
          ]
        }
      ]
    },
    {
      "cell_type": "markdown",
      "source": [
        "*** 9 .Write a code to access the second element in the list ['a', 'b', 'c', 'd'] .***"
      ],
      "metadata": {
        "id": "9gVhe1Hg3ubg"
      }
    },
    {
      "cell_type": "code",
      "source": [
        "list1=['a','b','c','d']\n",
        "print(list)\n",
        "print( \"accessing second element from the list : \" ,list1[1])"
      ],
      "metadata": {
        "colab": {
          "base_uri": "https://localhost:8080/"
        },
        "id": "i_M8ITBV31uu",
        "outputId": "e48c053f-4da5-40e5-9489-4240d6763ae1"
      },
      "execution_count": null,
      "outputs": [
        {
          "output_type": "stream",
          "name": "stdout",
          "text": [
            "['HELLO', 'WORLD']\n",
            "accessing second element from the list :  b\n"
          ]
        }
      ]
    },
    {
      "cell_type": "markdown",
      "source": [
        "*** 10. Write a code to reverse the list [10, 20, 30, 40, 50].***"
      ],
      "metadata": {
        "id": "cirTk0Zv4WId"
      }
    },
    {
      "cell_type": "code",
      "source": [
        "list1=[10,20,30,40,50]\n",
        "print(list1)\n",
        "print(\"reverse of the list : \",list1[::-1])"
      ],
      "metadata": {
        "colab": {
          "base_uri": "https://localhost:8080/"
        },
        "id": "PmeqgdPX4dMt",
        "outputId": "e851fd6f-09a5-4634-ba99-c8b8d110486c"
      },
      "execution_count": null,
      "outputs": [
        {
          "output_type": "stream",
          "name": "stdout",
          "text": [
            "[10, 20, 30, 40, 50]\n",
            "reverse of the list :  [50, 40, 30, 20, 10]\n"
          ]
        }
      ]
    },
    {
      "cell_type": "markdown",
      "source": [
        "*** 11. Write a code to create a tuple with the elements 100, 200, 300 and print it. ***"
      ],
      "metadata": {
        "id": "9bbJF8tL5Fop"
      }
    },
    {
      "cell_type": "code",
      "source": [
        "Tuple1 = (100,200,300)\n",
        "print(Tuple1)"
      ],
      "metadata": {
        "colab": {
          "base_uri": "https://localhost:8080/"
        },
        "id": "8UAqYYr25PUm",
        "outputId": "de3a6273-041d-4fc1-9f72-68ad2d30c064"
      },
      "execution_count": null,
      "outputs": [
        {
          "output_type": "stream",
          "name": "stdout",
          "text": [
            "(100, 200, 300)\n"
          ]
        }
      ]
    },
    {
      "cell_type": "markdown",
      "source": [
        "*** 12. . Write a code to access the second-to-last element of the tuple ('red', 'green', 'blue', 'yellow') ***"
      ],
      "metadata": {
        "id": "YyK5DrDT5hK_"
      }
    },
    {
      "cell_type": "code",
      "source": [
        "Tuple1 = ('red', 'green', 'blue', 'yellow')\n",
        "for i in range(1,len(Tuple1)):\n",
        "  print(Tuple1[i])"
      ],
      "metadata": {
        "colab": {
          "base_uri": "https://localhost:8080/"
        },
        "id": "vmUfbYUs5oOG",
        "outputId": "d9cc75fd-6e1f-4513-effe-6e6a40b68b70"
      },
      "execution_count": null,
      "outputs": [
        {
          "output_type": "stream",
          "name": "stdout",
          "text": [
            "green\n",
            "blue\n",
            "yellow\n"
          ]
        }
      ]
    },
    {
      "cell_type": "markdown",
      "source": [
        "*** 13. Write a code to find the minimum number in the tuple (10, 20, 5, 15).***"
      ],
      "metadata": {
        "id": "LQlqlV6x6IDs"
      }
    },
    {
      "cell_type": "code",
      "metadata": {
        "colab": {
          "base_uri": "https://localhost:8080/"
        },
        "id": "b9114c6f",
        "outputId": "4c7e3fb3-6405-48a6-e682-eaf221a43c38"
      },
      "source": [
        "a = (10, 20, 5, 15)\n",
        "print(min(a))"
      ],
      "execution_count": null,
      "outputs": [
        {
          "output_type": "stream",
          "name": "stdout",
          "text": [
            "5\n"
          ]
        }
      ]
    },
    {
      "cell_type": "markdown",
      "source": [
        "*** 14. Write a code to find the index of the element \"cat\" in the tuple ('dog', 'cat', 'rabbit') ***"
      ],
      "metadata": {
        "id": "oexSVJgu7crm"
      }
    },
    {
      "cell_type": "code",
      "source": [
        "a= ('dog', 'cat', 'rabbit')\n",
        "print(a.index('cat'))"
      ],
      "metadata": {
        "colab": {
          "base_uri": "https://localhost:8080/"
        },
        "id": "oa-GzJSM7mQ3",
        "outputId": "84d4a053-70e3-49a8-ded8-716e5f7b92aa"
      },
      "execution_count": null,
      "outputs": [
        {
          "output_type": "stream",
          "name": "stdout",
          "text": [
            "1\n"
          ]
        }
      ]
    },
    {
      "cell_type": "markdown",
      "source": [
        "***  15. Write a code to create a tuple containing three different fruits and check if \"kiwi\" is in it. ***"
      ],
      "metadata": {
        "id": "SJsDipVL7tYu"
      }
    },
    {
      "cell_type": "code",
      "source": [
        "a=('mango',\"orange\",\"kiwi\")\n",
        "print(\"kiwi\" in a)"
      ],
      "metadata": {
        "colab": {
          "base_uri": "https://localhost:8080/"
        },
        "id": "tH0XRxIM75aY",
        "outputId": "b84601a8-618b-474e-9237-6c84144bea9a"
      },
      "execution_count": null,
      "outputs": [
        {
          "output_type": "stream",
          "name": "stdout",
          "text": [
            "True\n"
          ]
        }
      ]
    },
    {
      "cell_type": "markdown",
      "source": [
        "*** 16.Write a code to create a set with the elements 'a', 'b', 'c' and print it.***"
      ],
      "metadata": {
        "id": "Zl-0nhSR8Phb"
      }
    },
    {
      "cell_type": "code",
      "source": [
        "set1={'a','b','c'}\n",
        "print(set1)"
      ],
      "metadata": {
        "colab": {
          "base_uri": "https://localhost:8080/"
        },
        "id": "0MbnaesX8aNv",
        "outputId": "b0609b41-cc86-4f38-a7d0-d2d428bc2bac"
      },
      "execution_count": null,
      "outputs": [
        {
          "output_type": "stream",
          "name": "stdout",
          "text": [
            "{'a', 'c', 'b'}\n"
          ]
        }
      ]
    },
    {
      "cell_type": "markdown",
      "source": [
        "***17. Write a code to clear all elements from the set {1, 2, 3, 4, 5}.***"
      ],
      "metadata": {
        "id": "Ee2qukwm8okU"
      }
    },
    {
      "cell_type": "code",
      "source": [
        "set1={1,2,3,4,5}\n",
        "print(set1)\n",
        "set1.clear()\n",
        "print(set1)"
      ],
      "metadata": {
        "colab": {
          "base_uri": "https://localhost:8080/"
        },
        "id": "buH3oUqt8v5n",
        "outputId": "c4d55624-4c4c-4865-9260-e857cb38531c"
      },
      "execution_count": null,
      "outputs": [
        {
          "output_type": "stream",
          "name": "stdout",
          "text": [
            "{1, 2, 3, 4, 5}\n",
            "set()\n"
          ]
        }
      ]
    },
    {
      "cell_type": "markdown",
      "source": [
        "*** 18. Write a code to remove the element 4 from the set {1, 2, 3, 4}."
      ],
      "metadata": {
        "id": "BH66qwwG86kr"
      }
    },
    {
      "cell_type": "code",
      "source": [
        "a={1,2,3,4}\n",
        "print(a)\n",
        "a.remove(4)\n",
        "print(a)"
      ],
      "metadata": {
        "colab": {
          "base_uri": "https://localhost:8080/"
        },
        "id": "yOq3xTDA9zWr",
        "outputId": "802fec2c-f3e1-4dbc-b8bf-79765f9ab705"
      },
      "execution_count": null,
      "outputs": [
        {
          "output_type": "stream",
          "name": "stdout",
          "text": [
            "{1, 2, 3, 4}\n",
            "{1, 2, 3}\n"
          ]
        }
      ]
    },
    {
      "cell_type": "markdown",
      "source": [
        "*** 19. Write a code to find the union of two sets {1, 2, 3} and {3, 4, 5}.***"
      ],
      "metadata": {
        "id": "zc6iGvRd-Q6s"
      }
    },
    {
      "cell_type": "code",
      "source": [
        "set1 ={1,2,3}\n",
        "set2 ={3,4,5}\n",
        "print(\"set 1 :\", set1)\n",
        "print(\"set 2:\" , set2)\n",
        "print(\"union of set 1 and set 2 :\", set1.union(set2))"
      ],
      "metadata": {
        "colab": {
          "base_uri": "https://localhost:8080/"
        },
        "id": "1x4pxVx8-T11",
        "outputId": "ca9e91c5-6d7e-4a0c-b88f-5d46cf07104b"
      },
      "execution_count": null,
      "outputs": [
        {
          "output_type": "stream",
          "name": "stdout",
          "text": [
            "set 1 : {1, 2, 3}\n",
            "set 2: {3, 4, 5}\n",
            "union of set 1 and set 2 : {1, 2, 3, 4, 5}\n"
          ]
        }
      ]
    },
    {
      "cell_type": "markdown",
      "source": [
        "*** 20. Write a code to find the intersection of two sets {1, 2, 3} and {2, 3, 4}.***"
      ],
      "metadata": {
        "id": "ORbP_UoiB7hF"
      }
    },
    {
      "cell_type": "code",
      "source": [
        "set1 ={1,2,3}\n",
        "set2 ={3,4,5}\n",
        "print(\"set 1 :\", set1)\n",
        "print(\"set 2:\" , set2)\n",
        "print(\"union of set 1 and set 2 :\", set1.intersection(set2))"
      ],
      "metadata": {
        "colab": {
          "base_uri": "https://localhost:8080/"
        },
        "id": "hU9vIp5sCC3K",
        "outputId": "75d026ab-651a-4b6e-986b-50ee79130fb5"
      },
      "execution_count": null,
      "outputs": [
        {
          "output_type": "stream",
          "name": "stdout",
          "text": [
            "set 1 : {1, 2, 3}\n",
            "set 2: {3, 4, 5}\n",
            "union of set 1 and set 2 : {3}\n"
          ]
        }
      ]
    },
    {
      "cell_type": "markdown",
      "source": [
        "*** 21. Write a code to create a dictionary with the keys \"name\", \"age\", and \"city\", and print it.***"
      ],
      "metadata": {
        "id": "JCuGynDCCo6o"
      }
    },
    {
      "cell_type": "code",
      "source": [
        "dict1={'name': \"jigyasha\",\"age\":22,\"city\" : \"raigarh\"}\n",
        "print(dict1)"
      ],
      "metadata": {
        "colab": {
          "base_uri": "https://localhost:8080/"
        },
        "id": "zq2cfoTVCz9e",
        "outputId": "54e93f52-3a39-4799-d11b-c1ea3d7a05e0"
      },
      "execution_count": null,
      "outputs": [
        {
          "output_type": "stream",
          "name": "stdout",
          "text": [
            "{'name': 'jigyasha', 'age': 22, 'city': 'raigarh'}\n"
          ]
        }
      ]
    },
    {
      "cell_type": "markdown",
      "source": [
        "*** 22. Write a code to add a new key-value pair \"country\": \"USA\" to the dictionary {'name': 'John', 'age': 25}.***"
      ],
      "metadata": {
        "id": "bTS8-0TcDOkP"
      }
    },
    {
      "cell_type": "code",
      "metadata": {
        "colab": {
          "base_uri": "https://localhost:8080/"
        },
        "id": "1da8269b",
        "outputId": "7c3dac02-b058-46d8-d352-fd36e07baa4d"
      },
      "source": [
        "my_dict = {'name': 'John', 'age': 25}\n",
        "my_dict[\"country\"] = \"USA\"\n",
        "print(my_dict)"
      ],
      "execution_count": null,
      "outputs": [
        {
          "output_type": "stream",
          "name": "stdout",
          "text": [
            "{'name': 'John', 'age': 25, 'country': 'USA'}\n"
          ]
        }
      ]
    },
    {
      "cell_type": "markdown",
      "source": [
        "***23. Write a code to access the value associated with the key \"name\" in the dictionary {'name': 'Alice', 'age': 30}.***"
      ],
      "metadata": {
        "id": "9zc_tFHME4-D"
      }
    },
    {
      "cell_type": "code",
      "source": [
        " dictionary1= {'name': 'Alice', 'age': 30}\n",
        " print(dictionary1[\"name\"])"
      ],
      "metadata": {
        "colab": {
          "base_uri": "https://localhost:8080/"
        },
        "id": "Lcetp_lPFG7V",
        "outputId": "eda1758a-d973-4a9e-db19-ce9c6096ab5f"
      },
      "execution_count": null,
      "outputs": [
        {
          "output_type": "stream",
          "name": "stdout",
          "text": [
            "Alice\n"
          ]
        }
      ]
    },
    {
      "cell_type": "markdown",
      "source": [
        "*** 24. Write a code to remove the key \"age\" from the dictionary {'name': 'Bob', 'age': 22, 'city': 'New York'}.***"
      ],
      "metadata": {
        "id": "cU8gw8nMFRv_"
      }
    },
    {
      "cell_type": "code",
      "source": [
        "dict2={'name': 'Bob', 'age': 22, 'city': 'New York'}\n",
        "print(dict2)\n",
        "dict2.pop('age')\n",
        "print(dict2)"
      ],
      "metadata": {
        "colab": {
          "base_uri": "https://localhost:8080/"
        },
        "id": "FgV5o14TFcGA",
        "outputId": "4e919a38-42b4-457e-b6c0-f32db8ea8d13"
      },
      "execution_count": null,
      "outputs": [
        {
          "output_type": "stream",
          "name": "stdout",
          "text": [
            "{'name': 'Bob', 'age': 22, 'city': 'New York'}\n",
            "{'name': 'Bob', 'city': 'New York'}\n"
          ]
        }
      ]
    },
    {
      "cell_type": "markdown",
      "source": [
        "*** 25. Write a code to check if the key \"city\" exists in the dictionary {'name': 'Alice', 'city': 'Paris'}.***"
      ],
      "metadata": {
        "id": "--TdMCVCF4LA"
      }
    },
    {
      "cell_type": "code",
      "source": [
        "dict3={'name': 'Alice', 'city': 'Paris'}\n",
        "print('city' in dict3.keys())"
      ],
      "metadata": {
        "colab": {
          "base_uri": "https://localhost:8080/"
        },
        "id": "ht578Ak3F85i",
        "outputId": "810b59bb-7897-4cd0-c280-214db269f5cc"
      },
      "execution_count": null,
      "outputs": [
        {
          "output_type": "stream",
          "name": "stdout",
          "text": [
            "True\n"
          ]
        }
      ]
    },
    {
      "cell_type": "markdown",
      "source": [
        "***26. Write a code to create a list, a tuple, and a dictionary, and print them all.***"
      ],
      "metadata": {
        "id": "qMRYAO3pGooY"
      }
    },
    {
      "cell_type": "code",
      "source": [
        "list1=[1,2,3,4,5]\n",
        "Tuple1=(1,2,3,4,5)\n",
        "dict1={'name': \"jigyasha\",\"age\":22,\"city\" : \"raigarh\"}\n",
        "print(list1)\n",
        "print(Tuple1)\n",
        "print(dict1)"
      ],
      "metadata": {
        "colab": {
          "base_uri": "https://localhost:8080/"
        },
        "id": "hm0GmPErGq92",
        "outputId": "7e7113aa-3a0b-4383-c90f-65c32328f2a4"
      },
      "execution_count": null,
      "outputs": [
        {
          "output_type": "stream",
          "name": "stdout",
          "text": [
            "[1, 2, 3, 4, 5]\n",
            "(1, 2, 3, 4, 5)\n",
            "{'name': 'jigyasha', 'age': 22, 'city': 'raigarh'}\n"
          ]
        }
      ]
    },
    {
      "cell_type": "markdown",
      "source": [
        "***27. Write a code to create a list of 5 random numbers between 1 and 100, sort it in ascending order, and print result.(replaced)***"
      ],
      "metadata": {
        "id": "du5lR_51HS-X"
      }
    },
    {
      "cell_type": "code",
      "source": [
        "import random\n",
        "list1=[]\n",
        "for i in range(5):\n",
        "  list1.append(random.randint(1,100))\n",
        "print(list1)\n",
        "list2 =list1.sort()\n",
        "list2=list1\n",
        "print(list1)"
      ],
      "metadata": {
        "colab": {
          "base_uri": "https://localhost:8080/"
        },
        "id": "PVrJ10IeKIQj",
        "outputId": "6a8c6932-3556-498c-f871-5e0907cc8bf2"
      },
      "execution_count": null,
      "outputs": [
        {
          "output_type": "stream",
          "name": "stdout",
          "text": [
            "[83, 2, 75, 28, 17]\n",
            "[2, 17, 28, 75, 83]\n"
          ]
        }
      ]
    },
    {
      "cell_type": "markdown",
      "source": [
        "***28. Write a code to create a list with strings and print the element at the third index.***"
      ],
      "metadata": {
        "id": "sMB5-8JxMEUf"
      }
    },
    {
      "cell_type": "code",
      "metadata": {
        "colab": {
          "base_uri": "https://localhost:8080/"
        },
        "id": "b7f2063c",
        "outputId": "e3664a92-8c5c-43fc-b0a0-ea2998068f6f"
      },
      "source": [
        "my_string_list = [\"apple\", \"banana\", \"cherry\", \"date\", \"elderberry\"]\n",
        "print(my_string_list[3])\n",
        "#or\n",
        "a='jigyasha'\n",
        "b=list(a)\n",
        "print(b)\n",
        "print(\"third element of the list :\",b[3])"
      ],
      "execution_count": null,
      "outputs": [
        {
          "output_type": "stream",
          "name": "stdout",
          "text": [
            "date\n",
            "['j', 'i', 'g', 'y', 'a', 's', 'h', 'a']\n",
            "third element of the list : y\n"
          ]
        }
      ]
    },
    {
      "cell_type": "markdown",
      "source": [
        "***29.Write a code to combine two dictionaries into one and print the result.***"
      ],
      "metadata": {
        "id": "uMCRV4IVeSBO"
      }
    },
    {
      "cell_type": "code",
      "metadata": {
        "colab": {
          "base_uri": "https://localhost:8080/"
        },
        "id": "0aac2c99",
        "outputId": "fca1047f-4d88-4f11-e963-8c2c420b86ce"
      },
      "source": [
        "dict1 = {'a': 1, 'b': 2}\n",
        "dict2 = {'c': 3, 'd': 4}\n",
        "dict2.update(dict1)\n",
        "print(dict2)"
      ],
      "execution_count": null,
      "outputs": [
        {
          "output_type": "stream",
          "name": "stdout",
          "text": [
            "{'c': 3, 'd': 4, 'a': 1, 'b': 2}\n"
          ]
        }
      ]
    },
    {
      "cell_type": "markdown",
      "source": [
        "*** 30. Write a code to convert a list of strings into a set.***"
      ],
      "metadata": {
        "id": "d24vMQqHiSqf"
      }
    },
    {
      "cell_type": "code",
      "source": [
        "my_string_list = [\"apple\", \"banana\", \"cherry\", \"date\", \"elderberry\"]\n",
        "print(set(my_string_list))"
      ],
      "metadata": {
        "colab": {
          "base_uri": "https://localhost:8080/"
        },
        "id": "qlzra7sLlKgO",
        "outputId": "571c68ff-054e-4d89-d5c3-7af9d93a5629"
      },
      "execution_count": null,
      "outputs": [
        {
          "output_type": "stream",
          "name": "stdout",
          "text": [
            "{'banana', 'cherry', 'apple', 'elderberry', 'date'}\n"
          ]
        }
      ]
    }
  ]
}